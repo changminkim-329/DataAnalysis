{
 "cells": [
  {
   "cell_type": "markdown",
   "metadata": {},
   "source": [
    "# 한국 Coronavirus 분석"
   ]
  },
  {
   "cell_type": "code",
   "execution_count": null,
   "metadata": {},
   "outputs": [],
   "source": []
  },
  {
   "cell_type": "markdown",
   "metadata": {},
   "source": [
    "# 1. 데이터 설명 및 보기\n",
    "\n",
    "## Data Science for COVID-19 (DS4C)\n",
    "- 이 데이터는 한국의 코로나 관련 데이터로서 코로나를 막기 위해 사용되는 Competition 데이터이다.\n",
    "- 이 데이터는 1월부터 5월 30일까지의 코로나 관련 데이터이다.\n",
    "- 출처: https://www.kaggle.com/kimjihoo/coronavirusdataset\n",
    "- 연구기관\n",
    "    - Maggie Munkhjargal (Harvard T.H. Chan School of Public Health)\n",
    "    - Gwang-Jin Kim (University of Freiburg)\n",
    "    - Sofia K. Mettler (Swiss Federal Institute of Technology, University of Zurich)\n",
    "    - Myung-Bae Park (Department of Gerontology Health and Welfare, Pai Chai University)\n",
    "    - Jinhee Lee (Department of Psychiatry, Yonsei University Wonju College of Medicine)\n",
    "    - Sun Kim (Harvard T.H. Chan School of Public Health)\n",
    "    - Ardiansyah Ardiansyah (Chonnam National University)\n",
    "    - Atina Husnayain (College of Medical Science and Technology, Taipei Medical University)\n",
    "    - Carlos Saez (Universitat Politècnica de València & Harvard Medical School)\n",
    "    - Dimitrios E. Kouzoukas (Edward Hines, Jr. VA Hospital & Loyola University Chicago)\n",
    "    - Tanima Bose (Ludwig-Maximilian University of Munich)\n",
    "    - Keumseok Peter Koh (Faculty of Social Sciences, The University of Hong Kong)\n",
    "    ![](https://user-images.githubusercontent.com/50820635/83261173-e8062e00-a1f5-11ea-9968-1259e1b704d1.PNG)\n",
    "\n",
    "\n",
    "\n",
    "- 후원\n",
    "    - Google Korea (Soonson Kwon)\n",
    "    - Slack Technologies (Andy Pflaum)\n",
    "    - Notion Labs\n",
    "    ![](https://user-images.githubusercontent.com/50820635/77623631-c4b7cc00-6f83-11ea-85d8-fc0c25d28af2.PNG)\n",
    "\n",
    "### The Lists of CSV Data Table \n",
    "https://www.kaggle.com/kimjihoo/ds4c-what-is-this-dataset-detailed-description 참조\n",
    "\n",
    "\n",
    "\n",
    "### 사용한 csv\n",
    "- #### Patient Data¶\n",
    "    - PatientInfo: 대한민국 COVID-19 환자의 역학 데이터\n",
    "\n",
    "- #### Time Series Data\n",
    "    - Time: 대한민국 COVID-19 현황 시계열 데이터\n",
    "    - TimeProvince: 대한민국 지방 단위 COVID-19 현황 시계열 데이터\n",
    "\n",
    "- #### Additional Data\n",
    "    - Weather: 한국 지역 날씨 데이터"
   ]
  },
  {
   "cell_type": "code",
   "execution_count": 145,
   "metadata": {},
   "outputs": [],
   "source": [
    "import numpy as np\n",
    "import pandas as pd\n",
    "import matplotlib.pyplot as plt\n",
    "\n",
    "import seaborn as sns"
   ]
  },
  {
   "cell_type": "markdown",
   "metadata": {},
   "source": [
    "### 파이썬 경고 메세지 안보이게 하기"
   ]
  },
  {
   "cell_type": "code",
   "execution_count": 146,
   "metadata": {},
   "outputs": [],
   "source": [
    "import warnings"
   ]
  },
  {
   "cell_type": "code",
   "execution_count": 147,
   "metadata": {},
   "outputs": [],
   "source": [
    "warnings.filterwarnings(action='ignore')"
   ]
  },
  {
   "cell_type": "markdown",
   "metadata": {},
   "source": [
    "## 한글 폰트 사용 \n",
    "- rc: 폰트 지정\n",
    "- rc: minus 부호 오류를 방지하기 위해 사용"
   ]
  },
  {
   "cell_type": "code",
   "execution_count": 148,
   "metadata": {},
   "outputs": [],
   "source": [
    "plt.rc('font',family=\"AppleGothic\")# 맥\n",
    "plt.rcParams['axes.unicode_minus'] = False"
   ]
  },
  {
   "cell_type": "markdown",
   "metadata": {},
   "source": [
    "### 데이터 불러오기 "
   ]
  },
  {
   "cell_type": "code",
   "execution_count": 216,
   "metadata": {},
   "outputs": [],
   "source": [
    "data = pd.read_csv(\"./coronavirusdataset/PatientInfo.csv\")"
   ]
  },
  {
   "cell_type": "markdown",
   "metadata": {},
   "source": [
    "### 데이터 백업하기"
   ]
  },
  {
   "cell_type": "code",
   "execution_count": null,
   "metadata": {},
   "outputs": [],
   "source": [
    "patient = data.copy()\n",
    "\n",
    "file_path = './coronavirusdataset/PatientInfo_backup.csv'\n",
    "\n",
    "data.to_csv(file_path)"
   ]
  },
  {
   "cell_type": "markdown",
   "metadata": {},
   "source": [
    "# 1. 데이터 보기"
   ]
  },
  {
   "cell_type": "markdown",
   "metadata": {},
   "source": [
    "### 데이터 정보\n",
    "- patient_id, global_num infection_case는 수치형이고 나머지는 범주형이다."
   ]
  },
  {
   "cell_type": "code",
   "execution_count": 150,
   "metadata": {},
   "outputs": [
    {
     "name": "stdout",
     "output_type": "stream",
     "text": [
      "<class 'pandas.core.frame.DataFrame'>\n",
      "RangeIndex: 4004 entries, 0 to 4003\n",
      "Data columns (total 18 columns):\n",
      "patient_id            4004 non-null int64\n",
      "global_num            2806 non-null float64\n",
      "sex                   3674 non-null object\n",
      "birth_year            3267 non-null object\n",
      "age                   3525 non-null object\n",
      "country               4004 non-null object\n",
      "province              4004 non-null object\n",
      "city                  3926 non-null object\n",
      "disease               18 non-null object\n",
      "infection_case        3211 non-null object\n",
      "infection_order       31 non-null float64\n",
      "infected_by           899 non-null object\n",
      "contact_number        680 non-null object\n",
      "symptom_onset_date    535 non-null object\n",
      "confirmed_date        4001 non-null object\n",
      "released_date         1508 non-null object\n",
      "deceased_date         65 non-null object\n",
      "state                 4004 non-null object\n",
      "dtypes: float64(2), int64(1), object(15)\n",
      "memory usage: 563.1+ KB\n"
     ]
    }
   ],
   "source": [
    "patient.info()"
   ]
  },
  {
   "cell_type": "markdown",
   "metadata": {},
   "source": [
    "###  데이터 보기"
   ]
  },
  {
   "cell_type": "code",
   "execution_count": 151,
   "metadata": {},
   "outputs": [
    {
     "data": {
      "text/html": [
       "<div>\n",
       "<style scoped>\n",
       "    .dataframe tbody tr th:only-of-type {\n",
       "        vertical-align: middle;\n",
       "    }\n",
       "\n",
       "    .dataframe tbody tr th {\n",
       "        vertical-align: top;\n",
       "    }\n",
       "\n",
       "    .dataframe thead th {\n",
       "        text-align: right;\n",
       "    }\n",
       "</style>\n",
       "<table border=\"1\" class=\"dataframe\">\n",
       "  <thead>\n",
       "    <tr style=\"text-align: right;\">\n",
       "      <th></th>\n",
       "      <th>patient_id</th>\n",
       "      <th>global_num</th>\n",
       "      <th>sex</th>\n",
       "      <th>birth_year</th>\n",
       "      <th>age</th>\n",
       "      <th>country</th>\n",
       "      <th>province</th>\n",
       "      <th>city</th>\n",
       "      <th>disease</th>\n",
       "      <th>infection_case</th>\n",
       "      <th>infection_order</th>\n",
       "      <th>infected_by</th>\n",
       "      <th>contact_number</th>\n",
       "      <th>symptom_onset_date</th>\n",
       "      <th>confirmed_date</th>\n",
       "      <th>released_date</th>\n",
       "      <th>deceased_date</th>\n",
       "      <th>state</th>\n",
       "    </tr>\n",
       "  </thead>\n",
       "  <tbody>\n",
       "    <tr>\n",
       "      <th>0</th>\n",
       "      <td>1000000001</td>\n",
       "      <td>2.0</td>\n",
       "      <td>male</td>\n",
       "      <td>1964</td>\n",
       "      <td>50s</td>\n",
       "      <td>Korea</td>\n",
       "      <td>Seoul</td>\n",
       "      <td>Gangseo-gu</td>\n",
       "      <td>NaN</td>\n",
       "      <td>overseas inflow</td>\n",
       "      <td>1.0</td>\n",
       "      <td>NaN</td>\n",
       "      <td>75</td>\n",
       "      <td>2020-01-22</td>\n",
       "      <td>2020-01-23</td>\n",
       "      <td>2020-02-05</td>\n",
       "      <td>NaN</td>\n",
       "      <td>released</td>\n",
       "    </tr>\n",
       "    <tr>\n",
       "      <th>1</th>\n",
       "      <td>1000000002</td>\n",
       "      <td>5.0</td>\n",
       "      <td>male</td>\n",
       "      <td>1987</td>\n",
       "      <td>30s</td>\n",
       "      <td>Korea</td>\n",
       "      <td>Seoul</td>\n",
       "      <td>Jungnang-gu</td>\n",
       "      <td>NaN</td>\n",
       "      <td>overseas inflow</td>\n",
       "      <td>1.0</td>\n",
       "      <td>NaN</td>\n",
       "      <td>31</td>\n",
       "      <td>NaN</td>\n",
       "      <td>2020-01-30</td>\n",
       "      <td>2020-03-02</td>\n",
       "      <td>NaN</td>\n",
       "      <td>released</td>\n",
       "    </tr>\n",
       "    <tr>\n",
       "      <th>2</th>\n",
       "      <td>1000000003</td>\n",
       "      <td>6.0</td>\n",
       "      <td>male</td>\n",
       "      <td>1964</td>\n",
       "      <td>50s</td>\n",
       "      <td>Korea</td>\n",
       "      <td>Seoul</td>\n",
       "      <td>Jongno-gu</td>\n",
       "      <td>NaN</td>\n",
       "      <td>contact with patient</td>\n",
       "      <td>2.0</td>\n",
       "      <td>2002000001</td>\n",
       "      <td>17</td>\n",
       "      <td>NaN</td>\n",
       "      <td>2020-01-30</td>\n",
       "      <td>2020-02-19</td>\n",
       "      <td>NaN</td>\n",
       "      <td>released</td>\n",
       "    </tr>\n",
       "    <tr>\n",
       "      <th>3</th>\n",
       "      <td>1000000004</td>\n",
       "      <td>7.0</td>\n",
       "      <td>male</td>\n",
       "      <td>1991</td>\n",
       "      <td>20s</td>\n",
       "      <td>Korea</td>\n",
       "      <td>Seoul</td>\n",
       "      <td>Mapo-gu</td>\n",
       "      <td>NaN</td>\n",
       "      <td>overseas inflow</td>\n",
       "      <td>1.0</td>\n",
       "      <td>NaN</td>\n",
       "      <td>9</td>\n",
       "      <td>2020-01-26</td>\n",
       "      <td>2020-01-30</td>\n",
       "      <td>2020-02-15</td>\n",
       "      <td>NaN</td>\n",
       "      <td>released</td>\n",
       "    </tr>\n",
       "    <tr>\n",
       "      <th>4</th>\n",
       "      <td>1000000005</td>\n",
       "      <td>9.0</td>\n",
       "      <td>female</td>\n",
       "      <td>1992</td>\n",
       "      <td>20s</td>\n",
       "      <td>Korea</td>\n",
       "      <td>Seoul</td>\n",
       "      <td>Seongbuk-gu</td>\n",
       "      <td>NaN</td>\n",
       "      <td>contact with patient</td>\n",
       "      <td>2.0</td>\n",
       "      <td>1000000002</td>\n",
       "      <td>2</td>\n",
       "      <td>NaN</td>\n",
       "      <td>2020-01-31</td>\n",
       "      <td>2020-02-24</td>\n",
       "      <td>NaN</td>\n",
       "      <td>released</td>\n",
       "    </tr>\n",
       "  </tbody>\n",
       "</table>\n",
       "</div>"
      ],
      "text/plain": [
       "   patient_id  global_num     sex birth_year  age country province  \\\n",
       "0  1000000001         2.0    male       1964  50s   Korea    Seoul   \n",
       "1  1000000002         5.0    male       1987  30s   Korea    Seoul   \n",
       "2  1000000003         6.0    male       1964  50s   Korea    Seoul   \n",
       "3  1000000004         7.0    male       1991  20s   Korea    Seoul   \n",
       "4  1000000005         9.0  female       1992  20s   Korea    Seoul   \n",
       "\n",
       "          city disease        infection_case  infection_order infected_by  \\\n",
       "0   Gangseo-gu     NaN       overseas inflow              1.0         NaN   \n",
       "1  Jungnang-gu     NaN       overseas inflow              1.0         NaN   \n",
       "2    Jongno-gu     NaN  contact with patient              2.0  2002000001   \n",
       "3      Mapo-gu     NaN       overseas inflow              1.0         NaN   \n",
       "4  Seongbuk-gu     NaN  contact with patient              2.0  1000000002   \n",
       "\n",
       "  contact_number symptom_onset_date confirmed_date released_date  \\\n",
       "0             75         2020-01-22     2020-01-23    2020-02-05   \n",
       "1             31                NaN     2020-01-30    2020-03-02   \n",
       "2             17                NaN     2020-01-30    2020-02-19   \n",
       "3              9         2020-01-26     2020-01-30    2020-02-15   \n",
       "4              2                NaN     2020-01-31    2020-02-24   \n",
       "\n",
       "  deceased_date     state  \n",
       "0           NaN  released  \n",
       "1           NaN  released  \n",
       "2           NaN  released  \n",
       "3           NaN  released  \n",
       "4           NaN  released  "
      ]
     },
     "execution_count": 151,
     "metadata": {},
     "output_type": "execute_result"
    }
   ],
   "source": [
    "patient.head()"
   ]
  },
  {
   "cell_type": "markdown",
   "metadata": {},
   "source": [
    "## 데이터 설명 \n",
    "- 이 데이터는 1월부터 지금까지 코로나 감염자에 대한 정보 데이터이다.\n",
    "- ### column 설명\n",
    "    - patient_id: 환자의 ID\n",
    "    - sex: 환자의 성\n",
    "    - age: 환자의 나이\n",
    "    - country: 환자의 국적\n",
    "    - province: 환자가 사는 지역\n",
    "    - city: 환자가 사는 도시\n",
    "    - infection_case: 감염사례\n",
    "    - infected_by: 환자를 감염시킨 사람의 ID\n",
    "    - contact_number: 사람과의 접촉 수\n",
    "    - symptom_onset_date: 증상 시작 날짜\n",
    "    - confirmed_date : 코로나 감염 확정일자\n",
    "    - released_date: 격리해제된 날짜\n",
    "    - deceased_date: 사망 날짜\n",
    "    - state: 격리/격리해제/사망"
   ]
  },
  {
   "cell_type": "markdown",
   "metadata": {},
   "source": [
    "### 결측치 확인"
   ]
  },
  {
   "cell_type": "code",
   "execution_count": 152,
   "metadata": {},
   "outputs": [
    {
     "data": {
      "text/plain": [
       "patient_id               0\n",
       "global_num            1198\n",
       "sex                    330\n",
       "birth_year             737\n",
       "age                    479\n",
       "country                  0\n",
       "province                 0\n",
       "city                    78\n",
       "disease               3986\n",
       "infection_case         793\n",
       "infection_order       3973\n",
       "infected_by           3105\n",
       "contact_number        3324\n",
       "symptom_onset_date    3469\n",
       "confirmed_date           3\n",
       "released_date         2496\n",
       "deceased_date         3939\n",
       "state                    0\n",
       "dtype: int64"
      ]
     },
     "execution_count": 152,
     "metadata": {},
     "output_type": "execute_result"
    }
   ],
   "source": [
    "patient.isnull().sum()"
   ]
  },
  {
   "cell_type": "markdown",
   "metadata": {},
   "source": [
    "# 3. 데이터 클린징\n",
    "- 데이터를 클리닝 분석하는 도중 약간을 에러가 발생했는데 이유가 nan이 아닌 이상한 값들이 들어 있었다. \n",
    "- 따라서 이 값들은 직접 찾아 처리해주었다."
   ]
  },
  {
   "cell_type": "code",
   "execution_count": 153,
   "metadata": {},
   "outputs": [
    {
     "data": {
      "text/html": [
       "<div>\n",
       "<style scoped>\n",
       "    .dataframe tbody tr th:only-of-type {\n",
       "        vertical-align: middle;\n",
       "    }\n",
       "\n",
       "    .dataframe tbody tr th {\n",
       "        vertical-align: top;\n",
       "    }\n",
       "\n",
       "    .dataframe thead th {\n",
       "        text-align: right;\n",
       "    }\n",
       "</style>\n",
       "<table border=\"1\" class=\"dataframe\">\n",
       "  <thead>\n",
       "    <tr style=\"text-align: right;\">\n",
       "      <th></th>\n",
       "      <th>patient_id</th>\n",
       "      <th>global_num</th>\n",
       "      <th>sex</th>\n",
       "      <th>birth_year</th>\n",
       "      <th>age</th>\n",
       "      <th>country</th>\n",
       "      <th>province</th>\n",
       "      <th>city</th>\n",
       "      <th>disease</th>\n",
       "      <th>infection_case</th>\n",
       "      <th>infection_order</th>\n",
       "      <th>infected_by</th>\n",
       "      <th>contact_number</th>\n",
       "      <th>symptom_onset_date</th>\n",
       "      <th>confirmed_date</th>\n",
       "      <th>released_date</th>\n",
       "      <th>deceased_date</th>\n",
       "      <th>state</th>\n",
       "    </tr>\n",
       "  </thead>\n",
       "  <tbody>\n",
       "    <tr>\n",
       "      <th>2362</th>\n",
       "      <td>3009000020</td>\n",
       "      <td>NaN</td>\n",
       "      <td>male</td>\n",
       "      <td></td>\n",
       "      <td>20s</td>\n",
       "      <td>Korea</td>\n",
       "      <td>Gangwon-do</td>\n",
       "      <td>Wonju-si</td>\n",
       "      <td>NaN</td>\n",
       "      <td>Itaewon Clubs</td>\n",
       "      <td>NaN</td>\n",
       "      <td>NaN</td>\n",
       "      <td>11</td>\n",
       "      <td>NaN</td>\n",
       "      <td>2020-05-13</td>\n",
       "      <td>NaN</td>\n",
       "      <td>NaN</td>\n",
       "      <td>isolated</td>\n",
       "    </tr>\n",
       "  </tbody>\n",
       "</table>\n",
       "</div>"
      ],
      "text/plain": [
       "      patient_id  global_num   sex birth_year  age country    province  \\\n",
       "2362  3009000020         NaN  male             20s   Korea  Gangwon-do   \n",
       "\n",
       "          city disease infection_case  infection_order infected_by  \\\n",
       "2362  Wonju-si     NaN  Itaewon Clubs              NaN         NaN   \n",
       "\n",
       "     contact_number symptom_onset_date confirmed_date released_date  \\\n",
       "2362             11                NaN     2020-05-13           NaN   \n",
       "\n",
       "     deceased_date     state  \n",
       "2362           NaN  isolated  "
      ]
     },
     "execution_count": 153,
     "metadata": {},
     "output_type": "execute_result"
    }
   ],
   "source": [
    "patient[patient['birth_year']==\" \"]"
   ]
  },
  {
   "cell_type": "code",
   "execution_count": 154,
   "metadata": {},
   "outputs": [],
   "source": [
    "patient[\"birth_year\"][2362] = str(2020 - 20+1)"
   ]
  },
  {
   "cell_type": "code",
   "execution_count": 155,
   "metadata": {},
   "outputs": [
    {
     "data": {
      "text/html": [
       "<div>\n",
       "<style scoped>\n",
       "    .dataframe tbody tr th:only-of-type {\n",
       "        vertical-align: middle;\n",
       "    }\n",
       "\n",
       "    .dataframe tbody tr th {\n",
       "        vertical-align: top;\n",
       "    }\n",
       "\n",
       "    .dataframe thead th {\n",
       "        text-align: right;\n",
       "    }\n",
       "</style>\n",
       "<table border=\"1\" class=\"dataframe\">\n",
       "  <thead>\n",
       "    <tr style=\"text-align: right;\">\n",
       "      <th></th>\n",
       "      <th>patient_id</th>\n",
       "      <th>global_num</th>\n",
       "      <th>sex</th>\n",
       "      <th>birth_year</th>\n",
       "      <th>age</th>\n",
       "      <th>country</th>\n",
       "      <th>province</th>\n",
       "      <th>city</th>\n",
       "      <th>disease</th>\n",
       "      <th>infection_case</th>\n",
       "      <th>infection_order</th>\n",
       "      <th>infected_by</th>\n",
       "      <th>contact_number</th>\n",
       "      <th>symptom_onset_date</th>\n",
       "      <th>confirmed_date</th>\n",
       "      <th>released_date</th>\n",
       "      <th>deceased_date</th>\n",
       "      <th>state</th>\n",
       "    </tr>\n",
       "  </thead>\n",
       "  <tbody>\n",
       "    <tr>\n",
       "      <th>1300</th>\n",
       "      <td>1400000201</td>\n",
       "      <td>11412.0</td>\n",
       "      <td>female</td>\n",
       "      <td>11997</td>\n",
       "      <td>NaN</td>\n",
       "      <td>Korea</td>\n",
       "      <td>Incheon</td>\n",
       "      <td>Gyeyang-gu</td>\n",
       "      <td>NaN</td>\n",
       "      <td>contact with patient</td>\n",
       "      <td>NaN</td>\n",
       "      <td>NaN</td>\n",
       "      <td>NaN</td>\n",
       "      <td>NaN</td>\n",
       "      <td>2020-05-29</td>\n",
       "      <td>NaN</td>\n",
       "      <td>NaN</td>\n",
       "      <td>isolated</td>\n",
       "    </tr>\n",
       "  </tbody>\n",
       "</table>\n",
       "</div>"
      ],
      "text/plain": [
       "      patient_id  global_num     sex birth_year  age country province  \\\n",
       "1300  1400000201     11412.0  female      11997  NaN   Korea  Incheon   \n",
       "\n",
       "            city disease        infection_case  infection_order infected_by  \\\n",
       "1300  Gyeyang-gu     NaN  contact with patient              NaN         NaN   \n",
       "\n",
       "     contact_number symptom_onset_date confirmed_date released_date  \\\n",
       "1300            NaN                NaN     2020-05-29           NaN   \n",
       "\n",
       "     deceased_date     state  \n",
       "1300           NaN  isolated  "
      ]
     },
     "execution_count": 155,
     "metadata": {},
     "output_type": "execute_result"
    }
   ],
   "source": [
    "patient[patient[\"birth_year\"]==\"11997\"]"
   ]
  },
  {
   "cell_type": "markdown",
   "metadata": {},
   "source": [
    "11997에 태어난 사람이 지금 있을 수 없으므로 잘못된 데이터이다. 현재 해당 데이터에는 맞지 않은 요소로 없애준다."
   ]
  },
  {
   "cell_type": "code",
   "execution_count": 156,
   "metadata": {},
   "outputs": [],
   "source": [
    "patient[\"birth_year\"]= patient[\"birth_year\"].drop(1300)"
   ]
  },
  {
   "cell_type": "markdown",
   "metadata": {},
   "source": [
    "### 생일이 없는 사람은 일단 숫자 0으로 바꾸어준다."
   ]
  },
  {
   "cell_type": "code",
   "execution_count": 157,
   "metadata": {},
   "outputs": [],
   "source": [
    "patient[\"birth_year\"] = patient[\"birth_year\"].fillna(\"0\")"
   ]
  },
  {
   "cell_type": "markdown",
   "metadata": {},
   "source": [
    "### 데이터 변수 바꾸어주기\n",
    "- 지금 이 데이터의 age는 범주형으로 되있어 다양성이 부족하다. 따라서 birth_year값을 이용해서 age의 값을 연속형으로 바꾸어 주겠다. 그러기 위해서는 birth_year도 연속형으로 바꾸어주어야 하며, 그다음에 age의 값을 바꾸어주어야 된다."
   ]
  },
  {
   "cell_type": "code",
   "execution_count": 158,
   "metadata": {},
   "outputs": [
    {
     "name": "stdout",
     "output_type": "stream",
     "text": [
      "birth_year의 유니크한 값들:\n",
      " ['1964' '1987' '1991' '1992' '1966' '1995' '1983' '1960' '1962' '1938'\n",
      " '1952' '1943' '1945' '1944' '2000' '1941' '1936' '1985' '1961' '1980'\n",
      " '1958' '1986' '1968' '1950' '1954' '1965' '1970' '1984' '1963' '1976'\n",
      " '1953' '1977' '1979' '1999' '1993' '1956' '1994' '1973' '1937' '1946'\n",
      " '1990' '1935' '1955' '1974' '1975' '1967' '1982' '2003' '1996' '1988'\n",
      " '1951' '1997' '2005' '1969' '1972' '1971' '1929' '2013' '1981' '2020'\n",
      " '1989' '1978' '1998' '1959' '1949' '2007' '2004' '2001' '2012' '1939'\n",
      " '2006' '1934' '2008' '2009' '2016' '2002' '2010' '1948' '2019' '2014'\n",
      " '1932' '0' '1947' '2015' '2011' '1957' '1930' '1933' '1927' '2018' '1942'\n",
      " '1940' '1926' '1922' '1928' '1925' '2017' '1916' '1931' '1923']\n"
     ]
    }
   ],
   "source": [
    "print(\"birth_year의 유니크한 값들:\\n\",patient['birth_year'].unique())"
   ]
  },
  {
   "cell_type": "code",
   "execution_count": 159,
   "metadata": {},
   "outputs": [],
   "source": [
    "patient[\"birth_year\"] = patient[\"birth_year\"].astype(int)\n",
    "patient['age'] = 2020 - patient['birth_year'] + 1"
   ]
  },
  {
   "cell_type": "markdown",
   "metadata": {},
   "source": [
    "age와 birth_year 부분이 연속형으로 바뀐것이 보일 것이다. "
   ]
  },
  {
   "cell_type": "code",
   "execution_count": 160,
   "metadata": {},
   "outputs": [
    {
     "name": "stdout",
     "output_type": "stream",
     "text": [
      "<class 'pandas.core.frame.DataFrame'>\n",
      "RangeIndex: 4004 entries, 0 to 4003\n",
      "Data columns (total 18 columns):\n",
      "patient_id            4004 non-null int64\n",
      "global_num            2806 non-null float64\n",
      "sex                   3674 non-null object\n",
      "birth_year            4004 non-null int64\n",
      "age                   4004 non-null int64\n",
      "country               4004 non-null object\n",
      "province              4004 non-null object\n",
      "city                  3926 non-null object\n",
      "disease               18 non-null object\n",
      "infection_case        3211 non-null object\n",
      "infection_order       31 non-null float64\n",
      "infected_by           899 non-null object\n",
      "contact_number        680 non-null object\n",
      "symptom_onset_date    535 non-null object\n",
      "confirmed_date        4001 non-null object\n",
      "released_date         1508 non-null object\n",
      "deceased_date         65 non-null object\n",
      "state                 4004 non-null object\n",
      "dtypes: float64(2), int64(3), object(13)\n",
      "memory usage: 563.1+ KB\n"
     ]
    }
   ],
   "source": [
    "patient.info()"
   ]
  },
  {
   "cell_type": "markdown",
   "metadata": {},
   "source": [
    "#### 하지만 문제점은 생년을 모르는 사람은 birth가 0이므로 나이가 2021로 나올 것이다."
   ]
  },
  {
   "cell_type": "code",
   "execution_count": 161,
   "metadata": {},
   "outputs": [
    {
     "name": "stdout",
     "output_type": "stream",
     "text": [
      "유니크한 값들:\n",
      " [  57   34   30   29   55   26   38   61   59   83   69   78   76   77\n",
      "   21   80   85   36   60   41   63   35   53   71   67   56   51   37\n",
      "   58   45   68   44   42   22   28   65   27   48   84   75   31   86\n",
      "   66   47   46   54   39   18   25   33   70   24   16   52   49   50\n",
      "   92    8   40    1   32   43   23   62   72   14   17   20    9   82\n",
      "   15   87   13   12    5   19   11   73    2    7   89 2021   74    6\n",
      "   10   64   91   88   94    3   79   81   95   99   93   96    4  105\n",
      "   90   98]\n"
     ]
    }
   ],
   "source": [
    "print(\"유니크한 값들:\\n\",patient['age'].unique())"
   ]
  },
  {
   "cell_type": "markdown",
   "metadata": {},
   "source": [
    "#### 따라서 2021이 아닌 데이터만 사용하겠다."
   ]
  },
  {
   "cell_type": "code",
   "execution_count": 162,
   "metadata": {},
   "outputs": [
    {
     "data": {
      "text/plain": [
       "(4004, 18)"
      ]
     },
     "execution_count": 162,
     "metadata": {},
     "output_type": "execute_result"
    }
   ],
   "source": [
    "patient.shape"
   ]
  },
  {
   "cell_type": "code",
   "execution_count": 163,
   "metadata": {},
   "outputs": [
    {
     "data": {
      "text/plain": [
       "(3266, 18)"
      ]
     },
     "execution_count": 163,
     "metadata": {},
     "output_type": "execute_result"
    }
   ],
   "source": [
    "patient[patient['age']!=2021].shape"
   ]
  },
  {
   "cell_type": "code",
   "execution_count": 164,
   "metadata": {},
   "outputs": [],
   "source": [
    "patient = patient[patient['age']!=2021]"
   ]
  },
  {
   "cell_type": "markdown",
   "metadata": {},
   "source": [
    "# 5. 머신러닝\n",
    "\n",
    "## 이 데이터를 가지고 나는 예측 모델 만들기\n",
    "나는 이 데이터를 통해 사망자를 예측하는 모델을 만들고 싶다. 따라서 간단한 나이 예측 딥러닝 모델을 만들려고 한다."
   ]
  },
  {
   "cell_type": "markdown",
   "metadata": {},
   "source": [
    "## 필요없는 열 삭제하기\n",
    "- 나이를 예측하기 위해서 필요있는 column만 사용해야 된다. "
   ]
  },
  {
   "cell_type": "code",
   "execution_count": 21,
   "metadata": {},
   "outputs": [],
   "source": [
    "patient = patient.drop([\"patient_id\"],axis=1)\n",
    "patient = patient.drop([\"global_num\"],axis=1)\n",
    "patient = patient.drop([\"birth_year\"],axis=1)\n",
    "patient = patient.drop([\"country\"],axis=1)\n",
    "patient = patient.drop([\"province\"],axis=1)\n",
    "patient = patient.drop([\"city\"],axis=1)\n",
    "patient = patient.drop([\"infection_order\"],axis=1)\n",
    "patient = patient.drop([\"infected_by\"],axis=1)\n",
    "patient = patient.drop([\"contact_number\"],axis=1)\n",
    "patient = patient.drop([\"symptom_onset_date\"],axis=1)\n",
    "patient = patient.drop([\"confirmed_date\"],axis=1)\n",
    "patient = patient.drop([\"state\"],axis=1)"
   ]
  },
  {
   "cell_type": "code",
   "execution_count": 22,
   "metadata": {},
   "outputs": [
    {
     "data": {
      "text/plain": [
       "sex                  0\n",
       "age                  0\n",
       "disease           3249\n",
       "infection_case     708\n",
       "released_date     2041\n",
       "deceased_date     3207\n",
       "dtype: int64"
      ]
     },
     "execution_count": 22,
     "metadata": {},
     "output_type": "execute_result"
    }
   ],
   "source": [
    "patient.isnull().sum()"
   ]
  },
  {
   "cell_type": "markdown",
   "metadata": {},
   "source": [
    "### 열의 이름 바꾸어 주기 \n",
    "- deceased_date를 deceased로 그리고 released_date를 released로 바꾸어 주겠다."
   ]
  },
  {
   "cell_type": "code",
   "execution_count": 23,
   "metadata": {},
   "outputs": [],
   "source": [
    "patient = patient.rename(columns={'deceased_date':'deceased','released_date':'released'})"
   ]
  },
  {
   "cell_type": "markdown",
   "metadata": {},
   "source": [
    "deceased_date를 deceased로 그리고 released_date를 released로 바뀌었다."
   ]
  },
  {
   "cell_type": "code",
   "execution_count": 24,
   "metadata": {
    "scrolled": true
   },
   "outputs": [
    {
     "name": "stdout",
     "output_type": "stream",
     "text": [
      "<class 'pandas.core.frame.DataFrame'>\n",
      "Int64Index: 3266 entries, 0 to 3996\n",
      "Data columns (total 6 columns):\n",
      "sex               3266 non-null object\n",
      "age               3266 non-null int64\n",
      "disease           17 non-null object\n",
      "infection_case    2558 non-null object\n",
      "released          1225 non-null object\n",
      "deceased          59 non-null object\n",
      "dtypes: int64(1), object(5)\n",
      "memory usage: 178.6+ KB\n"
     ]
    }
   ],
   "source": [
    "patient.info()"
   ]
  },
  {
   "cell_type": "code",
   "execution_count": 25,
   "metadata": {},
   "outputs": [],
   "source": [
    "patient['deceased']=patient['deceased'].fillna(0)"
   ]
  },
  {
   "cell_type": "code",
   "execution_count": 26,
   "metadata": {},
   "outputs": [],
   "source": [
    "patient = patient.set_value(patient['deceased'] != 0,'deceased',1)"
   ]
  },
  {
   "cell_type": "code",
   "execution_count": 27,
   "metadata": {},
   "outputs": [],
   "source": [
    "patient['released']=patient['released'].fillna(0)"
   ]
  },
  {
   "cell_type": "code",
   "execution_count": 28,
   "metadata": {},
   "outputs": [],
   "source": [
    "patient = patient.set_value(patient['released'] != 0,'released',1)"
   ]
  },
  {
   "cell_type": "code",
   "execution_count": 29,
   "metadata": {},
   "outputs": [],
   "source": [
    "patient['disease']=patient['disease'].fillna(0)"
   ]
  },
  {
   "cell_type": "code",
   "execution_count": 30,
   "metadata": {},
   "outputs": [],
   "source": [
    "patient[(patient['disease']!=0)]['disease'] = 1"
   ]
  },
  {
   "cell_type": "code",
   "execution_count": 31,
   "metadata": {},
   "outputs": [],
   "source": [
    "patient = patient[patient['sex'].notnull()]"
   ]
  },
  {
   "cell_type": "code",
   "execution_count": 32,
   "metadata": {},
   "outputs": [],
   "source": [
    "patient['infection_case']=patient['infection_case'].fillna('etc')"
   ]
  },
  {
   "cell_type": "markdown",
   "metadata": {},
   "source": [
    "### 결측치 확인"
   ]
  },
  {
   "cell_type": "code",
   "execution_count": 33,
   "metadata": {},
   "outputs": [
    {
     "data": {
      "text/plain": [
       "sex               0\n",
       "age               0\n",
       "disease           0\n",
       "infection_case    0\n",
       "released          0\n",
       "deceased          0\n",
       "dtype: int64"
      ]
     },
     "execution_count": 33,
     "metadata": {},
     "output_type": "execute_result"
    }
   ],
   "source": [
    "patient.isnull().sum()"
   ]
  },
  {
   "cell_type": "markdown",
   "metadata": {},
   "source": [
    "### 딥러닝 학습을 위해서 disease의 타입을 수치형으로 바꾸어준다."
   ]
  },
  {
   "cell_type": "code",
   "execution_count": 34,
   "metadata": {},
   "outputs": [],
   "source": [
    "patient['disease'] = patient['disease'].astype('int')"
   ]
  },
  {
   "cell_type": "code",
   "execution_count": 35,
   "metadata": {},
   "outputs": [
    {
     "name": "stdout",
     "output_type": "stream",
     "text": [
      "<class 'pandas.core.frame.DataFrame'>\n",
      "Int64Index: 3266 entries, 0 to 3996\n",
      "Data columns (total 6 columns):\n",
      "sex               3266 non-null object\n",
      "age               3266 non-null int64\n",
      "disease           3266 non-null int64\n",
      "infection_case    3266 non-null object\n",
      "released          3266 non-null int64\n",
      "deceased          3266 non-null int64\n",
      "dtypes: int64(4), object(2)\n",
      "memory usage: 178.6+ KB\n"
     ]
    }
   ],
   "source": [
    "patient.info()"
   ]
  },
  {
   "cell_type": "markdown",
   "metadata": {},
   "source": [
    "최종적으로 사용할 변수들을 보자면, age, disease, released_date, deceased_date는 수치형이지만, age만 연속형이만 나머지는 0 또는 1의 값을 가지므로 범주형에 속한다. 그 나머지를 범주형으로 바꾸지 않은 이유는 학습을 위해서는 범주형 값이 아닌 수치형으로 해야되기 때문이다. 나머지 sex, infection_cases 범주형에 속한다."
   ]
  },
  {
   "cell_type": "markdown",
   "metadata": {},
   "source": [
    "### custom_data는  임의로 만들어진 데이터로 마지막에 모델에 넣어서 사망가능성을 예측해 보겠다."
   ]
  },
  {
   "cell_type": "code",
   "execution_count": 36,
   "metadata": {},
   "outputs": [],
   "source": [
    "custom_data = pd.DataFrame({'sex':['female'],'age':[32],'disease':[1],\n",
    "                            'infection_case':['Dongan Church'],\n",
    "                            'released':[1],'deceased':[0] },index=[3997])"
   ]
  },
  {
   "cell_type": "code",
   "execution_count": 37,
   "metadata": {},
   "outputs": [
    {
     "name": "stdout",
     "output_type": "stream",
     "text": [
      "<class 'pandas.core.frame.DataFrame'>\n",
      "Int64Index: 1 entries, 3997 to 3997\n",
      "Data columns (total 6 columns):\n",
      "sex               1 non-null object\n",
      "age               1 non-null int64\n",
      "disease           1 non-null int64\n",
      "infection_case    1 non-null object\n",
      "released          1 non-null int64\n",
      "deceased          1 non-null int64\n",
      "dtypes: int64(4), object(2)\n",
      "memory usage: 56.0+ bytes\n"
     ]
    }
   ],
   "source": [
    "custom_data.info()"
   ]
  },
  {
   "cell_type": "code",
   "execution_count": 38,
   "metadata": {},
   "outputs": [],
   "source": [
    "patient = pd.concat([patient,custom_data])"
   ]
  },
  {
   "cell_type": "code",
   "execution_count": 39,
   "metadata": {},
   "outputs": [
    {
     "data": {
      "text/plain": [
       "sex               0\n",
       "age               0\n",
       "disease           0\n",
       "infection_case    0\n",
       "released          0\n",
       "deceased          0\n",
       "dtype: int64"
      ]
     },
     "execution_count": 39,
     "metadata": {},
     "output_type": "execute_result"
    }
   ],
   "source": [
    "patient.isnull().sum()"
   ]
  },
  {
   "cell_type": "markdown",
   "metadata": {},
   "source": [
    "### 열의 위치 바꾸기\n",
    "- 머신러닝을 돌리기 위해 patient 데이터 전체를 one_hot으로 바꾸어주어야 된다. 하지만 이 데이터를 one_hot으로 하면 열의 길이가 너무 커져서 deaceased와 나머지를 분류하기 어려워진다. 따라서 deceased를 맨앞에 놓고 deceased의 위치에 sex를 놓겠다. "
   ]
  },
  {
   "cell_type": "code",
   "execution_count": 40,
   "metadata": {
    "scrolled": true
   },
   "outputs": [
    {
     "data": {
      "text/html": [
       "<div>\n",
       "<style scoped>\n",
       "    .dataframe tbody tr th:only-of-type {\n",
       "        vertical-align: middle;\n",
       "    }\n",
       "\n",
       "    .dataframe tbody tr th {\n",
       "        vertical-align: top;\n",
       "    }\n",
       "\n",
       "    .dataframe thead th {\n",
       "        text-align: right;\n",
       "    }\n",
       "</style>\n",
       "<table border=\"1\" class=\"dataframe\">\n",
       "  <thead>\n",
       "    <tr style=\"text-align: right;\">\n",
       "      <th></th>\n",
       "      <th>sex</th>\n",
       "      <th>age</th>\n",
       "      <th>disease</th>\n",
       "      <th>infection_case</th>\n",
       "      <th>released</th>\n",
       "      <th>deceased</th>\n",
       "    </tr>\n",
       "  </thead>\n",
       "  <tbody>\n",
       "    <tr>\n",
       "      <th>0</th>\n",
       "      <td>male</td>\n",
       "      <td>57</td>\n",
       "      <td>0</td>\n",
       "      <td>overseas inflow</td>\n",
       "      <td>1</td>\n",
       "      <td>0</td>\n",
       "    </tr>\n",
       "    <tr>\n",
       "      <th>1</th>\n",
       "      <td>male</td>\n",
       "      <td>34</td>\n",
       "      <td>0</td>\n",
       "      <td>overseas inflow</td>\n",
       "      <td>1</td>\n",
       "      <td>0</td>\n",
       "    </tr>\n",
       "    <tr>\n",
       "      <th>2</th>\n",
       "      <td>male</td>\n",
       "      <td>57</td>\n",
       "      <td>0</td>\n",
       "      <td>contact with patient</td>\n",
       "      <td>1</td>\n",
       "      <td>0</td>\n",
       "    </tr>\n",
       "    <tr>\n",
       "      <th>3</th>\n",
       "      <td>male</td>\n",
       "      <td>30</td>\n",
       "      <td>0</td>\n",
       "      <td>overseas inflow</td>\n",
       "      <td>1</td>\n",
       "      <td>0</td>\n",
       "    </tr>\n",
       "    <tr>\n",
       "      <th>4</th>\n",
       "      <td>female</td>\n",
       "      <td>29</td>\n",
       "      <td>0</td>\n",
       "      <td>contact with patient</td>\n",
       "      <td>1</td>\n",
       "      <td>0</td>\n",
       "    </tr>\n",
       "  </tbody>\n",
       "</table>\n",
       "</div>"
      ],
      "text/plain": [
       "      sex  age  disease        infection_case  released  deceased\n",
       "0    male   57        0       overseas inflow         1         0\n",
       "1    male   34        0       overseas inflow         1         0\n",
       "2    male   57        0  contact with patient         1         0\n",
       "3    male   30        0       overseas inflow         1         0\n",
       "4  female   29        0  contact with patient         1         0"
      ]
     },
     "execution_count": 40,
     "metadata": {},
     "output_type": "execute_result"
    }
   ],
   "source": [
    "patient.head()"
   ]
  },
  {
   "cell_type": "code",
   "execution_count": 41,
   "metadata": {},
   "outputs": [],
   "source": [
    "temp = patient['sex'].copy()\n",
    "patient['sex'] = patient['deceased']\n",
    "patient['deceased'] = temp\n",
    "patient = patient.rename(columns={'sex':'deceased','deceased':'sex'})"
   ]
  },
  {
   "cell_type": "code",
   "execution_count": 42,
   "metadata": {},
   "outputs": [
    {
     "data": {
      "text/html": [
       "<div>\n",
       "<style scoped>\n",
       "    .dataframe tbody tr th:only-of-type {\n",
       "        vertical-align: middle;\n",
       "    }\n",
       "\n",
       "    .dataframe tbody tr th {\n",
       "        vertical-align: top;\n",
       "    }\n",
       "\n",
       "    .dataframe thead th {\n",
       "        text-align: right;\n",
       "    }\n",
       "</style>\n",
       "<table border=\"1\" class=\"dataframe\">\n",
       "  <thead>\n",
       "    <tr style=\"text-align: right;\">\n",
       "      <th></th>\n",
       "      <th>deceased</th>\n",
       "      <th>age</th>\n",
       "      <th>disease</th>\n",
       "      <th>infection_case</th>\n",
       "      <th>released</th>\n",
       "      <th>sex</th>\n",
       "    </tr>\n",
       "  </thead>\n",
       "  <tbody>\n",
       "    <tr>\n",
       "      <th>0</th>\n",
       "      <td>0</td>\n",
       "      <td>57</td>\n",
       "      <td>0</td>\n",
       "      <td>overseas inflow</td>\n",
       "      <td>1</td>\n",
       "      <td>male</td>\n",
       "    </tr>\n",
       "    <tr>\n",
       "      <th>1</th>\n",
       "      <td>0</td>\n",
       "      <td>34</td>\n",
       "      <td>0</td>\n",
       "      <td>overseas inflow</td>\n",
       "      <td>1</td>\n",
       "      <td>male</td>\n",
       "    </tr>\n",
       "    <tr>\n",
       "      <th>2</th>\n",
       "      <td>0</td>\n",
       "      <td>57</td>\n",
       "      <td>0</td>\n",
       "      <td>contact with patient</td>\n",
       "      <td>1</td>\n",
       "      <td>male</td>\n",
       "    </tr>\n",
       "    <tr>\n",
       "      <th>3</th>\n",
       "      <td>0</td>\n",
       "      <td>30</td>\n",
       "      <td>0</td>\n",
       "      <td>overseas inflow</td>\n",
       "      <td>1</td>\n",
       "      <td>male</td>\n",
       "    </tr>\n",
       "    <tr>\n",
       "      <th>4</th>\n",
       "      <td>0</td>\n",
       "      <td>29</td>\n",
       "      <td>0</td>\n",
       "      <td>contact with patient</td>\n",
       "      <td>1</td>\n",
       "      <td>female</td>\n",
       "    </tr>\n",
       "  </tbody>\n",
       "</table>\n",
       "</div>"
      ],
      "text/plain": [
       "   deceased  age  disease        infection_case  released     sex\n",
       "0         0   57        0       overseas inflow         1    male\n",
       "1         0   34        0       overseas inflow         1    male\n",
       "2         0   57        0  contact with patient         1    male\n",
       "3         0   30        0       overseas inflow         1    male\n",
       "4         0   29        0  contact with patient         1  female"
      ]
     },
     "execution_count": 42,
     "metadata": {},
     "output_type": "execute_result"
    }
   ],
   "source": [
    "patient.head()"
   ]
  },
  {
   "cell_type": "markdown",
   "metadata": {},
   "source": [
    "## patient의 범주형 데이터 one_hot으로 바꾸어 주기\n",
    "- 학습을 하기 위해서는 범주형 데이터를 수치형으로 바꾸어주어야 한다. 이때 사용되는 개념이 one_hot 인코딩이다. \n",
    "- one_hot인코딩은 나에 해당되는 인덱스의 위치 값을 1로 하고 나머지는 0으로 만드는 것이다.\n",
    "    - ex)숫자 3(0~9)-> [0,0,0,1,0,0,0,0,0,0]"
   ]
  },
  {
   "cell_type": "code",
   "execution_count": 43,
   "metadata": {},
   "outputs": [],
   "source": [
    "patient = pd.get_dummies(patient)"
   ]
  },
  {
   "cell_type": "code",
   "execution_count": 44,
   "metadata": {},
   "outputs": [
    {
     "data": {
      "text/html": [
       "<div>\n",
       "<style scoped>\n",
       "    .dataframe tbody tr th:only-of-type {\n",
       "        vertical-align: middle;\n",
       "    }\n",
       "\n",
       "    .dataframe tbody tr th {\n",
       "        vertical-align: top;\n",
       "    }\n",
       "\n",
       "    .dataframe thead th {\n",
       "        text-align: right;\n",
       "    }\n",
       "</style>\n",
       "<table border=\"1\" class=\"dataframe\">\n",
       "  <thead>\n",
       "    <tr style=\"text-align: right;\">\n",
       "      <th></th>\n",
       "      <th>deceased</th>\n",
       "      <th>age</th>\n",
       "      <th>disease</th>\n",
       "      <th>released</th>\n",
       "      <th>infection_case_Bonghwa Pureun Nursing Home</th>\n",
       "      <th>infection_case_Changnyeong Coin Karaoke</th>\n",
       "      <th>infection_case_Cheongdo Daenam Hospital</th>\n",
       "      <th>infection_case_Coupang Logistics Center</th>\n",
       "      <th>infection_case_Dongan Church</th>\n",
       "      <th>infection_case_Eunpyeong St. Mary's Hospital</th>\n",
       "      <th>...</th>\n",
       "      <th>infection_case_River of Grace Community Church</th>\n",
       "      <th>infection_case_Seongdong-gu APT</th>\n",
       "      <th>infection_case_Shincheonji Church</th>\n",
       "      <th>infection_case_Suyeong-gu Kindergarten</th>\n",
       "      <th>infection_case_contact with patient</th>\n",
       "      <th>infection_case_etc</th>\n",
       "      <th>infection_case_gym facility in Cheonan</th>\n",
       "      <th>infection_case_overseas inflow</th>\n",
       "      <th>sex_female</th>\n",
       "      <th>sex_male</th>\n",
       "    </tr>\n",
       "  </thead>\n",
       "  <tbody>\n",
       "    <tr>\n",
       "      <th>0</th>\n",
       "      <td>0</td>\n",
       "      <td>57</td>\n",
       "      <td>0</td>\n",
       "      <td>1</td>\n",
       "      <td>0</td>\n",
       "      <td>0</td>\n",
       "      <td>0</td>\n",
       "      <td>0</td>\n",
       "      <td>0</td>\n",
       "      <td>0</td>\n",
       "      <td>...</td>\n",
       "      <td>0</td>\n",
       "      <td>0</td>\n",
       "      <td>0</td>\n",
       "      <td>0</td>\n",
       "      <td>0</td>\n",
       "      <td>0</td>\n",
       "      <td>0</td>\n",
       "      <td>1</td>\n",
       "      <td>0</td>\n",
       "      <td>1</td>\n",
       "    </tr>\n",
       "    <tr>\n",
       "      <th>1</th>\n",
       "      <td>0</td>\n",
       "      <td>34</td>\n",
       "      <td>0</td>\n",
       "      <td>1</td>\n",
       "      <td>0</td>\n",
       "      <td>0</td>\n",
       "      <td>0</td>\n",
       "      <td>0</td>\n",
       "      <td>0</td>\n",
       "      <td>0</td>\n",
       "      <td>...</td>\n",
       "      <td>0</td>\n",
       "      <td>0</td>\n",
       "      <td>0</td>\n",
       "      <td>0</td>\n",
       "      <td>0</td>\n",
       "      <td>0</td>\n",
       "      <td>0</td>\n",
       "      <td>1</td>\n",
       "      <td>0</td>\n",
       "      <td>1</td>\n",
       "    </tr>\n",
       "    <tr>\n",
       "      <th>2</th>\n",
       "      <td>0</td>\n",
       "      <td>57</td>\n",
       "      <td>0</td>\n",
       "      <td>1</td>\n",
       "      <td>0</td>\n",
       "      <td>0</td>\n",
       "      <td>0</td>\n",
       "      <td>0</td>\n",
       "      <td>0</td>\n",
       "      <td>0</td>\n",
       "      <td>...</td>\n",
       "      <td>0</td>\n",
       "      <td>0</td>\n",
       "      <td>0</td>\n",
       "      <td>0</td>\n",
       "      <td>1</td>\n",
       "      <td>0</td>\n",
       "      <td>0</td>\n",
       "      <td>0</td>\n",
       "      <td>0</td>\n",
       "      <td>1</td>\n",
       "    </tr>\n",
       "    <tr>\n",
       "      <th>3</th>\n",
       "      <td>0</td>\n",
       "      <td>30</td>\n",
       "      <td>0</td>\n",
       "      <td>1</td>\n",
       "      <td>0</td>\n",
       "      <td>0</td>\n",
       "      <td>0</td>\n",
       "      <td>0</td>\n",
       "      <td>0</td>\n",
       "      <td>0</td>\n",
       "      <td>...</td>\n",
       "      <td>0</td>\n",
       "      <td>0</td>\n",
       "      <td>0</td>\n",
       "      <td>0</td>\n",
       "      <td>0</td>\n",
       "      <td>0</td>\n",
       "      <td>0</td>\n",
       "      <td>1</td>\n",
       "      <td>0</td>\n",
       "      <td>1</td>\n",
       "    </tr>\n",
       "    <tr>\n",
       "      <th>4</th>\n",
       "      <td>0</td>\n",
       "      <td>29</td>\n",
       "      <td>0</td>\n",
       "      <td>1</td>\n",
       "      <td>0</td>\n",
       "      <td>0</td>\n",
       "      <td>0</td>\n",
       "      <td>0</td>\n",
       "      <td>0</td>\n",
       "      <td>0</td>\n",
       "      <td>...</td>\n",
       "      <td>0</td>\n",
       "      <td>0</td>\n",
       "      <td>0</td>\n",
       "      <td>0</td>\n",
       "      <td>1</td>\n",
       "      <td>0</td>\n",
       "      <td>0</td>\n",
       "      <td>0</td>\n",
       "      <td>1</td>\n",
       "      <td>0</td>\n",
       "    </tr>\n",
       "  </tbody>\n",
       "</table>\n",
       "<p>5 rows × 30 columns</p>\n",
       "</div>"
      ],
      "text/plain": [
       "   deceased  age  disease  released  \\\n",
       "0         0   57        0         1   \n",
       "1         0   34        0         1   \n",
       "2         0   57        0         1   \n",
       "3         0   30        0         1   \n",
       "4         0   29        0         1   \n",
       "\n",
       "   infection_case_Bonghwa Pureun Nursing Home  \\\n",
       "0                                           0   \n",
       "1                                           0   \n",
       "2                                           0   \n",
       "3                                           0   \n",
       "4                                           0   \n",
       "\n",
       "   infection_case_Changnyeong Coin Karaoke  \\\n",
       "0                                        0   \n",
       "1                                        0   \n",
       "2                                        0   \n",
       "3                                        0   \n",
       "4                                        0   \n",
       "\n",
       "   infection_case_Cheongdo Daenam Hospital  \\\n",
       "0                                        0   \n",
       "1                                        0   \n",
       "2                                        0   \n",
       "3                                        0   \n",
       "4                                        0   \n",
       "\n",
       "   infection_case_Coupang Logistics Center  infection_case_Dongan Church  \\\n",
       "0                                        0                             0   \n",
       "1                                        0                             0   \n",
       "2                                        0                             0   \n",
       "3                                        0                             0   \n",
       "4                                        0                             0   \n",
       "\n",
       "   infection_case_Eunpyeong St. Mary's Hospital  ...  \\\n",
       "0                                             0  ...   \n",
       "1                                             0  ...   \n",
       "2                                             0  ...   \n",
       "3                                             0  ...   \n",
       "4                                             0  ...   \n",
       "\n",
       "   infection_case_River of Grace Community Church  \\\n",
       "0                                               0   \n",
       "1                                               0   \n",
       "2                                               0   \n",
       "3                                               0   \n",
       "4                                               0   \n",
       "\n",
       "   infection_case_Seongdong-gu APT  infection_case_Shincheonji Church  \\\n",
       "0                                0                                  0   \n",
       "1                                0                                  0   \n",
       "2                                0                                  0   \n",
       "3                                0                                  0   \n",
       "4                                0                                  0   \n",
       "\n",
       "   infection_case_Suyeong-gu Kindergarten  \\\n",
       "0                                       0   \n",
       "1                                       0   \n",
       "2                                       0   \n",
       "3                                       0   \n",
       "4                                       0   \n",
       "\n",
       "   infection_case_contact with patient  infection_case_etc  \\\n",
       "0                                    0                   0   \n",
       "1                                    0                   0   \n",
       "2                                    1                   0   \n",
       "3                                    0                   0   \n",
       "4                                    1                   0   \n",
       "\n",
       "   infection_case_gym facility in Cheonan  infection_case_overseas inflow  \\\n",
       "0                                       0                               1   \n",
       "1                                       0                               1   \n",
       "2                                       0                               0   \n",
       "3                                       0                               1   \n",
       "4                                       0                               0   \n",
       "\n",
       "   sex_female  sex_male  \n",
       "0           0         1  \n",
       "1           0         1  \n",
       "2           0         1  \n",
       "3           0         1  \n",
       "4           1         0  \n",
       "\n",
       "[5 rows x 30 columns]"
      ]
     },
     "execution_count": 44,
     "metadata": {},
     "output_type": "execute_result"
    }
   ],
   "source": [
    "patient.head()"
   ]
  },
  {
   "cell_type": "markdown",
   "metadata": {},
   "source": [
    "sex는 sex_male만으로 남, 여를 구분할 수 있어 sex_female을 없애겠다."
   ]
  },
  {
   "cell_type": "code",
   "execution_count": 45,
   "metadata": {},
   "outputs": [],
   "source": [
    "del patient['sex_female']"
   ]
  },
  {
   "cell_type": "code",
   "execution_count": 46,
   "metadata": {},
   "outputs": [
    {
     "data": {
      "text/html": [
       "<div>\n",
       "<style scoped>\n",
       "    .dataframe tbody tr th:only-of-type {\n",
       "        vertical-align: middle;\n",
       "    }\n",
       "\n",
       "    .dataframe tbody tr th {\n",
       "        vertical-align: top;\n",
       "    }\n",
       "\n",
       "    .dataframe thead th {\n",
       "        text-align: right;\n",
       "    }\n",
       "</style>\n",
       "<table border=\"1\" class=\"dataframe\">\n",
       "  <thead>\n",
       "    <tr style=\"text-align: right;\">\n",
       "      <th></th>\n",
       "      <th>deceased</th>\n",
       "      <th>age</th>\n",
       "      <th>disease</th>\n",
       "      <th>released</th>\n",
       "      <th>infection_case_Bonghwa Pureun Nursing Home</th>\n",
       "      <th>infection_case_Changnyeong Coin Karaoke</th>\n",
       "      <th>infection_case_Cheongdo Daenam Hospital</th>\n",
       "      <th>infection_case_Coupang Logistics Center</th>\n",
       "      <th>infection_case_Dongan Church</th>\n",
       "      <th>infection_case_Eunpyeong St. Mary's Hospital</th>\n",
       "      <th>...</th>\n",
       "      <th>infection_case_Pilgrimage to Israel</th>\n",
       "      <th>infection_case_River of Grace Community Church</th>\n",
       "      <th>infection_case_Seongdong-gu APT</th>\n",
       "      <th>infection_case_Shincheonji Church</th>\n",
       "      <th>infection_case_Suyeong-gu Kindergarten</th>\n",
       "      <th>infection_case_contact with patient</th>\n",
       "      <th>infection_case_etc</th>\n",
       "      <th>infection_case_gym facility in Cheonan</th>\n",
       "      <th>infection_case_overseas inflow</th>\n",
       "      <th>sex_male</th>\n",
       "    </tr>\n",
       "  </thead>\n",
       "  <tbody>\n",
       "    <tr>\n",
       "      <th>0</th>\n",
       "      <td>0</td>\n",
       "      <td>57</td>\n",
       "      <td>0</td>\n",
       "      <td>1</td>\n",
       "      <td>0</td>\n",
       "      <td>0</td>\n",
       "      <td>0</td>\n",
       "      <td>0</td>\n",
       "      <td>0</td>\n",
       "      <td>0</td>\n",
       "      <td>...</td>\n",
       "      <td>0</td>\n",
       "      <td>0</td>\n",
       "      <td>0</td>\n",
       "      <td>0</td>\n",
       "      <td>0</td>\n",
       "      <td>0</td>\n",
       "      <td>0</td>\n",
       "      <td>0</td>\n",
       "      <td>1</td>\n",
       "      <td>1</td>\n",
       "    </tr>\n",
       "    <tr>\n",
       "      <th>1</th>\n",
       "      <td>0</td>\n",
       "      <td>34</td>\n",
       "      <td>0</td>\n",
       "      <td>1</td>\n",
       "      <td>0</td>\n",
       "      <td>0</td>\n",
       "      <td>0</td>\n",
       "      <td>0</td>\n",
       "      <td>0</td>\n",
       "      <td>0</td>\n",
       "      <td>...</td>\n",
       "      <td>0</td>\n",
       "      <td>0</td>\n",
       "      <td>0</td>\n",
       "      <td>0</td>\n",
       "      <td>0</td>\n",
       "      <td>0</td>\n",
       "      <td>0</td>\n",
       "      <td>0</td>\n",
       "      <td>1</td>\n",
       "      <td>1</td>\n",
       "    </tr>\n",
       "    <tr>\n",
       "      <th>2</th>\n",
       "      <td>0</td>\n",
       "      <td>57</td>\n",
       "      <td>0</td>\n",
       "      <td>1</td>\n",
       "      <td>0</td>\n",
       "      <td>0</td>\n",
       "      <td>0</td>\n",
       "      <td>0</td>\n",
       "      <td>0</td>\n",
       "      <td>0</td>\n",
       "      <td>...</td>\n",
       "      <td>0</td>\n",
       "      <td>0</td>\n",
       "      <td>0</td>\n",
       "      <td>0</td>\n",
       "      <td>0</td>\n",
       "      <td>1</td>\n",
       "      <td>0</td>\n",
       "      <td>0</td>\n",
       "      <td>0</td>\n",
       "      <td>1</td>\n",
       "    </tr>\n",
       "    <tr>\n",
       "      <th>3</th>\n",
       "      <td>0</td>\n",
       "      <td>30</td>\n",
       "      <td>0</td>\n",
       "      <td>1</td>\n",
       "      <td>0</td>\n",
       "      <td>0</td>\n",
       "      <td>0</td>\n",
       "      <td>0</td>\n",
       "      <td>0</td>\n",
       "      <td>0</td>\n",
       "      <td>...</td>\n",
       "      <td>0</td>\n",
       "      <td>0</td>\n",
       "      <td>0</td>\n",
       "      <td>0</td>\n",
       "      <td>0</td>\n",
       "      <td>0</td>\n",
       "      <td>0</td>\n",
       "      <td>0</td>\n",
       "      <td>1</td>\n",
       "      <td>1</td>\n",
       "    </tr>\n",
       "    <tr>\n",
       "      <th>4</th>\n",
       "      <td>0</td>\n",
       "      <td>29</td>\n",
       "      <td>0</td>\n",
       "      <td>1</td>\n",
       "      <td>0</td>\n",
       "      <td>0</td>\n",
       "      <td>0</td>\n",
       "      <td>0</td>\n",
       "      <td>0</td>\n",
       "      <td>0</td>\n",
       "      <td>...</td>\n",
       "      <td>0</td>\n",
       "      <td>0</td>\n",
       "      <td>0</td>\n",
       "      <td>0</td>\n",
       "      <td>0</td>\n",
       "      <td>1</td>\n",
       "      <td>0</td>\n",
       "      <td>0</td>\n",
       "      <td>0</td>\n",
       "      <td>0</td>\n",
       "    </tr>\n",
       "  </tbody>\n",
       "</table>\n",
       "<p>5 rows × 29 columns</p>\n",
       "</div>"
      ],
      "text/plain": [
       "   deceased  age  disease  released  \\\n",
       "0         0   57        0         1   \n",
       "1         0   34        0         1   \n",
       "2         0   57        0         1   \n",
       "3         0   30        0         1   \n",
       "4         0   29        0         1   \n",
       "\n",
       "   infection_case_Bonghwa Pureun Nursing Home  \\\n",
       "0                                           0   \n",
       "1                                           0   \n",
       "2                                           0   \n",
       "3                                           0   \n",
       "4                                           0   \n",
       "\n",
       "   infection_case_Changnyeong Coin Karaoke  \\\n",
       "0                                        0   \n",
       "1                                        0   \n",
       "2                                        0   \n",
       "3                                        0   \n",
       "4                                        0   \n",
       "\n",
       "   infection_case_Cheongdo Daenam Hospital  \\\n",
       "0                                        0   \n",
       "1                                        0   \n",
       "2                                        0   \n",
       "3                                        0   \n",
       "4                                        0   \n",
       "\n",
       "   infection_case_Coupang Logistics Center  infection_case_Dongan Church  \\\n",
       "0                                        0                             0   \n",
       "1                                        0                             0   \n",
       "2                                        0                             0   \n",
       "3                                        0                             0   \n",
       "4                                        0                             0   \n",
       "\n",
       "   infection_case_Eunpyeong St. Mary's Hospital  ...  \\\n",
       "0                                             0  ...   \n",
       "1                                             0  ...   \n",
       "2                                             0  ...   \n",
       "3                                             0  ...   \n",
       "4                                             0  ...   \n",
       "\n",
       "   infection_case_Pilgrimage to Israel  \\\n",
       "0                                    0   \n",
       "1                                    0   \n",
       "2                                    0   \n",
       "3                                    0   \n",
       "4                                    0   \n",
       "\n",
       "   infection_case_River of Grace Community Church  \\\n",
       "0                                               0   \n",
       "1                                               0   \n",
       "2                                               0   \n",
       "3                                               0   \n",
       "4                                               0   \n",
       "\n",
       "   infection_case_Seongdong-gu APT  infection_case_Shincheonji Church  \\\n",
       "0                                0                                  0   \n",
       "1                                0                                  0   \n",
       "2                                0                                  0   \n",
       "3                                0                                  0   \n",
       "4                                0                                  0   \n",
       "\n",
       "   infection_case_Suyeong-gu Kindergarten  \\\n",
       "0                                       0   \n",
       "1                                       0   \n",
       "2                                       0   \n",
       "3                                       0   \n",
       "4                                       0   \n",
       "\n",
       "   infection_case_contact with patient  infection_case_etc  \\\n",
       "0                                    0                   0   \n",
       "1                                    0                   0   \n",
       "2                                    1                   0   \n",
       "3                                    0                   0   \n",
       "4                                    1                   0   \n",
       "\n",
       "   infection_case_gym facility in Cheonan  infection_case_overseas inflow  \\\n",
       "0                                       0                               1   \n",
       "1                                       0                               1   \n",
       "2                                       0                               0   \n",
       "3                                       0                               1   \n",
       "4                                       0                               0   \n",
       "\n",
       "   sex_male  \n",
       "0         1  \n",
       "1         1  \n",
       "2         1  \n",
       "3         1  \n",
       "4         0  \n",
       "\n",
       "[5 rows x 29 columns]"
      ]
     },
     "execution_count": 46,
     "metadata": {},
     "output_type": "execute_result"
    }
   ],
   "source": [
    "patient.head()"
   ]
  },
  {
   "cell_type": "markdown",
   "metadata": {},
   "source": [
    "### Train/Test/Custom로 데이터 나누기\n",
    "- 데이터의 샘플 개수가 3267이 이므로 \n",
    "- train은 2999개\n",
    "- test는 267개\n",
    "- custom은 1개"
   ]
  },
  {
   "cell_type": "code",
   "execution_count": 48,
   "metadata": {
    "scrolled": true
   },
   "outputs": [],
   "source": [
    "train_patient = patient.iloc[:2999,:]"
   ]
  },
  {
   "cell_type": "code",
   "execution_count": 49,
   "metadata": {},
   "outputs": [],
   "source": [
    "test_patient = patient.iloc[2999:-1,:]"
   ]
  },
  {
   "cell_type": "code",
   "execution_count": 50,
   "metadata": {},
   "outputs": [],
   "source": [
    "custom_patient = patient.iloc[-1,:]"
   ]
  },
  {
   "cell_type": "markdown",
   "metadata": {},
   "source": [
    "### 검증"
   ]
  },
  {
   "cell_type": "code",
   "execution_count": 51,
   "metadata": {},
   "outputs": [
    {
     "name": "stdout",
     "output_type": "stream",
     "text": [
      "patient 사이즈:  (3267, 29)\n"
     ]
    }
   ],
   "source": [
    "print(\"patient 사이즈: \",patient.shape)"
   ]
  },
  {
   "cell_type": "code",
   "execution_count": 52,
   "metadata": {},
   "outputs": [
    {
     "name": "stdout",
     "output_type": "stream",
     "text": [
      "train_patient 사이즈:  (2999, 29)\n",
      "test_patient 사이즈:  (267, 29)\n",
      "custom_data 사이즈:  (29,)\n"
     ]
    }
   ],
   "source": [
    "print(\"train_patient 사이즈: \",train_patient.shape)\n",
    "print(\"test_patient 사이즈: \",test_patient.shape)\n",
    "print(\"custom_data 사이즈: \",custom_patient.shape)"
   ]
  },
  {
   "cell_type": "markdown",
   "metadata": {},
   "source": [
    "## 학습/테스트 데이터 만들기"
   ]
  },
  {
   "cell_type": "markdown",
   "metadata": {},
   "source": [
    "#### train 데이터"
   ]
  },
  {
   "cell_type": "code",
   "execution_count": 53,
   "metadata": {},
   "outputs": [],
   "source": [
    "train_target = train_patient.iloc[:,0:1]\n",
    "train_target = train_target.to_numpy()\n",
    "\n",
    "train_data = train_patient.iloc[:,1:]\n",
    "train_data = train_data.to_numpy()"
   ]
  },
  {
   "cell_type": "code",
   "execution_count": 54,
   "metadata": {},
   "outputs": [
    {
     "name": "stdout",
     "output_type": "stream",
     "text": [
      "train_data 크기: (2999, 28)\n",
      "trian_target 크기: (2999, 1)\n"
     ]
    }
   ],
   "source": [
    "print(\"train_data 크기:\",np.shape(train_data))\n",
    "print(\"trian_target 크기:\", np.shape(train_target))"
   ]
  },
  {
   "cell_type": "markdown",
   "metadata": {},
   "source": [
    "#### test 데이터"
   ]
  },
  {
   "cell_type": "code",
   "execution_count": 55,
   "metadata": {},
   "outputs": [],
   "source": [
    "test_target = test_patient.iloc[:,0:1]\n",
    "test_target = test_target.to_numpy()\n",
    "\n",
    "test_data = test_patient.iloc[:,1:]\n",
    "test_data = test_data.to_numpy()"
   ]
  },
  {
   "cell_type": "code",
   "execution_count": 56,
   "metadata": {},
   "outputs": [
    {
     "name": "stdout",
     "output_type": "stream",
     "text": [
      "test_data 크기: (267, 28)\n",
      "test_target 크기: (267, 1)\n"
     ]
    }
   ],
   "source": [
    "print(\"test_data 크기:\",np.shape(test_data))\n",
    "print(\"test_target 크기:\", np.shape(test_target))"
   ]
  },
  {
   "cell_type": "markdown",
   "metadata": {},
   "source": [
    "#### custom 데이터"
   ]
  },
  {
   "cell_type": "code",
   "execution_count": 57,
   "metadata": {},
   "outputs": [],
   "source": [
    "custom_target = custom_patient[0]\n",
    "\n",
    "custom_data = custom_patient[1:]\n",
    "custom_data = custom_data.to_numpy()"
   ]
  },
  {
   "cell_type": "code",
   "execution_count": 58,
   "metadata": {},
   "outputs": [
    {
     "name": "stdout",
     "output_type": "stream",
     "text": [
      "custom_data 크기: (28,)\n",
      "custom_target 크기: ()\n"
     ]
    }
   ],
   "source": [
    "print(\"custom_data 크기:\",np.shape(custom_data))\n",
    "print(\"custom_target 크기:\", np.shape(custom_target))"
   ]
  },
  {
   "cell_type": "markdown",
   "metadata": {},
   "source": [
    "## 딥러닝 모델 만들기\n",
    "- 모델은 단순하게 만들기위해 Fully_connected(Dense) Network만 만들겠다. \n",
    "- 여기서 사용된 keras는 수업에 쓰인 책을 기반으로 만들어졌습니다."
   ]
  },
  {
   "cell_type": "code",
   "execution_count": 59,
   "metadata": {},
   "outputs": [],
   "source": [
    "import tensorflow.keras.models as models\n",
    "import tensorflow.keras.layers as layers\n",
    "import tensorflow as tf"
   ]
  },
  {
   "cell_type": "code",
   "execution_count": 70,
   "metadata": {},
   "outputs": [],
   "source": [
    "train_size = train_data.shape[1]\n",
    "batch_size = 128\n",
    "learning_rate = 0.00001"
   ]
  },
  {
   "cell_type": "code",
   "execution_count": 71,
   "metadata": {},
   "outputs": [],
   "source": [
    "model = models.Sequential()"
   ]
  },
  {
   "cell_type": "code",
   "execution_count": 72,
   "metadata": {},
   "outputs": [],
   "source": [
    "model.add(layers.Dense(144,activation='relu',input_shape=(train_size,)))\n",
    "model.add(layers.Dense(64,activation='relu'))\n",
    "model.add(layers.Dense(12,activation='relu'))\n",
    "model.add(layers.Dense(1,activation='sigmoid'))"
   ]
  },
  {
   "cell_type": "code",
   "execution_count": 73,
   "metadata": {},
   "outputs": [
    {
     "name": "stdout",
     "output_type": "stream",
     "text": [
      "Model: \"sequential_1\"\n",
      "_________________________________________________________________\n",
      "Layer (type)                 Output Shape              Param #   \n",
      "=================================================================\n",
      "dense_4 (Dense)              (None, 144)               4176      \n",
      "_________________________________________________________________\n",
      "dense_5 (Dense)              (None, 64)                9280      \n",
      "_________________________________________________________________\n",
      "dense_6 (Dense)              (None, 12)                780       \n",
      "_________________________________________________________________\n",
      "dense_7 (Dense)              (None, 1)                 13        \n",
      "=================================================================\n",
      "Total params: 14,249\n",
      "Trainable params: 14,249\n",
      "Non-trainable params: 0\n",
      "_________________________________________________________________\n"
     ]
    }
   ],
   "source": [
    "model.summary()"
   ]
  },
  {
   "cell_type": "code",
   "execution_count": 74,
   "metadata": {},
   "outputs": [],
   "source": [
    "model.compile(\n",
    "    optimizer=tf.keras.optimizers.Adam(learning_rate=learning_rate),\n",
    "    loss=tf.keras.losses.binary_crossentropy,metrics=['accuracy']\n",
    ")"
   ]
  },
  {
   "cell_type": "code",
   "execution_count": 75,
   "metadata": {},
   "outputs": [],
   "source": [
    "history = model.fit(train_data,train_target,epochs=20,batch_size=batch_size,validation_split=0.2,verbose=0)"
   ]
  },
  {
   "cell_type": "code",
   "execution_count": 76,
   "metadata": {},
   "outputs": [],
   "source": [
    "history_dict = history.history\n",
    "\n",
    "history_dict.keys()\n",
    "\n",
    "loss_values = history_dict['loss']\n",
    "\n",
    "accuracy = history_dict['accuracy']\n",
    "\n",
    "val_loss = history_dict['val_loss']\n",
    "\n",
    "val_accuracy = history_dict['val_accuracy']\n",
    "\n",
    "epochs = np.arange(1,len(val_loss)+1)"
   ]
  },
  {
   "cell_type": "markdown",
   "metadata": {},
   "source": [
    "## 머신러닝 학습 시각화"
   ]
  },
  {
   "cell_type": "code",
   "execution_count": 106,
   "metadata": {},
   "outputs": [
    {
     "data": {
      "image/png": "[encoded data removed]",
      "text/plain": [
       "<Figure size 1008x288 with 2 Axes>"
      ]
     },
     "metadata": {
      "needs_background": "light"
     },
     "output_type": "display_data"
    }
   ],
   "source": [
    "plt.figure(figsize=(14,4))\n",
    "plt.subplot(1,2,1)\n",
    "plt.title(\"비용\")\n",
    "plt.plot(epochs,loss_values,\".r\", label='train',)\n",
    "plt.plot(epochs,val_loss,\"-b\", label='validation')\n",
    "plt.legend(fontsize='small')\n",
    "plt.xticks(epochs)\n",
    "\n",
    "plt.subplot(1,2,2)\n",
    "plt.title(\"정확도\")\n",
    "plt.plot(epochs,accuracy,\".r\", label='train')\n",
    "plt.plot(epochs,val_accuracy,\"-b\", label='validation')\n",
    "plt.legend(fontsize='small')\n",
    "plt.xticks(epochs)\n",
    "plt.show()"
   ]
  },
  {
   "cell_type": "code",
   "execution_count": 78,
   "metadata": {},
   "outputs": [
    {
     "name": "stdout",
     "output_type": "stream",
     "text": [
      "267/267 [==============================] - 0s 31us/sample - loss: 0.2607 - accuracy: 0.9700\n"
     ]
    }
   ],
   "source": [
    "result = model.evaluate(test_data,test_target)"
   ]
  },
  {
   "cell_type": "code",
   "execution_count": 79,
   "metadata": {},
   "outputs": [
    {
     "name": "stdout",
     "output_type": "stream",
     "text": [
      "test에 대한 정확도: 0.97003746\n"
     ]
    }
   ],
   "source": [
    "print(\"test에 대한 정확도:\",result[1])"
   ]
  },
  {
   "cell_type": "markdown",
   "metadata": {},
   "source": [
    "> ## 결과 분석\n",
    "train_accuracy는 98% 이고 valid_accuracy: 96% 이다. validation의 정확도가 높아서 test_accuracy가 97% 나왔다. 전반적으로 정확도가 96%이상 이므로 이 모델은 예측하는 데 쓰여도 다소 문제가 없을 것이다."
   ]
  },
  {
   "cell_type": "markdown",
   "metadata": {},
   "source": [
    "### custom_patient 예측하기"
   ]
  },
  {
   "cell_type": "code",
   "execution_count": 80,
   "metadata": {},
   "outputs": [],
   "source": [
    "predict_deceased = {0:\"생존\", 1:\"사망\"}"
   ]
  },
  {
   "cell_type": "code",
   "execution_count": 81,
   "metadata": {},
   "outputs": [
    {
     "name": "stdout",
     "output_type": "stream",
     "text": [
      "custom_data\n",
      " [32  1  1  0  0  0  0  1  0  0  0  0  0  0  0  0  0  0  0  0  0  0  0  0\n",
      "  0  0  0  0]\n"
     ]
    }
   ],
   "source": [
    "print(\"custom_data\\n\",custom_data)"
   ]
  },
  {
   "cell_type": "code",
   "execution_count": 82,
   "metadata": {},
   "outputs": [
    {
     "name": "stdout",
     "output_type": "stream",
     "text": [
      "머신의 예측: 생존\n",
      "정답: 생존\n"
     ]
    }
   ],
   "source": [
    "print(\"머신의 예측:\",predict_deceased[round(float(model(np.expand_dims(custom_data,axis=0)).numpy()))])\n",
    "print(\"정답:\",predict_deceased[custom_target])"
   ]
  },
  {
   "cell_type": "code",
   "execution_count": null,
   "metadata": {},
   "outputs": [],
   "source": []
  },
  {
   "cell_type": "markdown",
   "metadata": {},
   "source": [
    "# 5. 통계\n",
    "\n",
    "### T 분석 하기\n",
    "- T분석은 두 집단의 평균을 비교하는 통계적 검정 방벙으로 단순히 차이의 존여 여부를 떠나 두 집단의 비교가 통계적으로 의미가 있는가를 감정하는 방법이다.\n",
    "- 나는 두 집단의 감염자 누적치와 사망자 누적치에 대해서 T분석을 하겠다.\n",
    "- 여기서 사용할 데이터는 시간에 따른 감염자 수이므로 time.csv을 사용하겠다."
   ]
  },
  {
   "cell_type": "markdown",
   "metadata": {},
   "source": [
    "### 데이터 불러오기"
   ]
  },
  {
   "cell_type": "code",
   "execution_count": 220,
   "metadata": {},
   "outputs": [],
   "source": [
    "data = pd.read_csv(\"./coronavirusdataset/Time.csv\")"
   ]
  },
  {
   "cell_type": "markdown",
   "metadata": {},
   "source": [
    "### 데이터 백업하기"
   ]
  },
  {
   "cell_type": "code",
   "execution_count": 221,
   "metadata": {},
   "outputs": [],
   "source": [
    "time = data.copy()\n",
    "\n",
    "file_path = './coronavirusdataset/Time_backup.csv'\n",
    "\n",
    "data.to_csv(file_path)"
   ]
  },
  {
   "cell_type": "code",
   "execution_count": 167,
   "metadata": {},
   "outputs": [
    {
     "data": {
      "text/html": [
       "<div>\n",
       "<style scoped>\n",
       "    .dataframe tbody tr th:only-of-type {\n",
       "        vertical-align: middle;\n",
       "    }\n",
       "\n",
       "    .dataframe tbody tr th {\n",
       "        vertical-align: top;\n",
       "    }\n",
       "\n",
       "    .dataframe thead th {\n",
       "        text-align: right;\n",
       "    }\n",
       "</style>\n",
       "<table border=\"1\" class=\"dataframe\">\n",
       "  <thead>\n",
       "    <tr style=\"text-align: right;\">\n",
       "      <th></th>\n",
       "      <th>date</th>\n",
       "      <th>time</th>\n",
       "      <th>test</th>\n",
       "      <th>negative</th>\n",
       "      <th>confirmed</th>\n",
       "      <th>released</th>\n",
       "      <th>deceased</th>\n",
       "    </tr>\n",
       "  </thead>\n",
       "  <tbody>\n",
       "    <tr>\n",
       "      <th>0</th>\n",
       "      <td>2020-01-20</td>\n",
       "      <td>16</td>\n",
       "      <td>1</td>\n",
       "      <td>0</td>\n",
       "      <td>1</td>\n",
       "      <td>0</td>\n",
       "      <td>0</td>\n",
       "    </tr>\n",
       "    <tr>\n",
       "      <th>1</th>\n",
       "      <td>2020-01-21</td>\n",
       "      <td>16</td>\n",
       "      <td>1</td>\n",
       "      <td>0</td>\n",
       "      <td>1</td>\n",
       "      <td>0</td>\n",
       "      <td>0</td>\n",
       "    </tr>\n",
       "    <tr>\n",
       "      <th>2</th>\n",
       "      <td>2020-01-22</td>\n",
       "      <td>16</td>\n",
       "      <td>4</td>\n",
       "      <td>3</td>\n",
       "      <td>1</td>\n",
       "      <td>0</td>\n",
       "      <td>0</td>\n",
       "    </tr>\n",
       "    <tr>\n",
       "      <th>3</th>\n",
       "      <td>2020-01-23</td>\n",
       "      <td>16</td>\n",
       "      <td>22</td>\n",
       "      <td>21</td>\n",
       "      <td>1</td>\n",
       "      <td>0</td>\n",
       "      <td>0</td>\n",
       "    </tr>\n",
       "    <tr>\n",
       "      <th>4</th>\n",
       "      <td>2020-01-24</td>\n",
       "      <td>16</td>\n",
       "      <td>27</td>\n",
       "      <td>25</td>\n",
       "      <td>2</td>\n",
       "      <td>0</td>\n",
       "      <td>0</td>\n",
       "    </tr>\n",
       "  </tbody>\n",
       "</table>\n",
       "</div>"
      ],
      "text/plain": [
       "         date  time  test  negative  confirmed  released  deceased\n",
       "0  2020-01-20    16     1         0          1         0         0\n",
       "1  2020-01-21    16     1         0          1         0         0\n",
       "2  2020-01-22    16     4         3          1         0         0\n",
       "3  2020-01-23    16    22        21          1         0         0\n",
       "4  2020-01-24    16    27        25          2         0         0"
      ]
     },
     "execution_count": 167,
     "metadata": {},
     "output_type": "execute_result"
    }
   ],
   "source": [
    "time.head()"
   ]
  },
  {
   "cell_type": "markdown",
   "metadata": {},
   "source": [
    "### column 설명\n",
    "- date: 날짜\n",
    "- time: 시간\n",
    "- test: 누적 검사 횟수\n",
    "- negative: 누적된 음성자 수\n",
    "- released: 누정된 양성자 수\n",
    "- deceased: 누적된 사망자 수"
   ]
  },
  {
   "cell_type": "code",
   "execution_count": 210,
   "metadata": {},
   "outputs": [
    {
     "name": "stdout",
     "output_type": "stream",
     "text": [
      "<class 'pandas.core.frame.DataFrame'>\n",
      "RangeIndex: 133 entries, 0 to 132\n",
      "Data columns (total 7 columns):\n",
      "date         133 non-null object\n",
      "time         133 non-null int64\n",
      "test         133 non-null int64\n",
      "negative     133 non-null int64\n",
      "confirmed    133 non-null int64\n",
      "released     133 non-null int64\n",
      "deceased     133 non-null int64\n",
      "dtypes: int64(6), object(1)\n",
      "memory usage: 7.4+ KB\n"
     ]
    }
   ],
   "source": [
    "time.info()"
   ]
  },
  {
   "cell_type": "markdown",
   "metadata": {},
   "source": [
    "#### 결측치 확인"
   ]
  },
  {
   "cell_type": "code",
   "execution_count": 169,
   "metadata": {},
   "outputs": [
    {
     "data": {
      "text/plain": [
       "date         0\n",
       "time         0\n",
       "test         0\n",
       "negative     0\n",
       "confirmed    0\n",
       "released     0\n",
       "deceased     0\n",
       "dtype: int64"
      ]
     },
     "execution_count": 169,
     "metadata": {},
     "output_type": "execute_result"
    }
   ],
   "source": [
    "time.isnull().sum()"
   ]
  },
  {
   "cell_type": "markdown",
   "metadata": {},
   "source": [
    "### 감염자 누적치와 사망자 누적치간의 평균 차이가 있는가?\n",
    "- 귀무가설: 감염자 누적치와 사망자 누적치간의 평균 차이가 없다.\n",
    "- 대립가설: 감염자 누적치와 사망자 누적치간의 평균 차이가 있다."
   ]
  },
  {
   "cell_type": "code",
   "execution_count": 176,
   "metadata": {
    "scrolled": true
   },
   "outputs": [],
   "source": [
    "a = time['deceased']\n",
    "b = time['released']"
   ]
  },
  {
   "cell_type": "code",
   "execution_count": 177,
   "metadata": {},
   "outputs": [],
   "source": [
    "from scipy import stats"
   ]
  },
  {
   "cell_type": "code",
   "execution_count": 178,
   "metadata": {},
   "outputs": [],
   "source": [
    "tTestResult = stats.ttest_ind(a,b)"
   ]
  },
  {
   "cell_type": "code",
   "execution_count": 179,
   "metadata": {},
   "outputs": [],
   "source": [
    "tTestResultDiffVar = stats.ttest_ind(a,b,equal_var=False)"
   ]
  },
  {
   "cell_type": "code",
   "execution_count": 181,
   "metadata": {},
   "outputs": [
    {
     "name": "stdout",
     "output_type": "stream",
     "text": [
      "Ttest_indResult(statistic=-11.75553495600972, pvalue=6.11021010854236e-26)\n"
     ]
    }
   ],
   "source": [
    "print(tTestResult)"
   ]
  },
  {
   "cell_type": "markdown",
   "metadata": {},
   "source": [
    "> ## 결론\n",
    "검정 결과 p-value값이 0.05미만이므로 두 집단 코로나 사망자 누적치와 코로나 감염 누적치는 의미 있는 차이가 존재한다."
   ]
  },
  {
   "cell_type": "code",
   "execution_count": null,
   "metadata": {},
   "outputs": [],
   "source": []
  },
  {
   "cell_type": "markdown",
   "metadata": {},
   "source": [
    "# 5. 상관분석 하기\n",
    "- 상관분석은 두 연속혀 변수 사이 상관 관계가 존재하는지를 파악하고 상관관계의 저옫를 확인하는 것이다.\n",
    "\n",
    "\n",
    "### 감염자 누적치와 사망자 누적치간의 상관 분석을 하겠다.\n"
   ]
  },
  {
   "cell_type": "code",
   "execution_count": 171,
   "metadata": {},
   "outputs": [],
   "source": [
    "date_num = []\n",
    "for i in range(len(time[\"date\"])):\n",
    "    string =\" \".join(time[\"date\"][i].split('-')[1:])\n",
    "    if(i%6==0):\n",
    "        date_num.append(string)"
   ]
  },
  {
   "cell_type": "markdown",
   "metadata": {},
   "source": [
    "# 4. 데이터 시각화"
   ]
  },
  {
   "cell_type": "code",
   "execution_count": 186,
   "metadata": {
    "scrolled": false
   },
   "outputs": [
    {
     "data": {
      "image/png": "[encoded data removed]",
      "text/plain": [
       "<Figure size 1080x288 with 1 Axes>"
      ]
     },
     "metadata": {
      "needs_background": "light"
     },
     "output_type": "display_data"
    },
    {
     "data": {
      "image/png": "[encoded data removed]",
      "text/plain": [
       "<Figure size 1080x288 with 1 Axes>"
      ]
     },
     "metadata": {
      "needs_background": "light"
     },
     "output_type": "display_data"
    }
   ],
   "source": [
    "plt.figure(figsize=(15,4))\n",
    "sns.lineplot(x=\"date\",y=\"deceased\",data=time)\n",
    "plt.xticks(np.arange(0,len(time['date']),6),date_num)\n",
    "plt.title(\"코로나 사망자 누적치\")\n",
    "plt.show()\n",
    "\n",
    "plt.figure(figsize=(15,4))\n",
    "sns.lineplot(x=\"date\",y=\"released\",data=time)\n",
    "plt.xticks(np.arange(0,len(time['date']),6),date_num)\n",
    "plt.title(\"코로나 감염 누적치\")\n",
    "plt.show()"
   ]
  },
  {
   "cell_type": "code",
   "execution_count": 200,
   "metadata": {},
   "outputs": [
    {
     "data": {
      "text/plain": [
       "<seaborn.axisgrid.JointGrid at 0x15b5c1ba8>"
      ]
     },
     "execution_count": 200,
     "metadata": {},
     "output_type": "execute_result"
    },
    {
     "data": {
      "image/png": "[encoded data removed]",
      "text/plain": [
       "<Figure size 432x432 with 3 Axes>"
      ]
     },
     "metadata": {
      "needs_background": "light"
     },
     "output_type": "display_data"
    }
   ],
   "source": [
    "sns.jointplot(x=\"released\", y=\"deceased\",data=time,kind=\"reg\")"
   ]
  },
  {
   "cell_type": "code",
   "execution_count": 201,
   "metadata": {},
   "outputs": [],
   "source": [
    "corr = time.corr()"
   ]
  },
  {
   "cell_type": "code",
   "execution_count": 202,
   "metadata": {},
   "outputs": [
    {
     "data": {
      "text/html": [
       "<div>\n",
       "<style scoped>\n",
       "    .dataframe tbody tr th:only-of-type {\n",
       "        vertical-align: middle;\n",
       "    }\n",
       "\n",
       "    .dataframe tbody tr th {\n",
       "        vertical-align: top;\n",
       "    }\n",
       "\n",
       "    .dataframe thead th {\n",
       "        text-align: right;\n",
       "    }\n",
       "</style>\n",
       "<table border=\"1\" class=\"dataframe\">\n",
       "  <thead>\n",
       "    <tr style=\"text-align: right;\">\n",
       "      <th></th>\n",
       "      <th>time</th>\n",
       "      <th>test</th>\n",
       "      <th>negative</th>\n",
       "      <th>confirmed</th>\n",
       "      <th>released</th>\n",
       "      <th>deceased</th>\n",
       "    </tr>\n",
       "  </thead>\n",
       "  <tbody>\n",
       "    <tr>\n",
       "      <th>time</th>\n",
       "      <td>1.000000</td>\n",
       "      <td>-0.804594</td>\n",
       "      <td>-0.793523</td>\n",
       "      <td>-0.953344</td>\n",
       "      <td>-0.715019</td>\n",
       "      <td>-0.796475</td>\n",
       "    </tr>\n",
       "    <tr>\n",
       "      <th>test</th>\n",
       "      <td>-0.804594</td>\n",
       "      <td>1.000000</td>\n",
       "      <td>0.999531</td>\n",
       "      <td>0.922994</td>\n",
       "      <td>0.972763</td>\n",
       "      <td>0.982785</td>\n",
       "    </tr>\n",
       "    <tr>\n",
       "      <th>negative</th>\n",
       "      <td>-0.793523</td>\n",
       "      <td>0.999531</td>\n",
       "      <td>1.000000</td>\n",
       "      <td>0.915619</td>\n",
       "      <td>0.976891</td>\n",
       "      <td>0.984235</td>\n",
       "    </tr>\n",
       "    <tr>\n",
       "      <th>confirmed</th>\n",
       "      <td>-0.953344</td>\n",
       "      <td>0.922994</td>\n",
       "      <td>0.915619</td>\n",
       "      <td>1.000000</td>\n",
       "      <td>0.866692</td>\n",
       "      <td>0.924320</td>\n",
       "    </tr>\n",
       "    <tr>\n",
       "      <th>released</th>\n",
       "      <td>-0.715019</td>\n",
       "      <td>0.972763</td>\n",
       "      <td>0.976891</td>\n",
       "      <td>0.866692</td>\n",
       "      <td>1.000000</td>\n",
       "      <td>0.990298</td>\n",
       "    </tr>\n",
       "    <tr>\n",
       "      <th>deceased</th>\n",
       "      <td>-0.796475</td>\n",
       "      <td>0.982785</td>\n",
       "      <td>0.984235</td>\n",
       "      <td>0.924320</td>\n",
       "      <td>0.990298</td>\n",
       "      <td>1.000000</td>\n",
       "    </tr>\n",
       "  </tbody>\n",
       "</table>\n",
       "</div>"
      ],
      "text/plain": [
       "               time      test  negative  confirmed  released  deceased\n",
       "time       1.000000 -0.804594 -0.793523  -0.953344 -0.715019 -0.796475\n",
       "test      -0.804594  1.000000  0.999531   0.922994  0.972763  0.982785\n",
       "negative  -0.793523  0.999531  1.000000   0.915619  0.976891  0.984235\n",
       "confirmed -0.953344  0.922994  0.915619   1.000000  0.866692  0.924320\n",
       "released  -0.715019  0.972763  0.976891   0.866692  1.000000  0.990298\n",
       "deceased  -0.796475  0.982785  0.984235   0.924320  0.990298  1.000000"
      ]
     },
     "execution_count": 202,
     "metadata": {},
     "output_type": "execute_result"
    }
   ],
   "source": [
    "corr"
   ]
  },
  {
   "cell_type": "code",
   "execution_count": 209,
   "metadata": {},
   "outputs": [
    {
     "data": {
      "text/plain": [
       "<matplotlib.axes._subplots.AxesSubplot at 0x160456e10>"
      ]
     },
     "execution_count": 209,
     "metadata": {},
     "output_type": "execute_result"
    },
    {
     "data": {
      "image/png": "[encoded data removed]",
      "text/plain": [
       "<Figure size 432x288 with 2 Axes>"
      ]
     },
     "metadata": {
      "needs_background": "light"
     },
     "output_type": "display_data"
    }
   ],
   "source": [
    "sns.heatmap(data=corr,annot=True,fmt='.2f',linewidths=0.5,cmap=\"viridis\")"
   ]
  },
  {
   "cell_type": "markdown",
   "metadata": {},
   "source": [
    "> ## 그래프 분석\n",
    "첫번째 두 라인 그래프를 보면 코로나 감염 누적치의 증가률이 사망자 증가률가 비슷한것을 알수 있다. 두번쨰 joinplot를 보면 released의 값이 커질수록 deceased의 값이 커지는 것을 알수 있고 분포도 동일하다는 것을 알수 있다. 하지막으로 hitmap 그래프를 봤을 시 released와 deceased의 상관계수가 99%이기에 사망자 누적치와 코로나 감염 누적치의 강관관계가 존재한다는 것을 알 수 있다."
   ]
  },
  {
   "cell_type": "code",
   "execution_count": null,
   "metadata": {},
   "outputs": [],
   "source": []
  },
  {
   "cell_type": "code",
   "execution_count": null,
   "metadata": {},
   "outputs": [],
   "source": []
  },
  {
   "cell_type": "code",
   "execution_count": null,
   "metadata": {},
   "outputs": [],
   "source": []
  },
  {
   "cell_type": "markdown",
   "metadata": {},
   "source": [
    "# 6. 차별화 포인트\n",
    "\n",
    "## 온도및 습도에 따른 코로나 감염자 수 분석하기\n",
    "뉴스, 블로그 그리고 논문등에서 보면 코로나는 온도및 습도에 따라 감염자 수가 들어난다고 한다. 코로나는 온도가 5도에서 10도에서 잘 번식을 잘 하고 습도가 47~79%에서 잘 번식한다고 한다. 이 주장이 우리나라에도 적용이 되는지 궁금하여 온도및 습도에 따른 코로나 감염자 수를 분석하겠다.  \n",
    "- 참조: https://blog.naver.com/pp3907/221857385604"
   ]
  },
  {
   "cell_type": "markdown",
   "metadata": {},
   "source": [
    "### 데이터 불러오기"
   ]
  },
  {
   "cell_type": "code",
   "execution_count": 223,
   "metadata": {},
   "outputs": [],
   "source": [
    "data1 = pd.read_csv(\"./coronavirusdataset/Weather.csv\")\n",
    "\n",
    "data2 = pd.read_csv(\"./coronavirusdataset/TimeProvince.csv\")"
   ]
  },
  {
   "cell_type": "markdown",
   "metadata": {},
   "source": [
    "### 데이터 백업하기"
   ]
  },
  {
   "cell_type": "code",
   "execution_count": 224,
   "metadata": {},
   "outputs": [],
   "source": [
    "weather = data1.copy()\n",
    "file_path = './coronavirusdataset/Weather_backup.csv'\n",
    "\n",
    "data1.to_csv(file_path)\n",
    "\n",
    "time_province = data2.copy()\n",
    "file_path = './coronavirusdataset/TimeProvince_backup.csv'\n",
    "\n",
    "data2.to_csv(file_path)"
   ]
  },
  {
   "cell_type": "markdown",
   "metadata": {},
   "source": [
    "### column 분석\n",
    "- date: 날짜\n",
    "- time: 시간\n",
    "- province: 감염자 사는 곳\n",
    "- negative: 누적된 음성자 수\n",
    "- released: 누정된 양성자 수\n",
    "- deceased: 누적된 사망자 수"
   ]
  },
  {
   "cell_type": "code",
   "execution_count": 118,
   "metadata": {},
   "outputs": [
    {
     "name": "stdout",
     "output_type": "stream",
     "text": [
      "<class 'pandas.core.frame.DataFrame'>\n",
      "RangeIndex: 2261 entries, 0 to 2260\n",
      "Data columns (total 6 columns):\n",
      "date         2261 non-null object\n",
      "time         2261 non-null int64\n",
      "province     2261 non-null object\n",
      "confirmed    2261 non-null int64\n",
      "released     2261 non-null int64\n",
      "deceased     2261 non-null int64\n",
      "dtypes: int64(4), object(2)\n",
      "memory usage: 106.1+ KB\n"
     ]
    }
   ],
   "source": [
    "time_province.info()"
   ]
  },
  {
   "cell_type": "code",
   "execution_count": null,
   "metadata": {},
   "outputs": [],
   "source": []
  },
  {
   "cell_type": "markdown",
   "metadata": {},
   "source": [
    "- code: 지역의 코드\n",
    "- province: 감염자 사는 곳\n",
    "- date: 날짜\n",
    "- avg_temp: 평균 온도\n",
    "- min_temp: 최저 온도\n",
    "- max_temp: 최고 온도\n",
    "- precipitation: 일 강수량\n",
    "- max_wind_speed: 최대 풍속\n",
    "- most_wind_direction: 가장 빈번한 풍향\n",
    "- avg_relative_humidity: 평균 상대습도"
   ]
  },
  {
   "cell_type": "code",
   "execution_count": 212,
   "metadata": {},
   "outputs": [
    {
     "name": "stdout",
     "output_type": "stream",
     "text": [
      "<class 'pandas.core.frame.DataFrame'>\n",
      "RangeIndex: 25807 entries, 0 to 25806\n",
      "Data columns (total 10 columns):\n",
      "code                     25807 non-null int64\n",
      "province                 25807 non-null object\n",
      "date                     25807 non-null object\n",
      "avg_temp                 25792 non-null float64\n",
      "min_temp                 25802 non-null float64\n",
      "max_temp                 25804 non-null float64\n",
      "precipitation            25807 non-null float64\n",
      "max_wind_speed           25798 non-null float64\n",
      "most_wind_direction      25778 non-null float64\n",
      "avg_relative_humidity    25787 non-null float64\n",
      "dtypes: float64(7), int64(1), object(2)\n",
      "memory usage: 2.0+ MB\n"
     ]
    }
   ],
   "source": [
    "weather.info()"
   ]
  },
  {
   "cell_type": "markdown",
   "metadata": {},
   "source": [
    "###  결측치 확인"
   ]
  },
  {
   "cell_type": "code",
   "execution_count": 214,
   "metadata": {},
   "outputs": [
    {
     "data": {
      "text/plain": [
       "date         0\n",
       "time         0\n",
       "province     0\n",
       "confirmed    0\n",
       "released     0\n",
       "deceased     0\n",
       "dtype: int64"
      ]
     },
     "execution_count": 214,
     "metadata": {},
     "output_type": "execute_result"
    }
   ],
   "source": [
    "time_province.isnull().sum()"
   ]
  },
  {
   "cell_type": "code",
   "execution_count": 213,
   "metadata": {},
   "outputs": [
    {
     "data": {
      "text/plain": [
       "code                      0\n",
       "province                  0\n",
       "date                      0\n",
       "avg_temp                 15\n",
       "min_temp                  5\n",
       "max_temp                  3\n",
       "precipitation             0\n",
       "max_wind_speed            9\n",
       "most_wind_direction      29\n",
       "avg_relative_humidity    20\n",
       "dtype: int64"
      ]
     },
     "execution_count": 213,
     "metadata": {},
     "output_type": "execute_result"
    }
   ],
   "source": [
    "weather.isnull().sum()"
   ]
  },
  {
   "cell_type": "markdown",
   "metadata": {},
   "source": [
    "#### 위의 결측치가 있는만 두 데이터를 병합한 다음에 결측치를 처리하겠다."
   ]
  },
  {
   "cell_type": "markdown",
   "metadata": {},
   "source": [
    "### 데이터 병합하기\n",
    "- weather에는 시간에 따른 날씨에 대한 정보가 time_province 시간에 따른 코로나 정보가 들어 있다. \n",
    "- 따라서 date와, 지방을 기준으로 두 데이터를 병합 해주겠다."
   ]
  },
  {
   "cell_type": "code",
   "execution_count": 120,
   "metadata": {},
   "outputs": [],
   "source": [
    "time_weather = pd.merge(left=weather,right=time_province,on=[\"date\",\"province\"],how=\"inner\")"
   ]
  },
  {
   "cell_type": "code",
   "execution_count": 121,
   "metadata": {},
   "outputs": [
    {
     "data": {
      "text/html": [
       "<div>\n",
       "<style scoped>\n",
       "    .dataframe tbody tr th:only-of-type {\n",
       "        vertical-align: middle;\n",
       "    }\n",
       "\n",
       "    .dataframe tbody tr th {\n",
       "        vertical-align: top;\n",
       "    }\n",
       "\n",
       "    .dataframe thead th {\n",
       "        text-align: right;\n",
       "    }\n",
       "</style>\n",
       "<table border=\"1\" class=\"dataframe\">\n",
       "  <thead>\n",
       "    <tr style=\"text-align: right;\">\n",
       "      <th></th>\n",
       "      <th>code</th>\n",
       "      <th>province</th>\n",
       "      <th>date</th>\n",
       "      <th>avg_temp</th>\n",
       "      <th>min_temp</th>\n",
       "      <th>max_temp</th>\n",
       "      <th>precipitation</th>\n",
       "      <th>max_wind_speed</th>\n",
       "      <th>most_wind_direction</th>\n",
       "      <th>avg_relative_humidity</th>\n",
       "      <th>time</th>\n",
       "      <th>confirmed</th>\n",
       "      <th>released</th>\n",
       "      <th>deceased</th>\n",
       "    </tr>\n",
       "  </thead>\n",
       "  <tbody>\n",
       "    <tr>\n",
       "      <th>0</th>\n",
       "      <td>10000</td>\n",
       "      <td>Seoul</td>\n",
       "      <td>2020-01-20</td>\n",
       "      <td>0.7</td>\n",
       "      <td>-3.3</td>\n",
       "      <td>5.5</td>\n",
       "      <td>0.0</td>\n",
       "      <td>5.7</td>\n",
       "      <td>270.0</td>\n",
       "      <td>46.8</td>\n",
       "      <td>16</td>\n",
       "      <td>0</td>\n",
       "      <td>0</td>\n",
       "      <td>0</td>\n",
       "    </tr>\n",
       "    <tr>\n",
       "      <th>1</th>\n",
       "      <td>11000</td>\n",
       "      <td>Busan</td>\n",
       "      <td>2020-01-20</td>\n",
       "      <td>5.1</td>\n",
       "      <td>1.6</td>\n",
       "      <td>9.8</td>\n",
       "      <td>0.0</td>\n",
       "      <td>6.1</td>\n",
       "      <td>270.0</td>\n",
       "      <td>45.6</td>\n",
       "      <td>16</td>\n",
       "      <td>0</td>\n",
       "      <td>0</td>\n",
       "      <td>0</td>\n",
       "    </tr>\n",
       "    <tr>\n",
       "      <th>2</th>\n",
       "      <td>12000</td>\n",
       "      <td>Daegu</td>\n",
       "      <td>2020-01-20</td>\n",
       "      <td>4.6</td>\n",
       "      <td>2.4</td>\n",
       "      <td>8.1</td>\n",
       "      <td>0.0</td>\n",
       "      <td>6.4</td>\n",
       "      <td>290.0</td>\n",
       "      <td>44.1</td>\n",
       "      <td>16</td>\n",
       "      <td>0</td>\n",
       "      <td>0</td>\n",
       "      <td>0</td>\n",
       "    </tr>\n",
       "    <tr>\n",
       "      <th>3</th>\n",
       "      <td>13000</td>\n",
       "      <td>Gwangju</td>\n",
       "      <td>2020-01-20</td>\n",
       "      <td>4.0</td>\n",
       "      <td>1.2</td>\n",
       "      <td>7.9</td>\n",
       "      <td>0.0</td>\n",
       "      <td>3.3</td>\n",
       "      <td>270.0</td>\n",
       "      <td>63.1</td>\n",
       "      <td>16</td>\n",
       "      <td>0</td>\n",
       "      <td>0</td>\n",
       "      <td>0</td>\n",
       "    </tr>\n",
       "    <tr>\n",
       "      <th>4</th>\n",
       "      <td>14000</td>\n",
       "      <td>Incheon</td>\n",
       "      <td>2020-01-20</td>\n",
       "      <td>1.2</td>\n",
       "      <td>-2.1</td>\n",
       "      <td>5.1</td>\n",
       "      <td>0.0</td>\n",
       "      <td>8.6</td>\n",
       "      <td>320.0</td>\n",
       "      <td>56.0</td>\n",
       "      <td>16</td>\n",
       "      <td>1</td>\n",
       "      <td>0</td>\n",
       "      <td>0</td>\n",
       "    </tr>\n",
       "  </tbody>\n",
       "</table>\n",
       "</div>"
      ],
      "text/plain": [
       "    code province        date  avg_temp  min_temp  max_temp  precipitation  \\\n",
       "0  10000    Seoul  2020-01-20       0.7      -3.3       5.5            0.0   \n",
       "1  11000    Busan  2020-01-20       5.1       1.6       9.8            0.0   \n",
       "2  12000    Daegu  2020-01-20       4.6       2.4       8.1            0.0   \n",
       "3  13000  Gwangju  2020-01-20       4.0       1.2       7.9            0.0   \n",
       "4  14000  Incheon  2020-01-20       1.2      -2.1       5.1            0.0   \n",
       "\n",
       "   max_wind_speed  most_wind_direction  avg_relative_humidity  time  \\\n",
       "0             5.7                270.0                   46.8    16   \n",
       "1             6.1                270.0                   45.6    16   \n",
       "2             6.4                290.0                   44.1    16   \n",
       "3             3.3                270.0                   63.1    16   \n",
       "4             8.6                320.0                   56.0    16   \n",
       "\n",
       "   confirmed  released  deceased  \n",
       "0          0         0         0  \n",
       "1          0         0         0  \n",
       "2          0         0         0  \n",
       "3          0         0         0  \n",
       "4          1         0         0  "
      ]
     },
     "execution_count": 121,
     "metadata": {},
     "output_type": "execute_result"
    }
   ],
   "source": [
    "time_weather.head()"
   ]
  },
  {
   "cell_type": "code",
   "execution_count": 122,
   "metadata": {},
   "outputs": [
    {
     "data": {
      "text/plain": [
       "code                     0\n",
       "province                 0\n",
       "date                     0\n",
       "avg_temp                 0\n",
       "min_temp                 0\n",
       "max_temp                 0\n",
       "precipitation            0\n",
       "max_wind_speed           0\n",
       "most_wind_direction      1\n",
       "avg_relative_humidity    0\n",
       "time                     0\n",
       "confirmed                0\n",
       "released                 0\n",
       "deceased                 0\n",
       "dtype: int64"
      ]
     },
     "execution_count": 122,
     "metadata": {},
     "output_type": "execute_result"
    }
   ],
   "source": [
    "time_weather.isnull().sum()"
   ]
  },
  {
   "cell_type": "markdown",
   "metadata": {},
   "source": [
    "### 결측치 제거"
   ]
  },
  {
   "cell_type": "markdown",
   "metadata": {},
   "source": [
    "most_wind_direction은 사용하지 않을 변수 이므로 없애준다."
   ]
  },
  {
   "cell_type": "code",
   "execution_count": 123,
   "metadata": {},
   "outputs": [],
   "source": [
    "del time_weather['most_wind_direction']"
   ]
  },
  {
   "cell_type": "code",
   "execution_count": 124,
   "metadata": {},
   "outputs": [
    {
     "data": {
      "text/plain": [
       "code                     0\n",
       "province                 0\n",
       "date                     0\n",
       "avg_temp                 0\n",
       "min_temp                 0\n",
       "max_temp                 0\n",
       "precipitation            0\n",
       "max_wind_speed           0\n",
       "avg_relative_humidity    0\n",
       "time                     0\n",
       "confirmed                0\n",
       "released                 0\n",
       "deceased                 0\n",
       "dtype: int64"
      ]
     },
     "execution_count": 124,
     "metadata": {},
     "output_type": "execute_result"
    }
   ],
   "source": [
    "time_weather.isnull().sum()"
   ]
  },
  {
   "cell_type": "markdown",
   "metadata": {},
   "source": [
    "- 대구가 다른 지역보다 감염 비율이 높으므로, 각 지역에 따른 감염자수와 대구와 대구이 아닌 모든 지역에 따른 감염자수를 따로 구하겠다.\n",
    "- 현재 데이터는 감염자가 누적된 값만 가지고 있어 하루 감염자 수에 대한 값은 가지고 있지 않다. 따라서 다음날에서 현재날을 뺴주어 하루 감염자 수를 구하고 그 데이터를 time_weather에 추가 해주겠다."
   ]
  },
  {
   "cell_type": "markdown",
   "metadata": {},
   "source": [
    "### 현재 데이터는 각 지방에 따른 감염자 누적치가 들어있다. 하지만 섭씨온도또는 상대습도에 따른 감염자수를 분석하기 위해서는 누적치가 아닌 매일 몇명이 걸리는 지를 알아야 한다. 따라서 각 지역에 따라 해당 일 누적치에 그 전 누적치를 빼주어 매일 감염자 수를 구해  각 해당 지역의 DataFrame에 time_weather_confiremd_gradient라는 column를 새로 추가하여 그 DataFrame를 time_weather_dict 딕셔너리에 각각 넣어 주겠다."
   ]
  },
  {
   "cell_type": "code",
   "execution_count": 126,
   "metadata": {},
   "outputs": [],
   "source": [
    "time_weather_dict = {}\n",
    "province_name = np.unique(time_weather[\"province\"])\n",
    "time_weather_gradient = []\n",
    "for i in range(len(province_name)):\n",
    "    sub_time_weather = time_weather[time_weather[\"province\"]==province_name[i]]\n",
    "    sub_time_weather_confiremd_gradient_list = []\n",
    "    for j in range(len(sub_time_weather['confirmed'])-1):\n",
    "        sub_time_weather_confiremd_gradient_list.append(\n",
    "            sub_time_weather['confirmed'].iloc[j+1]-sub_time_weather['confirmed'].iloc[j])\n",
    "    sub_time_weather_confiremd_gradient_list.insert(0,0) # 맨 처음 날짜 감염자 수는 0으로 하겠다.\n",
    "    sub_time_weather[\"time_weather_confiremd_gradient\"] = sub_time_weather_confiremd_gradient_list\n",
    "    time_weather_gradient.append(sub_time_weather[\"time_weather_confiremd_gradient\"])\n",
    "    time_weather_dict[province_name[i]]=sub_time_weather"
   ]
  },
  {
   "cell_type": "code",
   "execution_count": null,
   "metadata": {},
   "outputs": [],
   "source": []
  },
  {
   "cell_type": "markdown",
   "metadata": {},
   "source": [
    "# 4. 데이터 시각화"
   ]
  },
  {
   "cell_type": "markdown",
   "metadata": {},
   "source": [
    "### 각 지역 평균 온도에 따른 각 지역의 감염자 수\n",
    "- 섭씨온도는 연속형인데 그래프를 보기 쉽게 만들기 위해서 섭씨온도를 범주형을 만들어 주어 섭씨온도 대비 감염자수를 그래프로 그리겠다."
   ]
  },
  {
   "cell_type": "code",
   "execution_count": 131,
   "metadata": {},
   "outputs": [
    {
     "data": {
      "image/png": "[encoded data removed]",
      "text/plain": [
       "<Figure size 1080x1080 with 16 Axes>"
      ]
     },
     "metadata": {
      "needs_background": "light"
     },
     "output_type": "display_data"
    }
   ],
   "source": [
    "fig = plt.figure(figsize=[10,6])\n",
    "fig.set_figheight(15)\n",
    "fig.set_figwidth(15)\n",
    "for i in range(0,len(province_name)):\n",
    "    a = fig.add_subplot(4, 4, i+1)\n",
    "    g = pd.cut(time_weather_dict[province_name[i]][\"avg_temp\"],15)\n",
    "    df = time_weather_dict[province_name[i]].groupby(g)\n",
    "    df = df.mean()\n",
    "    plt.plot(df['avg_temp'].values,df['time_weather_confiremd_gradient'].values)\n",
    "    plt.title(province_name[i])"
   ]
  },
  {
   "cell_type": "markdown",
   "metadata": {},
   "source": [
    "### 각 지역 상대습도에 따른 각 지역의 감염자 수\n",
    "- 섭씨온도와 마찬가지로 상대습도도 연속형이라 그래프를 보기 쉽게 만들기 위해서 상대습도를 범주형을 만들어 주어 상대습도 대비 감염자수를 그래프로 그리겠다."
   ]
  },
  {
   "cell_type": "code",
   "execution_count": 128,
   "metadata": {},
   "outputs": [
    {
     "data": {
      "image/png": "[encoded data removed]",
      "text/plain": [
       "<Figure size 1080x1080 with 16 Axes>"
      ]
     },
     "metadata": {
      "needs_background": "light"
     },
     "output_type": "display_data"
    }
   ],
   "source": [
    "fig = plt.figure(figsize=[10,6])\n",
    "fig.set_figheight(15)\n",
    "fig.set_figwidth(15)\n",
    "for i in range(0,len(province_name)):\n",
    "    a = fig.add_subplot(4, 4, i+1)\n",
    "    g = pd.cut(time_weather_dict[province_name[i]][\"avg_relative_humidity\"],15)\n",
    "    df = time_weather_dict[province_name[i]].groupby(g)\n",
    "    df = df.mean()\n",
    "    plt.plot(df['avg_relative_humidity'].values,df['time_weather_confiremd_gradient'].values)\n",
    "    plt.title(province_name[i])"
   ]
  },
  {
   "cell_type": "markdown",
   "metadata": {},
   "source": [
    "### 온도및 습도에 따라 각 지역을 분석하여 위의 주제를 알아내는 것은 다소 어려운 것 같다. 따라서 각 지역을 평균으로 하나로 묶어 분석하겠다."
   ]
  },
  {
   "cell_type": "code",
   "execution_count": 132,
   "metadata": {},
   "outputs": [
    {
     "data": {
      "text/html": [
       "<div>\n",
       "<style scoped>\n",
       "    .dataframe tbody tr th:only-of-type {\n",
       "        vertical-align: middle;\n",
       "    }\n",
       "\n",
       "    .dataframe tbody tr th {\n",
       "        vertical-align: top;\n",
       "    }\n",
       "\n",
       "    .dataframe thead th {\n",
       "        text-align: right;\n",
       "    }\n",
       "</style>\n",
       "<table border=\"1\" class=\"dataframe\">\n",
       "  <thead>\n",
       "    <tr style=\"text-align: right;\">\n",
       "      <th></th>\n",
       "      <th>code</th>\n",
       "      <th>province</th>\n",
       "      <th>date</th>\n",
       "      <th>avg_temp</th>\n",
       "      <th>min_temp</th>\n",
       "      <th>max_temp</th>\n",
       "      <th>precipitation</th>\n",
       "      <th>max_wind_speed</th>\n",
       "      <th>avg_relative_humidity</th>\n",
       "      <th>time</th>\n",
       "      <th>confirmed</th>\n",
       "      <th>released</th>\n",
       "      <th>deceased</th>\n",
       "      <th>time_weather_confiremd_gradient</th>\n",
       "    </tr>\n",
       "  </thead>\n",
       "  <tbody>\n",
       "    <tr>\n",
       "      <th>0</th>\n",
       "      <td>10000</td>\n",
       "      <td>Seoul</td>\n",
       "      <td>2020-01-20</td>\n",
       "      <td>0.7</td>\n",
       "      <td>-3.3</td>\n",
       "      <td>5.5</td>\n",
       "      <td>0.0</td>\n",
       "      <td>5.7</td>\n",
       "      <td>46.8</td>\n",
       "      <td>16</td>\n",
       "      <td>0</td>\n",
       "      <td>0</td>\n",
       "      <td>0</td>\n",
       "      <td>0</td>\n",
       "    </tr>\n",
       "    <tr>\n",
       "      <th>1</th>\n",
       "      <td>11000</td>\n",
       "      <td>Busan</td>\n",
       "      <td>2020-01-20</td>\n",
       "      <td>5.1</td>\n",
       "      <td>1.6</td>\n",
       "      <td>9.8</td>\n",
       "      <td>0.0</td>\n",
       "      <td>6.1</td>\n",
       "      <td>45.6</td>\n",
       "      <td>16</td>\n",
       "      <td>0</td>\n",
       "      <td>0</td>\n",
       "      <td>0</td>\n",
       "      <td>0</td>\n",
       "    </tr>\n",
       "    <tr>\n",
       "      <th>2</th>\n",
       "      <td>12000</td>\n",
       "      <td>Daegu</td>\n",
       "      <td>2020-01-20</td>\n",
       "      <td>4.6</td>\n",
       "      <td>2.4</td>\n",
       "      <td>8.1</td>\n",
       "      <td>0.0</td>\n",
       "      <td>6.4</td>\n",
       "      <td>44.1</td>\n",
       "      <td>16</td>\n",
       "      <td>0</td>\n",
       "      <td>0</td>\n",
       "      <td>0</td>\n",
       "      <td>0</td>\n",
       "    </tr>\n",
       "    <tr>\n",
       "      <th>3</th>\n",
       "      <td>13000</td>\n",
       "      <td>Gwangju</td>\n",
       "      <td>2020-01-20</td>\n",
       "      <td>4.0</td>\n",
       "      <td>1.2</td>\n",
       "      <td>7.9</td>\n",
       "      <td>0.0</td>\n",
       "      <td>3.3</td>\n",
       "      <td>63.1</td>\n",
       "      <td>16</td>\n",
       "      <td>0</td>\n",
       "      <td>0</td>\n",
       "      <td>0</td>\n",
       "      <td>0</td>\n",
       "    </tr>\n",
       "    <tr>\n",
       "      <th>4</th>\n",
       "      <td>14000</td>\n",
       "      <td>Incheon</td>\n",
       "      <td>2020-01-20</td>\n",
       "      <td>1.2</td>\n",
       "      <td>-2.1</td>\n",
       "      <td>5.1</td>\n",
       "      <td>0.0</td>\n",
       "      <td>8.6</td>\n",
       "      <td>56.0</td>\n",
       "      <td>16</td>\n",
       "      <td>1</td>\n",
       "      <td>0</td>\n",
       "      <td>0</td>\n",
       "      <td>0</td>\n",
       "    </tr>\n",
       "  </tbody>\n",
       "</table>\n",
       "</div>"
      ],
      "text/plain": [
       "    code province        date  avg_temp  min_temp  max_temp  precipitation  \\\n",
       "0  10000    Seoul  2020-01-20       0.7      -3.3       5.5            0.0   \n",
       "1  11000    Busan  2020-01-20       5.1       1.6       9.8            0.0   \n",
       "2  12000    Daegu  2020-01-20       4.6       2.4       8.1            0.0   \n",
       "3  13000  Gwangju  2020-01-20       4.0       1.2       7.9            0.0   \n",
       "4  14000  Incheon  2020-01-20       1.2      -2.1       5.1            0.0   \n",
       "\n",
       "   max_wind_speed  avg_relative_humidity  time  confirmed  released  deceased  \\\n",
       "0             5.7                   46.8    16          0         0         0   \n",
       "1             6.1                   45.6    16          0         0         0   \n",
       "2             6.4                   44.1    16          0         0         0   \n",
       "3             3.3                   63.1    16          0         0         0   \n",
       "4             8.6                   56.0    16          1         0         0   \n",
       "\n",
       "   time_weather_confiremd_gradient  \n",
       "0                                0  \n",
       "1                                0  \n",
       "2                                0  \n",
       "3                                0  \n",
       "4                                0  "
      ]
     },
     "execution_count": 132,
     "metadata": {},
     "output_type": "execute_result"
    }
   ],
   "source": [
    "time_weather['time_weather_confiremd_gradient'] = (pd.concat(time_weather_gradient))\n",
    "time_weather.head()"
   ]
  },
  {
   "cell_type": "markdown",
   "metadata": {},
   "source": [
    "### 대구는 다른 다른 지역 보다 단기간에 감염수가 많이 늘어난 케이스로 다른 지역과 구분하여 온도및 습도에 따른 감염자 수를 파악 하겠다."
   ]
  },
  {
   "cell_type": "code",
   "execution_count": 133,
   "metadata": {},
   "outputs": [],
   "source": [
    "temp_not_daegu = time_weather[time_weather[\"province\"]!='Daegu']['avg_temp']#대구를 제외한 지역에 대한 온도\n",
    "\n",
    "temp_not_daegu = time_weather[time_weather[\"province\"]!='Daegu'].groupby(pd.cut(temp_not_daegu,15)).mean()"
   ]
  },
  {
   "cell_type": "code",
   "execution_count": 134,
   "metadata": {},
   "outputs": [],
   "source": [
    "temp_daegu = time_weather[time_weather[\"province\"]=='Daegu']['avg_temp']#대구를 제외한 지역에 대한 온도\n",
    "\n",
    "temp_daegu = time_weather[time_weather[\"province\"]=='Daegu'].groupby(pd.cut(temp_daegu,15)).mean()"
   ]
  },
  {
   "cell_type": "markdown",
   "metadata": {},
   "source": [
    "### 온도에 따른 감염자 수 그래프"
   ]
  },
  {
   "cell_type": "code",
   "execution_count": 141,
   "metadata": {},
   "outputs": [
    {
     "data": {
      "text/plain": [
       "Text(0.5, 1.0, '대구가 아닌 모든 지역의 온도에 따른 감염자수')"
      ]
     },
     "execution_count": 141,
     "metadata": {},
     "output_type": "execute_result"
    },
    {
     "data": {
      "image/png": "[encoded data removed]",
      "text/plain": [
       "<Figure size 720x360 with 2 Axes>"
      ]
     },
     "metadata": {
      "needs_background": "light"
     },
     "output_type": "display_data"
    }
   ],
   "source": [
    "plt.figure(figsize=(10,5))\n",
    "plt.subplot(1,2,1)\n",
    "plt.plot(temp_daegu['avg_temp'].values,temp_daegu['time_weather_confiremd_gradient'].values)\n",
    "plt.title(\"대구의 온도에 따른 감염자수\")\n",
    "\n",
    "plt.subplot(1,2,2)\n",
    "plt.plot(temp_not_daegu['avg_temp'].values,temp_not_daegu['time_weather_confiremd_gradient'].values)\n",
    "plt.title(\"대구가 아닌 모든 지역의 온도에 따른 감염자수\")"
   ]
  },
  {
   "cell_type": "code",
   "execution_count": 139,
   "metadata": {},
   "outputs": [],
   "source": [
    "humidity_not_daegu = time_weather[time_weather[\"province\"]!='Daegu']['avg_relative_humidity']\n",
    "\n",
    "humidity_not_daegu = time_weather[time_weather[\"province\"]!='Daegu'].groupby(pd.cut(humidity_not_daegu,15)).mean()"
   ]
  },
  {
   "cell_type": "code",
   "execution_count": 140,
   "metadata": {},
   "outputs": [],
   "source": [
    "humidity_daegu = time_weather[time_weather[\"province\"]=='Daegu']['avg_relative_humidity']\n",
    "\n",
    "humidity_daegu = time_weather[time_weather[\"province\"]=='Daegu'].groupby(pd.cut(humidity_daegu,15)).mean()"
   ]
  },
  {
   "cell_type": "markdown",
   "metadata": {},
   "source": [
    "### 상대 습도에 따른 감염자 수 그래프"
   ]
  },
  {
   "cell_type": "code",
   "execution_count": 143,
   "metadata": {
    "scrolled": true
   },
   "outputs": [
    {
     "data": {
      "image/png": "[encoded data removed]",
      "text/plain": [
       "<Figure size 720x360 with 2 Axes>"
      ]
     },
     "metadata": {
      "needs_background": "light"
     },
     "output_type": "display_data"
    }
   ],
   "source": [
    "plt.figure(figsize=(10,5))\n",
    "plt.subplot(1,2,1)\n",
    "plt.plot(humidity_daegu['avg_relative_humidity'].values,humidity_daegu['time_weather_confiremd_gradient'].values)\n",
    "plt.title(\"대구의 상대습도에 따른 감염자수\")\n",
    "\n",
    "plt.subplot(1,2,2)\n",
    "plt.plot(humidity_not_daegu['avg_relative_humidity'].values,humidity_not_daegu['time_weather_confiremd_gradient'].values)\n",
    "plt.title(\"대구가 아닌 모든 지역의 상대습도에 따른 감염자수\")\n",
    "\n",
    "plt.show()"
   ]
  },
  {
   "cell_type": "markdown",
   "metadata": {},
   "source": [
    ">  ## 섭씨온도 또는 상대습도에 따른 코로나 감염 그래프 분석\n",
    "- 온도에 따른 감염자수 그래프를 보면 확실히 5도에서 10도사이에서 감염자 수가 많이 나오는 거 같다. \n",
    "- 상대습도에 따른 감염자수 그래프를 보면 대구의 겨우 70%에서 90%에서 많이 나오지만 대체로 골고루 나오는 것 같다.\n",
    "- 따라서 상대습도는 제외하고 온도에 따라 감염자 수를 분석하여 코로나 감염수를 예측하는 것이 좋을 거 같다."
   ]
  }
 ],
 "metadata": {
  "kernelspec": {
   "display_name": "Python 3",
   "language": "python",
   "name": "python3"
  },
  "language_info": {
   "codemirror_mode": {
    "name": "ipython",
    "version": 3
   },
   "file_extension": ".py",
   "mimetype": "text/x-python",
   "name": "python",
   "nbconvert_exporter": "python",
   "pygments_lexer": "ipython3",
   "version": "3.7.3"
  }
 },
 "nbformat": 4,
 "nbformat_minor": 2
}

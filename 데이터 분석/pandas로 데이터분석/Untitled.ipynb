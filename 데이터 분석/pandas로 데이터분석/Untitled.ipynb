{
 "cells": [
  {
   "cell_type": "code",
   "execution_count": 112,
   "metadata": {},
   "outputs": [],
   "source": [
    "import pandas as pd\n",
    "import matplotlib.pyplot as plt\n",
    "import seaborn as sns\n",
    "import numpy as np\n",
    "\n",
    "\n",
    "import sqlite3 as sql"
   ]
  },
  {
   "cell_type": "code",
   "execution_count": 103,
   "metadata": {},
   "outputs": [],
   "source": [
    "plt.rc('font',family=\"AppleGothic\")# 맥\n",
    "plt.rcParams['axes.unicode_minus'] = False"
   ]
  },
  {
   "cell_type": "markdown",
   "metadata": {},
   "source": [
    "### 화재통계 테이블의 애트리뷰트 이름 가져오기"
   ]
  },
  {
   "cell_type": "code",
   "execution_count": 89,
   "metadata": {},
   "outputs": [],
   "source": [
    "conn = sql.connect('./data_analysis.db',isolation_level=None)\n",
    "\n",
    "conn.row_factory = sql.Row\n",
    "\n",
    "c = conn.cursor()\n",
    "\n",
    "c.execute('SELECT * FROM 화재통계')\n",
    "\n",
    "r = c.fetchone()\n",
    "\n",
    "key = r.keys()"
   ]
  },
  {
   "cell_type": "markdown",
   "metadata": {},
   "source": [
    "### 화재통계 테이블의 데이터 가져오기"
   ]
  },
  {
   "cell_type": "code",
   "execution_count": 90,
   "metadata": {},
   "outputs": [],
   "source": [
    "c = conn.cursor()\n",
    "\n",
    "c.execute(\"SELECT * FROM 화재통계\")\n",
    "\n",
    "rows = c.fetchall()\n",
    "\n",
    "data = pd.DataFrame(data=rows,columns=r.keys())"
   ]
  },
  {
   "cell_type": "markdown",
   "metadata": {},
   "source": [
    "### DB 연결(세션) 종료"
   ]
  },
  {
   "cell_type": "code",
   "execution_count": 91,
   "metadata": {
    "scrolled": true
   },
   "outputs": [
    {
     "data": {
      "text/plain": [
       "<function Connection.close>"
      ]
     },
     "execution_count": 91,
     "metadata": {},
     "output_type": "execute_result"
    }
   ],
   "source": [
    "conn.close"
   ]
  },
  {
   "cell_type": "code",
   "execution_count": null,
   "metadata": {},
   "outputs": [],
   "source": []
  },
  {
   "cell_type": "markdown",
   "metadata": {},
   "source": [
    "### 화재통계 데이터 일부 보기"
   ]
  },
  {
   "cell_type": "code",
   "execution_count": 147,
   "metadata": {},
   "outputs": [
    {
     "data": {
      "text/html": [
       "<div>\n",
       "<style scoped>\n",
       "    .dataframe tbody tr th:only-of-type {\n",
       "        vertical-align: middle;\n",
       "    }\n",
       "\n",
       "    .dataframe tbody tr th {\n",
       "        vertical-align: top;\n",
       "    }\n",
       "\n",
       "    .dataframe thead th {\n",
       "        text-align: right;\n",
       "    }\n",
       "</style>\n",
       "<table border=\"1\" class=\"dataframe\">\n",
       "  <thead>\n",
       "    <tr style=\"text-align: right;\">\n",
       "      <th></th>\n",
       "      <th>연번</th>\n",
       "      <th>사망</th>\n",
       "      <th>부상</th>\n",
       "      <th>인명피해(명)소계</th>\n",
       "      <th>재산피해소계</th>\n",
       "      <th>시도</th>\n",
       "      <th>시군구</th>\n",
       "      <th>읍면동</th>\n",
       "      <th>발화열원</th>\n",
       "      <th>발화열원소분류</th>\n",
       "      <th>발화요인대분류</th>\n",
       "      <th>발화요인소분류</th>\n",
       "      <th>최초착화물대분류</th>\n",
       "      <th>최초착화물소분류</th>\n",
       "      <th>장소대분류</th>\n",
       "      <th>장소중분류</th>\n",
       "      <th>장소소분류</th>\n",
       "      <th>지번동</th>\n",
       "    </tr>\n",
       "  </thead>\n",
       "  <tbody>\n",
       "    <tr>\n",
       "      <th>0</th>\n",
       "      <td>1</td>\n",
       "      <td>0</td>\n",
       "      <td>0</td>\n",
       "      <td>0</td>\n",
       "      <td>2920</td>\n",
       "      <td>경상남도</td>\n",
       "      <td>합천군</td>\n",
       "      <td>청덕면</td>\n",
       "      <td>작동기기</td>\n",
       "      <td>전기적 아크(단락)</td>\n",
       "      <td>전기적 요인</td>\n",
       "      <td>접촉불량에 의한 단락</td>\n",
       "      <td>전기,전자</td>\n",
       "      <td>전선피복</td>\n",
       "      <td>주거</td>\n",
       "      <td>단독주택</td>\n",
       "      <td>단독주택</td>\n",
       "      <td>청덕면</td>\n",
       "    </tr>\n",
       "    <tr>\n",
       "      <th>1</th>\n",
       "      <td>2</td>\n",
       "      <td>0</td>\n",
       "      <td>0</td>\n",
       "      <td>0</td>\n",
       "      <td>0</td>\n",
       "      <td>서울특별시</td>\n",
       "      <td>영등포구</td>\n",
       "      <td>여의도동</td>\n",
       "      <td>담뱃불, 라이터불</td>\n",
       "      <td>담뱃불</td>\n",
       "      <td>부주의</td>\n",
       "      <td>담배꽁초</td>\n",
       "      <td>기타</td>\n",
       "      <td>기타</td>\n",
       "      <td>임야</td>\n",
       "      <td>들불</td>\n",
       "      <td>기타 들불</td>\n",
       "      <td>여의도동</td>\n",
       "    </tr>\n",
       "    <tr>\n",
       "      <th>2</th>\n",
       "      <td>3</td>\n",
       "      <td>0</td>\n",
       "      <td>0</td>\n",
       "      <td>0</td>\n",
       "      <td>137</td>\n",
       "      <td>서울특별시</td>\n",
       "      <td>강남구</td>\n",
       "      <td>논현동</td>\n",
       "      <td>담뱃불, 라이터불</td>\n",
       "      <td>담뱃불</td>\n",
       "      <td>부주의</td>\n",
       "      <td>담배꽁초</td>\n",
       "      <td>침구,직물류</td>\n",
       "      <td>기타(침구,직물류)</td>\n",
       "      <td>자동차,철도차량</td>\n",
       "      <td>자동차</td>\n",
       "      <td>오토바이</td>\n",
       "      <td>논현1동</td>\n",
       "    </tr>\n",
       "    <tr>\n",
       "      <th>3</th>\n",
       "      <td>4</td>\n",
       "      <td>0</td>\n",
       "      <td>0</td>\n",
       "      <td>0</td>\n",
       "      <td>326</td>\n",
       "      <td>서울특별시</td>\n",
       "      <td>도봉구</td>\n",
       "      <td>쌍문동</td>\n",
       "      <td>담뱃불, 라이터불</td>\n",
       "      <td>담뱃불</td>\n",
       "      <td>부주의</td>\n",
       "      <td>담배꽁초</td>\n",
       "      <td>종이,목재,건초등</td>\n",
       "      <td>기타(종이,목재,건초등)</td>\n",
       "      <td>판매,업무시설</td>\n",
       "      <td>일반업무</td>\n",
       "      <td>일반빌딩</td>\n",
       "      <td>쌍문2동</td>\n",
       "    </tr>\n",
       "    <tr>\n",
       "      <th>4</th>\n",
       "      <td>5</td>\n",
       "      <td>0</td>\n",
       "      <td>0</td>\n",
       "      <td>0</td>\n",
       "      <td>0</td>\n",
       "      <td>부산광역시</td>\n",
       "      <td>연제구</td>\n",
       "      <td>연산동</td>\n",
       "      <td>작동기기</td>\n",
       "      <td>기기 전도,복사열</td>\n",
       "      <td>부주의</td>\n",
       "      <td>음식물 조리중</td>\n",
       "      <td>식품</td>\n",
       "      <td>음식물</td>\n",
       "      <td>주거</td>\n",
       "      <td>공동주택</td>\n",
       "      <td>다세대주택</td>\n",
       "      <td>연산9동</td>\n",
       "    </tr>\n",
       "  </tbody>\n",
       "</table>\n",
       "</div>"
      ],
      "text/plain": [
       "   연번  사망  부상  인명피해(명)소계  재산피해소계     시도   시군구   읍면동       발화열원     발화열원소분류  \\\n",
       "0   1   0   0          0    2920   경상남도   합천군   청덕면       작동기기  전기적 아크(단락)   \n",
       "1   2   0   0          0       0  서울특별시  영등포구  여의도동  담뱃불, 라이터불         담뱃불   \n",
       "2   3   0   0          0     137  서울특별시   강남구   논현동  담뱃불, 라이터불         담뱃불   \n",
       "3   4   0   0          0     326  서울특별시   도봉구   쌍문동  담뱃불, 라이터불         담뱃불   \n",
       "4   5   0   0          0       0  부산광역시   연제구   연산동       작동기기   기기 전도,복사열   \n",
       "\n",
       "  발화요인대분류      발화요인소분류   최초착화물대분류       최초착화물소분류     장소대분류 장소중분류  장소소분류   지번동  \n",
       "0  전기적 요인  접촉불량에 의한 단락      전기,전자           전선피복        주거  단독주택   단독주택   청덕면  \n",
       "1     부주의         담배꽁초         기타             기타        임야    들불  기타 들불  여의도동  \n",
       "2     부주의         담배꽁초     침구,직물류     기타(침구,직물류)  자동차,철도차량   자동차   오토바이  논현1동  \n",
       "3     부주의         담배꽁초  종이,목재,건초등  기타(종이,목재,건초등)   판매,업무시설  일반업무   일반빌딩  쌍문2동  \n",
       "4     부주의      음식물 조리중         식품            음식물        주거  공동주택  다세대주택  연산9동  "
      ]
     },
     "execution_count": 147,
     "metadata": {},
     "output_type": "execute_result"
    }
   ],
   "source": [
    "data.head()"
   ]
  },
  {
   "cell_type": "code",
   "execution_count": 139,
   "metadata": {},
   "outputs": [],
   "source": [
    "city = data[['시도']]"
   ]
  },
  {
   "cell_type": "markdown",
   "metadata": {},
   "source": [
    "### 오름차순으로 정렬"
   ]
  },
  {
   "cell_type": "code",
   "execution_count": 142,
   "metadata": {},
   "outputs": [],
   "source": [
    "sort_city_column =city['시도'].value_counts().index"
   ]
  },
  {
   "cell_type": "code",
   "execution_count": 143,
   "metadata": {
    "scrolled": true
   },
   "outputs": [
    {
     "data": {
      "text/plain": [
       "<matplotlib.axes._subplots.AxesSubplot at 0x7fc9a654b198>"
      ]
     },
     "execution_count": 143,
     "metadata": {},
     "output_type": "execute_result"
    },
    {
     "data": {
      "image/png": "[encoded data removed]",
      "text/plain": [
       "<Figure size 1440x360 with 1 Axes>"
      ]
     },
     "metadata": {
      "needs_background": "light"
     },
     "output_type": "display_data"
    }
   ],
   "source": [
    "plt.figure(figsize=(20,5))\n",
    "sns.countplot(data=city,x='시도',order=sort_city_column)"
   ]
  },
  {
   "cell_type": "code",
   "execution_count": 395,
   "metadata": {},
   "outputs": [
    {
     "data": {
      "text/plain": [
       "Index(['경기도', '서울특별시', '경상남도', '경상북도', '충청남도', '전라남도', '강원도', '부산광역시', '전라북도',\n",
       "       '인천광역시', '대구광역시', '충청북도', '대전광역시', '광주광역시', '울산광역시', '제주특별자치도',\n",
       "       '세종특별자치시'],\n",
       "      dtype='object')"
      ]
     },
     "execution_count": 395,
     "metadata": {},
     "output_type": "execute_result"
    }
   ],
   "source": [
    "sort_city_column"
   ]
  },
  {
   "cell_type": "code",
   "execution_count": 567,
   "metadata": {},
   "outputs": [],
   "source": [
    "def area_injury_count(area,rename=None,sum=False):\n",
    "    select_area = data[data['시도']==area]\n",
    "    select_area = select_area.dropna()\n",
    "    if sum:\n",
    "        area_injury= select_area[['장소대분류','부상']].groupby('장소대분류').sum()\n",
    "    else:\n",
    "        area_injury= select_area[['장소대분류','부상']].groupby('장소대분류').count()\n",
    "    area_injury = area_injury.drop(['기타','기타서비스'])\n",
    "    area_injury = area_injury.sort_values('부상',ascending=False)\n",
    "    if(rename!=None):\n",
    "        area_injury= area_injury.rename(columns={'부상':rename})\n",
    "    return area_injury"
   ]
  },
  {
   "cell_type": "markdown",
   "metadata": {},
   "source": [
    "### 시도에 따른 화재장소 수"
   ]
  },
  {
   "cell_type": "code",
   "execution_count": 563,
   "metadata": {},
   "outputs": [
    {
     "data": {
      "text/html": [
       "<div>\n",
       "<style scoped>\n",
       "    .dataframe tbody tr th:only-of-type {\n",
       "        vertical-align: middle;\n",
       "    }\n",
       "\n",
       "    .dataframe tbody tr th {\n",
       "        vertical-align: top;\n",
       "    }\n",
       "\n",
       "    .dataframe thead th {\n",
       "        text-align: right;\n",
       "    }\n",
       "</style>\n",
       "<table border=\"1\" class=\"dataframe\">\n",
       "  <thead>\n",
       "    <tr style=\"text-align: right;\">\n",
       "      <th></th>\n",
       "      <th>경기도_화재장소_수</th>\n",
       "    </tr>\n",
       "    <tr>\n",
       "      <th>장소대분류</th>\n",
       "      <th></th>\n",
       "    </tr>\n",
       "  </thead>\n",
       "  <tbody>\n",
       "    <tr>\n",
       "      <th>주거</th>\n",
       "      <td>2119</td>\n",
       "    </tr>\n",
       "    <tr>\n",
       "      <th>산업시설</th>\n",
       "      <td>1629</td>\n",
       "    </tr>\n",
       "    <tr>\n",
       "      <th>자동차,철도차량</th>\n",
       "      <td>1252</td>\n",
       "    </tr>\n",
       "    <tr>\n",
       "      <th>임야</th>\n",
       "      <td>843</td>\n",
       "    </tr>\n",
       "    <tr>\n",
       "      <th>생활서비스</th>\n",
       "      <td>751</td>\n",
       "    </tr>\n",
       "    <tr>\n",
       "      <th>판매,업무시설</th>\n",
       "      <td>507</td>\n",
       "    </tr>\n",
       "    <tr>\n",
       "      <th>집합시설</th>\n",
       "      <td>85</td>\n",
       "    </tr>\n",
       "    <tr>\n",
       "      <th>운수자동차시설</th>\n",
       "      <td>64</td>\n",
       "    </tr>\n",
       "    <tr>\n",
       "      <th>의료,복지시설</th>\n",
       "      <td>56</td>\n",
       "    </tr>\n",
       "    <tr>\n",
       "      <th>교육시설</th>\n",
       "      <td>54</td>\n",
       "    </tr>\n",
       "    <tr>\n",
       "      <th>위험물,가스제조소</th>\n",
       "      <td>4</td>\n",
       "    </tr>\n",
       "    <tr>\n",
       "      <th>선박,항공기</th>\n",
       "      <td>3</td>\n",
       "    </tr>\n",
       "  </tbody>\n",
       "</table>\n",
       "</div>"
      ],
      "text/plain": [
       "           경기도_화재장소_수\n",
       "장소대분류                \n",
       "주거               2119\n",
       "산업시설             1629\n",
       "자동차,철도차량         1252\n",
       "임야                843\n",
       "생활서비스             751\n",
       "판매,업무시설           507\n",
       "집합시설               85\n",
       "운수자동차시설            64\n",
       "의료,복지시설            56\n",
       "교육시설               54\n",
       "위험물,가스제조소           4\n",
       "선박,항공기              3"
      ]
     },
     "execution_count": 563,
     "metadata": {},
     "output_type": "execute_result"
    }
   ],
   "source": [
    "area_injury_count('경기도',rename='경기도_화재장소_수')"
   ]
  },
  {
   "cell_type": "code",
   "execution_count": 564,
   "metadata": {},
   "outputs": [
    {
     "data": {
      "text/html": [
       "<div>\n",
       "<style scoped>\n",
       "    .dataframe tbody tr th:only-of-type {\n",
       "        vertical-align: middle;\n",
       "    }\n",
       "\n",
       "    .dataframe tbody tr th {\n",
       "        vertical-align: top;\n",
       "    }\n",
       "\n",
       "    .dataframe thead th {\n",
       "        text-align: right;\n",
       "    }\n",
       "</style>\n",
       "<table border=\"1\" class=\"dataframe\">\n",
       "  <thead>\n",
       "    <tr style=\"text-align: right;\">\n",
       "      <th></th>\n",
       "      <th>서울_화재장소_수</th>\n",
       "    </tr>\n",
       "    <tr>\n",
       "      <th>장소대분류</th>\n",
       "      <th></th>\n",
       "    </tr>\n",
       "  </thead>\n",
       "  <tbody>\n",
       "    <tr>\n",
       "      <th>주거</th>\n",
       "      <td>2419</td>\n",
       "    </tr>\n",
       "    <tr>\n",
       "      <th>생활서비스</th>\n",
       "      <td>1008</td>\n",
       "    </tr>\n",
       "    <tr>\n",
       "      <th>판매,업무시설</th>\n",
       "      <td>649</td>\n",
       "    </tr>\n",
       "    <tr>\n",
       "      <th>자동차,철도차량</th>\n",
       "      <td>445</td>\n",
       "    </tr>\n",
       "    <tr>\n",
       "      <th>산업시설</th>\n",
       "      <td>219</td>\n",
       "    </tr>\n",
       "    <tr>\n",
       "      <th>임야</th>\n",
       "      <td>70</td>\n",
       "    </tr>\n",
       "    <tr>\n",
       "      <th>교육시설</th>\n",
       "      <td>66</td>\n",
       "    </tr>\n",
       "    <tr>\n",
       "      <th>의료,복지시설</th>\n",
       "      <td>63</td>\n",
       "    </tr>\n",
       "    <tr>\n",
       "      <th>집합시설</th>\n",
       "      <td>49</td>\n",
       "    </tr>\n",
       "    <tr>\n",
       "      <th>운수자동차시설</th>\n",
       "      <td>45</td>\n",
       "    </tr>\n",
       "    <tr>\n",
       "      <th>선박,항공기</th>\n",
       "      <td>1</td>\n",
       "    </tr>\n",
       "  </tbody>\n",
       "</table>\n",
       "</div>"
      ],
      "text/plain": [
       "          서울_화재장소_수\n",
       "장소대분류              \n",
       "주거             2419\n",
       "생활서비스          1008\n",
       "판매,업무시설         649\n",
       "자동차,철도차량        445\n",
       "산업시설            219\n",
       "임야               70\n",
       "교육시설             66\n",
       "의료,복지시설          63\n",
       "집합시설             49\n",
       "운수자동차시설          45\n",
       "선박,항공기            1"
      ]
     },
     "execution_count": 564,
     "metadata": {},
     "output_type": "execute_result"
    }
   ],
   "source": [
    "area_injury_count('서울특별시','서울_화재장소_수')"
   ]
  },
  {
   "cell_type": "code",
   "execution_count": 569,
   "metadata": {},
   "outputs": [
    {
     "data": {
      "text/html": [
       "<div>\n",
       "<style scoped>\n",
       "    .dataframe tbody tr th:only-of-type {\n",
       "        vertical-align: middle;\n",
       "    }\n",
       "\n",
       "    .dataframe tbody tr th {\n",
       "        vertical-align: top;\n",
       "    }\n",
       "\n",
       "    .dataframe thead th {\n",
       "        text-align: right;\n",
       "    }\n",
       "</style>\n",
       "<table border=\"1\" class=\"dataframe\">\n",
       "  <thead>\n",
       "    <tr style=\"text-align: right;\">\n",
       "      <th></th>\n",
       "      <th>경상남도_화재장소_수</th>\n",
       "    </tr>\n",
       "    <tr>\n",
       "      <th>장소대분류</th>\n",
       "      <th></th>\n",
       "    </tr>\n",
       "  </thead>\n",
       "  <tbody>\n",
       "    <tr>\n",
       "      <th>주거</th>\n",
       "      <td>792</td>\n",
       "    </tr>\n",
       "    <tr>\n",
       "      <th>자동차,철도차량</th>\n",
       "      <td>430</td>\n",
       "    </tr>\n",
       "    <tr>\n",
       "      <th>산업시설</th>\n",
       "      <td>393</td>\n",
       "    </tr>\n",
       "    <tr>\n",
       "      <th>임야</th>\n",
       "      <td>315</td>\n",
       "    </tr>\n",
       "    <tr>\n",
       "      <th>생활서비스</th>\n",
       "      <td>246</td>\n",
       "    </tr>\n",
       "    <tr>\n",
       "      <th>판매,업무시설</th>\n",
       "      <td>106</td>\n",
       "    </tr>\n",
       "    <tr>\n",
       "      <th>의료,복지시설</th>\n",
       "      <td>22</td>\n",
       "    </tr>\n",
       "    <tr>\n",
       "      <th>선박,항공기</th>\n",
       "      <td>21</td>\n",
       "    </tr>\n",
       "    <tr>\n",
       "      <th>집합시설</th>\n",
       "      <td>21</td>\n",
       "    </tr>\n",
       "    <tr>\n",
       "      <th>교육시설</th>\n",
       "      <td>20</td>\n",
       "    </tr>\n",
       "    <tr>\n",
       "      <th>운수자동차시설</th>\n",
       "      <td>10</td>\n",
       "    </tr>\n",
       "    <tr>\n",
       "      <th>위험물,가스제조소</th>\n",
       "      <td>3</td>\n",
       "    </tr>\n",
       "    <tr>\n",
       "      <th>문화재시설</th>\n",
       "      <td>1</td>\n",
       "    </tr>\n",
       "  </tbody>\n",
       "</table>\n",
       "</div>"
      ],
      "text/plain": [
       "           경상남도_화재장소_수\n",
       "장소대분류                 \n",
       "주거                 792\n",
       "자동차,철도차량           430\n",
       "산업시설               393\n",
       "임야                 315\n",
       "생활서비스              246\n",
       "판매,업무시설            106\n",
       "의료,복지시설             22\n",
       "선박,항공기              21\n",
       "집합시설                21\n",
       "교육시설                20\n",
       "운수자동차시설             10\n",
       "위험물,가스제조소            3\n",
       "문화재시설                1"
      ]
     },
     "execution_count": 569,
     "metadata": {},
     "output_type": "execute_result"
    }
   ],
   "source": [
    "area_injury_count('경상남도','경상남도_화재장소_수')"
   ]
  },
  {
   "cell_type": "markdown",
   "metadata": {},
   "source": [
    "### 시도에 따른 화재장소의 부상자 수"
   ]
  },
  {
   "cell_type": "code",
   "execution_count": 572,
   "metadata": {},
   "outputs": [
    {
     "data": {
      "text/html": [
       "<div>\n",
       "<style scoped>\n",
       "    .dataframe tbody tr th:only-of-type {\n",
       "        vertical-align: middle;\n",
       "    }\n",
       "\n",
       "    .dataframe tbody tr th {\n",
       "        vertical-align: top;\n",
       "    }\n",
       "\n",
       "    .dataframe thead th {\n",
       "        text-align: right;\n",
       "    }\n",
       "</style>\n",
       "<table border=\"1\" class=\"dataframe\">\n",
       "  <thead>\n",
       "    <tr style=\"text-align: right;\">\n",
       "      <th></th>\n",
       "      <th>경기도_부상자수</th>\n",
       "    </tr>\n",
       "    <tr>\n",
       "      <th>장소대분류</th>\n",
       "      <th></th>\n",
       "    </tr>\n",
       "  </thead>\n",
       "  <tbody>\n",
       "    <tr>\n",
       "      <th>주거</th>\n",
       "      <td>307</td>\n",
       "    </tr>\n",
       "    <tr>\n",
       "      <th>산업시설</th>\n",
       "      <td>82</td>\n",
       "    </tr>\n",
       "    <tr>\n",
       "      <th>생활서비스</th>\n",
       "      <td>47</td>\n",
       "    </tr>\n",
       "    <tr>\n",
       "      <th>판매,업무시설</th>\n",
       "      <td>45</td>\n",
       "    </tr>\n",
       "    <tr>\n",
       "      <th>자동차,철도차량</th>\n",
       "      <td>41</td>\n",
       "    </tr>\n",
       "    <tr>\n",
       "      <th>임야</th>\n",
       "      <td>11</td>\n",
       "    </tr>\n",
       "    <tr>\n",
       "      <th>교육시설</th>\n",
       "      <td>7</td>\n",
       "    </tr>\n",
       "    <tr>\n",
       "      <th>의료,복지시설</th>\n",
       "      <td>7</td>\n",
       "    </tr>\n",
       "    <tr>\n",
       "      <th>집합시설</th>\n",
       "      <td>5</td>\n",
       "    </tr>\n",
       "    <tr>\n",
       "      <th>운수자동차시설</th>\n",
       "      <td>4</td>\n",
       "    </tr>\n",
       "    <tr>\n",
       "      <th>선박,항공기</th>\n",
       "      <td>1</td>\n",
       "    </tr>\n",
       "    <tr>\n",
       "      <th>위험물,가스제조소</th>\n",
       "      <td>1</td>\n",
       "    </tr>\n",
       "  </tbody>\n",
       "</table>\n",
       "</div>"
      ],
      "text/plain": [
       "           경기도_부상자수\n",
       "장소대분류              \n",
       "주거              307\n",
       "산업시설             82\n",
       "생활서비스            47\n",
       "판매,업무시설          45\n",
       "자동차,철도차량         41\n",
       "임야               11\n",
       "교육시설              7\n",
       "의료,복지시설           7\n",
       "집합시설              5\n",
       "운수자동차시설           4\n",
       "선박,항공기            1\n",
       "위험물,가스제조소         1"
      ]
     },
     "execution_count": 572,
     "metadata": {},
     "output_type": "execute_result"
    }
   ],
   "source": [
    "area_injury_count('경기도',rename='경기도_부상자수',sum=True)"
   ]
  },
  {
   "cell_type": "code",
   "execution_count": 573,
   "metadata": {},
   "outputs": [
    {
     "data": {
      "text/html": [
       "<div>\n",
       "<style scoped>\n",
       "    .dataframe tbody tr th:only-of-type {\n",
       "        vertical-align: middle;\n",
       "    }\n",
       "\n",
       "    .dataframe tbody tr th {\n",
       "        vertical-align: top;\n",
       "    }\n",
       "\n",
       "    .dataframe thead th {\n",
       "        text-align: right;\n",
       "    }\n",
       "</style>\n",
       "<table border=\"1\" class=\"dataframe\">\n",
       "  <thead>\n",
       "    <tr style=\"text-align: right;\">\n",
       "      <th></th>\n",
       "      <th>서울_부상자수</th>\n",
       "    </tr>\n",
       "    <tr>\n",
       "      <th>장소대분류</th>\n",
       "      <th></th>\n",
       "    </tr>\n",
       "  </thead>\n",
       "  <tbody>\n",
       "    <tr>\n",
       "      <th>주거</th>\n",
       "      <td>122</td>\n",
       "    </tr>\n",
       "    <tr>\n",
       "      <th>생활서비스</th>\n",
       "      <td>37</td>\n",
       "    </tr>\n",
       "    <tr>\n",
       "      <th>판매,업무시설</th>\n",
       "      <td>24</td>\n",
       "    </tr>\n",
       "    <tr>\n",
       "      <th>자동차,철도차량</th>\n",
       "      <td>13</td>\n",
       "    </tr>\n",
       "    <tr>\n",
       "      <th>산업시설</th>\n",
       "      <td>8</td>\n",
       "    </tr>\n",
       "    <tr>\n",
       "      <th>집합시설</th>\n",
       "      <td>6</td>\n",
       "    </tr>\n",
       "    <tr>\n",
       "      <th>교육시설</th>\n",
       "      <td>5</td>\n",
       "    </tr>\n",
       "    <tr>\n",
       "      <th>운수자동차시설</th>\n",
       "      <td>3</td>\n",
       "    </tr>\n",
       "    <tr>\n",
       "      <th>선박,항공기</th>\n",
       "      <td>0</td>\n",
       "    </tr>\n",
       "    <tr>\n",
       "      <th>의료,복지시설</th>\n",
       "      <td>0</td>\n",
       "    </tr>\n",
       "    <tr>\n",
       "      <th>임야</th>\n",
       "      <td>0</td>\n",
       "    </tr>\n",
       "  </tbody>\n",
       "</table>\n",
       "</div>"
      ],
      "text/plain": [
       "          서울_부상자수\n",
       "장소대분류            \n",
       "주거            122\n",
       "생활서비스          37\n",
       "판매,업무시설        24\n",
       "자동차,철도차량       13\n",
       "산업시설            8\n",
       "집합시설            6\n",
       "교육시설            5\n",
       "운수자동차시설         3\n",
       "선박,항공기          0\n",
       "의료,복지시설         0\n",
       "임야              0"
      ]
     },
     "execution_count": 573,
     "metadata": {},
     "output_type": "execute_result"
    }
   ],
   "source": [
    "area_injury_count('서울특별시',rename='서울_부상자수',sum=True)"
   ]
  },
  {
   "cell_type": "code",
   "execution_count": 574,
   "metadata": {},
   "outputs": [
    {
     "data": {
      "text/html": [
       "<div>\n",
       "<style scoped>\n",
       "    .dataframe tbody tr th:only-of-type {\n",
       "        vertical-align: middle;\n",
       "    }\n",
       "\n",
       "    .dataframe tbody tr th {\n",
       "        vertical-align: top;\n",
       "    }\n",
       "\n",
       "    .dataframe thead th {\n",
       "        text-align: right;\n",
       "    }\n",
       "</style>\n",
       "<table border=\"1\" class=\"dataframe\">\n",
       "  <thead>\n",
       "    <tr style=\"text-align: right;\">\n",
       "      <th></th>\n",
       "      <th>경상남도_부상자수</th>\n",
       "    </tr>\n",
       "    <tr>\n",
       "      <th>장소대분류</th>\n",
       "      <th></th>\n",
       "    </tr>\n",
       "  </thead>\n",
       "  <tbody>\n",
       "    <tr>\n",
       "      <th>주거</th>\n",
       "      <td>58</td>\n",
       "    </tr>\n",
       "    <tr>\n",
       "      <th>산업시설</th>\n",
       "      <td>18</td>\n",
       "    </tr>\n",
       "    <tr>\n",
       "      <th>선박,항공기</th>\n",
       "      <td>14</td>\n",
       "    </tr>\n",
       "    <tr>\n",
       "      <th>생활서비스</th>\n",
       "      <td>12</td>\n",
       "    </tr>\n",
       "    <tr>\n",
       "      <th>판매,업무시설</th>\n",
       "      <td>11</td>\n",
       "    </tr>\n",
       "    <tr>\n",
       "      <th>자동차,철도차량</th>\n",
       "      <td>9</td>\n",
       "    </tr>\n",
       "    <tr>\n",
       "      <th>임야</th>\n",
       "      <td>7</td>\n",
       "    </tr>\n",
       "    <tr>\n",
       "      <th>위험물,가스제조소</th>\n",
       "      <td>3</td>\n",
       "    </tr>\n",
       "    <tr>\n",
       "      <th>운수자동차시설</th>\n",
       "      <td>1</td>\n",
       "    </tr>\n",
       "    <tr>\n",
       "      <th>집합시설</th>\n",
       "      <td>1</td>\n",
       "    </tr>\n",
       "    <tr>\n",
       "      <th>교육시설</th>\n",
       "      <td>0</td>\n",
       "    </tr>\n",
       "    <tr>\n",
       "      <th>문화재시설</th>\n",
       "      <td>0</td>\n",
       "    </tr>\n",
       "    <tr>\n",
       "      <th>의료,복지시설</th>\n",
       "      <td>0</td>\n",
       "    </tr>\n",
       "  </tbody>\n",
       "</table>\n",
       "</div>"
      ],
      "text/plain": [
       "           경상남도_부상자수\n",
       "장소대분류               \n",
       "주거                58\n",
       "산업시설              18\n",
       "선박,항공기            14\n",
       "생활서비스             12\n",
       "판매,업무시설           11\n",
       "자동차,철도차량           9\n",
       "임야                 7\n",
       "위험물,가스제조소          3\n",
       "운수자동차시설            1\n",
       "집합시설               1\n",
       "교육시설               0\n",
       "문화재시설              0\n",
       "의료,복지시설            0"
      ]
     },
     "execution_count": 574,
     "metadata": {},
     "output_type": "execute_result"
    }
   ],
   "source": [
    "area_injury_count('경상남도','경상남도_부상자수',sum=True)"
   ]
  },
  {
   "cell_type": "markdown",
   "metadata": {},
   "source": [
    "### 주거에서 화재가 발생하는 발화요인"
   ]
  },
  {
   "cell_type": "code",
   "execution_count": null,
   "metadata": {},
   "outputs": [],
   "source": [
    "data[data['시도']=='경기도']"
   ]
  },
  {
   "cell_type": "code",
   "execution_count": 598,
   "metadata": {},
   "outputs": [],
   "source": [
    "home = data[data['장소대분류']=='주거']"
   ]
  },
  {
   "cell_type": "code",
   "execution_count": 601,
   "metadata": {},
   "outputs": [],
   "source": [
    "sort_home_column =home['발화요인대분류'].value_counts().index"
   ]
  },
  {
   "cell_type": "code",
   "execution_count": 602,
   "metadata": {},
   "outputs": [
    {
     "data": {
      "text/plain": [
       "<matplotlib.axes._subplots.AxesSubplot at 0x7fc9afc15f60>"
      ]
     },
     "execution_count": 602,
     "metadata": {},
     "output_type": "execute_result"
    },
    {
     "data": {
      "image/png": "[encoded data removed]",
      "text/plain": [
       "<Figure size 1440x576 with 1 Axes>"
      ]
     },
     "metadata": {
      "needs_background": "light"
     },
     "output_type": "display_data"
    }
   ],
   "source": [
    "plt.figure(figsize=(20,8))\n",
    "sns.countplot(data[data['장소대분류']=='주거']['발화요인대분류'],order=sort_home_column)"
   ]
  },
  {
   "cell_type": "code",
   "execution_count": null,
   "metadata": {},
   "outputs": [],
   "source": []
  }
 ],
 "metadata": {
  "kernelspec": {
   "display_name": "Python 3",
   "language": "python",
   "name": "python3"
  },
  "language_info": {
   "codemirror_mode": {
    "name": "ipython",
    "version": 3
   },
   "file_extension": ".py",
   "mimetype": "text/x-python",
   "name": "python",
   "nbconvert_exporter": "python",
   "pygments_lexer": "ipython3",
   "version": "3.7.3"
  }
 },
 "nbformat": 4,
 "nbformat_minor": 2
}

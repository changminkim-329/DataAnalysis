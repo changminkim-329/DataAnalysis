{
 "cells": [
  {
   "cell_type": "code",
   "execution_count": 1,
   "metadata": {},
   "outputs": [],
   "source": [
    "import seaborn as sns\n",
    "import numpy as np\n",
    "import pandas as pd\n",
    "import matplotlib.pyplot as plt"
   ]
  },
  {
   "cell_type": "markdown",
   "metadata": {},
   "source": [
    "## 한글을 포함한 csv 여는 방법"
   ]
  },
  {
   "cell_type": "code",
   "execution_count": 2,
   "metadata": {},
   "outputs": [],
   "source": [
    "data = pd.read_csv(\"./신용도데이터.csv\",encoding=\"cp949\")"
   ]
  },
  {
   "cell_type": "markdown",
   "metadata": {},
   "source": [
    "## 데이터 일부 보기\n",
    "- 첫번째 10개의 데이터의 추출\n",
    "- head: 데이터 프레임의 앞부분 일부 내용을 추출"
   ]
  },
  {
   "cell_type": "code",
   "execution_count": 3,
   "metadata": {
    "scrolled": true
   },
   "outputs": [
    {
     "data": {
      "text/html": [
       "<div>\n",
       "<style scoped>\n",
       "    .dataframe tbody tr th:only-of-type {\n",
       "        vertical-align: middle;\n",
       "    }\n",
       "\n",
       "    .dataframe tbody tr th {\n",
       "        vertical-align: top;\n",
       "    }\n",
       "\n",
       "    .dataframe thead th {\n",
       "        text-align: right;\n",
       "    }\n",
       "</style>\n",
       "<table border=\"1\" class=\"dataframe\">\n",
       "  <thead>\n",
       "    <tr style=\"text-align: right;\">\n",
       "      <th></th>\n",
       "      <th>고객번호</th>\n",
       "      <th>결혼상태</th>\n",
       "      <th>신용카드</th>\n",
       "      <th>주택소유</th>\n",
       "      <th>집세</th>\n",
       "      <th>수입</th>\n",
       "      <th>연령</th>\n",
       "      <th>거주년수</th>\n",
       "      <th>교육년수</th>\n",
       "      <th>고객년수</th>\n",
       "      <th>근무년수</th>\n",
       "      <th>신용도</th>\n",
       "    </tr>\n",
       "  </thead>\n",
       "  <tbody>\n",
       "    <tr>\n",
       "      <th>0</th>\n",
       "      <td>111982034</td>\n",
       "      <td>1</td>\n",
       "      <td>1</td>\n",
       "      <td>0</td>\n",
       "      <td>147.0</td>\n",
       "      <td>353.0</td>\n",
       "      <td>28.0</td>\n",
       "      <td>2</td>\n",
       "      <td>16.0</td>\n",
       "      <td>5.0</td>\n",
       "      <td>5</td>\n",
       "      <td>0</td>\n",
       "    </tr>\n",
       "    <tr>\n",
       "      <th>1</th>\n",
       "      <td>112444515</td>\n",
       "      <td>2</td>\n",
       "      <td>1</td>\n",
       "      <td>1</td>\n",
       "      <td>0.0</td>\n",
       "      <td>618.0</td>\n",
       "      <td>37.0</td>\n",
       "      <td>5</td>\n",
       "      <td>16.0</td>\n",
       "      <td>3.0</td>\n",
       "      <td>6</td>\n",
       "      <td>1</td>\n",
       "    </tr>\n",
       "    <tr>\n",
       "      <th>2</th>\n",
       "      <td>112690708</td>\n",
       "      <td>0</td>\n",
       "      <td>1</td>\n",
       "      <td>0</td>\n",
       "      <td>146.0</td>\n",
       "      <td>352.0</td>\n",
       "      <td>21.0</td>\n",
       "      <td>1</td>\n",
       "      <td>19.0</td>\n",
       "      <td>7.0</td>\n",
       "      <td>2</td>\n",
       "      <td>1</td>\n",
       "    </tr>\n",
       "    <tr>\n",
       "      <th>3</th>\n",
       "      <td>114084953</td>\n",
       "      <td>1</td>\n",
       "      <td>1</td>\n",
       "      <td>0</td>\n",
       "      <td>250.0</td>\n",
       "      <td>600.0</td>\n",
       "      <td>50.0</td>\n",
       "      <td>2</td>\n",
       "      <td>16.0</td>\n",
       "      <td>8.0</td>\n",
       "      <td>9</td>\n",
       "      <td>0</td>\n",
       "    </tr>\n",
       "    <tr>\n",
       "      <th>4</th>\n",
       "      <td>115345050</td>\n",
       "      <td>1</td>\n",
       "      <td>1</td>\n",
       "      <td>1</td>\n",
       "      <td>336.0</td>\n",
       "      <td>807.0</td>\n",
       "      <td>41.0</td>\n",
       "      <td>41</td>\n",
       "      <td>22.0</td>\n",
       "      <td>10.0</td>\n",
       "      <td>10</td>\n",
       "      <td>0</td>\n",
       "    </tr>\n",
       "    <tr>\n",
       "      <th>5</th>\n",
       "      <td>121066616</td>\n",
       "      <td>0</td>\n",
       "      <td>1</td>\n",
       "      <td>1</td>\n",
       "      <td>144.0</td>\n",
       "      <td>346.0</td>\n",
       "      <td>20.0</td>\n",
       "      <td>20</td>\n",
       "      <td>16.0</td>\n",
       "      <td>3.0</td>\n",
       "      <td>2</td>\n",
       "      <td>0</td>\n",
       "    </tr>\n",
       "    <tr>\n",
       "      <th>6</th>\n",
       "      <td>123054075</td>\n",
       "      <td>1</td>\n",
       "      <td>1</td>\n",
       "      <td>0</td>\n",
       "      <td>181.0</td>\n",
       "      <td>436.0</td>\n",
       "      <td>46.0</td>\n",
       "      <td>2</td>\n",
       "      <td>16.0</td>\n",
       "      <td>4.0</td>\n",
       "      <td>4</td>\n",
       "      <td>0</td>\n",
       "    </tr>\n",
       "    <tr>\n",
       "      <th>7</th>\n",
       "      <td>125277768</td>\n",
       "      <td>1</td>\n",
       "      <td>1</td>\n",
       "      <td>0</td>\n",
       "      <td>184.0</td>\n",
       "      <td>442.0</td>\n",
       "      <td>35.0</td>\n",
       "      <td>1</td>\n",
       "      <td>16.0</td>\n",
       "      <td>3.0</td>\n",
       "      <td>4</td>\n",
       "      <td>0</td>\n",
       "    </tr>\n",
       "    <tr>\n",
       "      <th>8</th>\n",
       "      <td>127665534</td>\n",
       "      <td>1</td>\n",
       "      <td>1</td>\n",
       "      <td>0</td>\n",
       "      <td>194.0</td>\n",
       "      <td>467.0</td>\n",
       "      <td>41.0</td>\n",
       "      <td>1</td>\n",
       "      <td>16.0</td>\n",
       "      <td>4.0</td>\n",
       "      <td>5</td>\n",
       "      <td>0</td>\n",
       "    </tr>\n",
       "    <tr>\n",
       "      <th>9</th>\n",
       "      <td>128741962</td>\n",
       "      <td>1</td>\n",
       "      <td>1</td>\n",
       "      <td>0</td>\n",
       "      <td>184.0</td>\n",
       "      <td>443.0</td>\n",
       "      <td>36.0</td>\n",
       "      <td>2</td>\n",
       "      <td>17.0</td>\n",
       "      <td>4.0</td>\n",
       "      <td>8</td>\n",
       "      <td>0</td>\n",
       "    </tr>\n",
       "  </tbody>\n",
       "</table>\n",
       "</div>"
      ],
      "text/plain": [
       "        고객번호  결혼상태  신용카드  주택소유     집세     수입    연령  거주년수  교육년수  고객년수  근무년수  \\\n",
       "0  111982034     1     1     0  147.0  353.0  28.0     2  16.0   5.0     5   \n",
       "1  112444515     2     1     1    0.0  618.0  37.0     5  16.0   3.0     6   \n",
       "2  112690708     0     1     0  146.0  352.0  21.0     1  19.0   7.0     2   \n",
       "3  114084953     1     1     0  250.0  600.0  50.0     2  16.0   8.0     9   \n",
       "4  115345050     1     1     1  336.0  807.0  41.0    41  22.0  10.0    10   \n",
       "5  121066616     0     1     1  144.0  346.0  20.0    20  16.0   3.0     2   \n",
       "6  123054075     1     1     0  181.0  436.0  46.0     2  16.0   4.0     4   \n",
       "7  125277768     1     1     0  184.0  442.0  35.0     1  16.0   3.0     4   \n",
       "8  127665534     1     1     0  194.0  467.0  41.0     1  16.0   4.0     5   \n",
       "9  128741962     1     1     0  184.0  443.0  36.0     2  17.0   4.0     8   \n",
       "\n",
       "   신용도  \n",
       "0    0  \n",
       "1    1  \n",
       "2    1  \n",
       "3    0  \n",
       "4    0  \n",
       "5    0  \n",
       "6    0  \n",
       "7    0  \n",
       "8    0  \n",
       "9    0  "
      ]
     },
     "execution_count": 3,
     "metadata": {},
     "output_type": "execute_result"
    }
   ],
   "source": [
    "data.head(n=10)"
   ]
  },
  {
   "cell_type": "markdown",
   "metadata": {},
   "source": [
    "## 한글 폰트 사용 \n",
    "- rc: 폰트 지정\n",
    "- rc: minus 부호 오류를 방지하기 위해 사용"
   ]
  },
  {
   "cell_type": "code",
   "execution_count": 4,
   "metadata": {},
   "outputs": [],
   "source": [
    "plt.rc('font',family=\"AppleGothic\")# 맥\n",
    "plt.rcParams['axes.unicode_minus'] = False"
   ]
  },
  {
   "cell_type": "markdown",
   "metadata": {},
   "source": [
    "## 데이터 기초분석(범주형, 연속형)"
   ]
  },
  {
   "cell_type": "markdown",
   "metadata": {},
   "source": [
    "### csv 파일 정보 확인\n"
   ]
  },
  {
   "cell_type": "code",
   "execution_count": 146,
   "metadata": {},
   "outputs": [
    {
     "name": "stdout",
     "output_type": "stream",
     "text": [
      "<class 'pandas.core.frame.DataFrame'>\n",
      "RangeIndex: 357 entries, 0 to 356\n",
      "Data columns (total 12 columns):\n",
      "고객번호    357 non-null int64\n",
      "결혼상태    357 non-null int64\n",
      "신용카드    357 non-null int64\n",
      "주택소유    357 non-null int64\n",
      "집세      353 non-null float64\n",
      "수입      334 non-null float64\n",
      "연령      329 non-null float64\n",
      "거주년수    357 non-null int64\n",
      "교육년수    343 non-null float64\n",
      "고객년수    348 non-null float64\n",
      "근무년수    357 non-null int64\n",
      "신용도     357 non-null int64\n",
      "dtypes: float64(5), int64(7)\n",
      "memory usage: 33.5 KB\n",
      "None\n"
     ]
    }
   ],
   "source": [
    "print(data.info())"
   ]
  },
  {
   "cell_type": "markdown",
   "metadata": {},
   "source": [
    "'고객번호, 결혼상태, 신용카드, 주택소유'의 타입은 'int'형이라 연속형 같지만 평균을 구할 수 없어 범주형에 속한다. "
   ]
  },
  {
   "cell_type": "markdown",
   "metadata": {},
   "source": [
    "다음 중 결혼상태만 보자면, 결혼상태의 데이터내 중복된 원소 제거 후 유일한 원소를 뽑아내면 '0,1,2'이다. 따라서 '결혼상태'은 범주형이다.\n",
    "만약 데이터분석일시에는 object로 바꾸어주면 좋고, 머신러닝으로 할시에는 one_hot으로 해주면 좋다. "
   ]
  },
  {
   "cell_type": "code",
   "execution_count": 147,
   "metadata": {
    "scrolled": true
   },
   "outputs": [
    {
     "name": "stdout",
     "output_type": "stream",
     "text": [
      "[0 1 2]\n"
     ]
    }
   ],
   "source": [
    "print(np.unique(data['결혼상태']))"
   ]
  },
  {
   "cell_type": "code",
   "execution_count": 148,
   "metadata": {},
   "outputs": [
    {
     "name": "stdout",
     "output_type": "stream",
     "text": [
      "(357, 12)\n"
     ]
    }
   ],
   "source": [
    "print(data.shape)"
   ]
  },
  {
   "cell_type": "markdown",
   "metadata": {},
   "source": [
    "- **데이터 종류**: \n",
    "    - 범주형 데이터(int64, float64): \n",
    "        - 고객번호\n",
    "        - 결혼상태    \n",
    "        - 신용카드    \n",
    "        - 주택소유    \n",
    "    - 범주형 속성(object, category): \n",
    "        - 집세\n",
    "        - 수입      \n",
    "        - 연령      \n",
    "        - 거주년수    \n",
    "        - 교육년수    \n",
    "        - 고객년수    \n",
    "        - 근무년수    \n",
    "        - 신용도     \n",
    "\n",
    "___\n",
    "- **데이터의 샘플 개수**: 357\n",
    "___\n",
    "- **데이터 형태**: (357, 12)\n",
    "___"
   ]
  },
  {
   "cell_type": "markdown",
   "metadata": {},
   "source": [
    "## 데이터 클린징\n",
    "- 노이즈 데이터: nan(결측치), noise(이상치)\n",
    "- 방법: 대체, 삭제\n",
    "\n",
    "## 결측데이터\n",
    "- nan값으로 값이 없는 상태를 나타낸다. \n",
    "- 결측값을 처리방법\n",
    "    - 제거\n",
    "    - 대체: 주로 평균을 이용해서 대체하지만, 모델을 이용해서 예측한 값을 대체하는 방법도 있다.\n",
    "    - 연속형 데이터의 null값은 mean, std등으로 대체 가능하지만, 범주형에서는 적용되지 않아 따로 넣어 주어야 한다.\n",
    "    \n",
    "- 함부로 결측치를 제거및 대체하면 데이터 왜곡이 발생하기 때문에 신중하게 생각해야하며 원본 데이터를 별도로 백업보관해야한다."
   ]
  },
  {
   "cell_type": "markdown",
   "metadata": {},
   "source": [
    "### 결측치 확인"
   ]
  },
  {
   "cell_type": "code",
   "execution_count": 149,
   "metadata": {
    "scrolled": true
   },
   "outputs": [
    {
     "data": {
      "text/plain": [
       "고객번호     0\n",
       "결혼상태     0\n",
       "신용카드     0\n",
       "주택소유     0\n",
       "집세       4\n",
       "수입      23\n",
       "연령      28\n",
       "거주년수     0\n",
       "교육년수    14\n",
       "고객년수     9\n",
       "근무년수     0\n",
       "신용도      0\n",
       "dtype: int64"
      ]
     },
     "execution_count": 149,
     "metadata": {},
     "output_type": "execute_result"
    }
   ],
   "source": [
    "data.isnull().sum()"
   ]
  },
  {
   "cell_type": "markdown",
   "metadata": {},
   "source": [
    "___\n",
    "- **결측치**: 수입, 연령, 교육년수, 고객년수에 존재\n",
    "___"
   ]
  },
  {
   "cell_type": "markdown",
   "metadata": {},
   "source": [
    "### 행의 개수에 비해 nan의 개수가 적으므로 평균으로 대체한다."
   ]
  },
  {
   "cell_type": "code",
   "execution_count": 150,
   "metadata": {},
   "outputs": [],
   "source": [
    "data = data.fillna(data.mean())"
   ]
  },
  {
   "cell_type": "code",
   "execution_count": 151,
   "metadata": {},
   "outputs": [
    {
     "data": {
      "text/plain": [
       "고객번호    0\n",
       "결혼상태    0\n",
       "신용카드    0\n",
       "주택소유    0\n",
       "집세      0\n",
       "수입      0\n",
       "연령      0\n",
       "거주년수    0\n",
       "교육년수    0\n",
       "고객년수    0\n",
       "근무년수    0\n",
       "신용도     0\n",
       "dtype: int64"
      ]
     },
     "execution_count": 151,
     "metadata": {},
     "output_type": "execute_result"
    }
   ],
   "source": [
    "data.isnull().sum()"
   ]
  },
  {
   "cell_type": "markdown",
   "metadata": {},
   "source": [
    "### 이상치 탐색"
   ]
  },
  {
   "cell_type": "markdown",
   "metadata": {},
   "source": [
    "### 밑의 함수는 자동으로 정상범위의 안에 있는 값만 추출해서 다시 박스플롯을 그리고  평균과 중앙값의 차이를 보여준다."
   ]
  },
  {
   "cell_type": "code",
   "execution_count": 152,
   "metadata": {},
   "outputs": [],
   "source": [
    "def box_plot(data,selected_column):   \n",
    "    q1 = data[selected_column].describe()['25%']\n",
    "    q3 = data[selected_column].describe()['75%']\n",
    "    iqr = (q3 - q1)\n",
    "\n",
    "    plt.figure(figsize=(15,4))\n",
    "\n",
    "    plt.subplot(1,2,1)\n",
    "    plt.title(selected_column+' 데이터에서 이상치 삭제 전')\n",
    "    plt.boxplot(data.dropna()[selected_column],vert=0)\n",
    "    plt.axvline(np.mean(data.dropna()[selected_column]),color='r',label='평균값',linestyle='--')\n",
    "    plt.legend()\n",
    "\n",
    "    print('이상치 삭제전 |평균-중앙값|:',round(\n",
    "          np.abs(np.mean(data.dropna()[selected_column])-np.median(data.dropna()[selected_column])),4))\n",
    "\n",
    "    plt.subplot(1,2,2)\n",
    "    plt.title(selected_column+' 데이터에서 이상치 삭제 후')\n",
    "\n",
    "\n",
    "    left_whiskers = (data[selected_column]>=q1-1.5*iqr)\n",
    "    right_whiskers = (data[selected_column]<=q3+1.5*iqr)\n",
    "    datas = (data.dropna()[left_whiskers&right_whiskers])[selected_column]\n",
    "    plt.boxplot(datas,vert=0)\n",
    "    plt.axvline(np.mean(datas),color='r',linestyle='--',lw=2.0,label='평균값')\n",
    "    plt.legend()\n",
    "    print('이상치 삭제후 |평균-중앙값|:',round(np.abs(np.mean(datas)-np.median(datas)),4))\n",
    "    plt.show()\n",
    "    \n"
   ]
  },
  {
   "cell_type": "code",
   "execution_count": 153,
   "metadata": {},
   "outputs": [
    {
     "name": "stdout",
     "output_type": "stream",
     "text": [
      "이상치 삭제전 |평균-중앙값|: 101.3229\n",
      "이상치 삭제후 |평균-중앙값|: 0.8862\n"
     ]
    },
    {
     "data": {
      "image/png": "[encoded data removed]",
      "text/plain": [
       "<Figure size 1080x288 with 2 Axes>"
      ]
     },
     "metadata": {
      "needs_background": "light"
     },
     "output_type": "display_data"
    }
   ],
   "source": [
    "box_plot(data,\"집세\")"
   ]
  },
  {
   "cell_type": "markdown",
   "metadata": {},
   "source": [
    "> ## 그래프 분석\n",
    "**이상치 제거 전 평균과 중위값의 차이: 101.3229**<br>\n",
    "**이상치 제거 후 평균과 중위값의 차이: 0.8862**<br>\n",
    "    - 이상치가 상대히 많다.\n",
    "    - 이렇게 이상치를 빼면 평균과 중위값의 차이가 줄어드는 것을 알 수 있다.\n",
    "    - 평균은 이상치에 대해 민감하기 때문에 이러한 결과가 발생하는 것이다."
   ]
  },
  {
   "cell_type": "markdown",
   "metadata": {},
   "source": [
    "## 데이터 탐색"
   ]
  },
  {
   "cell_type": "markdown",
   "metadata": {},
   "source": [
    "### 데이터 구간화 \n",
    "- 연속형 변수를 일정구간한 구간으로 나누어 범주형 변수로 만드는 방법\n",
    "![](https://img1.daumcdn.net/thumb/R800x0/?scode=mtistory2&fname=https%3A%2F%2Ft1.daumcdn.net%2Fcfile%2Ftistory%2F99DEAF3B5C1E4AAA1E)"
   ]
  },
  {
   "cell_type": "code",
   "execution_count": 154,
   "metadata": {},
   "outputs": [],
   "source": [
    "cut = pd.cut(data['연령'],3)"
   ]
  },
  {
   "cell_type": "code",
   "execution_count": 155,
   "metadata": {},
   "outputs": [
    {
     "data": {
      "text/html": [
       "<div>\n",
       "<style scoped>\n",
       "    .dataframe tbody tr th:only-of-type {\n",
       "        vertical-align: middle;\n",
       "    }\n",
       "\n",
       "    .dataframe tbody tr th {\n",
       "        vertical-align: top;\n",
       "    }\n",
       "\n",
       "    .dataframe thead th {\n",
       "        text-align: right;\n",
       "    }\n",
       "</style>\n",
       "<table border=\"1\" class=\"dataframe\">\n",
       "  <thead>\n",
       "    <tr style=\"text-align: right;\">\n",
       "      <th></th>\n",
       "      <th>mean</th>\n",
       "    </tr>\n",
       "    <tr>\n",
       "      <th>연령</th>\n",
       "      <th></th>\n",
       "    </tr>\n",
       "  </thead>\n",
       "  <tbody>\n",
       "    <tr>\n",
       "      <th>(17.934, 40.0]</th>\n",
       "      <td>392.813345</td>\n",
       "    </tr>\n",
       "    <tr>\n",
       "      <th>(40.0, 62.0]</th>\n",
       "      <td>578.493014</td>\n",
       "    </tr>\n",
       "    <tr>\n",
       "      <th>(62.0, 84.0]</th>\n",
       "      <td>686.474850</td>\n",
       "    </tr>\n",
       "  </tbody>\n",
       "</table>\n",
       "</div>"
      ],
      "text/plain": [
       "                      mean\n",
       "연령                        \n",
       "(17.934, 40.0]  392.813345\n",
       "(40.0, 62.0]    578.493014\n",
       "(62.0, 84.0]    686.474850"
      ]
     },
     "execution_count": 155,
     "metadata": {},
     "output_type": "execute_result"
    }
   ],
   "source": [
    "data['수입'].groupby(cut).agg(['mean'])"
   ]
  },
  {
   "cell_type": "markdown",
   "metadata": {},
   "source": [
    "연령에 따른 수입을 보았을때 62에서 84의 노인층에 해당하는 사람이 가장 수입이 높고, 반대로 17에서 40사이의 젊은 층의 수입이 가장 낮다."
   ]
  },
  {
   "cell_type": "code",
   "execution_count": 156,
   "metadata": {
    "scrolled": true
   },
   "outputs": [
    {
     "data": {
      "text/plain": [
       "<matplotlib.axes._subplots.AxesSubplot at 0x1394e9ac8>"
      ]
     },
     "execution_count": 156,
     "metadata": {},
     "output_type": "execute_result"
    },
    {
     "data": {
      "image/png": "[encoded data removed]",
      "text/plain": [
       "<Figure size 432x288 with 1 Axes>"
      ]
     },
     "metadata": {
      "needs_background": "light"
     },
     "output_type": "display_data"
    }
   ],
   "source": [
    "sns.countplot(cut)"
   ]
  },
  {
   "cell_type": "markdown",
   "metadata": {},
   "source": [
    "### 피봇테이블\n",
    "######  피봇테이블<a id=\"chapter-1\"></a>\n",
    "- 많은 양의 데이터에서 필요한 자료함을 뽑아 새롭게 데이터를 재구성하는 것.\n",
    "- 사용자가 원하는 대로 데이터를 재구성.\n",
    "- heatmap그래프에 사용될 수 있다.->범주형 2개를 분석시 교차 분석이 된다."
   ]
  },
  {
   "cell_type": "code",
   "execution_count": 157,
   "metadata": {},
   "outputs": [],
   "source": [
    "datas = data.pivot_table(index='결혼상태',columns='주택소유',values='수입',aggfunc=np.mean)"
   ]
  },
  {
   "cell_type": "markdown",
   "metadata": {},
   "source": [
    "aggfunc : 데이터에 대해 처리할 함수를 넣는다.\n",
    "- np.mean\n",
    "- np.sum\n",
    "- np.size\n",
    "- np.max\n",
    "- np.min"
   ]
  },
  {
   "cell_type": "code",
   "execution_count": 158,
   "metadata": {},
   "outputs": [
    {
     "data": {
      "text/html": [
       "<div>\n",
       "<style scoped>\n",
       "    .dataframe tbody tr th:only-of-type {\n",
       "        vertical-align: middle;\n",
       "    }\n",
       "\n",
       "    .dataframe tbody tr th {\n",
       "        vertical-align: top;\n",
       "    }\n",
       "\n",
       "    .dataframe thead th {\n",
       "        text-align: right;\n",
       "    }\n",
       "</style>\n",
       "<table border=\"1\" class=\"dataframe\">\n",
       "  <thead>\n",
       "    <tr style=\"text-align: right;\">\n",
       "      <th>주택소유</th>\n",
       "      <th>0</th>\n",
       "      <th>1</th>\n",
       "    </tr>\n",
       "    <tr>\n",
       "      <th>결혼상태</th>\n",
       "      <th></th>\n",
       "      <th></th>\n",
       "    </tr>\n",
       "  </thead>\n",
       "  <tbody>\n",
       "    <tr>\n",
       "      <th>0</th>\n",
       "      <td>365.770049</td>\n",
       "      <td>343.823529</td>\n",
       "    </tr>\n",
       "    <tr>\n",
       "      <th>1</th>\n",
       "      <td>455.442263</td>\n",
       "      <td>490.866980</td>\n",
       "    </tr>\n",
       "    <tr>\n",
       "      <th>2</th>\n",
       "      <td>389.219534</td>\n",
       "      <td>429.866667</td>\n",
       "    </tr>\n",
       "  </tbody>\n",
       "</table>\n",
       "</div>"
      ],
      "text/plain": [
       "주택소유           0           1\n",
       "결혼상태                        \n",
       "0     365.770049  343.823529\n",
       "1     455.442263  490.866980\n",
       "2     389.219534  429.866667"
      ]
     },
     "execution_count": 158,
     "metadata": {},
     "output_type": "execute_result"
    }
   ],
   "source": [
    "datas"
   ]
  },
  {
   "cell_type": "code",
   "execution_count": 159,
   "metadata": {
    "scrolled": true
   },
   "outputs": [
    {
     "data": {
      "text/html": [
       "<div>\n",
       "<style scoped>\n",
       "    .dataframe tbody tr th:only-of-type {\n",
       "        vertical-align: middle;\n",
       "    }\n",
       "\n",
       "    .dataframe tbody tr th {\n",
       "        vertical-align: top;\n",
       "    }\n",
       "\n",
       "    .dataframe thead th {\n",
       "        text-align: right;\n",
       "    }\n",
       "</style>\n",
       "<table border=\"1\" class=\"dataframe\">\n",
       "  <thead>\n",
       "    <tr style=\"text-align: right;\">\n",
       "      <th>주택소유</th>\n",
       "      <th>0</th>\n",
       "      <th>1</th>\n",
       "    </tr>\n",
       "    <tr>\n",
       "      <th>결혼상태</th>\n",
       "      <th></th>\n",
       "      <th></th>\n",
       "    </tr>\n",
       "  </thead>\n",
       "  <tbody>\n",
       "    <tr>\n",
       "      <th>0</th>\n",
       "      <td>365.770049</td>\n",
       "      <td>343.823529</td>\n",
       "    </tr>\n",
       "    <tr>\n",
       "      <th>1</th>\n",
       "      <td>455.442263</td>\n",
       "      <td>490.866980</td>\n",
       "    </tr>\n",
       "    <tr>\n",
       "      <th>2</th>\n",
       "      <td>389.219534</td>\n",
       "      <td>429.866667</td>\n",
       "    </tr>\n",
       "  </tbody>\n",
       "</table>\n",
       "</div>"
      ],
      "text/plain": [
       "주택소유           0           1\n",
       "결혼상태                        \n",
       "0     365.770049  343.823529\n",
       "1     455.442263  490.866980\n",
       "2     389.219534  429.866667"
      ]
     },
     "execution_count": 159,
     "metadata": {},
     "output_type": "execute_result"
    }
   ],
   "source": [
    "datas"
   ]
  },
  {
   "cell_type": "markdown",
   "metadata": {},
   "source": [
    "수입는 결혼상태가 기혼이고, 주택소유를 할때 평균적으로 가장 높다."
   ]
  },
  {
   "cell_type": "markdown",
   "metadata": {},
   "source": [
    "## 피봇테이블 히트맵으로 시각화 하기\n",
    "- 피봇테이블을 좀더 직관적으로 보기 위해 히트맵을 사용.\n",
    "- 히트맵 그래프는 진한색일수록 값이 높고, 얅은색일수록 값이 낮다."
   ]
  },
  {
   "cell_type": "code",
   "execution_count": 160,
   "metadata": {},
   "outputs": [
    {
     "data": {
      "text/plain": [
       "<matplotlib.axes._subplots.AxesSubplot at 0x13737aa90>"
      ]
     },
     "execution_count": 160,
     "metadata": {},
     "output_type": "execute_result"
    },
    {
     "data": {
      "image/png": "[encoded data removed]",
      "text/plain": [
       "<Figure size 432x288 with 2 Axes>"
      ]
     },
     "metadata": {
      "needs_background": "light"
     },
     "output_type": "display_data"
    }
   ],
   "source": [
    "sns.heatmap(data=datas,cmap=sns.light_palette(\n",
    "    \"gray\",as_cmap=True),annot=True,fmt=\".1f\")"
   ]
  },
  {
   "cell_type": "code",
   "execution_count": 161,
   "metadata": {},
   "outputs": [
    {
     "data": {
      "text/html": [
       "<div>\n",
       "<style scoped>\n",
       "    .dataframe tbody tr th:only-of-type {\n",
       "        vertical-align: middle;\n",
       "    }\n",
       "\n",
       "    .dataframe tbody tr th {\n",
       "        vertical-align: top;\n",
       "    }\n",
       "\n",
       "    .dataframe thead th {\n",
       "        text-align: right;\n",
       "    }\n",
       "</style>\n",
       "<table border=\"1\" class=\"dataframe\">\n",
       "  <thead>\n",
       "    <tr style=\"text-align: right;\">\n",
       "      <th></th>\n",
       "      <th>고객번호</th>\n",
       "      <th>결혼상태</th>\n",
       "      <th>신용카드</th>\n",
       "      <th>주택소유</th>\n",
       "      <th>집세</th>\n",
       "      <th>수입</th>\n",
       "      <th>연령</th>\n",
       "      <th>거주년수</th>\n",
       "      <th>교육년수</th>\n",
       "      <th>고객년수</th>\n",
       "      <th>근무년수</th>\n",
       "      <th>신용도</th>\n",
       "    </tr>\n",
       "  </thead>\n",
       "  <tbody>\n",
       "    <tr>\n",
       "      <th>0</th>\n",
       "      <td>111982034</td>\n",
       "      <td>1</td>\n",
       "      <td>1</td>\n",
       "      <td>0</td>\n",
       "      <td>147.0</td>\n",
       "      <td>353.0</td>\n",
       "      <td>28.0</td>\n",
       "      <td>2</td>\n",
       "      <td>16.0</td>\n",
       "      <td>5.0</td>\n",
       "      <td>5</td>\n",
       "      <td>0</td>\n",
       "    </tr>\n",
       "    <tr>\n",
       "      <th>1</th>\n",
       "      <td>112444515</td>\n",
       "      <td>2</td>\n",
       "      <td>1</td>\n",
       "      <td>1</td>\n",
       "      <td>0.0</td>\n",
       "      <td>618.0</td>\n",
       "      <td>37.0</td>\n",
       "      <td>5</td>\n",
       "      <td>16.0</td>\n",
       "      <td>3.0</td>\n",
       "      <td>6</td>\n",
       "      <td>1</td>\n",
       "    </tr>\n",
       "    <tr>\n",
       "      <th>2</th>\n",
       "      <td>112690708</td>\n",
       "      <td>0</td>\n",
       "      <td>1</td>\n",
       "      <td>0</td>\n",
       "      <td>146.0</td>\n",
       "      <td>352.0</td>\n",
       "      <td>21.0</td>\n",
       "      <td>1</td>\n",
       "      <td>19.0</td>\n",
       "      <td>7.0</td>\n",
       "      <td>2</td>\n",
       "      <td>1</td>\n",
       "    </tr>\n",
       "    <tr>\n",
       "      <th>3</th>\n",
       "      <td>114084953</td>\n",
       "      <td>1</td>\n",
       "      <td>1</td>\n",
       "      <td>0</td>\n",
       "      <td>250.0</td>\n",
       "      <td>600.0</td>\n",
       "      <td>50.0</td>\n",
       "      <td>2</td>\n",
       "      <td>16.0</td>\n",
       "      <td>8.0</td>\n",
       "      <td>9</td>\n",
       "      <td>0</td>\n",
       "    </tr>\n",
       "    <tr>\n",
       "      <th>4</th>\n",
       "      <td>115345050</td>\n",
       "      <td>1</td>\n",
       "      <td>1</td>\n",
       "      <td>1</td>\n",
       "      <td>336.0</td>\n",
       "      <td>807.0</td>\n",
       "      <td>41.0</td>\n",
       "      <td>41</td>\n",
       "      <td>22.0</td>\n",
       "      <td>10.0</td>\n",
       "      <td>10</td>\n",
       "      <td>0</td>\n",
       "    </tr>\n",
       "  </tbody>\n",
       "</table>\n",
       "</div>"
      ],
      "text/plain": [
       "        고객번호  결혼상태  신용카드  주택소유     집세     수입    연령  거주년수  교육년수  고객년수  근무년수  \\\n",
       "0  111982034     1     1     0  147.0  353.0  28.0     2  16.0   5.0     5   \n",
       "1  112444515     2     1     1    0.0  618.0  37.0     5  16.0   3.0     6   \n",
       "2  112690708     0     1     0  146.0  352.0  21.0     1  19.0   7.0     2   \n",
       "3  114084953     1     1     0  250.0  600.0  50.0     2  16.0   8.0     9   \n",
       "4  115345050     1     1     1  336.0  807.0  41.0    41  22.0  10.0    10   \n",
       "\n",
       "   신용도  \n",
       "0    0  \n",
       "1    1  \n",
       "2    1  \n",
       "3    0  \n",
       "4    0  "
      ]
     },
     "execution_count": 161,
     "metadata": {},
     "output_type": "execute_result"
    }
   ],
   "source": [
    "data.head()"
   ]
  },
  {
   "cell_type": "markdown",
   "metadata": {},
   "source": [
    "## 막대 그래프\n",
    "- **집단 별 차이**를 표현 할 때 사용되며, 데이터 값의 크기에 비례하여 높이를 갖는 직사각형 막대로 표현하며 막대 높이의 상대적 길이 차이를 통해 값의 크기를 시각화 함\n",
    "- 변수 개수에 따른 시각화\n",
    "    - 일변수: 범주형 데이터 - **카운터플롯(sns.countplot)** : 범주에 따른 개수를 보는 그래프\n",
    "    - 이변수: (x:범주형, y:연속형) : 바플롯\n",
    "        - plt.bar(): 범주에 따른 최대 범위를 표시함\n",
    "        - sns.barplot(): 범주에 따른 평균을 표시함.\n",
    "            - **estimator**속성를 통해 평균이외의 기능을 사용할 수 있음.\n",
    "\n",
    "    > ## estimator\n",
    "    > #### - np.mean() : 평균.\n",
    "    > #### - np.std() : 표준편차.\n",
    "    > #### - np.median() : 중앙값.\n",
    "    > #### - np.max() : 최대값.\n",
    "    > #### - np.min() : 최소값.\n",
    "    > #### - np.size() : 크기.\n",
    "    "
   ]
  },
  {
   "cell_type": "markdown",
   "metadata": {},
   "source": [
    "### 원하지 않는 속성은 뺴고 시각화를 분석하는 bar_plot 함수"
   ]
  },
  {
   "cell_type": "code",
   "execution_count": 162,
   "metadata": {},
   "outputs": [],
   "source": [
    "def bar_plots(data,selected_x_column,selected_y_column,remove=None,hue=None):\n",
    "    \"\"\"\n",
    "    remove = none,\n",
    "    - 필요없는 분석은 뺴는 속성.(mean, std, median, max, min, size,'sum')\n",
    "    - 리스트로 전달해야됨. ex) remove=['mean', 'median']\n",
    "    \n",
    "    hue = none,\n",
    "    - 카테고리 변수 이름을 지정하여 케테고리 값에 따라 색상을 다르게 할 수 있다.\n",
    "    - ex) hue=\"age\"\n",
    "    \"\"\"\n",
    "    np_math = {\"mean\":np.mean, \"std\":np.std, \"sum\":np.sum, \"size\":np.size,\"median\":np.median,\n",
    "               \"max\":np.max, \"min\":np.min}\n",
    "    if(remove!=None):\n",
    "        for i in range(len(remove)):\n",
    "            np_math.pop(remove[i])\n",
    "    \n",
    "    plt.figure(figsize=(20,5*(np.ceil(len(np_math)/3))))\n",
    "    np_math_name_list = list(np_math.keys())\n",
    "    for i in range(len(np_math)):\n",
    "        plt.subplot(np.ceil(len(np_math)/3),3,i+1)\n",
    "        plt.title(np_math_name_list[i])\n",
    "        sns.barplot(x=selected_x_column,y=selected_y_column,data=data,\n",
    "                    estimator=np_math[np_math_name_list[i]],hue=hue)\n",
    "\n",
    "    plt.show()"
   ]
  },
  {
   "cell_type": "code",
   "execution_count": 163,
   "metadata": {},
   "outputs": [
    {
     "data": {
      "text/html": [
       "<div>\n",
       "<style scoped>\n",
       "    .dataframe tbody tr th:only-of-type {\n",
       "        vertical-align: middle;\n",
       "    }\n",
       "\n",
       "    .dataframe tbody tr th {\n",
       "        vertical-align: top;\n",
       "    }\n",
       "\n",
       "    .dataframe thead th {\n",
       "        text-align: right;\n",
       "    }\n",
       "</style>\n",
       "<table border=\"1\" class=\"dataframe\">\n",
       "  <thead>\n",
       "    <tr style=\"text-align: right;\">\n",
       "      <th></th>\n",
       "      <th>고객번호</th>\n",
       "      <th>결혼상태</th>\n",
       "      <th>신용카드</th>\n",
       "      <th>주택소유</th>\n",
       "      <th>집세</th>\n",
       "      <th>수입</th>\n",
       "      <th>연령</th>\n",
       "      <th>거주년수</th>\n",
       "      <th>교육년수</th>\n",
       "      <th>고객년수</th>\n",
       "      <th>근무년수</th>\n",
       "      <th>신용도</th>\n",
       "    </tr>\n",
       "  </thead>\n",
       "  <tbody>\n",
       "    <tr>\n",
       "      <th>0</th>\n",
       "      <td>111982034</td>\n",
       "      <td>1</td>\n",
       "      <td>1</td>\n",
       "      <td>0</td>\n",
       "      <td>147.0</td>\n",
       "      <td>353.0</td>\n",
       "      <td>28.0</td>\n",
       "      <td>2</td>\n",
       "      <td>16.0</td>\n",
       "      <td>5.0</td>\n",
       "      <td>5</td>\n",
       "      <td>0</td>\n",
       "    </tr>\n",
       "    <tr>\n",
       "      <th>1</th>\n",
       "      <td>112444515</td>\n",
       "      <td>2</td>\n",
       "      <td>1</td>\n",
       "      <td>1</td>\n",
       "      <td>0.0</td>\n",
       "      <td>618.0</td>\n",
       "      <td>37.0</td>\n",
       "      <td>5</td>\n",
       "      <td>16.0</td>\n",
       "      <td>3.0</td>\n",
       "      <td>6</td>\n",
       "      <td>1</td>\n",
       "    </tr>\n",
       "    <tr>\n",
       "      <th>2</th>\n",
       "      <td>112690708</td>\n",
       "      <td>0</td>\n",
       "      <td>1</td>\n",
       "      <td>0</td>\n",
       "      <td>146.0</td>\n",
       "      <td>352.0</td>\n",
       "      <td>21.0</td>\n",
       "      <td>1</td>\n",
       "      <td>19.0</td>\n",
       "      <td>7.0</td>\n",
       "      <td>2</td>\n",
       "      <td>1</td>\n",
       "    </tr>\n",
       "    <tr>\n",
       "      <th>3</th>\n",
       "      <td>114084953</td>\n",
       "      <td>1</td>\n",
       "      <td>1</td>\n",
       "      <td>0</td>\n",
       "      <td>250.0</td>\n",
       "      <td>600.0</td>\n",
       "      <td>50.0</td>\n",
       "      <td>2</td>\n",
       "      <td>16.0</td>\n",
       "      <td>8.0</td>\n",
       "      <td>9</td>\n",
       "      <td>0</td>\n",
       "    </tr>\n",
       "    <tr>\n",
       "      <th>4</th>\n",
       "      <td>115345050</td>\n",
       "      <td>1</td>\n",
       "      <td>1</td>\n",
       "      <td>1</td>\n",
       "      <td>336.0</td>\n",
       "      <td>807.0</td>\n",
       "      <td>41.0</td>\n",
       "      <td>41</td>\n",
       "      <td>22.0</td>\n",
       "      <td>10.0</td>\n",
       "      <td>10</td>\n",
       "      <td>0</td>\n",
       "    </tr>\n",
       "  </tbody>\n",
       "</table>\n",
       "</div>"
      ],
      "text/plain": [
       "        고객번호  결혼상태  신용카드  주택소유     집세     수입    연령  거주년수  교육년수  고객년수  근무년수  \\\n",
       "0  111982034     1     1     0  147.0  353.0  28.0     2  16.0   5.0     5   \n",
       "1  112444515     2     1     1    0.0  618.0  37.0     5  16.0   3.0     6   \n",
       "2  112690708     0     1     0  146.0  352.0  21.0     1  19.0   7.0     2   \n",
       "3  114084953     1     1     0  250.0  600.0  50.0     2  16.0   8.0     9   \n",
       "4  115345050     1     1     1  336.0  807.0  41.0    41  22.0  10.0    10   \n",
       "\n",
       "   신용도  \n",
       "0    0  \n",
       "1    1  \n",
       "2    1  \n",
       "3    0  \n",
       "4    0  "
      ]
     },
     "execution_count": 163,
     "metadata": {},
     "output_type": "execute_result"
    }
   ],
   "source": [
    "data.head()"
   ]
  },
  {
   "cell_type": "code",
   "execution_count": 164,
   "metadata": {},
   "outputs": [],
   "source": [
    "selected_x_column = '주택소유' # 범주형 속성\n",
    "selected_y_column = '연령' # 연속형 속성\n",
    "hue = \"결혼상태\""
   ]
  },
  {
   "cell_type": "markdown",
   "metadata": {},
   "source": [
    "### std, min, sum,size기능은 필요없어서 뺐다."
   ]
  },
  {
   "cell_type": "code",
   "execution_count": 165,
   "metadata": {},
   "outputs": [
    {
     "data": {
      "image/png": "[encoded data removed]",
      "text/plain": [
       "<Figure size 1440x360 with 3 Axes>"
      ]
     },
     "metadata": {
      "needs_background": "light"
     },
     "output_type": "display_data"
    }
   ],
   "source": [
    "bar_plots(data,selected_x_column,selected_y_column,remove=['std','min','sum','size'],hue=hue)"
   ]
  },
  {
   "cell_type": "markdown",
   "metadata": {},
   "source": [
    "> ## 그래프 분석\n",
    "연령의 mean(평균)에서는 주택소유 상관없이 결혼상태일때 높고, 최대값(max)는 주택소유하지않으면서 결혼했을때 연령이 제일 높다. "
   ]
  },
  {
   "cell_type": "code",
   "execution_count": null,
   "metadata": {},
   "outputs": [],
   "source": []
  }
 ],
 "metadata": {
  "kernelspec": {
   "display_name": "Python 3",
   "language": "python",
   "name": "python3"
  },
  "language_info": {
   "codemirror_mode": {
    "name": "ipython",
    "version": 3
   },
   "file_extension": ".py",
   "mimetype": "text/x-python",
   "name": "python",
   "nbconvert_exporter": "python",
   "pygments_lexer": "ipython3",
   "version": "3.7.3"
  }
 },
 "nbformat": 4,
 "nbformat_minor": 2
}

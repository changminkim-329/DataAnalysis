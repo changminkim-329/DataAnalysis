{
 "cells": [
  {
   "cell_type": "code",
   "execution_count": 2,
   "metadata": {},
   "outputs": [],
   "source": [
    "import seaborn as sns\n",
    "import numpy as np\n",
    "import pandas as pd\n",
    "import matplotlib.pyplot as plt"
   ]
  },
  {
   "cell_type": "code",
   "execution_count": 3,
   "metadata": {},
   "outputs": [],
   "source": [
    "titanic_data = sns.load_dataset('titanic')"
   ]
  },
  {
   "cell_type": "markdown",
   "metadata": {},
   "source": [
    " pclass : 승객 등급 \n",
    "\n",
    "• survived : 생존여부 (생존 :1 , 아닌 경우 : 0) \n",
    "\n",
    "• sex : 승객 성별 \n",
    "\n",
    "• age : 승객 나이 \n",
    "\n",
    "• sibsp: 동승한 형제 또는 배우자 수 \n",
    "\n",
    "• parch : 동승한 부모 또는 자녀수 \n",
    "\n",
    "• fare : 승객 지불 요금 \n",
    "\n",
    "• cabin : 선실 이름 \n",
    "\n",
    "• embarked : 승선항 ( C= 쉘 부르크, Q= 퀸즈타운, S=사우스 햄튼 \n",
    "\n",
    "• body :사망자 확인 번호 \n",
    "\n",
    "• home.dest:고향/목적지"
   ]
  },
  {
   "cell_type": "code",
   "execution_count": 4,
   "metadata": {},
   "outputs": [],
   "source": [
    "titanic_data[\"alone\"] = titanic_data[\"alone\"].astype('int64')\n",
    "titanic_data[\"embarked\"] = titanic_data[\"embarked\"].astype('str')\n",
    "titanic_data = titanic_data.drop([\"deck\"],axis=1)"
   ]
  },
  {
   "cell_type": "markdown",
   "metadata": {},
   "source": [
    "## 타이타닉 데이터 정보"
   ]
  },
  {
   "cell_type": "code",
   "execution_count": 5,
   "metadata": {},
   "outputs": [
    {
     "name": "stdout",
     "output_type": "stream",
     "text": [
      "<class 'pandas.core.frame.DataFrame'>\n",
      "RangeIndex: 891 entries, 0 to 890\n",
      "Data columns (total 14 columns):\n",
      "survived       891 non-null int64\n",
      "pclass         891 non-null int64\n",
      "sex            891 non-null object\n",
      "age            714 non-null float64\n",
      "sibsp          891 non-null int64\n",
      "parch          891 non-null int64\n",
      "fare           891 non-null float64\n",
      "embarked       891 non-null object\n",
      "class          891 non-null category\n",
      "who            891 non-null object\n",
      "adult_male     891 non-null bool\n",
      "embark_town    889 non-null object\n",
      "alive          891 non-null object\n",
      "alone          891 non-null int64\n",
      "dtypes: bool(1), category(1), float64(2), int64(5), object(5)\n",
      "memory usage: 85.5+ KB\n"
     ]
    }
   ],
   "source": [
    "titanic_data.info()"
   ]
  },
  {
   "cell_type": "code",
   "execution_count": 6,
   "metadata": {
    "scrolled": true
   },
   "outputs": [
    {
     "data": {
      "text/html": [
       "<div>\n",
       "<style scoped>\n",
       "    .dataframe tbody tr th:only-of-type {\n",
       "        vertical-align: middle;\n",
       "    }\n",
       "\n",
       "    .dataframe tbody tr th {\n",
       "        vertical-align: top;\n",
       "    }\n",
       "\n",
       "    .dataframe thead th {\n",
       "        text-align: right;\n",
       "    }\n",
       "</style>\n",
       "<table border=\"1\" class=\"dataframe\">\n",
       "  <thead>\n",
       "    <tr style=\"text-align: right;\">\n",
       "      <th></th>\n",
       "      <th>survived</th>\n",
       "      <th>pclass</th>\n",
       "      <th>sex</th>\n",
       "      <th>age</th>\n",
       "      <th>sibsp</th>\n",
       "      <th>parch</th>\n",
       "      <th>fare</th>\n",
       "      <th>embarked</th>\n",
       "      <th>class</th>\n",
       "      <th>who</th>\n",
       "      <th>adult_male</th>\n",
       "      <th>embark_town</th>\n",
       "      <th>alive</th>\n",
       "      <th>alone</th>\n",
       "    </tr>\n",
       "  </thead>\n",
       "  <tbody>\n",
       "    <tr>\n",
       "      <th>0</th>\n",
       "      <td>0</td>\n",
       "      <td>3</td>\n",
       "      <td>male</td>\n",
       "      <td>22.0</td>\n",
       "      <td>1</td>\n",
       "      <td>0</td>\n",
       "      <td>7.2500</td>\n",
       "      <td>S</td>\n",
       "      <td>Third</td>\n",
       "      <td>man</td>\n",
       "      <td>True</td>\n",
       "      <td>Southampton</td>\n",
       "      <td>no</td>\n",
       "      <td>0</td>\n",
       "    </tr>\n",
       "    <tr>\n",
       "      <th>1</th>\n",
       "      <td>1</td>\n",
       "      <td>1</td>\n",
       "      <td>female</td>\n",
       "      <td>38.0</td>\n",
       "      <td>1</td>\n",
       "      <td>0</td>\n",
       "      <td>71.2833</td>\n",
       "      <td>C</td>\n",
       "      <td>First</td>\n",
       "      <td>woman</td>\n",
       "      <td>False</td>\n",
       "      <td>Cherbourg</td>\n",
       "      <td>yes</td>\n",
       "      <td>0</td>\n",
       "    </tr>\n",
       "    <tr>\n",
       "      <th>2</th>\n",
       "      <td>1</td>\n",
       "      <td>3</td>\n",
       "      <td>female</td>\n",
       "      <td>26.0</td>\n",
       "      <td>0</td>\n",
       "      <td>0</td>\n",
       "      <td>7.9250</td>\n",
       "      <td>S</td>\n",
       "      <td>Third</td>\n",
       "      <td>woman</td>\n",
       "      <td>False</td>\n",
       "      <td>Southampton</td>\n",
       "      <td>yes</td>\n",
       "      <td>1</td>\n",
       "    </tr>\n",
       "    <tr>\n",
       "      <th>3</th>\n",
       "      <td>1</td>\n",
       "      <td>1</td>\n",
       "      <td>female</td>\n",
       "      <td>35.0</td>\n",
       "      <td>1</td>\n",
       "      <td>0</td>\n",
       "      <td>53.1000</td>\n",
       "      <td>S</td>\n",
       "      <td>First</td>\n",
       "      <td>woman</td>\n",
       "      <td>False</td>\n",
       "      <td>Southampton</td>\n",
       "      <td>yes</td>\n",
       "      <td>0</td>\n",
       "    </tr>\n",
       "    <tr>\n",
       "      <th>4</th>\n",
       "      <td>0</td>\n",
       "      <td>3</td>\n",
       "      <td>male</td>\n",
       "      <td>35.0</td>\n",
       "      <td>0</td>\n",
       "      <td>0</td>\n",
       "      <td>8.0500</td>\n",
       "      <td>S</td>\n",
       "      <td>Third</td>\n",
       "      <td>man</td>\n",
       "      <td>True</td>\n",
       "      <td>Southampton</td>\n",
       "      <td>no</td>\n",
       "      <td>1</td>\n",
       "    </tr>\n",
       "    <tr>\n",
       "      <th>5</th>\n",
       "      <td>0</td>\n",
       "      <td>3</td>\n",
       "      <td>male</td>\n",
       "      <td>NaN</td>\n",
       "      <td>0</td>\n",
       "      <td>0</td>\n",
       "      <td>8.4583</td>\n",
       "      <td>Q</td>\n",
       "      <td>Third</td>\n",
       "      <td>man</td>\n",
       "      <td>True</td>\n",
       "      <td>Queenstown</td>\n",
       "      <td>no</td>\n",
       "      <td>1</td>\n",
       "    </tr>\n",
       "    <tr>\n",
       "      <th>6</th>\n",
       "      <td>0</td>\n",
       "      <td>1</td>\n",
       "      <td>male</td>\n",
       "      <td>54.0</td>\n",
       "      <td>0</td>\n",
       "      <td>0</td>\n",
       "      <td>51.8625</td>\n",
       "      <td>S</td>\n",
       "      <td>First</td>\n",
       "      <td>man</td>\n",
       "      <td>True</td>\n",
       "      <td>Southampton</td>\n",
       "      <td>no</td>\n",
       "      <td>1</td>\n",
       "    </tr>\n",
       "    <tr>\n",
       "      <th>7</th>\n",
       "      <td>0</td>\n",
       "      <td>3</td>\n",
       "      <td>male</td>\n",
       "      <td>2.0</td>\n",
       "      <td>3</td>\n",
       "      <td>1</td>\n",
       "      <td>21.0750</td>\n",
       "      <td>S</td>\n",
       "      <td>Third</td>\n",
       "      <td>child</td>\n",
       "      <td>False</td>\n",
       "      <td>Southampton</td>\n",
       "      <td>no</td>\n",
       "      <td>0</td>\n",
       "    </tr>\n",
       "    <tr>\n",
       "      <th>8</th>\n",
       "      <td>1</td>\n",
       "      <td>3</td>\n",
       "      <td>female</td>\n",
       "      <td>27.0</td>\n",
       "      <td>0</td>\n",
       "      <td>2</td>\n",
       "      <td>11.1333</td>\n",
       "      <td>S</td>\n",
       "      <td>Third</td>\n",
       "      <td>woman</td>\n",
       "      <td>False</td>\n",
       "      <td>Southampton</td>\n",
       "      <td>yes</td>\n",
       "      <td>0</td>\n",
       "    </tr>\n",
       "    <tr>\n",
       "      <th>9</th>\n",
       "      <td>1</td>\n",
       "      <td>2</td>\n",
       "      <td>female</td>\n",
       "      <td>14.0</td>\n",
       "      <td>1</td>\n",
       "      <td>0</td>\n",
       "      <td>30.0708</td>\n",
       "      <td>C</td>\n",
       "      <td>Second</td>\n",
       "      <td>child</td>\n",
       "      <td>False</td>\n",
       "      <td>Cherbourg</td>\n",
       "      <td>yes</td>\n",
       "      <td>0</td>\n",
       "    </tr>\n",
       "  </tbody>\n",
       "</table>\n",
       "</div>"
      ],
      "text/plain": [
       "   survived  pclass     sex   age  sibsp  parch     fare embarked   class  \\\n",
       "0         0       3    male  22.0      1      0   7.2500        S   Third   \n",
       "1         1       1  female  38.0      1      0  71.2833        C   First   \n",
       "2         1       3  female  26.0      0      0   7.9250        S   Third   \n",
       "3         1       1  female  35.0      1      0  53.1000        S   First   \n",
       "4         0       3    male  35.0      0      0   8.0500        S   Third   \n",
       "5         0       3    male   NaN      0      0   8.4583        Q   Third   \n",
       "6         0       1    male  54.0      0      0  51.8625        S   First   \n",
       "7         0       3    male   2.0      3      1  21.0750        S   Third   \n",
       "8         1       3  female  27.0      0      2  11.1333        S   Third   \n",
       "9         1       2  female  14.0      1      0  30.0708        C  Second   \n",
       "\n",
       "     who  adult_male  embark_town alive  alone  \n",
       "0    man        True  Southampton    no      0  \n",
       "1  woman       False    Cherbourg   yes      0  \n",
       "2  woman       False  Southampton   yes      1  \n",
       "3  woman       False  Southampton   yes      0  \n",
       "4    man        True  Southampton    no      1  \n",
       "5    man        True   Queenstown    no      1  \n",
       "6    man        True  Southampton    no      1  \n",
       "7  child       False  Southampton    no      0  \n",
       "8  woman       False  Southampton   yes      0  \n",
       "9  child       False    Cherbourg   yes      0  "
      ]
     },
     "execution_count": 6,
     "metadata": {},
     "output_type": "execute_result"
    }
   ],
   "source": [
    "titanic_data.head(n=10)"
   ]
  },
  {
   "cell_type": "markdown",
   "metadata": {},
   "source": [
    "## 유일한 값 개수 구하기"
   ]
  },
  {
   "cell_type": "code",
   "execution_count": 7,
   "metadata": {},
   "outputs": [],
   "source": [
    "n = titanic_data['embarked']"
   ]
  },
  {
   "cell_type": "code",
   "execution_count": 8,
   "metadata": {},
   "outputs": [
    {
     "data": {
      "text/plain": [
       "S      644\n",
       "C      168\n",
       "Q       77\n",
       "nan      2\n",
       "Name: embarked, dtype: int64"
      ]
     },
     "execution_count": 8,
     "metadata": {},
     "output_type": "execute_result"
    }
   ],
   "source": [
    "n.value_counts()"
   ]
  },
  {
   "cell_type": "code",
   "execution_count": 9,
   "metadata": {},
   "outputs": [
    {
     "data": {
      "text/plain": [
       "array(['C', 'Q', 'S', 'nan'], dtype=object)"
      ]
     },
     "execution_count": 9,
     "metadata": {},
     "output_type": "execute_result"
    }
   ],
   "source": [
    "np.unique(n)"
   ]
  },
  {
   "cell_type": "markdown",
   "metadata": {},
   "source": [
    "### 이상치 분석"
   ]
  },
  {
   "cell_type": "code",
   "execution_count": 10,
   "metadata": {},
   "outputs": [
    {
     "name": "stdout",
     "output_type": "stream",
     "text": [
      "Before Clearing Outlier |mean-median|: 18.921401404494322\n",
      "After Clearing Outlier |mean-median|: 3.2521773831775764\n"
     ]
    },
    {
     "name": "stderr",
     "output_type": "stream",
     "text": [
      "/Users/changmin.kim/anaconda3/lib/python3.7/site-packages/ipykernel_launcher.py:13: UserWarning: Boolean Series key will be reindexed to match DataFrame index.\n",
      "  del sys.path[0]\n"
     ]
    },
    {
     "data": {
      "image/png": "[encoded data removed]",
      "text/plain": [
       "<Figure size 1080x576 with 2 Axes>"
      ]
     },
     "metadata": {
      "needs_background": "light"
     },
     "output_type": "display_data"
    }
   ],
   "source": [
    "plt.figure(figsize=(15,8))\n",
    "plt.subplot(1,2,1)\n",
    "plt.title('Before Clearing Outlier')\n",
    "plt.boxplot(titanic_data.dropna()['fare'],vert=0)\n",
    "plt.axvline(np.mean(titanic_data.dropna()['fare']),color='r',label='mean',linestyle='--')\n",
    "plt.legend()\n",
    "print('Before Clearing Outlier |mean-median|:',\n",
    "      np.mean(titanic_data.dropna()['fare'])-np.median(titanic_data.dropna()['fare']))\n",
    "\n",
    "plt.subplot(1,2,2)\n",
    "plt.title('After Clearing Outlier')\n",
    "quartile = np.percentile(titanic_data.dropna()['fare'],[0,25,50,75,100])\n",
    "data = (titanic_data.dropna()[titanic_data.fare<=quartile[3]])['fare']\n",
    "plt.boxplot(data,vert=0)\n",
    "plt.boxplot(data,vert=0)\n",
    "plt.axvline(np.mean(data),color='r',linestyle='--',lw=2.0,label='mean')\n",
    "plt.legend()\n",
    "print('After Clearing Outlier |mean-median|:',\n",
    "      np.mean(data)-np.median(data))\n",
    "plt.show()"
   ]
  },
  {
   "cell_type": "markdown",
   "metadata": {},
   "source": [
    "> ## 그래프 분석\n",
    "**이상치 제거 전 평균과 중위값의 차이: 18.9214**<br>\n",
    "**이상치 제거 후 평균과 중위값의 차이: 3.25217**<br>\n",
    "    - 이렇게 이상치를 빼면 평균과 중위값의 차이가 줄어드는 것을 알 수 있다.\n",
    "    - 평균은 이상치에 대해 민감하기 때문에 이러한 결과가 발생하는 것이다.\n",
    "    \n",
    "\n",
    "### 이상치 데이터 분석\n",
    "- 이상치만 가지는 데이터그룹과 이상치를 가지지않는 데이터그룹을 나누어서 분석하겠다.\n",
    "- embark_town속성으로 그룹을 지어서 분석하겠다."
   ]
  },
  {
   "cell_type": "code",
   "execution_count": 11,
   "metadata": {
    "scrolled": true
   },
   "outputs": [
    {
     "name": "stderr",
     "output_type": "stream",
     "text": [
      "/Users/changmin.kim/anaconda3/lib/python3.7/site-packages/ipykernel_launcher.py:1: UserWarning: Boolean Series key will be reindexed to match DataFrame index.\n",
      "  \"\"\"Entry point for launching an IPython kernel.\n"
     ]
    },
    {
     "data": {
      "text/html": [
       "<div>\n",
       "<style scoped>\n",
       "    .dataframe tbody tr th:only-of-type {\n",
       "        vertical-align: middle;\n",
       "    }\n",
       "\n",
       "    .dataframe tbody tr th {\n",
       "        vertical-align: top;\n",
       "    }\n",
       "\n",
       "    .dataframe thead th {\n",
       "        text-align: right;\n",
       "    }\n",
       "</style>\n",
       "<table border=\"1\" class=\"dataframe\">\n",
       "  <thead>\n",
       "    <tr style=\"text-align: right;\">\n",
       "      <th></th>\n",
       "      <th>count</th>\n",
       "      <th>mean</th>\n",
       "      <th>std</th>\n",
       "      <th>min</th>\n",
       "      <th>25%</th>\n",
       "      <th>50%</th>\n",
       "      <th>75%</th>\n",
       "      <th>max</th>\n",
       "    </tr>\n",
       "    <tr>\n",
       "      <th>embark_town</th>\n",
       "      <th></th>\n",
       "      <th></th>\n",
       "      <th></th>\n",
       "      <th></th>\n",
       "      <th></th>\n",
       "      <th></th>\n",
       "      <th></th>\n",
       "      <th></th>\n",
       "    </tr>\n",
       "  </thead>\n",
       "  <tbody>\n",
       "    <tr>\n",
       "      <th>Cherbourg</th>\n",
       "      <td>26.0</td>\n",
       "      <td>1.0</td>\n",
       "      <td>0.0</td>\n",
       "      <td>1.0</td>\n",
       "      <td>1.0</td>\n",
       "      <td>1.0</td>\n",
       "      <td>1.0</td>\n",
       "      <td>1.0</td>\n",
       "    </tr>\n",
       "    <tr>\n",
       "      <th>Southampton</th>\n",
       "      <td>22.0</td>\n",
       "      <td>1.0</td>\n",
       "      <td>0.0</td>\n",
       "      <td>1.0</td>\n",
       "      <td>1.0</td>\n",
       "      <td>1.0</td>\n",
       "      <td>1.0</td>\n",
       "      <td>1.0</td>\n",
       "    </tr>\n",
       "  </tbody>\n",
       "</table>\n",
       "</div>"
      ],
      "text/plain": [
       "             count  mean  std  min  25%  50%  75%  max\n",
       "embark_town                                           \n",
       "Cherbourg     26.0   1.0  0.0  1.0  1.0  1.0  1.0  1.0\n",
       "Southampton   22.0   1.0  0.0  1.0  1.0  1.0  1.0  1.0"
      ]
     },
     "execution_count": 11,
     "metadata": {},
     "output_type": "execute_result"
    }
   ],
   "source": [
    "n = (titanic_data.dropna()[titanic_data.fare>100].groupby(['embark_town']))\n",
    "n.describe()['pclass']"
   ]
  },
  {
   "cell_type": "markdown",
   "metadata": {},
   "source": [
    "fare>100이상인 곳은 Cherbourg과 Southampton이고, pclass의 평균이 1이다. 이경우 거의 대부분이 first_class라는 것을 의미한다."
   ]
  },
  {
   "cell_type": "code",
   "execution_count": 12,
   "metadata": {
    "scrolled": true
   },
   "outputs": [
    {
     "data": {
      "text/html": [
       "<div>\n",
       "<style scoped>\n",
       "    .dataframe tbody tr th:only-of-type {\n",
       "        vertical-align: middle;\n",
       "    }\n",
       "\n",
       "    .dataframe tbody tr th {\n",
       "        vertical-align: top;\n",
       "    }\n",
       "\n",
       "    .dataframe thead th {\n",
       "        text-align: right;\n",
       "    }\n",
       "</style>\n",
       "<table border=\"1\" class=\"dataframe\">\n",
       "  <thead>\n",
       "    <tr style=\"text-align: right;\">\n",
       "      <th></th>\n",
       "      <th>embark_town</th>\n",
       "      <th>pclass</th>\n",
       "    </tr>\n",
       "  </thead>\n",
       "  <tbody>\n",
       "    <tr>\n",
       "      <th>118</th>\n",
       "      <td>Cherbourg</td>\n",
       "      <td>1</td>\n",
       "    </tr>\n",
       "    <tr>\n",
       "      <th>195</th>\n",
       "      <td>Cherbourg</td>\n",
       "      <td>1</td>\n",
       "    </tr>\n",
       "    <tr>\n",
       "      <th>215</th>\n",
       "      <td>Cherbourg</td>\n",
       "      <td>1</td>\n",
       "    </tr>\n",
       "    <tr>\n",
       "      <th>258</th>\n",
       "      <td>Cherbourg</td>\n",
       "      <td>1</td>\n",
       "    </tr>\n",
       "    <tr>\n",
       "      <th>299</th>\n",
       "      <td>Cherbourg</td>\n",
       "      <td>1</td>\n",
       "    </tr>\n",
       "    <tr>\n",
       "      <th>307</th>\n",
       "      <td>Cherbourg</td>\n",
       "      <td>1</td>\n",
       "    </tr>\n",
       "    <tr>\n",
       "      <th>311</th>\n",
       "      <td>Cherbourg</td>\n",
       "      <td>1</td>\n",
       "    </tr>\n",
       "    <tr>\n",
       "      <th>319</th>\n",
       "      <td>Cherbourg</td>\n",
       "      <td>1</td>\n",
       "    </tr>\n",
       "    <tr>\n",
       "      <th>325</th>\n",
       "      <td>Cherbourg</td>\n",
       "      <td>1</td>\n",
       "    </tr>\n",
       "    <tr>\n",
       "      <th>337</th>\n",
       "      <td>Cherbourg</td>\n",
       "      <td>1</td>\n",
       "    </tr>\n",
       "    <tr>\n",
       "      <th>373</th>\n",
       "      <td>Cherbourg</td>\n",
       "      <td>1</td>\n",
       "    </tr>\n",
       "    <tr>\n",
       "      <th>377</th>\n",
       "      <td>Cherbourg</td>\n",
       "      <td>1</td>\n",
       "    </tr>\n",
       "    <tr>\n",
       "      <th>380</th>\n",
       "      <td>Cherbourg</td>\n",
       "      <td>1</td>\n",
       "    </tr>\n",
       "    <tr>\n",
       "      <th>393</th>\n",
       "      <td>Cherbourg</td>\n",
       "      <td>1</td>\n",
       "    </tr>\n",
       "    <tr>\n",
       "      <th>505</th>\n",
       "      <td>Cherbourg</td>\n",
       "      <td>1</td>\n",
       "    </tr>\n",
       "    <tr>\n",
       "      <th>537</th>\n",
       "      <td>Cherbourg</td>\n",
       "      <td>1</td>\n",
       "    </tr>\n",
       "    <tr>\n",
       "      <th>544</th>\n",
       "      <td>Cherbourg</td>\n",
       "      <td>1</td>\n",
       "    </tr>\n",
       "    <tr>\n",
       "      <th>550</th>\n",
       "      <td>Cherbourg</td>\n",
       "      <td>1</td>\n",
       "    </tr>\n",
       "    <tr>\n",
       "      <th>581</th>\n",
       "      <td>Cherbourg</td>\n",
       "      <td>1</td>\n",
       "    </tr>\n",
       "    <tr>\n",
       "      <th>659</th>\n",
       "      <td>Cherbourg</td>\n",
       "      <td>1</td>\n",
       "    </tr>\n",
       "    <tr>\n",
       "      <th>679</th>\n",
       "      <td>Cherbourg</td>\n",
       "      <td>1</td>\n",
       "    </tr>\n",
       "    <tr>\n",
       "      <th>698</th>\n",
       "      <td>Cherbourg</td>\n",
       "      <td>1</td>\n",
       "    </tr>\n",
       "    <tr>\n",
       "      <th>700</th>\n",
       "      <td>Cherbourg</td>\n",
       "      <td>1</td>\n",
       "    </tr>\n",
       "    <tr>\n",
       "      <th>716</th>\n",
       "      <td>Cherbourg</td>\n",
       "      <td>1</td>\n",
       "    </tr>\n",
       "    <tr>\n",
       "      <th>737</th>\n",
       "      <td>Cherbourg</td>\n",
       "      <td>1</td>\n",
       "    </tr>\n",
       "    <tr>\n",
       "      <th>742</th>\n",
       "      <td>Cherbourg</td>\n",
       "      <td>1</td>\n",
       "    </tr>\n",
       "  </tbody>\n",
       "</table>\n",
       "</div>"
      ],
      "text/plain": [
       "    embark_town  pclass\n",
       "118   Cherbourg       1\n",
       "195   Cherbourg       1\n",
       "215   Cherbourg       1\n",
       "258   Cherbourg       1\n",
       "299   Cherbourg       1\n",
       "307   Cherbourg       1\n",
       "311   Cherbourg       1\n",
       "319   Cherbourg       1\n",
       "325   Cherbourg       1\n",
       "337   Cherbourg       1\n",
       "373   Cherbourg       1\n",
       "377   Cherbourg       1\n",
       "380   Cherbourg       1\n",
       "393   Cherbourg       1\n",
       "505   Cherbourg       1\n",
       "537   Cherbourg       1\n",
       "544   Cherbourg       1\n",
       "550   Cherbourg       1\n",
       "581   Cherbourg       1\n",
       "659   Cherbourg       1\n",
       "679   Cherbourg       1\n",
       "698   Cherbourg       1\n",
       "700   Cherbourg       1\n",
       "716   Cherbourg       1\n",
       "737   Cherbourg       1\n",
       "742   Cherbourg       1"
      ]
     },
     "execution_count": 12,
     "metadata": {},
     "output_type": "execute_result"
    }
   ],
   "source": [
    "n.get_group('Cherbourg').loc[:,[\"embark_town\",\"pclass\"]]"
   ]
  },
  {
   "cell_type": "code",
   "execution_count": 13,
   "metadata": {
    "scrolled": true
   },
   "outputs": [
    {
     "data": {
      "text/html": [
       "<div>\n",
       "<style scoped>\n",
       "    .dataframe tbody tr th:only-of-type {\n",
       "        vertical-align: middle;\n",
       "    }\n",
       "\n",
       "    .dataframe tbody tr th {\n",
       "        vertical-align: top;\n",
       "    }\n",
       "\n",
       "    .dataframe thead th {\n",
       "        text-align: right;\n",
       "    }\n",
       "</style>\n",
       "<table border=\"1\" class=\"dataframe\">\n",
       "  <thead>\n",
       "    <tr style=\"text-align: right;\">\n",
       "      <th></th>\n",
       "      <th>embark_town</th>\n",
       "      <th>pclass</th>\n",
       "    </tr>\n",
       "  </thead>\n",
       "  <tbody>\n",
       "    <tr>\n",
       "      <th>27</th>\n",
       "      <td>Southampton</td>\n",
       "      <td>1</td>\n",
       "    </tr>\n",
       "    <tr>\n",
       "      <th>88</th>\n",
       "      <td>Southampton</td>\n",
       "      <td>1</td>\n",
       "    </tr>\n",
       "    <tr>\n",
       "      <th>268</th>\n",
       "      <td>Southampton</td>\n",
       "      <td>1</td>\n",
       "    </tr>\n",
       "    <tr>\n",
       "      <th>269</th>\n",
       "      <td>Southampton</td>\n",
       "      <td>1</td>\n",
       "    </tr>\n",
       "    <tr>\n",
       "      <th>297</th>\n",
       "      <td>Southampton</td>\n",
       "      <td>1</td>\n",
       "    </tr>\n",
       "    <tr>\n",
       "      <th>305</th>\n",
       "      <td>Southampton</td>\n",
       "      <td>1</td>\n",
       "    </tr>\n",
       "    <tr>\n",
       "      <th>318</th>\n",
       "      <td>Southampton</td>\n",
       "      <td>1</td>\n",
       "    </tr>\n",
       "    <tr>\n",
       "      <th>332</th>\n",
       "      <td>Southampton</td>\n",
       "      <td>1</td>\n",
       "    </tr>\n",
       "    <tr>\n",
       "      <th>341</th>\n",
       "      <td>Southampton</td>\n",
       "      <td>1</td>\n",
       "    </tr>\n",
       "    <tr>\n",
       "      <th>390</th>\n",
       "      <td>Southampton</td>\n",
       "      <td>1</td>\n",
       "    </tr>\n",
       "    <tr>\n",
       "      <th>435</th>\n",
       "      <td>Southampton</td>\n",
       "      <td>1</td>\n",
       "    </tr>\n",
       "    <tr>\n",
       "      <th>438</th>\n",
       "      <td>Southampton</td>\n",
       "      <td>1</td>\n",
       "    </tr>\n",
       "    <tr>\n",
       "      <th>498</th>\n",
       "      <td>Southampton</td>\n",
       "      <td>1</td>\n",
       "    </tr>\n",
       "    <tr>\n",
       "      <th>609</th>\n",
       "      <td>Southampton</td>\n",
       "      <td>1</td>\n",
       "    </tr>\n",
       "    <tr>\n",
       "      <th>660</th>\n",
       "      <td>Southampton</td>\n",
       "      <td>1</td>\n",
       "    </tr>\n",
       "    <tr>\n",
       "      <th>689</th>\n",
       "      <td>Southampton</td>\n",
       "      <td>1</td>\n",
       "    </tr>\n",
       "    <tr>\n",
       "      <th>708</th>\n",
       "      <td>Southampton</td>\n",
       "      <td>1</td>\n",
       "    </tr>\n",
       "    <tr>\n",
       "      <th>730</th>\n",
       "      <td>Southampton</td>\n",
       "      <td>1</td>\n",
       "    </tr>\n",
       "    <tr>\n",
       "      <th>763</th>\n",
       "      <td>Southampton</td>\n",
       "      <td>1</td>\n",
       "    </tr>\n",
       "    <tr>\n",
       "      <th>779</th>\n",
       "      <td>Southampton</td>\n",
       "      <td>1</td>\n",
       "    </tr>\n",
       "    <tr>\n",
       "      <th>802</th>\n",
       "      <td>Southampton</td>\n",
       "      <td>1</td>\n",
       "    </tr>\n",
       "    <tr>\n",
       "      <th>856</th>\n",
       "      <td>Southampton</td>\n",
       "      <td>1</td>\n",
       "    </tr>\n",
       "  </tbody>\n",
       "</table>\n",
       "</div>"
      ],
      "text/plain": [
       "     embark_town  pclass\n",
       "27   Southampton       1\n",
       "88   Southampton       1\n",
       "268  Southampton       1\n",
       "269  Southampton       1\n",
       "297  Southampton       1\n",
       "305  Southampton       1\n",
       "318  Southampton       1\n",
       "332  Southampton       1\n",
       "341  Southampton       1\n",
       "390  Southampton       1\n",
       "435  Southampton       1\n",
       "438  Southampton       1\n",
       "498  Southampton       1\n",
       "609  Southampton       1\n",
       "660  Southampton       1\n",
       "689  Southampton       1\n",
       "708  Southampton       1\n",
       "730  Southampton       1\n",
       "763  Southampton       1\n",
       "779  Southampton       1\n",
       "802  Southampton       1\n",
       "856  Southampton       1"
      ]
     },
     "execution_count": 13,
     "metadata": {},
     "output_type": "execute_result"
    }
   ],
   "source": [
    "n.get_group('Southampton').loc[:,[\"embark_town\",\"pclass\"]]"
   ]
  },
  {
   "cell_type": "markdown",
   "metadata": {},
   "source": [
    "Cherbourg과 Southampthon이다. 그리고 여기에 속한 사람들 모두는 first_class이다.Queenstown은 이 범주에 속하지 않는다. 따라서, Queenstown은 못사는 마을일 확률이 더 높다. 하지만 아직 확신할 수 없으니 더 분석해보자."
   ]
  },
  {
   "cell_type": "code",
   "execution_count": 14,
   "metadata": {
    "scrolled": true
   },
   "outputs": [
    {
     "name": "stderr",
     "output_type": "stream",
     "text": [
      "/Users/changmin.kim/anaconda3/lib/python3.7/site-packages/ipykernel_launcher.py:1: UserWarning: Boolean Series key will be reindexed to match DataFrame index.\n",
      "  \"\"\"Entry point for launching an IPython kernel.\n"
     ]
    },
    {
     "data": {
      "text/html": [
       "<div>\n",
       "<style scoped>\n",
       "    .dataframe tbody tr th:only-of-type {\n",
       "        vertical-align: middle;\n",
       "    }\n",
       "\n",
       "    .dataframe tbody tr th {\n",
       "        vertical-align: top;\n",
       "    }\n",
       "\n",
       "    .dataframe thead th {\n",
       "        text-align: right;\n",
       "    }\n",
       "</style>\n",
       "<table border=\"1\" class=\"dataframe\">\n",
       "  <thead>\n",
       "    <tr style=\"text-align: right;\">\n",
       "      <th></th>\n",
       "      <th>count</th>\n",
       "      <th>mean</th>\n",
       "      <th>std</th>\n",
       "      <th>min</th>\n",
       "      <th>25%</th>\n",
       "      <th>50%</th>\n",
       "      <th>75%</th>\n",
       "      <th>max</th>\n",
       "    </tr>\n",
       "    <tr>\n",
       "      <th>embark_town</th>\n",
       "      <th></th>\n",
       "      <th></th>\n",
       "      <th></th>\n",
       "      <th></th>\n",
       "      <th></th>\n",
       "      <th></th>\n",
       "      <th></th>\n",
       "      <th></th>\n",
       "    </tr>\n",
       "  </thead>\n",
       "  <tbody>\n",
       "    <tr>\n",
       "      <th>Cherbourg</th>\n",
       "      <td>104.0</td>\n",
       "      <td>1.932692</td>\n",
       "      <td>0.927094</td>\n",
       "      <td>1.0</td>\n",
       "      <td>1.0</td>\n",
       "      <td>2.0</td>\n",
       "      <td>3.0</td>\n",
       "      <td>3.0</td>\n",
       "    </tr>\n",
       "    <tr>\n",
       "      <th>Queenstown</th>\n",
       "      <td>28.0</td>\n",
       "      <td>2.785714</td>\n",
       "      <td>0.568112</td>\n",
       "      <td>1.0</td>\n",
       "      <td>3.0</td>\n",
       "      <td>3.0</td>\n",
       "      <td>3.0</td>\n",
       "      <td>3.0</td>\n",
       "    </tr>\n",
       "    <tr>\n",
       "      <th>Southampton</th>\n",
       "      <td>532.0</td>\n",
       "      <td>2.383459</td>\n",
       "      <td>0.748853</td>\n",
       "      <td>1.0</td>\n",
       "      <td>2.0</td>\n",
       "      <td>3.0</td>\n",
       "      <td>3.0</td>\n",
       "      <td>3.0</td>\n",
       "    </tr>\n",
       "  </tbody>\n",
       "</table>\n",
       "</div>"
      ],
      "text/plain": [
       "             count      mean       std  min  25%  50%  75%  max\n",
       "embark_town                                                    \n",
       "Cherbourg    104.0  1.932692  0.927094  1.0  1.0  2.0  3.0  3.0\n",
       "Queenstown    28.0  2.785714  0.568112  1.0  3.0  3.0  3.0  3.0\n",
       "Southampton  532.0  2.383459  0.748853  1.0  2.0  3.0  3.0  3.0"
      ]
     },
     "execution_count": 14,
     "metadata": {},
     "output_type": "execute_result"
    }
   ],
   "source": [
    "n = titanic_data.dropna()[titanic_data.fare<=100].groupby(['embark_town'])\n",
    "n.describe()['pclass']"
   ]
  },
  {
   "cell_type": "markdown",
   "metadata": {},
   "source": [
    "Queenstown의 pclass 평균은 2.785이다. 이럴 경우 class가 3일 경우가 많다는 것이다."
   ]
  },
  {
   "cell_type": "code",
   "execution_count": 15,
   "metadata": {
    "scrolled": true
   },
   "outputs": [
    {
     "name": "stdout",
     "output_type": "stream",
     "text": [
      "Queenstown의 class가 3일 경우: 24\n"
     ]
    }
   ],
   "source": [
    "d = n.get_group('Queenstown')\n",
    "print('Queenstown의 class가 3일 경우:',d[d['pclass']==3].count()['pclass'])"
   ]
  },
  {
   "cell_type": "markdown",
   "metadata": {},
   "source": [
    "Queenstown의 class가 3일 경우는 24명이다. 타이타닉호에 많이 탄 마을도 아니고 class가 3이 경우가 많은걸 보아서Queenstown 마을은 부유한 마을은 아닐 것을 예측 할 수 있다."
   ]
  },
  {
   "cell_type": "markdown",
   "metadata": {},
   "source": [
    "## 타이타닉 데이터 분석"
   ]
  },
  {
   "cell_type": "markdown",
   "metadata": {},
   "source": [
    "### 동행자 수\n",
    "- sibsp : 동승한 형제 또는 배우자 수 \n",
    "- parch : 동승한 부모 또는 자녀수 \n",
    "- alone : 혼자 \n",
    "- family_size = sibsp+parch\n",
    "- 전체적으로 사람의 수가 다르기 때문에 전체적으로 비교하는 것보다, 특정 집단별로 나누어 보는 것이 더 나을거 같다"
   ]
  },
  {
   "cell_type": "code",
   "execution_count": 12,
   "metadata": {},
   "outputs": [
    {
     "name": "stdout",
     "output_type": "stream",
     "text": [
      "sibsp:  466\n",
      "parch:  340\n",
      "alone:  537\n"
     ]
    }
   ],
   "source": [
    "accompany = titanic_data.loc[:,[\"sibsp\",\"parch\",\"alone\"]].sum().values\n",
    "print(\"sibsp: \",accompany[0])\n",
    "print('parch: ',accompany[1])\n",
    "print('alone: ',accompany[2])"
   ]
  },
  {
   "cell_type": "code",
   "execution_count": 13,
   "metadata": {},
   "outputs": [
    {
     "data": {
      "image/png": "[encoded data removed]",
      "text/plain": [
       "<Figure size 432x288 with 1 Axes>"
      ]
     },
     "metadata": {
      "needs_background": "light"
     },
     "output_type": "display_data"
    }
   ],
   "source": [
    "ax = plt.subplot()\n",
    "ax.set_xticks([0, 1, 2])\n",
    "ax.set_xticklabels(['sibsp','parch','alone'], rotation=30)\n",
    "plt.bar(range(len(accompany)),accompany)\n",
    "plt.title(\"total_number\")\n",
    "plt.show()"
   ]
  },
  {
   "cell_type": "code",
   "execution_count": 14,
   "metadata": {
    "scrolled": true
   },
   "outputs": [
    {
     "name": "stdout",
     "output_type": "stream",
     "text": [
      "생존\n",
      "sibsp:  162\n",
      "parch:  159\n",
      "alone:  163\n"
     ]
    }
   ],
   "source": [
    "print(\"생존\")\n",
    "accompany_survived = titanic_data[(titanic_data[\"alive\"]=='yes')].loc[:,[\"sibsp\",\"parch\",\"alone\"]].sum().values\n",
    "print('sibsp: ',accompany_survived[0])\n",
    "print('parch: ',accompany_survived[1])\n",
    "print('alone: ',accompany_survived[2])"
   ]
  },
  {
   "cell_type": "code",
   "execution_count": 15,
   "metadata": {},
   "outputs": [
    {
     "data": {
      "image/png": "[encoded data removed]",
      "text/plain": [
       "<Figure size 432x288 with 1 Axes>"
      ]
     },
     "metadata": {
      "needs_background": "light"
     },
     "output_type": "display_data"
    }
   ],
   "source": [
    "ax = plt.subplot()\n",
    "ax.set_xticks([0, 1, 2])\n",
    "ax.set_xticklabels(['sibsp','parch','alone'], rotation=30)\n",
    "plt.bar(range(len(accompany_survived)),accompany_survived)\n",
    "plt.title(\"survive_number\")\n",
    "plt.show()"
   ]
  },
  {
   "cell_type": "code",
   "execution_count": 16,
   "metadata": {
    "scrolled": true
   },
   "outputs": [
    {
     "name": "stdout",
     "output_type": "stream",
     "text": [
      "사망\n",
      "sibsp:  304\n",
      "parch:  181\n",
      "alone:  374\n"
     ]
    }
   ],
   "source": [
    "print(\"사망\")\n",
    "accompany_died = titanic_data[(titanic_data[\"alive\"]=='no')].loc[:,[\"sibsp\",\"parch\",\"alone\"]].sum().values\n",
    "print('sibsp: ',accompany_died[0])\n",
    "print('parch: ',accompany_died[1])\n",
    "print('alone: ',accompany_died[2])"
   ]
  },
  {
   "cell_type": "code",
   "execution_count": 17,
   "metadata": {},
   "outputs": [
    {
     "data": {
      "image/png": "[encoded data removed]",
      "text/plain": [
       "<Figure size 432x288 with 1 Axes>"
      ]
     },
     "metadata": {
      "needs_background": "light"
     },
     "output_type": "display_data"
    }
   ],
   "source": [
    "ax = plt.subplot()\n",
    "ax.set_xticks([0, 1, 2])\n",
    "ax.set_xticklabels(['sibsp','parch','alone'], rotation=30)\n",
    "plt.bar(range(len(accompany_died)),accompany_died)\n",
    "plt.title(\"die_number\")\n",
    "plt.show()"
   ]
  },
  {
   "cell_type": "code",
   "execution_count": 18,
   "metadata": {
    "scrolled": false
   },
   "outputs": [
    {
     "name": "stdout",
     "output_type": "stream",
     "text": [
      "family_size에서 생존할 확률: 0.39826302729528534\n",
      "family_size에서 사망할 확률: 0.6017369727047146\n",
      "=====================\n",
      "alone에서 생존할 확률: 0.30353817504655495\n",
      "alone에서 사망할 확률: 0.6964618249534451\n"
     ]
    }
   ],
   "source": [
    "print(\"family_size에서 생존할 확률:\",(accompany_survived[0]+accompany_survived[1])/(accompany[0]+accompany[1]))\n",
    "print(\"family_size에서 사망할 확률:\",(accompany_died[0]+accompany_died[1])/(accompany[0]+accompany[1]))\n",
    "print('=====================')\n",
    "print(\"alone에서 생존할 확률:\",(accompany_survived[2]/accompany[2]))\n",
    "print(\"alone에서 사망할 확률:\",(accompany_died[2]/accompany[2]))"
   ]
  },
  {
   "cell_type": "markdown",
   "metadata": {},
   "source": [
    "family_size가 alone 보다 생존할 확률 9% 더 높다. 하지만 확률은 어떤한 여러가지 요인에 확률의 값을 변화 시킨다. 따라서 10%의 차이는 구분하기위해 딱히 큰 차이가 아니다.따라서 각각 따로따로 보겠다."
   ]
  },
  {
   "cell_type": "code",
   "execution_count": 19,
   "metadata": {},
   "outputs": [
    {
     "name": "stdout",
     "output_type": "stream",
     "text": [
      "어떤집단에서 사망할 퍼센트\n",
      "sibsp:  0.6523605150214592\n",
      "parch:  0.5323529411764706\n",
      "alone:  0.6964618249534451\n"
     ]
    }
   ],
   "source": [
    "print(\"어떤집단에서 사망할 퍼센트\")\n",
    "s = accompany_died[0]/accompany[0]\n",
    "p = accompany_died[1]/accompany[1]\n",
    "a = accompany_died[2]/accompany[2]\n",
    "print('sibsp: ',s)\n",
    "print('parch: ',p)\n",
    "print('alone: ',a)"
   ]
  },
  {
   "cell_type": "code",
   "execution_count": 20,
   "metadata": {},
   "outputs": [
    {
     "name": "stdout",
     "output_type": "stream",
     "text": [
      "어떤집단에서 생존할 퍼센트\n",
      "sibsp:  0.34763948497854075\n",
      "parch:  0.4676470588235294\n",
      "alone:  0.30353817504655495\n"
     ]
    }
   ],
   "source": [
    "print(\"어떤집단에서 생존할 퍼센트\")\n",
    "ss = accompany_survived[0]/accompany[0]\n",
    "pp = accompany_survived[1]/accompany[1]\n",
    "aa = accompany_survived[2]/accompany[2]\n",
    "print('sibsp: ',ss)\n",
    "print('parch: ',pp)\n",
    "print('alone: ',aa)"
   ]
  },
  {
   "cell_type": "code",
   "execution_count": 21,
   "metadata": {},
   "outputs": [
    {
     "name": "stdout",
     "output_type": "stream",
     "text": [
      "전체에서 사망할 퍼센트\n",
      "sibsp:  0.22635889798957556\n",
      "parch:  0.1347728965003723\n",
      "alone:  0.27848101265822783\n"
     ]
    }
   ],
   "source": [
    "print(\"전체에서 사망할 퍼센트\")\n",
    "sss = accompany_died[0]/accompany.sum()\n",
    "ppp = accompany_died[1]/accompany.sum()\n",
    "aaa = accompany_died[2]/accompany.sum()\n",
    "print('sibsp: ',sss)\n",
    "print('parch: ',ppp)\n",
    "print('alone: ',aaa)"
   ]
  },
  {
   "cell_type": "code",
   "execution_count": 23,
   "metadata": {},
   "outputs": [
    {
     "data": {
      "image/png": "[encoded data removed]",
      "text/plain": [
       "<Figure size 1080x288 with 4 Axes>"
      ]
     },
     "metadata": {
      "needs_background": "light"
     },
     "output_type": "display_data"
    }
   ],
   "source": [
    "plt.figure(figsize=(15,4))\n",
    "ax = plt.subplot(1,4,1)\n",
    "ax.set_xticks([0, 1, 2])\n",
    "ax.set_xticklabels(['sibsp','parch','alone'], rotation=30)\n",
    "plt.bar(range(len(accompany)),accompany)\n",
    "plt.title(\"total_number\")\n",
    "\n",
    "ax = plt.subplot(1,4,2)\n",
    "ax.set_xticks([0, 1, 2])\n",
    "ax.set_xticklabels(['sibsp','parch','alone'], rotation=30)\n",
    "plt.bar(range(len([s,p,a])),[s,p,a])\n",
    "plt.title(\"die_number/total_number\")\n",
    "\n",
    "ax = plt.subplot(1,4,3)\n",
    "ax.set_xticks([0, 1, 2])\n",
    "ax.set_xticklabels(['sibsp','parch','alone'], rotation=30)\n",
    "plt.bar(range(len([ss,pp,aa])),[ss,pp,aa])\n",
    "plt.title(\"survived_number/each total_number\")\n",
    "\n",
    "ax = plt.subplot(1,4,4)\n",
    "ax.set_xticks([0, 1, 2])\n",
    "ax.set_xticklabels(['sibsp','parch','alone'], rotation=30)\n",
    "plt.bar(range(len([sss,ppp,aaa])),[sss,ppp,aaa])\n",
    "plt.title(\"survived_number/total_number\")\n",
    "plt.show()"
   ]
  },
  {
   "cell_type": "markdown",
   "metadata": {},
   "source": [
    "위에 그래프에서 전반적으로 parch 즉 부모또는 자식을 데리고 온 사람은 생존할 확률이 높다. 내 생각엔 parch의 경우 자식을 데려온 사람으로써 홀로온 사람보다 경제적으로 부유한 사람일 경우가 높다. 그리고 아이들은 어리기 때문에 구명보트에 탈 확률이 높아진다. 따라서 parch가 sibsp(형제,배우자), alone(혼자)보다 생존률이 높다. 그리고 하나더 말하자면 alone(혼자)는 전반적으로 부유하지 않을 확률이 높지 않기 떄문에 살 확률이 떨어진다."
   ]
  },
  {
   "cell_type": "code",
   "execution_count": null,
   "metadata": {},
   "outputs": [],
   "source": []
  },
  {
   "cell_type": "markdown",
   "metadata": {},
   "source": [
    "### 성별\n",
    "- 남자, 여자, 아이들(who)로 구분하겠다. "
   ]
  },
  {
   "cell_type": "code",
   "execution_count": 27,
   "metadata": {
    "scrolled": true
   },
   "outputs": [
    {
     "name": "stdout",
     "output_type": "stream",
     "text": [
      "전체 성인남자 수: 537\n",
      "전체 성인여자 수: 271\n",
      "전체 아이들 수: 83\n"
     ]
    }
   ],
   "source": [
    "total_who_data = titanic_data.loc[:,[\"who\"]]\n",
    "total_man = (total_who_data.values == \"man\").sum()\n",
    "total_woman = (total_who_data.values == \"woman\").sum()\n",
    "total_child = (total_who_data.values == \"child\").sum()\n",
    "print(\"전체 성인남자 수:\",total_man)\n",
    "print(\"전체 성인여자 수:\",total_woman)\n",
    "print(\"전체 아이들 수:\",total_child)"
   ]
  },
  {
   "cell_type": "code",
   "execution_count": 28,
   "metadata": {
    "scrolled": true
   },
   "outputs": [],
   "source": [
    "who_survive_data = titanic_data[(titanic_data[\"alive\"]=='yes')].loc[:,[\"who\"]]\n",
    "who_die_data = titanic_data[(titanic_data[\"alive\"]=='no')].loc[:,[\"who\"]]"
   ]
  },
  {
   "cell_type": "code",
   "execution_count": 29,
   "metadata": {},
   "outputs": [
    {
     "name": "stdout",
     "output_type": "stream",
     "text": [
      "생존한 수: 342\n",
      "사망한 수: 549\n"
     ]
    }
   ],
   "source": [
    "print(\"생존한 수:\", who_survive_data.count()[0])\n",
    "print(\"사망한 수:\",who_die_data.count()[0])"
   ]
  },
  {
   "cell_type": "code",
   "execution_count": 30,
   "metadata": {},
   "outputs": [
    {
     "name": "stdout",
     "output_type": "stream",
     "text": [
      "각각의 생존수\n",
      "남자 수: 88\n",
      "여자 수: 205\n",
      "아이들 수: 49\n"
     ]
    }
   ],
   "source": [
    "survive_man = (who_survive_data.values == 'man').sum()\n",
    "survive_woman = (who_survive_data.values == 'woman').sum()\n",
    "survive_child = (who_survive_data.values == 'child').sum()\n",
    "\n",
    "print(\"각각의 생존수\")\n",
    "print(\"남자 수:\",survive_man)\n",
    "print(\"여자 수:\",survive_woman)\n",
    "print(\"아이들 수:\",survive_child)"
   ]
  },
  {
   "cell_type": "code",
   "execution_count": 31,
   "metadata": {},
   "outputs": [
    {
     "name": "stdout",
     "output_type": "stream",
     "text": [
      "각각의 사망수\n",
      "남자 수: 449\n",
      "여자 수: 66\n",
      "아이들 수: 34\n"
     ]
    }
   ],
   "source": [
    "die_man = (who_die_data.values == 'man').sum()\n",
    "die_woman= (who_die_data.values == 'woman').sum()\n",
    "die_child = (who_die_data.values == 'child').sum()\n",
    "\n",
    "print(\"각각의 사망수\")\n",
    "print(\"남자 수:\",die_man)\n",
    "print(\"여자 수:\",die_woman)\n",
    "print(\"아이들 수:\",die_child)"
   ]
  },
  {
   "cell_type": "code",
   "execution_count": 32,
   "metadata": {},
   "outputs": [
    {
     "data": {
      "image/png": "[encoded data removed]",
      "text/plain": [
       "<Figure size 432x288 with 1 Axes>"
      ]
     },
     "metadata": {
      "needs_background": "light"
     },
     "output_type": "display_data"
    }
   ],
   "source": [
    "each_who_die = [(die_man/total_man), (die_woman/total_woman), (die_child/total_child)]\n",
    "ax = plt.subplot()\n",
    "ax.set_xticks([0, 1, 2])\n",
    "ax.set_xticklabels(['man','woman','child'], rotation=30)\n",
    "plt.bar(range(len(each_who_die)),each_who_die)\n",
    "plt.title(\"each_die_who/each_total_who\")\n",
    "plt.show()"
   ]
  },
  {
   "cell_type": "markdown",
   "metadata": {},
   "source": [
    "위의 그래프로 알 수 있듯이 남자의 사망확률이 압도적으로 높다. 한 유명한 일화로 \"여성과 아이부터\"라는 말이 있다. 하지만 실제로는 그렇지 않다. http://www.munhwa.com/news/view.html?no=20140420MW131021755563 뉴스에 의하면 1852년부터 2011년까지 세계 30개국에서 일어난 해상 사고를 분석한 조사에서 사고 시 가장 생존률이 높은 사람들은 다름아닌 선장과 승무원으로 드러났다. 왜 타이타닉 호에서는 여자와 아이들의 생존률이 높았을 까?. 타이타닉 사고 당시 여성 생존자가 많은 것은 선장의 책임감 있는 리더십 때문으로 분석되어진다. 당시 타이타닉호 선장이었던 에드워드 존 스미스는 승객 중에서 어린이, 여자, 남자 순으로 탈출토록 했고, 총으로 공포를 쏘면서 이성을 잃은 사람들이 질서를 유지하도록 하게 했으며, 배와 운명을 함께 하는 직업의식과 책임감을 보였다."
   ]
  },
  {
   "cell_type": "code",
   "execution_count": 33,
   "metadata": {},
   "outputs": [],
   "source": [
    "total_pclass = titanic_data.loc[:,[\"pclass\"]]"
   ]
  },
  {
   "cell_type": "code",
   "execution_count": 34,
   "metadata": {},
   "outputs": [],
   "source": [
    "total_fist_class = (total_pclass.values == 1).sum()\n",
    "total_second_class = (total_pclass.values == 2).sum()\n",
    "total_third_class = (total_pclass.values == 3).sum()"
   ]
  },
  {
   "cell_type": "code",
   "execution_count": 35,
   "metadata": {
    "scrolled": true
   },
   "outputs": [
    {
     "name": "stdout",
     "output_type": "stream",
     "text": [
      "전체 class 수: 891\n",
      "first_class: 216\n",
      "second_class: 184\n",
      "third_class: 491\n"
     ]
    }
   ],
   "source": [
    "print(\"전체 class 수:\",total_pclass.count()[0])\n",
    "print(\"first_class:\",total_fist_class)\n",
    "print(\"second_class:\",total_second_class)\n",
    "print(\"third_class:\",total_third_class)"
   ]
  },
  {
   "cell_type": "code",
   "execution_count": 36,
   "metadata": {},
   "outputs": [],
   "source": [
    "total_survive_pclass = titanic_data[(titanic_data[\"alive\"]=='yes')].loc[:,[\"pclass\"]].values"
   ]
  },
  {
   "cell_type": "code",
   "execution_count": 37,
   "metadata": {},
   "outputs": [],
   "source": [
    "total_die_pclass = titanic_data[(titanic_data[\"alive\"]=='no')].loc[:,[\"pclass\"]].values"
   ]
  },
  {
   "cell_type": "code",
   "execution_count": 38,
   "metadata": {},
   "outputs": [
    {
     "name": "stdout",
     "output_type": "stream",
     "text": [
      "전체 class 생존수: 342 \n",
      "\n",
      "클래스별 생존수\n",
      "first_class: 136\n",
      "second_class: 87\n",
      "third_class: 119\n",
      "\n",
      "\n",
      "클래스별 사망수\n",
      "first_class: 80\n",
      "second_class: 97\n",
      "third_class: 372\n"
     ]
    }
   ],
   "source": [
    "print(\"전체 class 생존수:\",len(total_survive_pclass),\"\\n\")\n",
    "print(\"클래스별 생존수\")\n",
    "print(\"first_class:\",(total_survive_pclass == 1).sum())\n",
    "print(\"second_class:\",(total_survive_pclass == 2).sum())\n",
    "print(\"third_class:\",(total_survive_pclass == 3).sum())\n",
    "\n",
    "print(\"\\n\")\n",
    "print(\"클래스별 사망수\")\n",
    "first_die = (total_die_pclass == 1).sum()\n",
    "second_die = (total_die_pclass == 2).sum()\n",
    "third_die = (total_die_pclass == 3).sum()\n",
    "print(\"first_class:\",first_die)\n",
    "print(\"second_class:\",second_die)\n",
    "print(\"third_class:\",third_die)"
   ]
  },
  {
   "cell_type": "code",
   "execution_count": 39,
   "metadata": {
    "scrolled": true
   },
   "outputs": [
    {
     "data": {
      "image/png": "[encoded data removed]",
      "text/plain": [
       "<Figure size 1080x288 with 2 Axes>"
      ]
     },
     "metadata": {
      "needs_background": "light"
     },
     "output_type": "display_data"
    }
   ],
   "source": [
    "plt.figure(figsize=(15,4))\n",
    "plt.subplot(1,2,1)\n",
    "plt.hist(total_survive_pclass.squeeze(),bins=5)\n",
    "plt.xticks([1,2,3])\n",
    "plt.title(\"survive_pclass\")\n",
    "\n",
    "plt.subplot(1,2,2)\n",
    "plt.hist(total_die_pclass.squeeze(),bins=5)\n",
    "plt.xticks([1,2,3])\n",
    "plt.title(\"die_pclass\")\n",
    "plt.show()"
   ]
  },
  {
   "cell_type": "code",
   "execution_count": 40,
   "metadata": {},
   "outputs": [
    {
     "data": {
      "image/png": "[encoded data removed]",
      "text/plain": [
       "<Figure size 432x288 with 1 Axes>"
      ]
     },
     "metadata": {
      "needs_background": "light"
     },
     "output_type": "display_data"
    }
   ],
   "source": [
    "die_pclass =  [first_die/total_fist_class,second_die/total_second_class,third_die/total_third_class]\n",
    "ax = plt.subplot()\n",
    "ax.set_xticks([0, 1, 2])\n",
    "ax.set_xticklabels(['first','second','third'], rotation=30)\n",
    "plt.bar(range(len(die_pclass)),die_pclass)\n",
    "plt.title(\"each pclass_die/each total_class\")\n",
    "plt.show()"
   ]
  },
  {
   "cell_type": "code",
   "execution_count": null,
   "metadata": {},
   "outputs": [],
   "source": []
  },
  {
   "cell_type": "code",
   "execution_count": null,
   "metadata": {},
   "outputs": [],
   "source": []
  },
  {
   "cell_type": "markdown",
   "metadata": {},
   "source": [
    "### 나이별로 구분"
   ]
  },
  {
   "cell_type": "code",
   "execution_count": 41,
   "metadata": {},
   "outputs": [
    {
     "name": "stdout",
     "output_type": "stream",
     "text": [
      "생존한 수: 342\n"
     ]
    },
    {
     "data": {
      "image/png": "[encoded data removed]",
      "text/plain": [
       "<Figure size 432x288 with 1 Axes>"
      ]
     },
     "metadata": {
      "needs_background": "light"
     },
     "output_type": "display_data"
    }
   ],
   "source": [
    "print(\"생존한 수:\",titanic_data[(titanic_data[\"alive\"]=='yes')].count()[\"alive\"])\n",
    "titanic_data[(titanic_data[\"alive\"]=='yes')].loc[:,[\"age\"]].plot(kind='hist')\n",
    "plt.show()"
   ]
  },
  {
   "cell_type": "code",
   "execution_count": 42,
   "metadata": {},
   "outputs": [
    {
     "name": "stdout",
     "output_type": "stream",
     "text": [
      "사망한 수: 549\n"
     ]
    },
    {
     "data": {
      "image/png": "[encoded data removed]",
      "text/plain": [
       "<Figure size 432x288 with 1 Axes>"
      ]
     },
     "metadata": {
      "needs_background": "light"
     },
     "output_type": "display_data"
    }
   ],
   "source": [
    "print(\"사망한 수:\",titanic_data[(titanic_data[\"alive\"]=='no')].count()[\"alive\"])\n",
    "titanic_data[(titanic_data[\"alive\"]=='no')].loc[:,[\"age\"]].plot(kind='hist')\n",
    "plt.show()"
   ]
  },
  {
   "cell_type": "code",
   "execution_count": 43,
   "metadata": {},
   "outputs": [
    {
     "name": "stdout",
     "output_type": "stream",
     "text": [
      "                 survived  pclass  sex  age  sibsp  parch  fare  embarked  \\\n",
      "age                                                                         \n",
      "(0.34, 20.315]         82      82   82   82     82     82    82        82   \n",
      "(20.315, 40.21]       153     153  153  153    153    153   153       153   \n",
      "(40.21, 60.105]        50      50   50   50     50     50    50        50   \n",
      "(60.105, 80.0]          5       5    5    5      5      5     5         5   \n",
      "\n",
      "                 class  who  adult_male  embark_town  alive  alone  \n",
      "age                                                                 \n",
      "(0.34, 20.315]      82   82          82           82     82     82  \n",
      "(20.315, 40.21]    153  153         153          152    153    153  \n",
      "(40.21, 60.105]     50   50          50           50     50     50  \n",
      "(60.105, 80.0]       5    5           5            4      5      5  \n"
     ]
    },
    {
     "data": {
      "text/plain": [
       "<matplotlib.legend.Legend at 0x134ecec50>"
      ]
     },
     "execution_count": 43,
     "metadata": {},
     "output_type": "execute_result"
    },
    {
     "data": {
      "image/png": "[encoded data removed]",
      "text/plain": [
       "<Figure size 432x288 with 1 Axes>"
      ]
     },
     "metadata": {
      "needs_background": "light"
     },
     "output_type": "display_data"
    }
   ],
   "source": [
    "gg = titanic_data[titanic_data[\"alive\"]==\"yes\"]\n",
    "t = pd.cut(gg.age,4)\n",
    "g = gg.groupby(t)\n",
    "print(g.count())\n",
    "\n",
    "## survive\n",
    "gg = titanic_data[titanic_data[\"alive\"]==\"yes\"]\n",
    "t = pd.cut(gg.age,5)\n",
    "g = gg.groupby(t)\n",
    "g.count()['survived'].plot(title=\"survive\")\n",
    "\n",
    "## die\n",
    "gg = titanic_data[titanic_data[\"alive\"]==\"no\"]\n",
    "t = pd.cut(gg.age,5)\n",
    "g = gg.groupby(t)\n",
    "plt.plot(g.count()['survived'].values,label=\"die\")\n",
    "plt.ylabel('people')\n",
    "\n",
    "plt.legend()"
   ]
  },
  {
   "cell_type": "code",
   "execution_count": null,
   "metadata": {},
   "outputs": [],
   "source": []
  },
  {
   "cell_type": "code",
   "execution_count": 44,
   "metadata": {},
   "outputs": [
    {
     "name": "stdout",
     "output_type": "stream",
     "text": [
      "아이들(남,여) 나이 범위\n",
      "[ 0.42  0.67  0.75  0.83  0.92  1.    2.    3.    4.    5.    6.    7.\n",
      "  8.    9.   10.   11.   12.   13.   14.   14.5  15.  ]\n"
     ]
    }
   ],
   "source": [
    "print(\"아이들(남,여) 나이 범위\")\n",
    "print(np.unique(titanic_data[titanic_data.who==\"child\"]['age'].values))"
   ]
  },
  {
   "cell_type": "code",
   "execution_count": 45,
   "metadata": {},
   "outputs": [
    {
     "name": "stdout",
     "output_type": "stream",
     "text": [
      "성인 여자 범위\n",
      "[16.  17.  18.  19.  20.  21.  22.  23.  24.  25.  26.  27.  28.  29.\n",
      " 30.  30.5 31.  32.  32.5 33.  34.  35.  36.  37.  38.  39.  40.  41.\n",
      " 42.  43.  44.  45.  47.  48.  49.  50.  51.  52.  53.  54.  55.  56.\n",
      " 57.  58.  60.  62.  63. ]\n"
     ]
    }
   ],
   "source": [
    "print(\"성인 여자 범위\")\n",
    "print(np.unique(titanic_data[titanic_data.who==\"woman\"]['age'].dropna(axis=0).values))"
   ]
  },
  {
   "cell_type": "code",
   "execution_count": 46,
   "metadata": {},
   "outputs": [
    {
     "name": "stdout",
     "output_type": "stream",
     "text": [
      "성인 남자 범위\n",
      "[16.  17.  18.  19.  20.  20.5 21.  22.  23.  23.5 24.  24.5 25.  26.\n",
      " 27.  28.  28.5 29.  30.  30.5 31.  32.  32.5 33.  34.  34.5 35.  36.\n",
      " 36.5 37.  38.  39.  40.  40.5 41.  42.  43.  44.  45.  45.5 46.  47.\n",
      " 48.  49.  50.  51.  52.  54.  55.  55.5 56.  57.  58.  59.  60.  61.\n",
      " 62.  64.  65.  66.  70.  70.5 71.  74.  80. ]\n"
     ]
    }
   ],
   "source": [
    "print(\"성인 남자 범위\")\n",
    "print(np.unique(titanic_data[titanic_data.who==\"man\"]['age'].dropna(axis=0).values))"
   ]
  },
  {
   "cell_type": "code",
   "execution_count": null,
   "metadata": {},
   "outputs": [],
   "source": []
  },
  {
   "cell_type": "code",
   "execution_count": null,
   "metadata": {},
   "outputs": [],
   "source": []
  },
  {
   "cell_type": "code",
   "execution_count": null,
   "metadata": {},
   "outputs": [],
   "source": []
  },
  {
   "cell_type": "markdown",
   "metadata": {},
   "source": [
    "## Machine_Learning\n",
    "- 생존 확률\n",
    "- 나이"
   ]
  },
  {
   "cell_type": "code",
   "execution_count": 47,
   "metadata": {},
   "outputs": [],
   "source": [
    "preprocessed_data = titanic_data.loc[:,['survived', 'pclass','age',\n",
    "                                       'sibsp', 'parch','alone','fare','embarked','who']]"
   ]
  },
  {
   "cell_type": "code",
   "execution_count": 48,
   "metadata": {},
   "outputs": [
    {
     "data": {
      "text/plain": [
       "survived      0\n",
       "pclass        0\n",
       "age         177\n",
       "sibsp         0\n",
       "parch         0\n",
       "alone         0\n",
       "fare          0\n",
       "embarked      0\n",
       "who           0\n",
       "dtype: int64"
      ]
     },
     "execution_count": 48,
     "metadata": {},
     "output_type": "execute_result"
    }
   ],
   "source": [
    "preprocessed_data.isnull().sum()"
   ]
  },
  {
   "cell_type": "code",
   "execution_count": 49,
   "metadata": {
    "scrolled": true
   },
   "outputs": [],
   "source": [
    "preprocessed_data = preprocessed_data.dropna()"
   ]
  },
  {
   "cell_type": "code",
   "execution_count": 50,
   "metadata": {},
   "outputs": [
    {
     "data": {
      "text/plain": [
       "survived      int64\n",
       "pclass        int64\n",
       "age         float64\n",
       "sibsp         int64\n",
       "parch         int64\n",
       "alone         int64\n",
       "fare        float64\n",
       "embarked     object\n",
       "who          object\n",
       "dtype: object"
      ]
     },
     "execution_count": 50,
     "metadata": {},
     "output_type": "execute_result"
    }
   ],
   "source": [
    "preprocessed_data.dtypes"
   ]
  },
  {
   "cell_type": "code",
   "execution_count": 51,
   "metadata": {},
   "outputs": [
    {
     "data": {
      "text/plain": [
       "survived    714\n",
       "pclass      714\n",
       "age         714\n",
       "sibsp       714\n",
       "parch       714\n",
       "alone       714\n",
       "fare        714\n",
       "embarked    714\n",
       "who         714\n",
       "dtype: int64"
      ]
     },
     "execution_count": 51,
     "metadata": {},
     "output_type": "execute_result"
    }
   ],
   "source": [
    "preprocessed_data.count()"
   ]
  },
  {
   "cell_type": "code",
   "execution_count": 52,
   "metadata": {},
   "outputs": [
    {
     "data": {
      "text/html": [
       "<div>\n",
       "<style scoped>\n",
       "    .dataframe tbody tr th:only-of-type {\n",
       "        vertical-align: middle;\n",
       "    }\n",
       "\n",
       "    .dataframe tbody tr th {\n",
       "        vertical-align: top;\n",
       "    }\n",
       "\n",
       "    .dataframe thead th {\n",
       "        text-align: right;\n",
       "    }\n",
       "</style>\n",
       "<table border=\"1\" class=\"dataframe\">\n",
       "  <thead>\n",
       "    <tr style=\"text-align: right;\">\n",
       "      <th></th>\n",
       "      <th>survived</th>\n",
       "      <th>pclass</th>\n",
       "      <th>age</th>\n",
       "      <th>sibsp</th>\n",
       "      <th>parch</th>\n",
       "      <th>alone</th>\n",
       "      <th>fare</th>\n",
       "      <th>embarked</th>\n",
       "      <th>who</th>\n",
       "    </tr>\n",
       "  </thead>\n",
       "  <tbody>\n",
       "    <tr>\n",
       "      <th>61</th>\n",
       "      <td>1</td>\n",
       "      <td>1</td>\n",
       "      <td>38.0</td>\n",
       "      <td>0</td>\n",
       "      <td>0</td>\n",
       "      <td>1</td>\n",
       "      <td>80.0</td>\n",
       "      <td>nan</td>\n",
       "      <td>woman</td>\n",
       "    </tr>\n",
       "    <tr>\n",
       "      <th>829</th>\n",
       "      <td>1</td>\n",
       "      <td>1</td>\n",
       "      <td>62.0</td>\n",
       "      <td>0</td>\n",
       "      <td>0</td>\n",
       "      <td>1</td>\n",
       "      <td>80.0</td>\n",
       "      <td>nan</td>\n",
       "      <td>woman</td>\n",
       "    </tr>\n",
       "  </tbody>\n",
       "</table>\n",
       "</div>"
      ],
      "text/plain": [
       "     survived  pclass   age  sibsp  parch  alone  fare embarked    who\n",
       "61          1       1  38.0      0      0      1  80.0      nan  woman\n",
       "829         1       1  62.0      0      0      1  80.0      nan  woman"
      ]
     },
     "execution_count": 52,
     "metadata": {},
     "output_type": "execute_result"
    }
   ],
   "source": [
    "preprocessed_data.loc[preprocessed_data[\"embarked\"]==\"nan\"]"
   ]
  },
  {
   "cell_type": "markdown",
   "metadata": {},
   "source": [
    "진짜 NaN값이 아니라, nan이라는 이름을 가진 문자열 값"
   ]
  },
  {
   "cell_type": "code",
   "execution_count": 53,
   "metadata": {},
   "outputs": [],
   "source": [
    "preprocessed_data = preprocessed_data.drop(labels=[61,829])"
   ]
  },
  {
   "cell_type": "code",
   "execution_count": 54,
   "metadata": {
    "scrolled": true
   },
   "outputs": [
    {
     "data": {
      "text/html": [
       "<div>\n",
       "<style scoped>\n",
       "    .dataframe tbody tr th:only-of-type {\n",
       "        vertical-align: middle;\n",
       "    }\n",
       "\n",
       "    .dataframe tbody tr th {\n",
       "        vertical-align: top;\n",
       "    }\n",
       "\n",
       "    .dataframe thead th {\n",
       "        text-align: right;\n",
       "    }\n",
       "</style>\n",
       "<table border=\"1\" class=\"dataframe\">\n",
       "  <thead>\n",
       "    <tr style=\"text-align: right;\">\n",
       "      <th></th>\n",
       "      <th>survived</th>\n",
       "      <th>pclass</th>\n",
       "      <th>age</th>\n",
       "      <th>sibsp</th>\n",
       "      <th>parch</th>\n",
       "      <th>alone</th>\n",
       "      <th>fare</th>\n",
       "      <th>embarked</th>\n",
       "      <th>who</th>\n",
       "    </tr>\n",
       "  </thead>\n",
       "  <tbody>\n",
       "  </tbody>\n",
       "</table>\n",
       "</div>"
      ],
      "text/plain": [
       "Empty DataFrame\n",
       "Columns: [survived, pclass, age, sibsp, parch, alone, fare, embarked, who]\n",
       "Index: []"
      ]
     },
     "execution_count": 54,
     "metadata": {},
     "output_type": "execute_result"
    }
   ],
   "source": [
    "preprocessed_data.loc[preprocessed_data[\"embarked\"]==\"nan\"]"
   ]
  },
  {
   "cell_type": "markdown",
   "metadata": {},
   "source": [
    "get_dummies : one_hot 인코딩, 문자열 or object만 변환 "
   ]
  },
  {
   "cell_type": "code",
   "execution_count": 55,
   "metadata": {
    "scrolled": true
   },
   "outputs": [],
   "source": [
    "preprocessed_data = pd.get_dummies(preprocessed_data)"
   ]
  },
  {
   "cell_type": "code",
   "execution_count": 56,
   "metadata": {},
   "outputs": [
    {
     "data": {
      "text/html": [
       "<div>\n",
       "<style scoped>\n",
       "    .dataframe tbody tr th:only-of-type {\n",
       "        vertical-align: middle;\n",
       "    }\n",
       "\n",
       "    .dataframe tbody tr th {\n",
       "        vertical-align: top;\n",
       "    }\n",
       "\n",
       "    .dataframe thead th {\n",
       "        text-align: right;\n",
       "    }\n",
       "</style>\n",
       "<table border=\"1\" class=\"dataframe\">\n",
       "  <thead>\n",
       "    <tr style=\"text-align: right;\">\n",
       "      <th></th>\n",
       "      <th>survived</th>\n",
       "      <th>pclass</th>\n",
       "      <th>age</th>\n",
       "      <th>sibsp</th>\n",
       "      <th>parch</th>\n",
       "      <th>alone</th>\n",
       "      <th>fare</th>\n",
       "      <th>embarked_C</th>\n",
       "      <th>embarked_Q</th>\n",
       "      <th>embarked_S</th>\n",
       "      <th>who_child</th>\n",
       "      <th>who_man</th>\n",
       "      <th>who_woman</th>\n",
       "    </tr>\n",
       "  </thead>\n",
       "  <tbody>\n",
       "    <tr>\n",
       "      <th>0</th>\n",
       "      <td>0</td>\n",
       "      <td>3</td>\n",
       "      <td>22.0</td>\n",
       "      <td>1</td>\n",
       "      <td>0</td>\n",
       "      <td>0</td>\n",
       "      <td>7.2500</td>\n",
       "      <td>0</td>\n",
       "      <td>0</td>\n",
       "      <td>1</td>\n",
       "      <td>0</td>\n",
       "      <td>1</td>\n",
       "      <td>0</td>\n",
       "    </tr>\n",
       "    <tr>\n",
       "      <th>1</th>\n",
       "      <td>1</td>\n",
       "      <td>1</td>\n",
       "      <td>38.0</td>\n",
       "      <td>1</td>\n",
       "      <td>0</td>\n",
       "      <td>0</td>\n",
       "      <td>71.2833</td>\n",
       "      <td>1</td>\n",
       "      <td>0</td>\n",
       "      <td>0</td>\n",
       "      <td>0</td>\n",
       "      <td>0</td>\n",
       "      <td>1</td>\n",
       "    </tr>\n",
       "    <tr>\n",
       "      <th>2</th>\n",
       "      <td>1</td>\n",
       "      <td>3</td>\n",
       "      <td>26.0</td>\n",
       "      <td>0</td>\n",
       "      <td>0</td>\n",
       "      <td>1</td>\n",
       "      <td>7.9250</td>\n",
       "      <td>0</td>\n",
       "      <td>0</td>\n",
       "      <td>1</td>\n",
       "      <td>0</td>\n",
       "      <td>0</td>\n",
       "      <td>1</td>\n",
       "    </tr>\n",
       "    <tr>\n",
       "      <th>3</th>\n",
       "      <td>1</td>\n",
       "      <td>1</td>\n",
       "      <td>35.0</td>\n",
       "      <td>1</td>\n",
       "      <td>0</td>\n",
       "      <td>0</td>\n",
       "      <td>53.1000</td>\n",
       "      <td>0</td>\n",
       "      <td>0</td>\n",
       "      <td>1</td>\n",
       "      <td>0</td>\n",
       "      <td>0</td>\n",
       "      <td>1</td>\n",
       "    </tr>\n",
       "    <tr>\n",
       "      <th>4</th>\n",
       "      <td>0</td>\n",
       "      <td>3</td>\n",
       "      <td>35.0</td>\n",
       "      <td>0</td>\n",
       "      <td>0</td>\n",
       "      <td>1</td>\n",
       "      <td>8.0500</td>\n",
       "      <td>0</td>\n",
       "      <td>0</td>\n",
       "      <td>1</td>\n",
       "      <td>0</td>\n",
       "      <td>1</td>\n",
       "      <td>0</td>\n",
       "    </tr>\n",
       "  </tbody>\n",
       "</table>\n",
       "</div>"
      ],
      "text/plain": [
       "   survived  pclass   age  sibsp  parch  alone     fare  embarked_C  \\\n",
       "0         0       3  22.0      1      0      0   7.2500           0   \n",
       "1         1       1  38.0      1      0      0  71.2833           1   \n",
       "2         1       3  26.0      0      0      1   7.9250           0   \n",
       "3         1       1  35.0      1      0      0  53.1000           0   \n",
       "4         0       3  35.0      0      0      1   8.0500           0   \n",
       "\n",
       "   embarked_Q  embarked_S  who_child  who_man  who_woman  \n",
       "0           0           1          0        1          0  \n",
       "1           0           0          0        0          1  \n",
       "2           0           1          0        0          1  \n",
       "3           0           1          0        0          1  \n",
       "4           0           1          0        1          0  "
      ]
     },
     "execution_count": 56,
     "metadata": {},
     "output_type": "execute_result"
    }
   ],
   "source": [
    "preprocessed_data.head()"
   ]
  },
  {
   "cell_type": "markdown",
   "metadata": {},
   "source": [
    "속성 fare, age은 다른 것들에 비해 값이 크고 연속형 데이터이기 때문에 정규화를 해줄것이다."
   ]
  },
  {
   "cell_type": "code",
   "execution_count": 57,
   "metadata": {},
   "outputs": [],
   "source": [
    "preprocessed_data[\"fare\"] = (preprocessed_data[\"fare\"] - preprocessed_data[\"fare\"].mean())/(preprocessed_data[\"fare\"].std())"
   ]
  },
  {
   "cell_type": "code",
   "execution_count": 58,
   "metadata": {
    "scrolled": true
   },
   "outputs": [],
   "source": [
    "preprocessed_data[\"age\"] = (preprocessed_data[\"age\"] - preprocessed_data[\"age\"].mean())/(preprocessed_data[\"age\"].std())"
   ]
  },
  {
   "cell_type": "code",
   "execution_count": 59,
   "metadata": {},
   "outputs": [
    {
     "data": {
      "text/plain": [
       "(array([29., 17., 15.,  7., 14., 56., 41., 67., 72., 65., 64., 49., 39.,\n",
       "        35., 27., 26., 15., 23., 12., 11.]),\n",
       " array([-2. , -1.8, -1.6, -1.4, -1.2, -1. , -0.8, -0.6, -0.4, -0.2,  0. ,\n",
       "         0.2,  0.4,  0.6,  0.8,  1. ,  1.2,  1.4,  1.6,  1.8,  2. ]),\n",
       " <a list of 20 Patch objects>)"
      ]
     },
     "execution_count": 59,
     "metadata": {},
     "output_type": "execute_result"
    },
    {
     "data": {
      "image/png": "[encoded data removed]",
      "text/plain": [
       "<Figure size 1080x288 with 2 Axes>"
      ]
     },
     "metadata": {
      "needs_background": "light"
     },
     "output_type": "display_data"
    }
   ],
   "source": [
    "plt.figure(figsize=(15,4))\n",
    "plt.subplot(1,2,1)\n",
    "plt.hist(preprocessed_data[\"fare\"],bins=10,range=(-6,6))\n",
    "plt.subplot(1,2,2)\n",
    "plt.hist(preprocessed_data[\"age\"],bins=20,range=(-2,2))"
   ]
  },
  {
   "cell_type": "code",
   "execution_count": 60,
   "metadata": {},
   "outputs": [
    {
     "data": {
      "text/plain": [
       "array([-6.52968155e-01, -6.52968155e-01, -6.52968155e-01, -6.52968155e-01,\n",
       "       -6.52968155e-01, -6.52968155e-01, -6.52968155e-01, -5.77172868e-01,\n",
       "       -5.58519200e-01, -5.35143083e-01, -5.31365125e-01, -5.31129003e-01,\n",
       "       -5.30263850e-01, -5.30263850e-01, -5.25462065e-01, -5.25462065e-01,\n",
       "       -5.21211862e-01, -5.21211862e-01, -5.19874465e-01, -5.19795128e-01,\n",
       "       -5.19795128e-01, -5.19795128e-01, -5.19795128e-01, -5.19795128e-01,\n",
       "       -5.19795128e-01, -5.19715791e-01, -5.19715791e-01, -5.18378394e-01,\n",
       "       -5.18378394e-01, -5.18378394e-01, -5.18378394e-01, -5.18062934e-01,\n",
       "       -5.16489415e-01, -5.16489415e-01, -5.16489415e-01, -5.16489415e-01,\n",
       "       -5.16489415e-01, -5.16489415e-01, -5.16410077e-01, -5.16410077e-01,\n",
       "       -5.16410077e-01, -5.16410077e-01, -5.16410077e-01, -5.16410077e-01,\n",
       "       -5.16410077e-01, -5.16410077e-01, -5.16017170e-01, -5.16017170e-01,\n",
       "       -5.16017170e-01, -5.16017170e-01, -5.16017170e-01, -5.16017170e-01,\n",
       "       -5.16017170e-01, -5.16017170e-01, -5.16017170e-01, -5.16017170e-01,\n",
       "       -5.11374059e-01, -5.11374059e-01, -5.11374059e-01, -5.10901814e-01,\n",
       "       -5.10350233e-01, -5.10350233e-01, -5.08461253e-01, -5.08461253e-01,\n",
       "       -5.08461253e-01, -5.08461253e-01, -5.06887734e-01, -5.06887734e-01,\n",
       "       -5.06729060e-01, -5.06572274e-01, -5.06572274e-01, -5.06572274e-01,\n",
       "       -5.06572274e-01, -5.06572274e-01, -5.06572274e-01, -5.06572274e-01,\n",
       "       -5.06572274e-01, -5.06572274e-01, -5.06572274e-01, -5.06572274e-01,\n",
       "       -5.06572274e-01, -5.06572274e-01, -5.06572274e-01, -5.06100030e-01,\n",
       "       -5.06100030e-01, -5.06100030e-01, -5.06100030e-01, -5.06100030e-01,\n",
       "       -5.06100030e-01, -5.06100030e-01, -5.06100030e-01, -5.06100030e-01,\n",
       "       -5.06100030e-01, -5.06100030e-01, -5.06100030e-01, -5.06100030e-01,\n",
       "       -5.06100030e-01, -5.05707122e-01, -5.05707122e-01, -5.05707122e-01,\n",
       "       -5.05707122e-01, -5.05707122e-01, -5.05707122e-01, -5.05627785e-01,\n",
       "       -5.04603958e-01, -5.04603958e-01, -5.04603958e-01, -5.04603958e-01,\n",
       "       -5.04603958e-01, -5.04603958e-01, -5.04603958e-01, -5.04603958e-01,\n",
       "       -5.04603958e-01, -5.04603958e-01, -5.04603958e-01, -5.04603958e-01,\n",
       "       -5.04603958e-01, -5.04211050e-01, -5.04131713e-01, -5.03974928e-01,\n",
       "       -5.03818143e-01, -5.03818143e-01, -5.03818143e-01, -5.03818143e-01,\n",
       "       -5.03818143e-01, -5.03818143e-01, -5.03818143e-01, -5.03818143e-01,\n",
       "       -5.03818143e-01, -5.03818143e-01, -5.03818143e-01, -5.03818143e-01,\n",
       "       -5.03818143e-01, -5.03818143e-01, -5.03818143e-01, -5.03818143e-01,\n",
       "       -5.03818143e-01, -5.03818143e-01, -5.03818143e-01, -5.03818143e-01,\n",
       "       -5.03818143e-01, -5.03818143e-01, -5.03818143e-01, -5.03266561e-01,\n",
       "       -5.03266561e-01, -5.03266561e-01, -5.03266561e-01, -5.03266561e-01,\n",
       "       -5.03266561e-01, -5.03266561e-01, -5.03266561e-01, -5.03266561e-01,\n",
       "       -5.03266561e-01, -5.03266561e-01, -5.03266561e-01, -5.03266561e-01,\n",
       "       -5.03266561e-01, -5.03266561e-01, -5.03266561e-01, -5.03266561e-01,\n",
       "       -5.03266561e-01, -5.01298245e-01, -5.00905337e-01, -5.00905337e-01,\n",
       "       -5.00905337e-01, -5.00905337e-01, -5.00905337e-01, -5.00905337e-01,\n",
       "       -5.00905337e-01, -5.00905337e-01, -5.00905337e-01, -5.00905337e-01,\n",
       "       -5.00905337e-01, -5.00905337e-01, -5.00905337e-01, -5.00905337e-01,\n",
       "       -5.00905337e-01, -5.00905337e-01, -5.00905337e-01, -5.00905337e-01,\n",
       "       -5.00905337e-01, -5.00905337e-01, -5.00905337e-01, -5.00905337e-01,\n",
       "       -5.00905337e-01, -5.00905337e-01, -5.00905337e-01, -5.00905337e-01,\n",
       "       -5.00905337e-01, -5.00905337e-01, -5.00905337e-01, -4.98859573e-01,\n",
       "       -4.96182889e-01, -4.95002277e-01, -4.94214573e-01, -4.93664880e-01,\n",
       "       -4.92089472e-01, -4.89492125e-01, -4.89335340e-01, -4.89335340e-01,\n",
       "       -4.89335340e-01, -4.89335340e-01, -4.89335340e-01, -4.89335340e-01,\n",
       "       -4.89335340e-01, -4.89335340e-01, -4.89335340e-01, -4.89335340e-01,\n",
       "       -4.89335340e-01, -4.89335340e-01, -4.88942432e-01, -4.85793504e-01,\n",
       "       -4.82960036e-01, -4.82960036e-01, -4.78866618e-01, -4.78709833e-01,\n",
       "       -4.78709833e-01, -4.76348609e-01, -4.76348609e-01, -4.73987385e-01,\n",
       "       -4.73830600e-01, -4.73515140e-01, -4.73515140e-01, -4.73515140e-01,\n",
       "       -4.73515140e-01, -4.73515140e-01, -4.73515140e-01, -4.73515140e-01,\n",
       "       -4.73515140e-01, -4.71862283e-01, -4.71862283e-01, -4.67375958e-01,\n",
       "       -4.67375958e-01, -4.67139836e-01, -4.67060498e-01, -4.66983050e-01,\n",
       "       -4.60843868e-01, -4.55333716e-01, -4.55333716e-01, -4.54625349e-01,\n",
       "       -4.54625349e-01, -4.54625349e-01, -4.54625349e-01, -4.54625349e-01,\n",
       "       -4.54625349e-01, -4.54625349e-01, -4.54625349e-01, -4.54625349e-01,\n",
       "       -4.54625349e-01, -4.54625349e-01, -4.54625349e-01, -4.54625349e-01,\n",
       "       -4.54625349e-01, -4.54625349e-01, -4.54625349e-01, -4.54625349e-01,\n",
       "       -4.54625349e-01, -4.54625349e-01, -4.54625349e-01, -4.54625349e-01,\n",
       "       -4.54625349e-01, -4.54625349e-01, -4.54625349e-01, -4.54309890e-01,\n",
       "       -4.42662444e-01, -4.42662444e-01, -4.42662444e-01, -4.40614791e-01,\n",
       "       -4.40614791e-01, -4.35735558e-01, -4.35735558e-01, -4.35735558e-01,\n",
       "       -4.35735558e-01, -4.26290663e-01, -4.21095970e-01, -4.20859848e-01,\n",
       "       -4.19679236e-01, -4.19679236e-01, -4.17318012e-01, -4.17318012e-01,\n",
       "       -4.17318012e-01, -4.17318012e-01, -4.16373522e-01, -4.14012298e-01,\n",
       "       -4.09762095e-01, -4.07400872e-01, -4.07400872e-01, -4.07400872e-01,\n",
       "       -4.07400872e-01, -4.07400872e-01, -4.07400872e-01, -4.07400872e-01,\n",
       "       -4.07400872e-01, -4.07400872e-01, -4.07400872e-01, -4.07400872e-01,\n",
       "       -4.07400872e-01, -4.07400872e-01, -4.07400872e-01, -4.07400872e-01,\n",
       "       -4.07400872e-01, -4.07400872e-01, -4.07400872e-01, -4.07400872e-01,\n",
       "       -4.07400872e-01, -4.07400872e-01, -4.07400872e-01, -4.07400872e-01,\n",
       "       -4.07400872e-01, -4.07400872e-01, -4.07400872e-01, -4.07400872e-01,\n",
       "       -4.07400872e-01, -4.07400872e-01, -4.07400872e-01, -4.07400872e-01,\n",
       "       -4.07400872e-01, -4.07400872e-01, -4.07400872e-01, -4.07400872e-01,\n",
       "       -4.07400872e-01, -4.07400872e-01, -4.07400872e-01, -4.07400872e-01,\n",
       "       -4.07400872e-01, -4.07400872e-01, -3.99529496e-01, -3.97955976e-01,\n",
       "       -3.97955976e-01, -3.97955976e-01, -3.97955976e-01, -3.92445824e-01,\n",
       "       -3.91187764e-01, -3.88511081e-01, -3.86465316e-01, -3.80955164e-01,\n",
       "       -3.80955164e-01, -3.79931337e-01, -3.79931337e-01, -3.79931337e-01,\n",
       "       -3.79931337e-01, -3.79931337e-01, -3.79931337e-01, -3.79853889e-01,\n",
       "       -3.79066185e-01, -3.79066185e-01, -3.79066185e-01, -3.79066185e-01,\n",
       "       -3.79066185e-01, -3.69621290e-01, -3.68756137e-01, -3.64978179e-01,\n",
       "       -3.64978179e-01, -3.60176394e-01, -3.60176394e-01, -3.59231904e-01,\n",
       "       -3.55610732e-01, -3.55610732e-01, -3.55453946e-01, -3.53564967e-01,\n",
       "       -3.53564967e-01, -3.53564967e-01, -3.53564967e-01, -3.52620478e-01,\n",
       "       -3.52620478e-01, -3.50731499e-01, -3.48842519e-01, -3.48842519e-01,\n",
       "       -3.48842519e-01, -3.48842519e-01, -3.48842519e-01, -3.48842519e-01,\n",
       "       -3.37508645e-01, -3.37508645e-01, -3.24285791e-01, -3.16729875e-01,\n",
       "       -3.16729875e-01, -3.12951917e-01, -3.12951917e-01, -3.12951917e-01,\n",
       "       -2.98784573e-01, -2.98784573e-01, -2.98784573e-01, -2.98076206e-01,\n",
       "       -2.98076206e-01, -2.89182893e-01, -2.89182893e-01, -2.89182893e-01,\n",
       "       -2.89182893e-01, -2.84617230e-01, -2.84617230e-01, -2.71158254e-01,\n",
       "       -2.71158254e-01, -2.70449887e-01, -2.70449887e-01, -2.65255194e-01,\n",
       "       -2.65255194e-01, -2.65255194e-01, -2.64310705e-01, -2.64310705e-01,\n",
       "       -2.56282544e-01, -2.56282544e-01, -2.56282544e-01, -2.56282544e-01,\n",
       "       -2.56282544e-01, -2.56282544e-01, -2.54865809e-01, -2.54865809e-01,\n",
       "       -2.54865809e-01, -2.54865809e-01, -2.36920508e-01, -2.27475612e-01,\n",
       "       -2.18502962e-01, -2.18502962e-01, -2.18502962e-01, -2.18502962e-01,\n",
       "       -1.99613171e-01, -1.99613171e-01, -1.96779702e-01, -1.96779702e-01,\n",
       "       -1.96779702e-01, -1.96779702e-01, -1.96779702e-01, -1.69625627e-01,\n",
       "       -1.63170986e-01, -1.63170986e-01, -1.61833589e-01, -1.61833589e-01,\n",
       "       -1.61833589e-01, -1.61833589e-01, -1.61833589e-01, -1.61833589e-01,\n",
       "       -1.61833589e-01, -1.61833589e-01, -1.61833589e-01, -1.61833589e-01,\n",
       "       -1.61833589e-01, -1.61833589e-01, -1.61833589e-01, -1.61833589e-01,\n",
       "       -1.61833589e-01, -1.61833589e-01, -1.61833589e-01, -1.61833589e-01,\n",
       "       -1.61833589e-01, -1.61833589e-01, -1.61833589e-01, -1.61833589e-01,\n",
       "       -1.61833589e-01, -1.61833589e-01, -1.61833589e-01, -1.61833589e-01,\n",
       "       -1.61833589e-01, -1.61833589e-01, -1.61833589e-01, -1.61833589e-01,\n",
       "       -1.57111141e-01, -1.57111141e-01, -1.57111141e-01, -1.57111141e-01,\n",
       "       -1.57111141e-01, -1.57111141e-01, -1.56482111e-01, -1.56402774e-01,\n",
       "       -1.56402774e-01, -1.56402774e-01, -1.54513794e-01, -1.51444203e-01,\n",
       "       -1.51444203e-01, -1.51444203e-01, -1.51444203e-01, -1.51444203e-01,\n",
       "       -1.51444203e-01, -1.51444203e-01, -1.51444203e-01, -1.51444203e-01,\n",
       "       -1.51444203e-01, -1.51444203e-01, -1.51444203e-01, -1.51444203e-01,\n",
       "       -1.42943797e-01, -1.42943797e-01, -1.29328036e-01, -1.29328036e-01,\n",
       "       -1.29328036e-01, -1.28776454e-01, -1.28776454e-01, -1.28776454e-01,\n",
       "       -1.28776454e-01, -1.25942986e-01, -1.25942986e-01, -1.25942986e-01,\n",
       "       -1.25942986e-01, -1.25942986e-01, -1.25942986e-01, -1.14609111e-01,\n",
       "       -1.10595030e-01, -1.05164215e-01, -1.05164215e-01, -1.02802992e-01,\n",
       "       -1.02802992e-01, -1.02802992e-01, -1.02802992e-01, -1.02802992e-01,\n",
       "       -9.19413618e-02, -9.19413618e-02, -8.62744245e-02, -8.62744245e-02,\n",
       "       -8.62744245e-02, -8.62744245e-02, -8.62744245e-02, -8.49370273e-02,\n",
       "       -8.49370273e-02, -7.68295290e-02, -7.68295290e-02, -7.68295290e-02,\n",
       "       -7.68295290e-02, -7.31309079e-02, -6.73846335e-02, -6.73846335e-02,\n",
       "       -6.21899410e-02, -6.21899410e-02, -6.21899410e-02, -6.21899410e-02,\n",
       "       -6.21899410e-02, -6.21899410e-02, -6.21899410e-02, -6.00648395e-02,\n",
       "       -6.00648395e-02, -6.00648395e-02, -6.00648395e-02, -4.24349975e-02,\n",
       "       -3.90499470e-02, -2.96050515e-02, -2.96050515e-02, -2.01601560e-02,\n",
       "       -1.03223528e-02, -3.63158885e-03, -3.63158885e-03, -3.63158885e-03,\n",
       "       -3.63158885e-03,  1.64244080e-03,  1.76194260e-02,  1.76194260e-02,\n",
       "        1.76194260e-02,  4.12316648e-02,  4.12316648e-02,  4.60334497e-02,\n",
       "        4.60334497e-02,  7.42887990e-02,  8.37336945e-02,  8.37336945e-02,\n",
       "        8.37336945e-02,  8.37336945e-02,  9.12896109e-02,  9.50675691e-02,\n",
       "        9.67204259e-02,  9.67204259e-02,  9.67204259e-02,  9.67204259e-02,\n",
       "        9.67204259e-02,  9.67204259e-02,  1.04984709e-01,  1.32454243e-01,\n",
       "        1.32454243e-01,  1.32454243e-01,  2.32963043e-01,  2.32963043e-01,\n",
       "        2.32963043e-01,  2.32963043e-01,  2.32963043e-01,  2.32963043e-01,\n",
       "        2.36741002e-01,  2.82076500e-01,  2.82155837e-01,  2.82155837e-01,\n",
       "        3.00886954e-01,  3.19463174e-01,  3.26703631e-01,  3.29300978e-01,\n",
       "        3.29300978e-01,  3.29300978e-01,  3.29300978e-01,  3.29300978e-01,\n",
       "        3.39769700e-01,  3.39769700e-01,  3.39769700e-01,  3.50079748e-01,\n",
       "        3.50079748e-01,  3.50079748e-01,  3.50079748e-01,  3.50079748e-01,\n",
       "        3.85970351e-01,  3.94313971e-01,  4.02971162e-01,  4.02971162e-01,\n",
       "        4.14225700e-01,  4.14225700e-01,  4.14225700e-01,  4.14225700e-01,\n",
       "        4.22412535e-01,  4.22412535e-01,  4.23749933e-01,  4.23749933e-01,\n",
       "        4.42246816e-01,  4.42246816e-01,  4.69085431e-01,  5.02614810e-01,\n",
       "        5.06472105e-01,  5.17805980e-01,  5.43856891e-01,  5.74868261e-01,\n",
       "        5.74868261e-01,  6.05091926e-01,  6.05091926e-01,  6.56094362e-01,\n",
       "        6.56094362e-01,  6.88207007e-01,  6.88207007e-01,  6.93558484e-01,\n",
       "        7.35431484e-01,  7.35431484e-01,  7.35431484e-01,  7.35431484e-01,\n",
       "        7.35431484e-01,  7.68488618e-01,  7.88166114e-01,  7.96430397e-01,\n",
       "        7.96430397e-01,  7.96430397e-01,  8.06976568e-01,  8.06976568e-01,\n",
       "        8.19647839e-01,  8.19647839e-01,  8.19647839e-01,  8.25473451e-01,\n",
       "        8.25473451e-01,  8.36491866e-01,  8.36491866e-01,  8.43103293e-01,\n",
       "        8.43103293e-01,  8.43103293e-01,  8.51603699e-01,  8.51603699e-01,\n",
       "        8.51603699e-01,  8.93318024e-01,  8.99221084e-01,  9.17874753e-01,\n",
       "        9.17874753e-01,  9.17874753e-01,  9.23857149e-01,  9.23857149e-01,\n",
       "        9.80998767e-01,  9.80998767e-01,  9.80998767e-01,  1.03019156e+00,\n",
       "        1.04711304e+00,  1.04711304e+00,  1.04711304e+00,  1.04711304e+00,\n",
       "        1.06749890e+00,  1.06749890e+00,  1.11322730e+00,  1.11322730e+00,\n",
       "        1.35737785e+00,  1.35737785e+00,  1.40413009e+00,  1.40413009e+00,\n",
       "        1.44159421e+00,  1.44159421e+00,  1.44159421e+00,  1.48677292e+00,\n",
       "        1.48677292e+00,  1.48677292e+00,  1.61380677e+00,  1.61380677e+00,\n",
       "        1.61380677e+00,  1.61380677e+00,  1.87165241e+00,  1.88770874e+00,\n",
       "        1.88770874e+00,  1.90911654e+00,  1.90911654e+00,  1.90911654e+00,\n",
       "        2.11477914e+00,  2.20977967e+00,  2.20977967e+00,  2.20977967e+00,\n",
       "        2.20977967e+00,  2.24590640e+00,  2.24590640e+00,  2.24590640e+00,\n",
       "        2.46132935e+00,  2.46132935e+00,  3.33915305e+00,  3.33915305e+00,\n",
       "        3.33915305e+00,  3.34222264e+00,  3.64493154e+00,  3.64493154e+00,\n",
       "        3.64493154e+00,  4.02264803e+00,  4.02264803e+00,  4.30324076e+00,\n",
       "        4.30324076e+00,  4.31504688e+00,  4.31504688e+00,  4.31504688e+00,\n",
       "        4.31504688e+00,  9.02482336e+00,  9.02482336e+00,  9.02482336e+00])"
      ]
     },
     "execution_count": 60,
     "metadata": {},
     "output_type": "execute_result"
    }
   ],
   "source": [
    "np.sort(preprocessed_data[\"fare\"])"
   ]
  },
  {
   "cell_type": "code",
   "execution_count": 61,
   "metadata": {},
   "outputs": [
    {
     "data": {
      "text/html": [
       "<div>\n",
       "<style scoped>\n",
       "    .dataframe tbody tr th:only-of-type {\n",
       "        vertical-align: middle;\n",
       "    }\n",
       "\n",
       "    .dataframe tbody tr th {\n",
       "        vertical-align: top;\n",
       "    }\n",
       "\n",
       "    .dataframe thead th {\n",
       "        text-align: right;\n",
       "    }\n",
       "</style>\n",
       "<table border=\"1\" class=\"dataframe\">\n",
       "  <thead>\n",
       "    <tr style=\"text-align: right;\">\n",
       "      <th></th>\n",
       "      <th>survived</th>\n",
       "      <th>pclass</th>\n",
       "      <th>age</th>\n",
       "      <th>sibsp</th>\n",
       "      <th>parch</th>\n",
       "      <th>alone</th>\n",
       "      <th>fare</th>\n",
       "      <th>embarked_C</th>\n",
       "      <th>embarked_Q</th>\n",
       "      <th>embarked_S</th>\n",
       "      <th>who_child</th>\n",
       "      <th>who_man</th>\n",
       "      <th>who_woman</th>\n",
       "    </tr>\n",
       "  </thead>\n",
       "  <tbody>\n",
       "    <tr>\n",
       "      <th>0</th>\n",
       "      <td>0</td>\n",
       "      <td>3</td>\n",
       "      <td>-0.527298</td>\n",
       "      <td>1</td>\n",
       "      <td>0</td>\n",
       "      <td>0</td>\n",
       "      <td>-0.516017</td>\n",
       "      <td>0</td>\n",
       "      <td>0</td>\n",
       "      <td>1</td>\n",
       "      <td>0</td>\n",
       "      <td>1</td>\n",
       "      <td>0</td>\n",
       "    </tr>\n",
       "    <tr>\n",
       "      <th>1</th>\n",
       "      <td>1</td>\n",
       "      <td>1</td>\n",
       "      <td>0.576688</td>\n",
       "      <td>1</td>\n",
       "      <td>0</td>\n",
       "      <td>0</td>\n",
       "      <td>0.693558</td>\n",
       "      <td>1</td>\n",
       "      <td>0</td>\n",
       "      <td>0</td>\n",
       "      <td>0</td>\n",
       "      <td>0</td>\n",
       "      <td>1</td>\n",
       "    </tr>\n",
       "    <tr>\n",
       "      <th>2</th>\n",
       "      <td>1</td>\n",
       "      <td>3</td>\n",
       "      <td>-0.251301</td>\n",
       "      <td>0</td>\n",
       "      <td>0</td>\n",
       "      <td>1</td>\n",
       "      <td>-0.503267</td>\n",
       "      <td>0</td>\n",
       "      <td>0</td>\n",
       "      <td>1</td>\n",
       "      <td>0</td>\n",
       "      <td>0</td>\n",
       "      <td>1</td>\n",
       "    </tr>\n",
       "    <tr>\n",
       "      <th>3</th>\n",
       "      <td>1</td>\n",
       "      <td>1</td>\n",
       "      <td>0.369691</td>\n",
       "      <td>1</td>\n",
       "      <td>0</td>\n",
       "      <td>0</td>\n",
       "      <td>0.350080</td>\n",
       "      <td>0</td>\n",
       "      <td>0</td>\n",
       "      <td>1</td>\n",
       "      <td>0</td>\n",
       "      <td>0</td>\n",
       "      <td>1</td>\n",
       "    </tr>\n",
       "    <tr>\n",
       "      <th>4</th>\n",
       "      <td>0</td>\n",
       "      <td>3</td>\n",
       "      <td>0.369691</td>\n",
       "      <td>0</td>\n",
       "      <td>0</td>\n",
       "      <td>1</td>\n",
       "      <td>-0.500905</td>\n",
       "      <td>0</td>\n",
       "      <td>0</td>\n",
       "      <td>1</td>\n",
       "      <td>0</td>\n",
       "      <td>1</td>\n",
       "      <td>0</td>\n",
       "    </tr>\n",
       "  </tbody>\n",
       "</table>\n",
       "</div>"
      ],
      "text/plain": [
       "   survived  pclass       age  sibsp  parch  alone      fare  embarked_C  \\\n",
       "0         0       3 -0.527298      1      0      0 -0.516017           0   \n",
       "1         1       1  0.576688      1      0      0  0.693558           1   \n",
       "2         1       3 -0.251301      0      0      1 -0.503267           0   \n",
       "3         1       1  0.369691      1      0      0  0.350080           0   \n",
       "4         0       3  0.369691      0      0      1 -0.500905           0   \n",
       "\n",
       "   embarked_Q  embarked_S  who_child  who_man  who_woman  \n",
       "0           0           1          0        1          0  \n",
       "1           0           0          0        0          1  \n",
       "2           0           1          0        0          1  \n",
       "3           0           1          0        0          1  \n",
       "4           0           1          0        1          0  "
      ]
     },
     "execution_count": 61,
     "metadata": {},
     "output_type": "execute_result"
    }
   ],
   "source": [
    "preprocessed_data.head()"
   ]
  },
  {
   "cell_type": "code",
   "execution_count": 62,
   "metadata": {},
   "outputs": [
    {
     "name": "stdout",
     "output_type": "stream",
     "text": [
      "총 sample의 개수: 712\n",
      "train 개수: 512\n",
      "validation 개수: 100\n",
      "test개수: 100\n"
     ]
    }
   ],
   "source": [
    "print(\"총 sample의 개수:\",preprocessed_data.count()[0])\n",
    "print(\"train 개수:\",512)\n",
    "print(\"validation 개수:\",100)\n",
    "print(\"test개수:\",100)"
   ]
  },
  {
   "cell_type": "code",
   "execution_count": 63,
   "metadata": {},
   "outputs": [],
   "source": [
    "data = preprocessed_data.iloc[:,1:].values\n",
    "label = preprocessed_data[\"survived\"].values"
   ]
  },
  {
   "cell_type": "code",
   "execution_count": 64,
   "metadata": {},
   "outputs": [],
   "source": [
    "train_data = data[:512]\n",
    "valid_data = data[512:612]\n",
    "test_data = data[612:]\n",
    "\n",
    "train_label = label[:512]\n",
    "valid_label = label[512:612]\n",
    "test_label = label[612:]"
   ]
  },
  {
   "cell_type": "code",
   "execution_count": 65,
   "metadata": {},
   "outputs": [
    {
     "name": "stdout",
     "output_type": "stream",
     "text": [
      "train_size: (512, 12)\n",
      "valid_size: (100, 12)\n",
      "test_size: (100, 12)\n"
     ]
    }
   ],
   "source": [
    "print(\"train_size:\",train_data.shape)\n",
    "print(\"valid_size:\",valid_data.shape)\n",
    "print(\"test_size:\",test_data.shape)"
   ]
  },
  {
   "cell_type": "code",
   "execution_count": 66,
   "metadata": {},
   "outputs": [],
   "source": [
    "train_size = train_data.shape[1]\n",
    "batch_size = 128\n",
    "learning_rate = 0.0003"
   ]
  },
  {
   "cell_type": "code",
   "execution_count": 67,
   "metadata": {},
   "outputs": [
    {
     "name": "stdout",
     "output_type": "stream",
     "text": [
      "train_size: (512,)\n",
      "valid_size: (100,)\n",
      "test_size: (100,)\n"
     ]
    }
   ],
   "source": [
    "print(\"train_size:\",train_label.shape)\n",
    "print(\"valid_size:\",valid_label.shape)\n",
    "print(\"test_size:\",test_label.shape)"
   ]
  },
  {
   "cell_type": "markdown",
   "metadata": {},
   "source": [
    "### training"
   ]
  },
  {
   "cell_type": "code",
   "execution_count": 68,
   "metadata": {},
   "outputs": [],
   "source": [
    "import tensorflow.keras.models as models\n",
    "import tensorflow.keras.layers as layers\n",
    "import tensorflow as tf"
   ]
  },
  {
   "cell_type": "code",
   "execution_count": 76,
   "metadata": {},
   "outputs": [],
   "source": [
    "model = models.Sequential()"
   ]
  },
  {
   "cell_type": "code",
   "execution_count": 77,
   "metadata": {},
   "outputs": [],
   "source": [
    "model.add(layers.Dense(144,activation='relu',input_shape=(train_size,)))\n",
    "model.add(layers.Dense(64,activation='relu'))\n",
    "model.add(layers.Dense(12,activation='relu'))\n",
    "model.add(layers.Dense(1,activation='sigmoid'))"
   ]
  },
  {
   "cell_type": "code",
   "execution_count": 78,
   "metadata": {},
   "outputs": [
    {
     "name": "stdout",
     "output_type": "stream",
     "text": [
      "parameter(weight)개수\n",
      "(12, 144)\n",
      "(144,)\n",
      "(144, 64)\n",
      "(64,)\n",
      "(64, 12)\n",
      "(12,)\n",
      "(12, 1)\n",
      "(1,)\n"
     ]
    }
   ],
   "source": [
    "print(\"parameter(weight)개수\")\n",
    "for i in range(len(model.weights)):\n",
    "    print(model.weights[i].shape)"
   ]
  },
  {
   "cell_type": "code",
   "execution_count": 79,
   "metadata": {},
   "outputs": [],
   "source": [
    "model.compile(\n",
    "    optimizer=tf.keras.optimizers.Adam(learning_rate=learning_rate),\n",
    "    loss=tf.keras.losses.binary_crossentropy,metrics=['accuracy']\n",
    ")"
   ]
  },
  {
   "cell_type": "code",
   "execution_count": null,
   "metadata": {},
   "outputs": [],
   "source": []
  },
  {
   "cell_type": "code",
   "execution_count": 80,
   "metadata": {},
   "outputs": [
    {
     "name": "stdout",
     "output_type": "stream",
     "text": [
      "Train on 512 samples, validate on 100 samples\n",
      "Epoch 1/60\n",
      "512/512 [==============================] - 0s 572us/sample - loss: 0.7248 - accuracy: 0.3965 - val_loss: 0.7149 - val_accuracy: 0.3200\n",
      "Epoch 2/60\n",
      "512/512 [==============================] - 0s 19us/sample - loss: 0.6958 - accuracy: 0.4766 - val_loss: 0.6830 - val_accuracy: 0.5600\n",
      "Epoch 3/60\n",
      "512/512 [==============================] - 0s 19us/sample - loss: 0.6706 - accuracy: 0.6406 - val_loss: 0.6568 - val_accuracy: 0.6600\n",
      "Epoch 4/60\n",
      "512/512 [==============================] - 0s 19us/sample - loss: 0.6530 - accuracy: 0.6504 - val_loss: 0.6358 - val_accuracy: 0.6500\n",
      "Epoch 5/60\n",
      "512/512 [==============================] - 0s 22us/sample - loss: 0.6374 - accuracy: 0.6484 - val_loss: 0.6185 - val_accuracy: 0.6400\n",
      "Epoch 6/60\n",
      "512/512 [==============================] - 0s 21us/sample - loss: 0.6259 - accuracy: 0.6621 - val_loss: 0.6043 - val_accuracy: 0.6800\n",
      "Epoch 7/60\n",
      "512/512 [==============================] - 0s 24us/sample - loss: 0.6148 - accuracy: 0.6719 - val_loss: 0.5916 - val_accuracy: 0.7000\n",
      "Epoch 8/60\n",
      "512/512 [==============================] - 0s 23us/sample - loss: 0.6043 - accuracy: 0.6934 - val_loss: 0.5790 - val_accuracy: 0.7100\n",
      "Epoch 9/60\n",
      "512/512 [==============================] - 0s 22us/sample - loss: 0.5937 - accuracy: 0.6992 - val_loss: 0.5660 - val_accuracy: 0.7400\n",
      "Epoch 10/60\n",
      "512/512 [==============================] - 0s 23us/sample - loss: 0.5827 - accuracy: 0.7305 - val_loss: 0.5552 - val_accuracy: 0.7700\n",
      "Epoch 11/60\n",
      "512/512 [==============================] - 0s 23us/sample - loss: 0.5727 - accuracy: 0.7500 - val_loss: 0.5443 - val_accuracy: 0.7400\n",
      "Epoch 12/60\n",
      "512/512 [==============================] - 0s 24us/sample - loss: 0.5622 - accuracy: 0.7559 - val_loss: 0.5339 - val_accuracy: 0.7300\n",
      "Epoch 13/60\n",
      "512/512 [==============================] - 0s 22us/sample - loss: 0.5521 - accuracy: 0.7656 - val_loss: 0.5237 - val_accuracy: 0.7300\n",
      "Epoch 14/60\n",
      "512/512 [==============================] - 0s 22us/sample - loss: 0.5422 - accuracy: 0.7656 - val_loss: 0.5135 - val_accuracy: 0.7400\n",
      "Epoch 15/60\n",
      "512/512 [==============================] - 0s 24us/sample - loss: 0.5331 - accuracy: 0.7656 - val_loss: 0.5035 - val_accuracy: 0.7400\n",
      "Epoch 16/60\n",
      "512/512 [==============================] - 0s 24us/sample - loss: 0.5246 - accuracy: 0.7812 - val_loss: 0.4947 - val_accuracy: 0.7700\n",
      "Epoch 17/60\n",
      "512/512 [==============================] - 0s 22us/sample - loss: 0.5161 - accuracy: 0.7930 - val_loss: 0.4869 - val_accuracy: 0.7800\n",
      "Epoch 18/60\n",
      "512/512 [==============================] - 0s 22us/sample - loss: 0.5075 - accuracy: 0.8047 - val_loss: 0.4784 - val_accuracy: 0.7800\n",
      "Epoch 19/60\n",
      "512/512 [==============================] - 0s 23us/sample - loss: 0.5001 - accuracy: 0.8027 - val_loss: 0.4708 - val_accuracy: 0.7900\n",
      "Epoch 20/60\n",
      "512/512 [==============================] - 0s 24us/sample - loss: 0.4936 - accuracy: 0.8008 - val_loss: 0.4643 - val_accuracy: 0.7900\n",
      "Epoch 21/60\n",
      "512/512 [==============================] - 0s 22us/sample - loss: 0.4869 - accuracy: 0.8008 - val_loss: 0.4590 - val_accuracy: 0.8000\n",
      "Epoch 22/60\n",
      "512/512 [==============================] - 0s 23us/sample - loss: 0.4818 - accuracy: 0.8008 - val_loss: 0.4552 - val_accuracy: 0.8100\n",
      "Epoch 23/60\n",
      "512/512 [==============================] - 0s 24us/sample - loss: 0.4758 - accuracy: 0.8027 - val_loss: 0.4498 - val_accuracy: 0.8100\n",
      "Epoch 24/60\n",
      "512/512 [==============================] - 0s 24us/sample - loss: 0.4712 - accuracy: 0.8047 - val_loss: 0.4441 - val_accuracy: 0.8100\n",
      "Epoch 25/60\n",
      "512/512 [==============================] - 0s 22us/sample - loss: 0.4677 - accuracy: 0.8027 - val_loss: 0.4393 - val_accuracy: 0.8000\n",
      "Epoch 26/60\n",
      "512/512 [==============================] - 0s 22us/sample - loss: 0.4636 - accuracy: 0.8047 - val_loss: 0.4366 - val_accuracy: 0.8100\n",
      "Epoch 27/60\n",
      "512/512 [==============================] - 0s 25us/sample - loss: 0.4598 - accuracy: 0.8027 - val_loss: 0.4338 - val_accuracy: 0.8100\n",
      "Epoch 28/60\n",
      "512/512 [==============================] - 0s 24us/sample - loss: 0.4574 - accuracy: 0.8027 - val_loss: 0.4306 - val_accuracy: 0.8100\n",
      "Epoch 29/60\n",
      "512/512 [==============================] - 0s 22us/sample - loss: 0.4547 - accuracy: 0.8027 - val_loss: 0.4279 - val_accuracy: 0.8100\n",
      "Epoch 30/60\n",
      "512/512 [==============================] - 0s 22us/sample - loss: 0.4518 - accuracy: 0.8047 - val_loss: 0.4262 - val_accuracy: 0.8100\n",
      "Epoch 31/60\n",
      "512/512 [==============================] - 0s 24us/sample - loss: 0.4494 - accuracy: 0.8047 - val_loss: 0.4235 - val_accuracy: 0.8100\n",
      "Epoch 32/60\n",
      "512/512 [==============================] - 0s 24us/sample - loss: 0.4475 - accuracy: 0.8027 - val_loss: 0.4216 - val_accuracy: 0.8100\n",
      "Epoch 33/60\n",
      "512/512 [==============================] - 0s 24us/sample - loss: 0.4453 - accuracy: 0.8027 - val_loss: 0.4193 - val_accuracy: 0.8200\n",
      "Epoch 34/60\n",
      "512/512 [==============================] - 0s 23us/sample - loss: 0.4436 - accuracy: 0.8047 - val_loss: 0.4175 - val_accuracy: 0.8200\n",
      "Epoch 35/60\n",
      "512/512 [==============================] - 0s 21us/sample - loss: 0.4416 - accuracy: 0.8047 - val_loss: 0.4151 - val_accuracy: 0.8200\n",
      "Epoch 36/60\n",
      "512/512 [==============================] - 0s 19us/sample - loss: 0.4398 - accuracy: 0.8047 - val_loss: 0.4134 - val_accuracy: 0.8300\n",
      "Epoch 37/60\n",
      "512/512 [==============================] - 0s 20us/sample - loss: 0.4382 - accuracy: 0.8066 - val_loss: 0.4123 - val_accuracy: 0.8300\n",
      "Epoch 38/60\n",
      "512/512 [==============================] - 0s 19us/sample - loss: 0.4364 - accuracy: 0.8066 - val_loss: 0.4109 - val_accuracy: 0.8300\n",
      "Epoch 39/60\n",
      "512/512 [==============================] - 0s 21us/sample - loss: 0.4349 - accuracy: 0.8086 - val_loss: 0.4102 - val_accuracy: 0.8300\n",
      "Epoch 40/60\n",
      "512/512 [==============================] - 0s 21us/sample - loss: 0.4333 - accuracy: 0.8086 - val_loss: 0.4085 - val_accuracy: 0.8300\n",
      "Epoch 41/60\n",
      "512/512 [==============================] - 0s 23us/sample - loss: 0.4317 - accuracy: 0.8086 - val_loss: 0.4075 - val_accuracy: 0.8300\n",
      "Epoch 42/60\n",
      "512/512 [==============================] - 0s 25us/sample - loss: 0.4306 - accuracy: 0.8105 - val_loss: 0.4070 - val_accuracy: 0.8200\n",
      "Epoch 43/60\n",
      "512/512 [==============================] - 0s 25us/sample - loss: 0.4290 - accuracy: 0.8105 - val_loss: 0.4055 - val_accuracy: 0.8200\n",
      "Epoch 44/60\n",
      "512/512 [==============================] - 0s 25us/sample - loss: 0.4276 - accuracy: 0.8105 - val_loss: 0.4050 - val_accuracy: 0.8200\n",
      "Epoch 45/60\n",
      "512/512 [==============================] - 0s 29us/sample - loss: 0.4268 - accuracy: 0.8105 - val_loss: 0.4039 - val_accuracy: 0.8200\n",
      "Epoch 46/60\n",
      "512/512 [==============================] - 0s 24us/sample - loss: 0.4256 - accuracy: 0.8105 - val_loss: 0.4032 - val_accuracy: 0.8200\n",
      "Epoch 47/60\n",
      "512/512 [==============================] - 0s 23us/sample - loss: 0.4237 - accuracy: 0.8105 - val_loss: 0.4029 - val_accuracy: 0.8200\n",
      "Epoch 48/60\n",
      "512/512 [==============================] - 0s 22us/sample - loss: 0.4224 - accuracy: 0.8125 - val_loss: 0.4022 - val_accuracy: 0.8200\n",
      "Epoch 49/60\n",
      "512/512 [==============================] - 0s 21us/sample - loss: 0.4213 - accuracy: 0.8184 - val_loss: 0.4011 - val_accuracy: 0.8200\n",
      "Epoch 50/60\n",
      "512/512 [==============================] - 0s 21us/sample - loss: 0.4198 - accuracy: 0.8223 - val_loss: 0.4003 - val_accuracy: 0.8200\n",
      "Epoch 51/60\n",
      "512/512 [==============================] - 0s 20us/sample - loss: 0.4194 - accuracy: 0.8223 - val_loss: 0.4010 - val_accuracy: 0.8100\n",
      "Epoch 52/60\n",
      "512/512 [==============================] - 0s 20us/sample - loss: 0.4177 - accuracy: 0.8203 - val_loss: 0.4006 - val_accuracy: 0.8100\n",
      "Epoch 53/60\n",
      "512/512 [==============================] - 0s 20us/sample - loss: 0.4164 - accuracy: 0.8203 - val_loss: 0.4010 - val_accuracy: 0.8100\n",
      "Epoch 54/60\n",
      "512/512 [==============================] - 0s 19us/sample - loss: 0.4157 - accuracy: 0.8242 - val_loss: 0.4013 - val_accuracy: 0.8100\n",
      "Epoch 55/60\n",
      "512/512 [==============================] - 0s 19us/sample - loss: 0.4149 - accuracy: 0.8223 - val_loss: 0.4012 - val_accuracy: 0.8100\n",
      "Epoch 56/60\n",
      "512/512 [==============================] - 0s 19us/sample - loss: 0.4136 - accuracy: 0.8223 - val_loss: 0.4018 - val_accuracy: 0.8100\n"
     ]
    },
    {
     "name": "stdout",
     "output_type": "stream",
     "text": [
      "Epoch 57/60\n",
      "512/512 [==============================] - 0s 20us/sample - loss: 0.4123 - accuracy: 0.8203 - val_loss: 0.4014 - val_accuracy: 0.8100\n",
      "Epoch 58/60\n",
      "512/512 [==============================] - 0s 19us/sample - loss: 0.4118 - accuracy: 0.8184 - val_loss: 0.4022 - val_accuracy: 0.8100\n",
      "Epoch 59/60\n",
      "512/512 [==============================] - 0s 19us/sample - loss: 0.4107 - accuracy: 0.8242 - val_loss: 0.4024 - val_accuracy: 0.8100\n",
      "Epoch 60/60\n",
      "512/512 [==============================] - 0s 20us/sample - loss: 0.4096 - accuracy: 0.8242 - val_loss: 0.4017 - val_accuracy: 0.8100\n"
     ]
    }
   ],
   "source": [
    "history = model.fit(train_data,train_label,epochs=60,batch_size=batch_size,\n",
    "                    validation_data=(valid_data,valid_label))"
   ]
  },
  {
   "cell_type": "code",
   "execution_count": 81,
   "metadata": {},
   "outputs": [],
   "source": [
    "history_dict = history.history\n",
    "\n",
    "history_dict.keys()\n",
    "\n",
    "loss_values = history_dict['loss']\n",
    "\n",
    "accuracy = history_dict['accuracy']\n",
    "\n",
    "val_loss = history_dict['val_loss']\n",
    "\n",
    "val_accuracy = history_dict['val_accuracy']\n",
    "\n",
    "epochs = np.arange(1,len(val_loss)+1)"
   ]
  },
  {
   "cell_type": "code",
   "execution_count": 82,
   "metadata": {},
   "outputs": [
    {
     "data": {
      "image/png": "[encoded data removed]",
      "text/plain": [
       "<Figure size 1008x288 with 2 Axes>"
      ]
     },
     "metadata": {
      "needs_background": "light"
     },
     "output_type": "display_data"
    }
   ],
   "source": [
    "plt.figure(figsize=(14,4))\n",
    "plt.subplot(1,2,1)\n",
    "plt.title(\"loss\")\n",
    "plt.plot(epochs,loss_values,\".r\", label='train',)\n",
    "plt.plot(epochs,val_loss,\"-b\", label='validation')\n",
    "plt.legend(fontsize='small')\n",
    "plt.axvline(2,color='g',linestyle='--')\n",
    "plt.xticks(epochs)\n",
    "\n",
    "plt.subplot(1,2,2)\n",
    "plt.title(\"accuracy\")\n",
    "plt.plot(epochs,accuracy,\".r\", label='train')\n",
    "plt.plot(epochs,val_accuracy,\"-b\", label='validation')\n",
    "plt.legend(fontsize='small')\n",
    "plt.axvline(2,color='g',linestyle='--')\n",
    "plt.xticks(epochs)\n",
    "plt.show()"
   ]
  },
  {
   "cell_type": "code",
   "execution_count": 83,
   "metadata": {},
   "outputs": [
    {
     "name": "stdout",
     "output_type": "stream",
     "text": [
      "100/100 [==============================] - 0s 43us/sample - loss: 0.3446 - accuracy: 0.8800\n"
     ]
    }
   ],
   "source": [
    "result = model.evaluate(test_data,test_label)"
   ]
  },
  {
   "cell_type": "code",
   "execution_count": 84,
   "metadata": {},
   "outputs": [
    {
     "name": "stdout",
     "output_type": "stream",
     "text": [
      "test_loss: 0.3446058571338654\n",
      "test_accuracy: 0.88\n"
     ]
    }
   ],
   "source": [
    "print(\"test_loss:\",result[0])\n",
    "print(\"test_accuracy:\",result[1])"
   ]
  },
  {
   "cell_type": "code",
   "execution_count": 85,
   "metadata": {},
   "outputs": [
    {
     "data": {
      "text/html": [
       "<div>\n",
       "<style scoped>\n",
       "    .dataframe tbody tr th:only-of-type {\n",
       "        vertical-align: middle;\n",
       "    }\n",
       "\n",
       "    .dataframe tbody tr th {\n",
       "        vertical-align: top;\n",
       "    }\n",
       "\n",
       "    .dataframe thead th {\n",
       "        text-align: right;\n",
       "    }\n",
       "</style>\n",
       "<table border=\"1\" class=\"dataframe\">\n",
       "  <thead>\n",
       "    <tr style=\"text-align: right;\">\n",
       "      <th></th>\n",
       "      <th>survived</th>\n",
       "      <th>pclass</th>\n",
       "      <th>age</th>\n",
       "      <th>sibsp</th>\n",
       "      <th>parch</th>\n",
       "      <th>alone</th>\n",
       "      <th>fare</th>\n",
       "      <th>embarked_C</th>\n",
       "      <th>embarked_Q</th>\n",
       "      <th>embarked_S</th>\n",
       "      <th>who_child</th>\n",
       "      <th>who_man</th>\n",
       "      <th>who_woman</th>\n",
       "    </tr>\n",
       "  </thead>\n",
       "  <tbody>\n",
       "    <tr>\n",
       "      <th>0</th>\n",
       "      <td>0</td>\n",
       "      <td>3</td>\n",
       "      <td>-0.527298</td>\n",
       "      <td>1</td>\n",
       "      <td>0</td>\n",
       "      <td>0</td>\n",
       "      <td>-0.516017</td>\n",
       "      <td>0</td>\n",
       "      <td>0</td>\n",
       "      <td>1</td>\n",
       "      <td>0</td>\n",
       "      <td>1</td>\n",
       "      <td>0</td>\n",
       "    </tr>\n",
       "    <tr>\n",
       "      <th>1</th>\n",
       "      <td>1</td>\n",
       "      <td>1</td>\n",
       "      <td>0.576688</td>\n",
       "      <td>1</td>\n",
       "      <td>0</td>\n",
       "      <td>0</td>\n",
       "      <td>0.693558</td>\n",
       "      <td>1</td>\n",
       "      <td>0</td>\n",
       "      <td>0</td>\n",
       "      <td>0</td>\n",
       "      <td>0</td>\n",
       "      <td>1</td>\n",
       "    </tr>\n",
       "    <tr>\n",
       "      <th>2</th>\n",
       "      <td>1</td>\n",
       "      <td>3</td>\n",
       "      <td>-0.251301</td>\n",
       "      <td>0</td>\n",
       "      <td>0</td>\n",
       "      <td>1</td>\n",
       "      <td>-0.503267</td>\n",
       "      <td>0</td>\n",
       "      <td>0</td>\n",
       "      <td>1</td>\n",
       "      <td>0</td>\n",
       "      <td>0</td>\n",
       "      <td>1</td>\n",
       "    </tr>\n",
       "    <tr>\n",
       "      <th>3</th>\n",
       "      <td>1</td>\n",
       "      <td>1</td>\n",
       "      <td>0.369691</td>\n",
       "      <td>1</td>\n",
       "      <td>0</td>\n",
       "      <td>0</td>\n",
       "      <td>0.350080</td>\n",
       "      <td>0</td>\n",
       "      <td>0</td>\n",
       "      <td>1</td>\n",
       "      <td>0</td>\n",
       "      <td>0</td>\n",
       "      <td>1</td>\n",
       "    </tr>\n",
       "    <tr>\n",
       "      <th>4</th>\n",
       "      <td>0</td>\n",
       "      <td>3</td>\n",
       "      <td>0.369691</td>\n",
       "      <td>0</td>\n",
       "      <td>0</td>\n",
       "      <td>1</td>\n",
       "      <td>-0.500905</td>\n",
       "      <td>0</td>\n",
       "      <td>0</td>\n",
       "      <td>1</td>\n",
       "      <td>0</td>\n",
       "      <td>1</td>\n",
       "      <td>0</td>\n",
       "    </tr>\n",
       "  </tbody>\n",
       "</table>\n",
       "</div>"
      ],
      "text/plain": [
       "   survived  pclass       age  sibsp  parch  alone      fare  embarked_C  \\\n",
       "0         0       3 -0.527298      1      0      0 -0.516017           0   \n",
       "1         1       1  0.576688      1      0      0  0.693558           1   \n",
       "2         1       3 -0.251301      0      0      1 -0.503267           0   \n",
       "3         1       1  0.369691      1      0      0  0.350080           0   \n",
       "4         0       3  0.369691      0      0      1 -0.500905           0   \n",
       "\n",
       "   embarked_Q  embarked_S  who_child  who_man  who_woman  \n",
       "0           0           1          0        1          0  \n",
       "1           0           0          0        0          1  \n",
       "2           0           1          0        0          1  \n",
       "3           0           1          0        0          1  \n",
       "4           0           1          0        1          0  "
      ]
     },
     "execution_count": 85,
     "metadata": {},
     "output_type": "execute_result"
    }
   ],
   "source": [
    "preprocessed_data.head()"
   ]
  },
  {
   "cell_type": "code",
   "execution_count": 142,
   "metadata": {},
   "outputs": [],
   "source": [
    "changmin = np.array([1,np.random.normal(),0,1,0,np.random.normal(),0,1,0,0,1,0])"
   ]
  },
  {
   "cell_type": "code",
   "execution_count": 143,
   "metadata": {},
   "outputs": [
    {
     "data": {
      "text/plain": [
       "array([ 1.        , -2.22925106,  0.        ,  1.        ,  0.        ,\n",
       "       -0.02679882,  0.        ,  1.        ,  0.        ,  0.        ,\n",
       "        1.        ,  0.        ])"
      ]
     },
     "execution_count": 143,
     "metadata": {},
     "output_type": "execute_result"
    }
   ],
   "source": [
    "changmin"
   ]
  },
  {
   "cell_type": "code",
   "execution_count": 144,
   "metadata": {},
   "outputs": [],
   "source": [
    "changmin = changmin.reshape([1,12])"
   ]
  },
  {
   "cell_type": "code",
   "execution_count": 145,
   "metadata": {},
   "outputs": [
    {
     "data": {
      "text/plain": [
       "array([[0.6972177]], dtype=float32)"
      ]
     },
     "execution_count": 145,
     "metadata": {},
     "output_type": "execute_result"
    }
   ],
   "source": [
    "model.predict(changmin)"
   ]
  },
  {
   "cell_type": "code",
   "execution_count": null,
   "metadata": {},
   "outputs": [],
   "source": []
  },
  {
   "cell_type": "markdown",
   "metadata": {},
   "source": [
    "age 맞추기\n",
    "- adult, child"
   ]
  },
  {
   "cell_type": "code",
   "execution_count": 167,
   "metadata": {},
   "outputs": [],
   "source": [
    "preprocessed_data = titanic_data.loc[:,['age', 'pclass','survived',\n",
    "                                       'sibsp', 'parch','alone','fare','who']]"
   ]
  },
  {
   "cell_type": "code",
   "execution_count": 168,
   "metadata": {},
   "outputs": [],
   "source": [
    "preprocessed_data = pd.get_dummies(preprocessed_data)"
   ]
  },
  {
   "cell_type": "code",
   "execution_count": 169,
   "metadata": {},
   "outputs": [],
   "source": [
    "preprocessed_data[\"fare\"] = (preprocessed_data[\"fare\"] - preprocessed_data[\"fare\"].mean())/(preprocessed_data[\"fare\"].std())"
   ]
  },
  {
   "cell_type": "code",
   "execution_count": 170,
   "metadata": {},
   "outputs": [],
   "source": [
    "nan_age_data = preprocessed_data.isnull()\n",
    "\n",
    "nan_age_data = preprocessed_data[nan_age_data.age == True]\n",
    "\n",
    "nan_age_data.head()\n",
    "\n",
    "preprocessed_data = preprocessed_data.dropna()"
   ]
  },
  {
   "cell_type": "code",
   "execution_count": 171,
   "metadata": {},
   "outputs": [
    {
     "data": {
      "text/plain": [
       "714"
      ]
     },
     "execution_count": 171,
     "metadata": {},
     "output_type": "execute_result"
    }
   ],
   "source": [
    "preprocessed_data.count()[0]"
   ]
  },
  {
   "cell_type": "code",
   "execution_count": 172,
   "metadata": {},
   "outputs": [
    {
     "data": {
      "text/plain": [
       "(array([  0.,   0.,   0.,   0., 531., 133.,  23.,   9.,  15.,   0.]),\n",
       " array([-6. , -4.8, -3.6, -2.4, -1.2,  0. ,  1.2,  2.4,  3.6,  4.8,  6. ]),\n",
       " <a list of 10 Patch objects>)"
      ]
     },
     "execution_count": 172,
     "metadata": {},
     "output_type": "execute_result"
    },
    {
     "data": {
      "image/png": "[encoded data removed]",
      "text/plain": [
       "<Figure size 1080x288 with 1 Axes>"
      ]
     },
     "metadata": {
      "needs_background": "light"
     },
     "output_type": "display_data"
    }
   ],
   "source": [
    "plt.figure(figsize=(15,4))\n",
    "plt.subplot(1,2,1)\n",
    "plt.hist(preprocessed_data[\"fare\"],bins=10,range=(-6,6))"
   ]
  },
  {
   "cell_type": "code",
   "execution_count": 173,
   "metadata": {},
   "outputs": [],
   "source": [
    "child = preprocessed_data.loc[preprocessed_data.who_child==1]\n",
    "adult_man = preprocessed_data.loc[preprocessed_data.who_man==1]\n",
    "adult_woman = preprocessed_data.loc[preprocessed_data.who_woman==1]"
   ]
  },
  {
   "cell_type": "code",
   "execution_count": 174,
   "metadata": {},
   "outputs": [],
   "source": [
    "child = child.iloc[:,:7]"
   ]
  },
  {
   "cell_type": "code",
   "execution_count": 175,
   "metadata": {},
   "outputs": [],
   "source": [
    "adult_man = adult_man.iloc[:,:7]\n",
    "adult_woman = adult_woman.iloc[:,:7]"
   ]
  },
  {
   "cell_type": "code",
   "execution_count": 176,
   "metadata": {},
   "outputs": [
    {
     "name": "stdout",
     "output_type": "stream",
     "text": [
      "아이들 명수: 83\n",
      "아이들 연령 분포:\n",
      " [ 0.42  0.67  0.75  0.83  0.92  1.    2.    3.    4.    5.    6.    7.\n",
      "  8.    9.   10.   11.   12.   13.   14.   14.5  15.  ]\n"
     ]
    }
   ],
   "source": [
    "print(\"아이들 명수:\",child.shape[0])\n",
    "print(\"아이들 연령 분포:\\n\",np.sort(child[\"age\"].unique()))"
   ]
  },
  {
   "cell_type": "code",
   "execution_count": 177,
   "metadata": {},
   "outputs": [],
   "source": [
    "child_data = child.iloc[:,1:].values\n",
    "child_label = child[\"age\"].values\n",
    "\n",
    "child_train_data = child_data[:73]\n",
    "child_test_data = child_data[73:]\n",
    "\n",
    "child_train_label = child_label[:73]\n",
    "child_test_label = child_label[73:]"
   ]
  },
  {
   "cell_type": "code",
   "execution_count": 178,
   "metadata": {},
   "outputs": [
    {
     "name": "stdout",
     "output_type": "stream",
     "text": [
      "남자 명수: 413\n",
      "남자 연령 분포:\n",
      " [16.  17.  18.  19.  20.  20.5 21.  22.  23.  23.5 24.  24.5 25.  26.\n",
      " 27.  28.  28.5 29.  30.  30.5 31.  32.  32.5 33.  34.  34.5 35.  36.\n",
      " 36.5 37.  38.  39.  40.  40.5 41.  42.  43.  44.  45.  45.5 46.  47.\n",
      " 48.  49.  50.  51.  52.  54.  55.  55.5 56.  57.  58.  59.  60.  61.\n",
      " 62.  64.  65.  66.  70.  70.5 71.  74.  80. ]\n"
     ]
    }
   ],
   "source": [
    "print(\"남자 명수:\",adult_man.shape[0])\n",
    "print(\"남자 연령 분포:\\n\",np.sort(adult_man[\"age\"].unique()))"
   ]
  },
  {
   "cell_type": "code",
   "execution_count": 179,
   "metadata": {},
   "outputs": [],
   "source": [
    "adult_man_data = adult_man.iloc[:,1:].values\n",
    "adult_man_train_data = adult_man_data[:350]\n",
    "adult_man_test_data = adult_man_data[350:]\n",
    "\n",
    "\n",
    "adult_man_label = adult_man[\"age\"].values\n",
    "adult_man_train_label = adult_man_label[:350]\n",
    "adult_man_test_label = adult_man_label[350:]"
   ]
  },
  {
   "cell_type": "code",
   "execution_count": 180,
   "metadata": {},
   "outputs": [
    {
     "name": "stdout",
     "output_type": "stream",
     "text": [
      "여자 명수: 218\n",
      "여자 연령 분포:\n",
      " [16.  17.  18.  19.  20.  21.  22.  23.  24.  25.  26.  27.  28.  29.\n",
      " 30.  30.5 31.  32.  32.5 33.  34.  35.  36.  37.  38.  39.  40.  41.\n",
      " 42.  43.  44.  45.  47.  48.  49.  50.  51.  52.  53.  54.  55.  56.\n",
      " 57.  58.  60.  62.  63. ]\n"
     ]
    }
   ],
   "source": [
    "print(\"여자 명수:\",adult_woman.shape[0])\n",
    "print(\"여자 연령 분포:\\n\",np.sort(adult_woman[\"age\"].unique()))"
   ]
  },
  {
   "cell_type": "code",
   "execution_count": 181,
   "metadata": {},
   "outputs": [],
   "source": [
    "adult_woman_data = adult_woman.iloc[:,1:].values\n",
    "adult_woman_train_data = adult_woman_data[:180]\n",
    "adult_woman_test_data = adult_woman_data[180:]\n",
    "\n",
    "adult_woman_label = adult_woman[\"age\"].values\n",
    "adult_woman_train_label = adult_woman_label[:180]\n",
    "adult_woman_test_label = adult_woman_label[180:]"
   ]
  },
  {
   "cell_type": "code",
   "execution_count": 212,
   "metadata": {},
   "outputs": [],
   "source": [
    "train_size = adult_man_train_data.shape[1]\n",
    "batch_size = 64\n",
    "learning_rate = 0.001"
   ]
  },
  {
   "cell_type": "code",
   "execution_count": 213,
   "metadata": {},
   "outputs": [],
   "source": [
    "model = models.Sequential()"
   ]
  },
  {
   "cell_type": "code",
   "execution_count": 214,
   "metadata": {},
   "outputs": [],
   "source": [
    "model.add(layers.Dense(36,activation='relu',input_shape=(train_size,)))\n",
    "model.add(layers.Dense(36,activation='relu'))\n",
    "model.add(layers.Dense(18,activation='relu'))\n",
    "model.add(layers.Dense(1))"
   ]
  },
  {
   "cell_type": "code",
   "execution_count": 215,
   "metadata": {},
   "outputs": [
    {
     "name": "stdout",
     "output_type": "stream",
     "text": [
      "parameter(weight)개수\n",
      "(6, 36)\n",
      "(36,)\n",
      "(36, 36)\n",
      "(36,)\n",
      "(36, 18)\n",
      "(18,)\n",
      "(18, 1)\n",
      "(1,)\n"
     ]
    }
   ],
   "source": [
    "print(\"parameter(weight)개수\")\n",
    "for i in range(len(model.weights)):\n",
    "    print(model.weights[i].shape)"
   ]
  },
  {
   "cell_type": "code",
   "execution_count": 216,
   "metadata": {},
   "outputs": [],
   "source": [
    "model.compile(\n",
    "    optimizer=tf.keras.optimizers.Adam(learning_rate=learning_rate),\n",
    "    loss=tf.keras.losses.mse,metrics=['mae']\n",
    ")"
   ]
  },
  {
   "cell_type": "code",
   "execution_count": 217,
   "metadata": {},
   "outputs": [
    {
     "data": {
      "text/plain": [
       "(350, 6)"
      ]
     },
     "execution_count": 217,
     "metadata": {},
     "output_type": "execute_result"
    }
   ],
   "source": [
    "adult_man_train_data.shape"
   ]
  },
  {
   "cell_type": "code",
   "execution_count": 221,
   "metadata": {},
   "outputs": [
    {
     "name": "stdout",
     "output_type": "stream",
     "text": [
      "Train on 350 samples\n",
      "Epoch 1/70\n",
      "350/350 [==============================] - 0s 26us/sample - loss: 122.5945 - mae: 8.7984\n",
      "Epoch 2/70\n",
      "350/350 [==============================] - 0s 20us/sample - loss: 122.5511 - mae: 8.7738\n",
      "Epoch 3/70\n",
      "350/350 [==============================] - 0s 19us/sample - loss: 122.4266 - mae: 8.7631\n",
      "Epoch 4/70\n",
      "350/350 [==============================] - 0s 19us/sample - loss: 122.4471 - mae: 8.7939\n",
      "Epoch 5/70\n",
      "350/350 [==============================] - 0s 23us/sample - loss: 122.2683 - mae: 8.7849\n",
      "Epoch 6/70\n",
      "350/350 [==============================] - 0s 23us/sample - loss: 122.3471 - mae: 8.7449\n",
      "Epoch 7/70\n",
      "350/350 [==============================] - 0s 25us/sample - loss: 122.3248 - mae: 8.7729\n",
      "Epoch 8/70\n",
      "350/350 [==============================] - 0s 26us/sample - loss: 122.1455 - mae: 8.7986\n",
      "Epoch 9/70\n",
      "350/350 [==============================] - 0s 22us/sample - loss: 122.0478 - mae: 8.7546\n",
      "Epoch 10/70\n",
      "350/350 [==============================] - 0s 23us/sample - loss: 122.0767 - mae: 8.7168\n",
      "Epoch 11/70\n",
      "350/350 [==============================] - 0s 25us/sample - loss: 122.2625 - mae: 8.7626\n",
      "Epoch 12/70\n",
      "350/350 [==============================] - 0s 20us/sample - loss: 122.0745 - mae: 8.7853\n",
      "Epoch 13/70\n",
      "350/350 [==============================] - 0s 24us/sample - loss: 121.9030 - mae: 8.7593\n",
      "Epoch 14/70\n",
      "350/350 [==============================] - 0s 21us/sample - loss: 121.5959 - mae: 8.7527\n",
      "Epoch 15/70\n",
      "350/350 [==============================] - 0s 24us/sample - loss: 121.9376 - mae: 8.7646\n",
      "Epoch 16/70\n",
      "350/350 [==============================] - 0s 21us/sample - loss: 121.6371 - mae: 8.7354\n",
      "Epoch 17/70\n",
      "350/350 [==============================] - 0s 25us/sample - loss: 121.6744 - mae: 8.7068\n",
      "Epoch 18/70\n",
      "350/350 [==============================] - 0s 20us/sample - loss: 121.4161 - mae: 8.7209\n",
      "Epoch 19/70\n",
      "350/350 [==============================] - 0s 25us/sample - loss: 121.7994 - mae: 8.7794\n",
      "Epoch 20/70\n",
      "350/350 [==============================] - 0s 21us/sample - loss: 121.3398 - mae: 8.7305\n",
      "Epoch 21/70\n",
      "350/350 [==============================] - 0s 26us/sample - loss: 121.4453 - mae: 8.7015\n",
      "Epoch 22/70\n",
      "350/350 [==============================] - 0s 23us/sample - loss: 121.3584 - mae: 8.7270\n",
      "Epoch 23/70\n",
      "350/350 [==============================] - 0s 25us/sample - loss: 121.3839 - mae: 8.7578\n",
      "Epoch 24/70\n",
      "350/350 [==============================] - 0s 25us/sample - loss: 121.5519 - mae: 8.7351\n",
      "Epoch 25/70\n",
      "350/350 [==============================] - 0s 23us/sample - loss: 121.6242 - mae: 8.7215\n",
      "Epoch 26/70\n",
      "350/350 [==============================] - 0s 25us/sample - loss: 121.1984 - mae: 8.7082\n",
      "Epoch 27/70\n",
      "350/350 [==============================] - 0s 23us/sample - loss: 121.1954 - mae: 8.6821\n",
      "Epoch 28/70\n",
      "350/350 [==============================] - 0s 24us/sample - loss: 120.9883 - mae: 8.7088\n",
      "Epoch 29/70\n",
      "350/350 [==============================] - 0s 22us/sample - loss: 120.8390 - mae: 8.7074\n",
      "Epoch 30/70\n",
      "350/350 [==============================] - 0s 23us/sample - loss: 120.8329 - mae: 8.7091\n",
      "Epoch 31/70\n",
      "350/350 [==============================] - 0s 20us/sample - loss: 121.0530 - mae: 8.7144\n",
      "Epoch 32/70\n",
      "350/350 [==============================] - 0s 20us/sample - loss: 120.7726 - mae: 8.7006\n",
      "Epoch 33/70\n",
      "350/350 [==============================] - 0s 22us/sample - loss: 120.7878 - mae: 8.6590\n",
      "Epoch 34/70\n",
      "350/350 [==============================] - 0s 24us/sample - loss: 121.2248 - mae: 8.7051\n",
      "Epoch 35/70\n",
      "350/350 [==============================] - 0s 20us/sample - loss: 120.6812 - mae: 8.7031\n",
      "Epoch 36/70\n",
      "350/350 [==============================] - 0s 24us/sample - loss: 120.5676 - mae: 8.6992\n",
      "Epoch 37/70\n",
      "350/350 [==============================] - 0s 20us/sample - loss: 120.5960 - mae: 8.6946\n",
      "Epoch 38/70\n",
      "350/350 [==============================] - 0s 23us/sample - loss: 120.7789 - mae: 8.7151\n",
      "Epoch 39/70\n",
      "350/350 [==============================] - 0s 20us/sample - loss: 120.3019 - mae: 8.6866\n",
      "Epoch 40/70\n",
      "350/350 [==============================] - 0s 22us/sample - loss: 120.6982 - mae: 8.6380\n",
      "Epoch 41/70\n",
      "350/350 [==============================] - 0s 22us/sample - loss: 120.5151 - mae: 8.6193\n",
      "Epoch 42/70\n",
      "350/350 [==============================] - 0s 24us/sample - loss: 120.2959 - mae: 8.6810\n",
      "Epoch 43/70\n",
      "350/350 [==============================] - 0s 24us/sample - loss: 120.3601 - mae: 8.7070\n",
      "Epoch 44/70\n",
      "350/350 [==============================] - 0s 22us/sample - loss: 120.6249 - mae: 8.6524\n",
      "Epoch 45/70\n",
      "350/350 [==============================] - 0s 21us/sample - loss: 120.1682 - mae: 8.6580\n",
      "Epoch 46/70\n",
      "350/350 [==============================] - 0s 23us/sample - loss: 120.4406 - mae: 8.7107\n",
      "Epoch 47/70\n",
      "350/350 [==============================] - 0s 23us/sample - loss: 120.9975 - mae: 8.6833\n",
      "Epoch 48/70\n",
      "350/350 [==============================] - 0s 23us/sample - loss: 120.0928 - mae: 8.6025\n",
      "Epoch 49/70\n",
      "350/350 [==============================] - 0s 24us/sample - loss: 120.8343 - mae: 8.7294\n",
      "Epoch 50/70\n",
      "350/350 [==============================] - 0s 22us/sample - loss: 120.7699 - mae: 8.7325\n",
      "Epoch 51/70\n",
      "350/350 [==============================] - 0s 25us/sample - loss: 119.9593 - mae: 8.6454\n",
      "Epoch 52/70\n",
      "350/350 [==============================] - 0s 23us/sample - loss: 119.7934 - mae: 8.6502\n",
      "Epoch 53/70\n",
      "350/350 [==============================] - 0s 22us/sample - loss: 119.6899 - mae: 8.6331\n",
      "Epoch 54/70\n",
      "350/350 [==============================] - 0s 23us/sample - loss: 119.6808 - mae: 8.6317\n",
      "Epoch 55/70\n",
      "350/350 [==============================] - 0s 24us/sample - loss: 119.5747 - mae: 8.6396\n",
      "Epoch 56/70\n",
      "350/350 [==============================] - 0s 21us/sample - loss: 119.9408 - mae: 8.5994\n",
      "Epoch 57/70\n",
      "350/350 [==============================] - 0s 28us/sample - loss: 119.6877 - mae: 8.6211\n",
      "Epoch 58/70\n",
      "350/350 [==============================] - 0s 24us/sample - loss: 119.6156 - mae: 8.6566\n",
      "Epoch 59/70\n",
      "350/350 [==============================] - 0s 23us/sample - loss: 119.5047 - mae: 8.6152\n",
      "Epoch 60/70\n",
      "350/350 [==============================] - 0s 23us/sample - loss: 119.6966 - mae: 8.6461\n",
      "Epoch 61/70\n",
      "350/350 [==============================] - 0s 21us/sample - loss: 120.0738 - mae: 8.6362\n",
      "Epoch 62/70\n",
      "350/350 [==============================] - 0s 23us/sample - loss: 119.3367 - mae: 8.5969\n",
      "Epoch 63/70\n",
      "350/350 [==============================] - 0s 20us/sample - loss: 119.2551 - mae: 8.6215\n",
      "Epoch 64/70\n",
      "350/350 [==============================] - 0s 22us/sample - loss: 119.2473 - mae: 8.6297\n",
      "Epoch 65/70\n",
      "350/350 [==============================] - 0s 22us/sample - loss: 119.4510 - mae: 8.5937\n",
      "Epoch 66/70\n",
      "350/350 [==============================] - 0s 24us/sample - loss: 118.9186 - mae: 8.5764\n",
      "Epoch 67/70\n",
      "350/350 [==============================] - 0s 21us/sample - loss: 119.8194 - mae: 8.6834\n",
      "Epoch 68/70\n",
      "350/350 [==============================] - 0s 22us/sample - loss: 118.9955 - mae: 8.6134\n",
      "Epoch 69/70\n",
      "350/350 [==============================] - 0s 20us/sample - loss: 120.0710 - mae: 8.5726\n",
      "Epoch 70/70\n",
      "350/350 [==============================] - 0s 22us/sample - loss: 119.1925 - mae: 8.5707\n"
     ]
    }
   ],
   "source": [
    "man_history = model.fit(adult_man_train_data,adult_man_train_label,epochs=70,batch_size=70)"
   ]
  },
  {
   "cell_type": "code",
   "execution_count": 222,
   "metadata": {},
   "outputs": [
    {
     "name": "stdout",
     "output_type": "stream",
     "text": [
      "63/63 [==============================] - 0s 1ms/sample - loss: 144.2735 - mae: 9.3480\n"
     ]
    },
    {
     "data": {
      "text/plain": [
       "[144.27347722129215, 9.348024]"
      ]
     },
     "execution_count": 222,
     "metadata": {},
     "output_type": "execute_result"
    }
   ],
   "source": [
    "model.evaluate(adult_man_test_data,adult_man_test_label)"
   ]
  },
  {
   "cell_type": "code",
   "execution_count": 223,
   "metadata": {},
   "outputs": [
    {
     "name": "stdout",
     "output_type": "stream",
     "text": [
      "Train on 180 samples\n",
      "Epoch 1/70\n",
      "180/180 [==============================] - 0s 776us/sample - loss: 121.3800 - mae: 8.5899\n",
      "Epoch 2/70\n",
      "180/180 [==============================] - 0s 23us/sample - loss: 119.2377 - mae: 8.5175\n",
      "Epoch 3/70\n",
      "180/180 [==============================] - 0s 24us/sample - loss: 116.4501 - mae: 8.4373\n",
      "Epoch 4/70\n",
      "180/180 [==============================] - 0s 26us/sample - loss: 113.9196 - mae: 8.3514\n",
      "Epoch 5/70\n",
      "180/180 [==============================] - 0s 27us/sample - loss: 111.3543 - mae: 8.2522\n",
      "Epoch 6/70\n",
      "180/180 [==============================] - 0s 26us/sample - loss: 109.0989 - mae: 8.2484\n",
      "Epoch 7/70\n",
      "180/180 [==============================] - 0s 33us/sample - loss: 107.0286 - mae: 8.2360\n",
      "Epoch 8/70\n",
      "180/180 [==============================] - 0s 29us/sample - loss: 105.7934 - mae: 8.1858\n",
      "Epoch 9/70\n",
      "180/180 [==============================] - 0s 33us/sample - loss: 104.6750 - mae: 8.0995\n",
      "Epoch 10/70\n",
      "180/180 [==============================] - 0s 29us/sample - loss: 103.6508 - mae: 8.0381\n",
      "Epoch 11/70\n",
      "180/180 [==============================] - 0s 34us/sample - loss: 103.0085 - mae: 8.0105\n",
      "Epoch 12/70\n",
      "180/180 [==============================] - 0s 34us/sample - loss: 102.2026 - mae: 7.9823\n",
      "Epoch 13/70\n",
      "180/180 [==============================] - 0s 38us/sample - loss: 101.5104 - mae: 7.9604\n",
      "Epoch 14/70\n",
      "180/180 [==============================] - 0s 33us/sample - loss: 101.0236 - mae: 7.9541\n",
      "Epoch 15/70\n",
      "180/180 [==============================] - 0s 35us/sample - loss: 100.5324 - mae: 7.9354\n",
      "Epoch 16/70\n",
      "180/180 [==============================] - 0s 30us/sample - loss: 100.1260 - mae: 7.9328\n",
      "Epoch 17/70\n",
      "180/180 [==============================] - 0s 33us/sample - loss: 99.8197 - mae: 7.8872\n",
      "Epoch 18/70\n",
      "180/180 [==============================] - 0s 33us/sample - loss: 99.3524 - mae: 7.8698\n",
      "Epoch 19/70\n",
      "180/180 [==============================] - 0s 31us/sample - loss: 98.7568 - mae: 7.8427\n",
      "Epoch 20/70\n",
      "180/180 [==============================] - 0s 34us/sample - loss: 98.2764 - mae: 7.8279\n",
      "Epoch 21/70\n",
      "180/180 [==============================] - 0s 28us/sample - loss: 98.1959 - mae: 7.8336\n",
      "Epoch 22/70\n",
      "180/180 [==============================] - 0s 36us/sample - loss: 97.7802 - mae: 7.7955\n",
      "Epoch 23/70\n",
      "180/180 [==============================] - 0s 33us/sample - loss: 97.6262 - mae: 7.7637\n",
      "Epoch 24/70\n",
      "180/180 [==============================] - 0s 32us/sample - loss: 97.1915 - mae: 7.7338\n",
      "Epoch 25/70\n",
      "180/180 [==============================] - 0s 34us/sample - loss: 97.1923 - mae: 7.7691\n",
      "Epoch 26/70\n",
      "180/180 [==============================] - 0s 29us/sample - loss: 96.7097 - mae: 7.7651\n",
      "Epoch 27/70\n",
      "180/180 [==============================] - 0s 35us/sample - loss: 96.2831 - mae: 7.7342\n",
      "Epoch 28/70\n",
      "180/180 [==============================] - 0s 28us/sample - loss: 96.2367 - mae: 7.7197\n",
      "Epoch 29/70\n",
      "180/180 [==============================] - 0s 28us/sample - loss: 96.3987 - mae: 7.7011\n",
      "Epoch 30/70\n",
      "180/180 [==============================] - 0s 31us/sample - loss: 95.5486 - mae: 7.6760\n",
      "Epoch 31/70\n",
      "180/180 [==============================] - 0s 29us/sample - loss: 95.4194 - mae: 7.6791\n",
      "Epoch 32/70\n",
      "180/180 [==============================] - 0s 28us/sample - loss: 95.2379 - mae: 7.6795\n",
      "Epoch 33/70\n",
      "180/180 [==============================] - 0s 34us/sample - loss: 95.3181 - mae: 7.6569\n",
      "Epoch 34/70\n",
      "180/180 [==============================] - 0s 34us/sample - loss: 95.1417 - mae: 7.6618\n",
      "Epoch 35/70\n",
      "180/180 [==============================] - 0s 34us/sample - loss: 94.5736 - mae: 7.6502\n",
      "Epoch 36/70\n",
      "180/180 [==============================] - 0s 31us/sample - loss: 94.5524 - mae: 7.6374\n",
      "Epoch 37/70\n",
      "180/180 [==============================] - 0s 34us/sample - loss: 94.2140 - mae: 7.6114\n",
      "Epoch 38/70\n",
      "180/180 [==============================] - 0s 34us/sample - loss: 94.2967 - mae: 7.6223\n",
      "Epoch 39/70\n",
      "180/180 [==============================] - 0s 28us/sample - loss: 94.0313 - mae: 7.6031\n",
      "Epoch 40/70\n",
      "180/180 [==============================] - 0s 33us/sample - loss: 93.8764 - mae: 7.5767\n",
      "Epoch 41/70\n",
      "180/180 [==============================] - 0s 29us/sample - loss: 93.7901 - mae: 7.5768\n",
      "Epoch 42/70\n",
      "180/180 [==============================] - 0s 36us/sample - loss: 93.6393 - mae: 7.5855\n",
      "Epoch 43/70\n",
      "180/180 [==============================] - 0s 31us/sample - loss: 93.8105 - mae: 7.5963\n",
      "Epoch 44/70\n",
      "180/180 [==============================] - 0s 26us/sample - loss: 93.2196 - mae: 7.5701\n",
      "Epoch 45/70\n",
      "180/180 [==============================] - 0s 27us/sample - loss: 93.4285 - mae: 7.5510\n",
      "Epoch 46/70\n",
      "180/180 [==============================] - 0s 35us/sample - loss: 93.0727 - mae: 7.5135\n",
      "Epoch 47/70\n",
      "180/180 [==============================] - 0s 31us/sample - loss: 93.1012 - mae: 7.5595\n",
      "Epoch 48/70\n",
      "180/180 [==============================] - 0s 34us/sample - loss: 92.8369 - mae: 7.5804\n",
      "Epoch 49/70\n",
      "180/180 [==============================] - 0s 29us/sample - loss: 92.7443 - mae: 7.5619\n",
      "Epoch 50/70\n",
      "180/180 [==============================] - 0s 35us/sample - loss: 92.7196 - mae: 7.5275\n",
      "Epoch 51/70\n",
      "180/180 [==============================] - 0s 35us/sample - loss: 92.3808 - mae: 7.4983\n",
      "Epoch 52/70\n",
      "180/180 [==============================] - 0s 28us/sample - loss: 92.3305 - mae: 7.5054\n",
      "Epoch 53/70\n",
      "180/180 [==============================] - 0s 31us/sample - loss: 92.4420 - mae: 7.5302\n",
      "Epoch 54/70\n",
      "180/180 [==============================] - 0s 27us/sample - loss: 92.6635 - mae: 7.5073\n",
      "Epoch 55/70\n",
      "180/180 [==============================] - 0s 31us/sample - loss: 91.8644 - mae: 7.4832\n",
      "Epoch 56/70\n",
      "180/180 [==============================] - 0s 36us/sample - loss: 91.8562 - mae: 7.5041\n",
      "Epoch 57/70\n",
      "180/180 [==============================] - 0s 30us/sample - loss: 91.6998 - mae: 7.5097\n",
      "Epoch 58/70\n",
      "180/180 [==============================] - 0s 32us/sample - loss: 91.5752 - mae: 7.4696\n",
      "Epoch 59/70\n",
      "180/180 [==============================] - 0s 30us/sample - loss: 91.6530 - mae: 7.4698\n",
      "Epoch 60/70\n",
      "180/180 [==============================] - 0s 31us/sample - loss: 91.7103 - mae: 7.4596\n",
      "Epoch 61/70\n",
      "180/180 [==============================] - 0s 31us/sample - loss: 91.3285 - mae: 7.4499\n",
      "Epoch 62/70\n",
      "180/180 [==============================] - 0s 26us/sample - loss: 91.3373 - mae: 7.4476\n",
      "Epoch 63/70\n",
      "180/180 [==============================] - 0s 30us/sample - loss: 91.2729 - mae: 7.4552\n",
      "Epoch 64/70\n",
      "180/180 [==============================] - 0s 32us/sample - loss: 91.0172 - mae: 7.4572\n",
      "Epoch 65/70\n",
      "180/180 [==============================] - 0s 27us/sample - loss: 90.8403 - mae: 7.4397\n",
      "Epoch 66/70\n",
      "180/180 [==============================] - 0s 28us/sample - loss: 90.7299 - mae: 7.4197\n",
      "Epoch 67/70\n",
      "180/180 [==============================] - 0s 28us/sample - loss: 90.7435 - mae: 7.4151\n",
      "Epoch 68/70\n",
      "180/180 [==============================] - 0s 27us/sample - loss: 90.8117 - mae: 7.4326\n",
      "Epoch 69/70\n",
      "180/180 [==============================] - 0s 30us/sample - loss: 90.4297 - mae: 7.4385\n",
      "Epoch 70/70\n",
      "180/180 [==============================] - 0s 30us/sample - loss: 90.7309 - mae: 7.4569\n"
     ]
    }
   ],
   "source": [
    "woman_history = model.fit(adult_woman_train_data,adult_woman_train_label,epochs=70,batch_size=60)"
   ]
  },
  {
   "cell_type": "code",
   "execution_count": 224,
   "metadata": {},
   "outputs": [
    {
     "name": "stdout",
     "output_type": "stream",
     "text": [
      "Train on 73 samples\n",
      "Epoch 1/100\n",
      "73/73 [==============================] - 0s 2ms/sample - loss: 356.7351 - mae: 17.1804\n",
      "Epoch 2/100\n",
      "73/73 [==============================] - 0s 60us/sample - loss: 93.4112 - mae: 7.7478\n",
      "Epoch 3/100\n",
      "73/73 [==============================] - 0s 59us/sample - loss: 34.6792 - mae: 4.5461\n",
      "Epoch 4/100\n",
      "73/73 [==============================] - 0s 62us/sample - loss: 54.8629 - mae: 6.1518\n",
      "Epoch 5/100\n",
      "73/73 [==============================] - 0s 69us/sample - loss: 64.0380 - mae: 6.8866\n",
      "Epoch 6/100\n",
      "73/73 [==============================] - 0s 63us/sample - loss: 60.3041 - mae: 6.5960\n",
      "Epoch 7/100\n",
      "73/73 [==============================] - 0s 69us/sample - loss: 50.4040 - mae: 5.8291\n",
      "Epoch 8/100\n",
      "73/73 [==============================] - 0s 80us/sample - loss: 39.0286 - mae: 4.9101\n",
      "Epoch 9/100\n",
      "73/73 [==============================] - 0s 75us/sample - loss: 29.5888 - mae: 4.1675\n",
      "Epoch 10/100\n",
      "73/73 [==============================] - 0s 97us/sample - loss: 22.1174 - mae: 3.6720\n",
      "Epoch 11/100\n",
      "73/73 [==============================] - 0s 87us/sample - loss: 18.6302 - mae: 3.5398\n",
      "Epoch 12/100\n",
      "73/73 [==============================] - 0s 111us/sample - loss: 16.8251 - mae: 3.4712\n",
      "Epoch 13/100\n",
      "73/73 [==============================] - 0s 96us/sample - loss: 17.0969 - mae: 3.5671\n",
      "Epoch 14/100\n",
      "73/73 [==============================] - 0s 95us/sample - loss: 18.2513 - mae: 3.6845\n",
      "Epoch 15/100\n",
      "73/73 [==============================] - 0s 82us/sample - loss: 18.3690 - mae: 3.6997\n",
      "Epoch 16/100\n",
      "73/73 [==============================] - 0s 84us/sample - loss: 18.2570 - mae: 3.6904\n",
      "Epoch 17/100\n",
      "73/73 [==============================] - 0s 81us/sample - loss: 17.9116 - mae: 3.6594\n",
      "Epoch 18/100\n",
      "73/73 [==============================] - 0s 77us/sample - loss: 17.4026 - mae: 3.6034\n",
      "Epoch 19/100\n",
      "73/73 [==============================] - 0s 70us/sample - loss: 17.0395 - mae: 3.5725\n",
      "Epoch 20/100\n",
      "73/73 [==============================] - 0s 87us/sample - loss: 16.5516 - mae: 3.5166\n",
      "Epoch 21/100\n",
      "73/73 [==============================] - 0s 69us/sample - loss: 16.5128 - mae: 3.4995\n",
      "Epoch 22/100\n",
      "73/73 [==============================] - 0s 73us/sample - loss: 16.3318 - mae: 3.4705\n",
      "Epoch 23/100\n",
      "73/73 [==============================] - 0s 85us/sample - loss: 16.2562 - mae: 3.4539\n",
      "Epoch 24/100\n",
      "73/73 [==============================] - 0s 67us/sample - loss: 16.1963 - mae: 3.4481\n",
      "Epoch 25/100\n",
      "73/73 [==============================] - 0s 95us/sample - loss: 16.1302 - mae: 3.4430\n",
      "Epoch 26/100\n",
      "73/73 [==============================] - 0s 75us/sample - loss: 16.0364 - mae: 3.4325\n",
      "Epoch 27/100\n",
      "73/73 [==============================] - 0s 71us/sample - loss: 15.9402 - mae: 3.4249\n",
      "Epoch 28/100\n",
      "73/73 [==============================] - 0s 83us/sample - loss: 15.8884 - mae: 3.4221\n",
      "Epoch 29/100\n",
      "73/73 [==============================] - 0s 69us/sample - loss: 15.7697 - mae: 3.4128\n",
      "Epoch 30/100\n",
      "73/73 [==============================] - 0s 73us/sample - loss: 15.7022 - mae: 3.4071\n",
      "Epoch 31/100\n",
      "73/73 [==============================] - 0s 82us/sample - loss: 15.6630 - mae: 3.4067\n",
      "Epoch 32/100\n",
      "73/73 [==============================] - 0s 71us/sample - loss: 15.5652 - mae: 3.3993\n",
      "Epoch 33/100\n",
      "73/73 [==============================] - 0s 94us/sample - loss: 15.5144 - mae: 3.3954\n",
      "Epoch 34/100\n",
      "73/73 [==============================] - 0s 74us/sample - loss: 15.5010 - mae: 3.3967\n",
      "Epoch 35/100\n",
      "73/73 [==============================] - 0s 96us/sample - loss: 15.4240 - mae: 3.3867\n",
      "Epoch 36/100\n",
      "73/73 [==============================] - 0s 81us/sample - loss: 15.4081 - mae: 3.3801\n",
      "Epoch 37/100\n",
      "73/73 [==============================] - 0s 88us/sample - loss: 15.3416 - mae: 3.3708\n",
      "Epoch 38/100\n",
      "73/73 [==============================] - 0s 110us/sample - loss: 15.2838 - mae: 3.3625\n",
      "Epoch 39/100\n",
      "73/73 [==============================] - 0s 100us/sample - loss: 15.2440 - mae: 3.3575\n",
      "Epoch 40/100\n",
      "73/73 [==============================] - 0s 106us/sample - loss: 15.2048 - mae: 3.3527\n",
      "Epoch 41/100\n",
      "73/73 [==============================] - 0s 72us/sample - loss: 15.1739 - mae: 3.3488\n",
      "Epoch 42/100\n",
      "73/73 [==============================] - 0s 85us/sample - loss: 15.1185 - mae: 3.3403\n",
      "Epoch 43/100\n",
      "73/73 [==============================] - 0s 75us/sample - loss: 15.0987 - mae: 3.3359\n",
      "Epoch 44/100\n",
      "73/73 [==============================] - 0s 85us/sample - loss: 15.0944 - mae: 3.3334\n",
      "Epoch 45/100\n",
      "73/73 [==============================] - 0s 76us/sample - loss: 15.0422 - mae: 3.3288\n",
      "Epoch 46/100\n",
      "73/73 [==============================] - 0s 79us/sample - loss: 15.0078 - mae: 3.3223\n",
      "Epoch 47/100\n",
      "73/73 [==============================] - 0s 87us/sample - loss: 14.9399 - mae: 3.3153\n",
      "Epoch 48/100\n",
      "73/73 [==============================] - 0s 77us/sample - loss: 14.8862 - mae: 3.3090\n",
      "Epoch 49/100\n",
      "73/73 [==============================] - 0s 92us/sample - loss: 14.8802 - mae: 3.3085\n",
      "Epoch 50/100\n",
      "73/73 [==============================] - 0s 69us/sample - loss: 14.8453 - mae: 3.3091\n",
      "Epoch 51/100\n",
      "73/73 [==============================] - 0s 77us/sample - loss: 14.7631 - mae: 3.2998\n",
      "Epoch 52/100\n",
      "73/73 [==============================] - 0s 85us/sample - loss: 14.7161 - mae: 3.2937\n",
      "Epoch 53/100\n",
      "73/73 [==============================] - 0s 68us/sample - loss: 14.6585 - mae: 3.2863\n",
      "Epoch 54/100\n",
      "73/73 [==============================] - 0s 79us/sample - loss: 14.5868 - mae: 3.2771\n",
      "Epoch 55/100\n",
      "73/73 [==============================] - 0s 68us/sample - loss: 14.5528 - mae: 3.2712\n",
      "Epoch 56/100\n",
      "73/73 [==============================] - 0s 69us/sample - loss: 14.4971 - mae: 3.2650\n",
      "Epoch 57/100\n",
      "73/73 [==============================] - 0s 89us/sample - loss: 14.4671 - mae: 3.2595\n",
      "Epoch 58/100\n",
      "73/73 [==============================] - 0s 70us/sample - loss: 14.4267 - mae: 3.2560\n",
      "Epoch 59/100\n",
      "73/73 [==============================] - 0s 76us/sample - loss: 14.3615 - mae: 3.2468\n",
      "Epoch 60/100\n",
      "73/73 [==============================] - 0s 92us/sample - loss: 14.3508 - mae: 3.2442\n",
      "Epoch 61/100\n",
      "73/73 [==============================] - 0s 85us/sample - loss: 14.2953 - mae: 3.2351\n",
      "Epoch 62/100\n",
      "73/73 [==============================] - 0s 84us/sample - loss: 14.2589 - mae: 3.2281\n",
      "Epoch 63/100\n",
      "73/73 [==============================] - 0s 75us/sample - loss: 14.2572 - mae: 3.2267\n",
      "Epoch 64/100\n",
      "73/73 [==============================] - 0s 73us/sample - loss: 14.1870 - mae: 3.2157\n",
      "Epoch 65/100\n",
      "73/73 [==============================] - 0s 81us/sample - loss: 14.1659 - mae: 3.2115\n",
      "Epoch 66/100\n",
      "73/73 [==============================] - 0s 84us/sample - loss: 14.1548 - mae: 3.2065\n",
      "Epoch 67/100\n",
      "73/73 [==============================] - 0s 86us/sample - loss: 14.1345 - mae: 3.2020\n",
      "Epoch 68/100\n",
      "73/73 [==============================] - 0s 85us/sample - loss: 14.0865 - mae: 3.1945\n",
      "Epoch 69/100\n",
      "73/73 [==============================] - 0s 75us/sample - loss: 14.0545 - mae: 3.1907\n",
      "Epoch 70/100\n",
      "73/73 [==============================] - 0s 75us/sample - loss: 14.0135 - mae: 3.1870\n",
      "Epoch 71/100\n",
      "73/73 [==============================] - 0s 92us/sample - loss: 13.9902 - mae: 3.1806\n",
      "Epoch 72/100\n",
      "73/73 [==============================] - 0s 85us/sample - loss: 13.9314 - mae: 3.1736\n",
      "Epoch 73/100\n",
      "73/73 [==============================] - 0s 89us/sample - loss: 13.9310 - mae: 3.1728\n",
      "Epoch 74/100\n",
      "73/73 [==============================] - 0s 81us/sample - loss: 13.9181 - mae: 3.1720\n",
      "Epoch 75/100\n",
      "73/73 [==============================] - 0s 67us/sample - loss: 13.8778 - mae: 3.1668\n",
      "Epoch 76/100\n",
      "73/73 [==============================] - 0s 85us/sample - loss: 13.8446 - mae: 3.1606\n",
      "Epoch 77/100\n",
      "73/73 [==============================] - 0s 73us/sample - loss: 13.8214 - mae: 3.1570\n",
      "Epoch 78/100\n",
      "73/73 [==============================] - 0s 72us/sample - loss: 13.8018 - mae: 3.1554\n",
      "Epoch 79/100\n",
      "73/73 [==============================] - 0s 76us/sample - loss: 13.7581 - mae: 3.1479\n",
      "Epoch 80/100\n",
      "73/73 [==============================] - 0s 73us/sample - loss: 13.7349 - mae: 3.1435\n",
      "Epoch 81/100\n",
      "73/73 [==============================] - 0s 80us/sample - loss: 13.7221 - mae: 3.1401\n",
      "Epoch 82/100\n",
      "73/73 [==============================] - 0s 89us/sample - loss: 13.6913 - mae: 3.1359\n",
      "Epoch 83/100\n",
      "73/73 [==============================] - 0s 95us/sample - loss: 13.6670 - mae: 3.1324\n",
      "Epoch 84/100\n",
      "73/73 [==============================] - 0s 70us/sample - loss: 13.6399 - mae: 3.1281\n",
      "Epoch 85/100\n",
      "73/73 [==============================] - 0s 66us/sample - loss: 13.6096 - mae: 3.1233\n",
      "Epoch 86/100\n",
      "73/73 [==============================] - 0s 83us/sample - loss: 13.6087 - mae: 3.1231\n",
      "Epoch 87/100\n",
      "73/73 [==============================] - 0s 78us/sample - loss: 13.5769 - mae: 3.1184\n",
      "Epoch 88/100\n",
      "73/73 [==============================] - 0s 76us/sample - loss: 13.5558 - mae: 3.1158\n",
      "Epoch 89/100\n",
      "73/73 [==============================] - 0s 97us/sample - loss: 13.5411 - mae: 3.1146\n",
      "Epoch 90/100\n",
      "73/73 [==============================] - 0s 75us/sample - loss: 13.5227 - mae: 3.1116\n",
      "Epoch 91/100\n",
      "73/73 [==============================] - 0s 77us/sample - loss: 13.5022 - mae: 3.1088\n",
      "Epoch 92/100\n",
      "73/73 [==============================] - 0s 83us/sample - loss: 13.4977 - mae: 3.1083\n",
      "Epoch 93/100\n",
      "73/73 [==============================] - 0s 77us/sample - loss: 13.4694 - mae: 3.1038\n",
      "Epoch 94/100\n",
      "73/73 [==============================] - 0s 74us/sample - loss: 13.4360 - mae: 3.0981\n",
      "Epoch 95/100\n",
      "73/73 [==============================] - 0s 86us/sample - loss: 13.4219 - mae: 3.0959\n",
      "Epoch 96/100\n",
      "73/73 [==============================] - 0s 77us/sample - loss: 13.3767 - mae: 3.0880\n",
      "Epoch 97/100\n",
      "73/73 [==============================] - 0s 72us/sample - loss: 13.3644 - mae: 3.0859\n",
      "Epoch 98/100\n",
      "73/73 [==============================] - 0s 85us/sample - loss: 13.3390 - mae: 3.0820\n",
      "Epoch 99/100\n",
      "73/73 [==============================] - 0s 71us/sample - loss: 13.3249 - mae: 3.0790\n",
      "Epoch 100/100\n",
      "73/73 [==============================] - 0s 73us/sample - loss: 13.2941 - mae: 3.0743\n"
     ]
    }
   ],
   "source": [
    "child_history = model.fit(child_train_data,child_train_label,epochs=100,batch_size=30)"
   ]
  },
  {
   "cell_type": "code",
   "execution_count": 225,
   "metadata": {
    "scrolled": true
   },
   "outputs": [
    {
     "data": {
      "text/html": [
       "<div>\n",
       "<style scoped>\n",
       "    .dataframe tbody tr th:only-of-type {\n",
       "        vertical-align: middle;\n",
       "    }\n",
       "\n",
       "    .dataframe tbody tr th {\n",
       "        vertical-align: top;\n",
       "    }\n",
       "\n",
       "    .dataframe thead th {\n",
       "        text-align: right;\n",
       "    }\n",
       "</style>\n",
       "<table border=\"1\" class=\"dataframe\">\n",
       "  <thead>\n",
       "    <tr style=\"text-align: right;\">\n",
       "      <th></th>\n",
       "      <th>age</th>\n",
       "      <th>pclass</th>\n",
       "      <th>survived</th>\n",
       "      <th>sibsp</th>\n",
       "      <th>parch</th>\n",
       "      <th>alone</th>\n",
       "      <th>fare</th>\n",
       "      <th>who_child</th>\n",
       "      <th>who_man</th>\n",
       "      <th>who_woman</th>\n",
       "    </tr>\n",
       "  </thead>\n",
       "  <tbody>\n",
       "    <tr>\n",
       "      <th>5</th>\n",
       "      <td>NaN</td>\n",
       "      <td>3</td>\n",
       "      <td>0</td>\n",
       "      <td>0</td>\n",
       "      <td>0</td>\n",
       "      <td>1</td>\n",
       "      <td>-0.477848</td>\n",
       "      <td>0</td>\n",
       "      <td>1</td>\n",
       "      <td>0</td>\n",
       "    </tr>\n",
       "    <tr>\n",
       "      <th>17</th>\n",
       "      <td>NaN</td>\n",
       "      <td>2</td>\n",
       "      <td>1</td>\n",
       "      <td>0</td>\n",
       "      <td>0</td>\n",
       "      <td>1</td>\n",
       "      <td>-0.386454</td>\n",
       "      <td>0</td>\n",
       "      <td>1</td>\n",
       "      <td>0</td>\n",
       "    </tr>\n",
       "    <tr>\n",
       "      <th>19</th>\n",
       "      <td>NaN</td>\n",
       "      <td>3</td>\n",
       "      <td>1</td>\n",
       "      <td>0</td>\n",
       "      <td>0</td>\n",
       "      <td>1</td>\n",
       "      <td>-0.502666</td>\n",
       "      <td>0</td>\n",
       "      <td>0</td>\n",
       "      <td>1</td>\n",
       "    </tr>\n",
       "    <tr>\n",
       "      <th>26</th>\n",
       "      <td>NaN</td>\n",
       "      <td>3</td>\n",
       "      <td>0</td>\n",
       "      <td>0</td>\n",
       "      <td>0</td>\n",
       "      <td>1</td>\n",
       "      <td>-0.502666</td>\n",
       "      <td>0</td>\n",
       "      <td>1</td>\n",
       "      <td>0</td>\n",
       "    </tr>\n",
       "    <tr>\n",
       "      <th>28</th>\n",
       "      <td>NaN</td>\n",
       "      <td>3</td>\n",
       "      <td>1</td>\n",
       "      <td>0</td>\n",
       "      <td>0</td>\n",
       "      <td>1</td>\n",
       "      <td>-0.489502</td>\n",
       "      <td>0</td>\n",
       "      <td>0</td>\n",
       "      <td>1</td>\n",
       "    </tr>\n",
       "    <tr>\n",
       "      <th>29</th>\n",
       "      <td>NaN</td>\n",
       "      <td>3</td>\n",
       "      <td>0</td>\n",
       "      <td>0</td>\n",
       "      <td>0</td>\n",
       "      <td>1</td>\n",
       "      <td>-0.489167</td>\n",
       "      <td>0</td>\n",
       "      <td>1</td>\n",
       "      <td>0</td>\n",
       "    </tr>\n",
       "    <tr>\n",
       "      <th>31</th>\n",
       "      <td>NaN</td>\n",
       "      <td>1</td>\n",
       "      <td>1</td>\n",
       "      <td>1</td>\n",
       "      <td>0</td>\n",
       "      <td>0</td>\n",
       "      <td>2.300437</td>\n",
       "      <td>0</td>\n",
       "      <td>0</td>\n",
       "      <td>1</td>\n",
       "    </tr>\n",
       "    <tr>\n",
       "      <th>32</th>\n",
       "      <td>NaN</td>\n",
       "      <td>3</td>\n",
       "      <td>1</td>\n",
       "      <td>0</td>\n",
       "      <td>0</td>\n",
       "      <td>1</td>\n",
       "      <td>-0.492101</td>\n",
       "      <td>0</td>\n",
       "      <td>0</td>\n",
       "      <td>1</td>\n",
       "    </tr>\n",
       "    <tr>\n",
       "      <th>36</th>\n",
       "      <td>NaN</td>\n",
       "      <td>3</td>\n",
       "      <td>1</td>\n",
       "      <td>0</td>\n",
       "      <td>0</td>\n",
       "      <td>1</td>\n",
       "      <td>-0.502582</td>\n",
       "      <td>0</td>\n",
       "      <td>1</td>\n",
       "      <td>0</td>\n",
       "    </tr>\n",
       "    <tr>\n",
       "      <th>42</th>\n",
       "      <td>NaN</td>\n",
       "      <td>3</td>\n",
       "      <td>0</td>\n",
       "      <td>0</td>\n",
       "      <td>0</td>\n",
       "      <td>1</td>\n",
       "      <td>-0.489167</td>\n",
       "      <td>0</td>\n",
       "      <td>1</td>\n",
       "      <td>0</td>\n",
       "    </tr>\n",
       "    <tr>\n",
       "      <th>45</th>\n",
       "      <td>NaN</td>\n",
       "      <td>3</td>\n",
       "      <td>0</td>\n",
       "      <td>0</td>\n",
       "      <td>0</td>\n",
       "      <td>1</td>\n",
       "      <td>-0.486064</td>\n",
       "      <td>0</td>\n",
       "      <td>1</td>\n",
       "      <td>0</td>\n",
       "    </tr>\n",
       "    <tr>\n",
       "      <th>46</th>\n",
       "      <td>NaN</td>\n",
       "      <td>3</td>\n",
       "      <td>0</td>\n",
       "      <td>1</td>\n",
       "      <td>0</td>\n",
       "      <td>0</td>\n",
       "      <td>-0.336145</td>\n",
       "      <td>0</td>\n",
       "      <td>1</td>\n",
       "      <td>0</td>\n",
       "    </tr>\n",
       "    <tr>\n",
       "      <th>47</th>\n",
       "      <td>NaN</td>\n",
       "      <td>3</td>\n",
       "      <td>1</td>\n",
       "      <td>0</td>\n",
       "      <td>0</td>\n",
       "      <td>1</td>\n",
       "      <td>-0.492101</td>\n",
       "      <td>0</td>\n",
       "      <td>0</td>\n",
       "      <td>1</td>\n",
       "    </tr>\n",
       "    <tr>\n",
       "      <th>48</th>\n",
       "      <td>NaN</td>\n",
       "      <td>3</td>\n",
       "      <td>0</td>\n",
       "      <td>2</td>\n",
       "      <td>0</td>\n",
       "      <td>0</td>\n",
       "      <td>-0.211799</td>\n",
       "      <td>0</td>\n",
       "      <td>1</td>\n",
       "      <td>0</td>\n",
       "    </tr>\n",
       "    <tr>\n",
       "      <th>55</th>\n",
       "      <td>NaN</td>\n",
       "      <td>1</td>\n",
       "      <td>1</td>\n",
       "      <td>0</td>\n",
       "      <td>0</td>\n",
       "      <td>1</td>\n",
       "      <td>0.066322</td>\n",
       "      <td>0</td>\n",
       "      <td>1</td>\n",
       "      <td>0</td>\n",
       "    </tr>\n",
       "    <tr>\n",
       "      <th>64</th>\n",
       "      <td>NaN</td>\n",
       "      <td>1</td>\n",
       "      <td>0</td>\n",
       "      <td>0</td>\n",
       "      <td>0</td>\n",
       "      <td>1</td>\n",
       "      <td>-0.090221</td>\n",
       "      <td>0</td>\n",
       "      <td>1</td>\n",
       "      <td>0</td>\n",
       "    </tr>\n",
       "    <tr>\n",
       "      <th>65</th>\n",
       "      <td>NaN</td>\n",
       "      <td>3</td>\n",
       "      <td>1</td>\n",
       "      <td>1</td>\n",
       "      <td>1</td>\n",
       "      <td>0</td>\n",
       "      <td>-0.341261</td>\n",
       "      <td>0</td>\n",
       "      <td>1</td>\n",
       "      <td>0</td>\n",
       "    </tr>\n",
       "    <tr>\n",
       "      <th>76</th>\n",
       "      <td>NaN</td>\n",
       "      <td>3</td>\n",
       "      <td>0</td>\n",
       "      <td>0</td>\n",
       "      <td>0</td>\n",
       "      <td>1</td>\n",
       "      <td>-0.489167</td>\n",
       "      <td>0</td>\n",
       "      <td>1</td>\n",
       "      <td>0</td>\n",
       "    </tr>\n",
       "    <tr>\n",
       "      <th>77</th>\n",
       "      <td>NaN</td>\n",
       "      <td>3</td>\n",
       "      <td>0</td>\n",
       "      <td>0</td>\n",
       "      <td>0</td>\n",
       "      <td>1</td>\n",
       "      <td>-0.486064</td>\n",
       "      <td>0</td>\n",
       "      <td>1</td>\n",
       "      <td>0</td>\n",
       "    </tr>\n",
       "    <tr>\n",
       "      <th>82</th>\n",
       "      <td>NaN</td>\n",
       "      <td>3</td>\n",
       "      <td>1</td>\n",
       "      <td>0</td>\n",
       "      <td>0</td>\n",
       "      <td>1</td>\n",
       "      <td>-0.491347</td>\n",
       "      <td>0</td>\n",
       "      <td>0</td>\n",
       "      <td>1</td>\n",
       "    </tr>\n",
       "    <tr>\n",
       "      <th>87</th>\n",
       "      <td>NaN</td>\n",
       "      <td>3</td>\n",
       "      <td>0</td>\n",
       "      <td>0</td>\n",
       "      <td>0</td>\n",
       "      <td>1</td>\n",
       "      <td>-0.486064</td>\n",
       "      <td>0</td>\n",
       "      <td>1</td>\n",
       "      <td>0</td>\n",
       "    </tr>\n",
       "    <tr>\n",
       "      <th>95</th>\n",
       "      <td>NaN</td>\n",
       "      <td>3</td>\n",
       "      <td>0</td>\n",
       "      <td>0</td>\n",
       "      <td>0</td>\n",
       "      <td>1</td>\n",
       "      <td>-0.486064</td>\n",
       "      <td>0</td>\n",
       "      <td>1</td>\n",
       "      <td>0</td>\n",
       "    </tr>\n",
       "    <tr>\n",
       "      <th>101</th>\n",
       "      <td>NaN</td>\n",
       "      <td>3</td>\n",
       "      <td>0</td>\n",
       "      <td>0</td>\n",
       "      <td>0</td>\n",
       "      <td>1</td>\n",
       "      <td>-0.489167</td>\n",
       "      <td>0</td>\n",
       "      <td>1</td>\n",
       "      <td>0</td>\n",
       "    </tr>\n",
       "    <tr>\n",
       "      <th>107</th>\n",
       "      <td>NaN</td>\n",
       "      <td>3</td>\n",
       "      <td>1</td>\n",
       "      <td>0</td>\n",
       "      <td>0</td>\n",
       "      <td>1</td>\n",
       "      <td>-0.491598</td>\n",
       "      <td>0</td>\n",
       "      <td>1</td>\n",
       "      <td>0</td>\n",
       "    </tr>\n",
       "    <tr>\n",
       "      <th>109</th>\n",
       "      <td>NaN</td>\n",
       "      <td>3</td>\n",
       "      <td>1</td>\n",
       "      <td>1</td>\n",
       "      <td>0</td>\n",
       "      <td>0</td>\n",
       "      <td>-0.162078</td>\n",
       "      <td>0</td>\n",
       "      <td>0</td>\n",
       "      <td>1</td>\n",
       "    </tr>\n",
       "    <tr>\n",
       "      <th>121</th>\n",
       "      <td>NaN</td>\n",
       "      <td>3</td>\n",
       "      <td>0</td>\n",
       "      <td>0</td>\n",
       "      <td>0</td>\n",
       "      <td>1</td>\n",
       "      <td>-0.486064</td>\n",
       "      <td>0</td>\n",
       "      <td>1</td>\n",
       "      <td>0</td>\n",
       "    </tr>\n",
       "    <tr>\n",
       "      <th>126</th>\n",
       "      <td>NaN</td>\n",
       "      <td>3</td>\n",
       "      <td>0</td>\n",
       "      <td>0</td>\n",
       "      <td>0</td>\n",
       "      <td>1</td>\n",
       "      <td>-0.492101</td>\n",
       "      <td>0</td>\n",
       "      <td>1</td>\n",
       "      <td>0</td>\n",
       "    </tr>\n",
       "    <tr>\n",
       "      <th>128</th>\n",
       "      <td>NaN</td>\n",
       "      <td>3</td>\n",
       "      <td>1</td>\n",
       "      <td>1</td>\n",
       "      <td>1</td>\n",
       "      <td>0</td>\n",
       "      <td>-0.198133</td>\n",
       "      <td>0</td>\n",
       "      <td>0</td>\n",
       "      <td>1</td>\n",
       "    </tr>\n",
       "    <tr>\n",
       "      <th>140</th>\n",
       "      <td>NaN</td>\n",
       "      <td>3</td>\n",
       "      <td>0</td>\n",
       "      <td>0</td>\n",
       "      <td>2</td>\n",
       "      <td>0</td>\n",
       "      <td>-0.341261</td>\n",
       "      <td>0</td>\n",
       "      <td>0</td>\n",
       "      <td>1</td>\n",
       "    </tr>\n",
       "    <tr>\n",
       "      <th>154</th>\n",
       "      <td>NaN</td>\n",
       "      <td>3</td>\n",
       "      <td>0</td>\n",
       "      <td>0</td>\n",
       "      <td>0</td>\n",
       "      <td>1</td>\n",
       "      <td>-0.500905</td>\n",
       "      <td>0</td>\n",
       "      <td>1</td>\n",
       "      <td>0</td>\n",
       "    </tr>\n",
       "    <tr>\n",
       "      <th>...</th>\n",
       "      <td>...</td>\n",
       "      <td>...</td>\n",
       "      <td>...</td>\n",
       "      <td>...</td>\n",
       "      <td>...</td>\n",
       "      <td>...</td>\n",
       "      <td>...</td>\n",
       "      <td>...</td>\n",
       "      <td>...</td>\n",
       "      <td>...</td>\n",
       "    </tr>\n",
       "    <tr>\n",
       "      <th>718</th>\n",
       "      <td>NaN</td>\n",
       "      <td>3</td>\n",
       "      <td>0</td>\n",
       "      <td>0</td>\n",
       "      <td>0</td>\n",
       "      <td>1</td>\n",
       "      <td>-0.336145</td>\n",
       "      <td>0</td>\n",
       "      <td>1</td>\n",
       "      <td>0</td>\n",
       "    </tr>\n",
       "    <tr>\n",
       "      <th>727</th>\n",
       "      <td>NaN</td>\n",
       "      <td>3</td>\n",
       "      <td>1</td>\n",
       "      <td>0</td>\n",
       "      <td>0</td>\n",
       "      <td>1</td>\n",
       "      <td>-0.492353</td>\n",
       "      <td>0</td>\n",
       "      <td>0</td>\n",
       "      <td>1</td>\n",
       "    </tr>\n",
       "    <tr>\n",
       "      <th>732</th>\n",
       "      <td>NaN</td>\n",
       "      <td>2</td>\n",
       "      <td>0</td>\n",
       "      <td>0</td>\n",
       "      <td>0</td>\n",
       "      <td>1</td>\n",
       "      <td>-0.648058</td>\n",
       "      <td>0</td>\n",
       "      <td>1</td>\n",
       "      <td>0</td>\n",
       "    </tr>\n",
       "    <tr>\n",
       "      <th>738</th>\n",
       "      <td>NaN</td>\n",
       "      <td>3</td>\n",
       "      <td>0</td>\n",
       "      <td>0</td>\n",
       "      <td>0</td>\n",
       "      <td>1</td>\n",
       "      <td>-0.489167</td>\n",
       "      <td>0</td>\n",
       "      <td>1</td>\n",
       "      <td>0</td>\n",
       "    </tr>\n",
       "    <tr>\n",
       "      <th>739</th>\n",
       "      <td>NaN</td>\n",
       "      <td>3</td>\n",
       "      <td>0</td>\n",
       "      <td>0</td>\n",
       "      <td>0</td>\n",
       "      <td>1</td>\n",
       "      <td>-0.489167</td>\n",
       "      <td>0</td>\n",
       "      <td>1</td>\n",
       "      <td>0</td>\n",
       "    </tr>\n",
       "    <tr>\n",
       "      <th>740</th>\n",
       "      <td>NaN</td>\n",
       "      <td>1</td>\n",
       "      <td>1</td>\n",
       "      <td>0</td>\n",
       "      <td>0</td>\n",
       "      <td>1</td>\n",
       "      <td>-0.044356</td>\n",
       "      <td>0</td>\n",
       "      <td>1</td>\n",
       "      <td>0</td>\n",
       "    </tr>\n",
       "    <tr>\n",
       "      <th>760</th>\n",
       "      <td>NaN</td>\n",
       "      <td>3</td>\n",
       "      <td>0</td>\n",
       "      <td>0</td>\n",
       "      <td>0</td>\n",
       "      <td>1</td>\n",
       "      <td>-0.356269</td>\n",
       "      <td>0</td>\n",
       "      <td>1</td>\n",
       "      <td>0</td>\n",
       "    </tr>\n",
       "    <tr>\n",
       "      <th>766</th>\n",
       "      <td>NaN</td>\n",
       "      <td>1</td>\n",
       "      <td>0</td>\n",
       "      <td>0</td>\n",
       "      <td>0</td>\n",
       "      <td>1</td>\n",
       "      <td>0.148828</td>\n",
       "      <td>0</td>\n",
       "      <td>1</td>\n",
       "      <td>0</td>\n",
       "    </tr>\n",
       "    <tr>\n",
       "      <th>768</th>\n",
       "      <td>NaN</td>\n",
       "      <td>3</td>\n",
       "      <td>0</td>\n",
       "      <td>1</td>\n",
       "      <td>0</td>\n",
       "      <td>0</td>\n",
       "      <td>-0.162078</td>\n",
       "      <td>0</td>\n",
       "      <td>1</td>\n",
       "      <td>0</td>\n",
       "    </tr>\n",
       "    <tr>\n",
       "      <th>773</th>\n",
       "      <td>NaN</td>\n",
       "      <td>3</td>\n",
       "      <td>0</td>\n",
       "      <td>0</td>\n",
       "      <td>0</td>\n",
       "      <td>1</td>\n",
       "      <td>-0.502666</td>\n",
       "      <td>0</td>\n",
       "      <td>1</td>\n",
       "      <td>0</td>\n",
       "    </tr>\n",
       "    <tr>\n",
       "      <th>776</th>\n",
       "      <td>NaN</td>\n",
       "      <td>3</td>\n",
       "      <td>0</td>\n",
       "      <td>0</td>\n",
       "      <td>0</td>\n",
       "      <td>1</td>\n",
       "      <td>-0.492101</td>\n",
       "      <td>0</td>\n",
       "      <td>1</td>\n",
       "      <td>0</td>\n",
       "    </tr>\n",
       "    <tr>\n",
       "      <th>778</th>\n",
       "      <td>NaN</td>\n",
       "      <td>3</td>\n",
       "      <td>0</td>\n",
       "      <td>0</td>\n",
       "      <td>0</td>\n",
       "      <td>1</td>\n",
       "      <td>-0.492353</td>\n",
       "      <td>0</td>\n",
       "      <td>1</td>\n",
       "      <td>0</td>\n",
       "    </tr>\n",
       "    <tr>\n",
       "      <th>783</th>\n",
       "      <td>NaN</td>\n",
       "      <td>3</td>\n",
       "      <td>0</td>\n",
       "      <td>1</td>\n",
       "      <td>2</td>\n",
       "      <td>0</td>\n",
       "      <td>-0.176164</td>\n",
       "      <td>0</td>\n",
       "      <td>1</td>\n",
       "      <td>0</td>\n",
       "    </tr>\n",
       "    <tr>\n",
       "      <th>790</th>\n",
       "      <td>NaN</td>\n",
       "      <td>3</td>\n",
       "      <td>0</td>\n",
       "      <td>0</td>\n",
       "      <td>0</td>\n",
       "      <td>1</td>\n",
       "      <td>-0.492101</td>\n",
       "      <td>0</td>\n",
       "      <td>1</td>\n",
       "      <td>0</td>\n",
       "    </tr>\n",
       "    <tr>\n",
       "      <th>792</th>\n",
       "      <td>NaN</td>\n",
       "      <td>3</td>\n",
       "      <td>0</td>\n",
       "      <td>8</td>\n",
       "      <td>2</td>\n",
       "      <td>0</td>\n",
       "      <td>0.751524</td>\n",
       "      <td>0</td>\n",
       "      <td>0</td>\n",
       "      <td>1</td>\n",
       "    </tr>\n",
       "    <tr>\n",
       "      <th>793</th>\n",
       "      <td>NaN</td>\n",
       "      <td>1</td>\n",
       "      <td>0</td>\n",
       "      <td>0</td>\n",
       "      <td>0</td>\n",
       "      <td>1</td>\n",
       "      <td>-0.030354</td>\n",
       "      <td>0</td>\n",
       "      <td>1</td>\n",
       "      <td>0</td>\n",
       "    </tr>\n",
       "    <tr>\n",
       "      <th>815</th>\n",
       "      <td>NaN</td>\n",
       "      <td>1</td>\n",
       "      <td>0</td>\n",
       "      <td>0</td>\n",
       "      <td>0</td>\n",
       "      <td>1</td>\n",
       "      <td>-0.648058</td>\n",
       "      <td>0</td>\n",
       "      <td>1</td>\n",
       "      <td>0</td>\n",
       "    </tr>\n",
       "    <tr>\n",
       "      <th>825</th>\n",
       "      <td>NaN</td>\n",
       "      <td>3</td>\n",
       "      <td>0</td>\n",
       "      <td>0</td>\n",
       "      <td>0</td>\n",
       "      <td>1</td>\n",
       "      <td>-0.508200</td>\n",
       "      <td>0</td>\n",
       "      <td>1</td>\n",
       "      <td>0</td>\n",
       "    </tr>\n",
       "    <tr>\n",
       "      <th>826</th>\n",
       "      <td>NaN</td>\n",
       "      <td>3</td>\n",
       "      <td>0</td>\n",
       "      <td>0</td>\n",
       "      <td>0</td>\n",
       "      <td>1</td>\n",
       "      <td>0.488829</td>\n",
       "      <td>0</td>\n",
       "      <td>1</td>\n",
       "      <td>0</td>\n",
       "    </tr>\n",
       "    <tr>\n",
       "      <th>828</th>\n",
       "      <td>NaN</td>\n",
       "      <td>3</td>\n",
       "      <td>1</td>\n",
       "      <td>0</td>\n",
       "      <td>0</td>\n",
       "      <td>1</td>\n",
       "      <td>-0.492101</td>\n",
       "      <td>0</td>\n",
       "      <td>1</td>\n",
       "      <td>0</td>\n",
       "    </tr>\n",
       "    <tr>\n",
       "      <th>832</th>\n",
       "      <td>NaN</td>\n",
       "      <td>3</td>\n",
       "      <td>0</td>\n",
       "      <td>0</td>\n",
       "      <td>0</td>\n",
       "      <td>1</td>\n",
       "      <td>-0.502582</td>\n",
       "      <td>0</td>\n",
       "      <td>1</td>\n",
       "      <td>0</td>\n",
       "    </tr>\n",
       "    <tr>\n",
       "      <th>837</th>\n",
       "      <td>NaN</td>\n",
       "      <td>3</td>\n",
       "      <td>0</td>\n",
       "      <td>0</td>\n",
       "      <td>0</td>\n",
       "      <td>1</td>\n",
       "      <td>-0.486064</td>\n",
       "      <td>0</td>\n",
       "      <td>1</td>\n",
       "      <td>0</td>\n",
       "    </tr>\n",
       "    <tr>\n",
       "      <th>839</th>\n",
       "      <td>NaN</td>\n",
       "      <td>1</td>\n",
       "      <td>1</td>\n",
       "      <td>0</td>\n",
       "      <td>0</td>\n",
       "      <td>1</td>\n",
       "      <td>-0.050393</td>\n",
       "      <td>0</td>\n",
       "      <td>1</td>\n",
       "      <td>0</td>\n",
       "    </tr>\n",
       "    <tr>\n",
       "      <th>846</th>\n",
       "      <td>NaN</td>\n",
       "      <td>3</td>\n",
       "      <td>0</td>\n",
       "      <td>8</td>\n",
       "      <td>2</td>\n",
       "      <td>0</td>\n",
       "      <td>0.751524</td>\n",
       "      <td>0</td>\n",
       "      <td>1</td>\n",
       "      <td>0</td>\n",
       "    </tr>\n",
       "    <tr>\n",
       "      <th>849</th>\n",
       "      <td>NaN</td>\n",
       "      <td>1</td>\n",
       "      <td>1</td>\n",
       "      <td>1</td>\n",
       "      <td>0</td>\n",
       "      <td>0</td>\n",
       "      <td>1.145020</td>\n",
       "      <td>0</td>\n",
       "      <td>0</td>\n",
       "      <td>1</td>\n",
       "    </tr>\n",
       "    <tr>\n",
       "      <th>859</th>\n",
       "      <td>NaN</td>\n",
       "      <td>3</td>\n",
       "      <td>0</td>\n",
       "      <td>0</td>\n",
       "      <td>0</td>\n",
       "      <td>1</td>\n",
       "      <td>-0.502582</td>\n",
       "      <td>0</td>\n",
       "      <td>1</td>\n",
       "      <td>0</td>\n",
       "    </tr>\n",
       "    <tr>\n",
       "      <th>863</th>\n",
       "      <td>NaN</td>\n",
       "      <td>3</td>\n",
       "      <td>0</td>\n",
       "      <td>8</td>\n",
       "      <td>2</td>\n",
       "      <td>0</td>\n",
       "      <td>0.751524</td>\n",
       "      <td>0</td>\n",
       "      <td>0</td>\n",
       "      <td>1</td>\n",
       "    </tr>\n",
       "    <tr>\n",
       "      <th>868</th>\n",
       "      <td>NaN</td>\n",
       "      <td>3</td>\n",
       "      <td>0</td>\n",
       "      <td>0</td>\n",
       "      <td>0</td>\n",
       "      <td>1</td>\n",
       "      <td>-0.456886</td>\n",
       "      <td>0</td>\n",
       "      <td>1</td>\n",
       "      <td>0</td>\n",
       "    </tr>\n",
       "    <tr>\n",
       "      <th>878</th>\n",
       "      <td>NaN</td>\n",
       "      <td>3</td>\n",
       "      <td>0</td>\n",
       "      <td>0</td>\n",
       "      <td>0</td>\n",
       "      <td>1</td>\n",
       "      <td>-0.489167</td>\n",
       "      <td>0</td>\n",
       "      <td>1</td>\n",
       "      <td>0</td>\n",
       "    </tr>\n",
       "    <tr>\n",
       "      <th>888</th>\n",
       "      <td>NaN</td>\n",
       "      <td>3</td>\n",
       "      <td>0</td>\n",
       "      <td>1</td>\n",
       "      <td>2</td>\n",
       "      <td>0</td>\n",
       "      <td>-0.176164</td>\n",
       "      <td>0</td>\n",
       "      <td>0</td>\n",
       "      <td>1</td>\n",
       "    </tr>\n",
       "  </tbody>\n",
       "</table>\n",
       "<p>177 rows × 10 columns</p>\n",
       "</div>"
      ],
      "text/plain": [
       "     age  pclass  survived  sibsp  parch  alone      fare  who_child  who_man  \\\n",
       "5    NaN       3         0      0      0      1 -0.477848          0        1   \n",
       "17   NaN       2         1      0      0      1 -0.386454          0        1   \n",
       "19   NaN       3         1      0      0      1 -0.502666          0        0   \n",
       "26   NaN       3         0      0      0      1 -0.502666          0        1   \n",
       "28   NaN       3         1      0      0      1 -0.489502          0        0   \n",
       "29   NaN       3         0      0      0      1 -0.489167          0        1   \n",
       "31   NaN       1         1      1      0      0  2.300437          0        0   \n",
       "32   NaN       3         1      0      0      1 -0.492101          0        0   \n",
       "36   NaN       3         1      0      0      1 -0.502582          0        1   \n",
       "42   NaN       3         0      0      0      1 -0.489167          0        1   \n",
       "45   NaN       3         0      0      0      1 -0.486064          0        1   \n",
       "46   NaN       3         0      1      0      0 -0.336145          0        1   \n",
       "47   NaN       3         1      0      0      1 -0.492101          0        0   \n",
       "48   NaN       3         0      2      0      0 -0.211799          0        1   \n",
       "55   NaN       1         1      0      0      1  0.066322          0        1   \n",
       "64   NaN       1         0      0      0      1 -0.090221          0        1   \n",
       "65   NaN       3         1      1      1      0 -0.341261          0        1   \n",
       "76   NaN       3         0      0      0      1 -0.489167          0        1   \n",
       "77   NaN       3         0      0      0      1 -0.486064          0        1   \n",
       "82   NaN       3         1      0      0      1 -0.491347          0        0   \n",
       "87   NaN       3         0      0      0      1 -0.486064          0        1   \n",
       "95   NaN       3         0      0      0      1 -0.486064          0        1   \n",
       "101  NaN       3         0      0      0      1 -0.489167          0        1   \n",
       "107  NaN       3         1      0      0      1 -0.491598          0        1   \n",
       "109  NaN       3         1      1      0      0 -0.162078          0        0   \n",
       "121  NaN       3         0      0      0      1 -0.486064          0        1   \n",
       "126  NaN       3         0      0      0      1 -0.492101          0        1   \n",
       "128  NaN       3         1      1      1      0 -0.198133          0        0   \n",
       "140  NaN       3         0      0      2      0 -0.341261          0        0   \n",
       "154  NaN       3         0      0      0      1 -0.500905          0        1   \n",
       "..   ...     ...       ...    ...    ...    ...       ...        ...      ...   \n",
       "718  NaN       3         0      0      0      1 -0.336145          0        1   \n",
       "727  NaN       3         1      0      0      1 -0.492353          0        0   \n",
       "732  NaN       2         0      0      0      1 -0.648058          0        1   \n",
       "738  NaN       3         0      0      0      1 -0.489167          0        1   \n",
       "739  NaN       3         0      0      0      1 -0.489167          0        1   \n",
       "740  NaN       1         1      0      0      1 -0.044356          0        1   \n",
       "760  NaN       3         0      0      0      1 -0.356269          0        1   \n",
       "766  NaN       1         0      0      0      1  0.148828          0        1   \n",
       "768  NaN       3         0      1      0      0 -0.162078          0        1   \n",
       "773  NaN       3         0      0      0      1 -0.502666          0        1   \n",
       "776  NaN       3         0      0      0      1 -0.492101          0        1   \n",
       "778  NaN       3         0      0      0      1 -0.492353          0        1   \n",
       "783  NaN       3         0      1      2      0 -0.176164          0        1   \n",
       "790  NaN       3         0      0      0      1 -0.492101          0        1   \n",
       "792  NaN       3         0      8      2      0  0.751524          0        0   \n",
       "793  NaN       1         0      0      0      1 -0.030354          0        1   \n",
       "815  NaN       1         0      0      0      1 -0.648058          0        1   \n",
       "825  NaN       3         0      0      0      1 -0.508200          0        1   \n",
       "826  NaN       3         0      0      0      1  0.488829          0        1   \n",
       "828  NaN       3         1      0      0      1 -0.492101          0        1   \n",
       "832  NaN       3         0      0      0      1 -0.502582          0        1   \n",
       "837  NaN       3         0      0      0      1 -0.486064          0        1   \n",
       "839  NaN       1         1      0      0      1 -0.050393          0        1   \n",
       "846  NaN       3         0      8      2      0  0.751524          0        1   \n",
       "849  NaN       1         1      1      0      0  1.145020          0        0   \n",
       "859  NaN       3         0      0      0      1 -0.502582          0        1   \n",
       "863  NaN       3         0      8      2      0  0.751524          0        0   \n",
       "868  NaN       3         0      0      0      1 -0.456886          0        1   \n",
       "878  NaN       3         0      0      0      1 -0.489167          0        1   \n",
       "888  NaN       3         0      1      2      0 -0.176164          0        0   \n",
       "\n",
       "     who_woman  \n",
       "5            0  \n",
       "17           0  \n",
       "19           1  \n",
       "26           0  \n",
       "28           1  \n",
       "29           0  \n",
       "31           1  \n",
       "32           1  \n",
       "36           0  \n",
       "42           0  \n",
       "45           0  \n",
       "46           0  \n",
       "47           1  \n",
       "48           0  \n",
       "55           0  \n",
       "64           0  \n",
       "65           0  \n",
       "76           0  \n",
       "77           0  \n",
       "82           1  \n",
       "87           0  \n",
       "95           0  \n",
       "101          0  \n",
       "107          0  \n",
       "109          1  \n",
       "121          0  \n",
       "126          0  \n",
       "128          1  \n",
       "140          1  \n",
       "154          0  \n",
       "..         ...  \n",
       "718          0  \n",
       "727          1  \n",
       "732          0  \n",
       "738          0  \n",
       "739          0  \n",
       "740          0  \n",
       "760          0  \n",
       "766          0  \n",
       "768          0  \n",
       "773          0  \n",
       "776          0  \n",
       "778          0  \n",
       "783          0  \n",
       "790          0  \n",
       "792          1  \n",
       "793          0  \n",
       "815          0  \n",
       "825          0  \n",
       "826          0  \n",
       "828          0  \n",
       "832          0  \n",
       "837          0  \n",
       "839          0  \n",
       "846          0  \n",
       "849          1  \n",
       "859          0  \n",
       "863          1  \n",
       "868          0  \n",
       "878          0  \n",
       "888          1  \n",
       "\n",
       "[177 rows x 10 columns]"
      ]
     },
     "execution_count": 225,
     "metadata": {},
     "output_type": "execute_result"
    }
   ],
   "source": [
    "nan_age_data"
   ]
  },
  {
   "cell_type": "code",
   "execution_count": 226,
   "metadata": {},
   "outputs": [],
   "source": [
    "nan_predict_data = (nan_age_data.iloc[:,1:7])"
   ]
  },
  {
   "cell_type": "code",
   "execution_count": 227,
   "metadata": {},
   "outputs": [],
   "source": [
    "nan_predict_data = nan_predict_data.values"
   ]
  },
  {
   "cell_type": "code",
   "execution_count": 228,
   "metadata": {},
   "outputs": [],
   "source": [
    "result = model.predict(nan_predict_data)"
   ]
  },
  {
   "cell_type": "code",
   "execution_count": null,
   "metadata": {},
   "outputs": [],
   "source": []
  },
  {
   "cell_type": "code",
   "execution_count": null,
   "metadata": {},
   "outputs": [],
   "source": []
  },
  {
   "cell_type": "code",
   "execution_count": 229,
   "metadata": {
    "scrolled": true
   },
   "outputs": [],
   "source": [
    "nan_age_index = np.array(titanic_data[titanic_data[\"age\"].isnull()].index)"
   ]
  },
  {
   "cell_type": "code",
   "execution_count": 230,
   "metadata": {},
   "outputs": [],
   "source": [
    "nan_age_column = np.array(titanic_data[titanic_data[\"age\"].isnull()].columns)"
   ]
  },
  {
   "cell_type": "code",
   "execution_count": 231,
   "metadata": {},
   "outputs": [],
   "source": [
    "titanic_data = titanic_data.values"
   ]
  },
  {
   "cell_type": "code",
   "execution_count": 232,
   "metadata": {},
   "outputs": [],
   "source": [
    "titanic_data[nan_age_index,3:4] = result"
   ]
  },
  {
   "cell_type": "code",
   "execution_count": 233,
   "metadata": {},
   "outputs": [],
   "source": [
    "titanic_data = pd.DataFrame(titanic_data,columns=nan_age_column)"
   ]
  },
  {
   "cell_type": "code",
   "execution_count": 234,
   "metadata": {},
   "outputs": [
    {
     "data": {
      "text/plain": [
       "array([  5,  17,  19,  26,  28,  29,  31,  32,  36,  42,  45,  46,  47,\n",
       "        48,  55,  64,  65,  76,  77,  82,  87,  95, 101, 107, 109, 121,\n",
       "       126, 128, 140, 154, 158, 159, 166, 168, 176, 180, 181, 185, 186,\n",
       "       196, 198, 201, 214, 223, 229, 235, 240, 241, 250, 256, 260, 264,\n",
       "       270, 274, 277, 284, 295, 298, 300, 301, 303, 304, 306, 324, 330,\n",
       "       334, 335, 347, 351, 354, 358, 359, 364, 367, 368, 375, 384, 388,\n",
       "       409, 410, 411, 413, 415, 420, 425, 428, 431, 444, 451, 454, 457,\n",
       "       459, 464, 466, 468, 470, 475, 481, 485, 490, 495, 497, 502, 507,\n",
       "       511, 517, 522, 524, 527, 531, 533, 538, 547, 552, 557, 560, 563,\n",
       "       564, 568, 573, 578, 584, 589, 593, 596, 598, 601, 602, 611, 612,\n",
       "       613, 629, 633, 639, 643, 648, 650, 653, 656, 667, 669, 674, 680,\n",
       "       692, 697, 709, 711, 718, 727, 732, 738, 739, 740, 760, 766, 768,\n",
       "       773, 776, 778, 783, 790, 792, 793, 815, 825, 826, 828, 832, 837,\n",
       "       839, 846, 849, 859, 863, 868, 878, 888])"
      ]
     },
     "execution_count": 234,
     "metadata": {},
     "output_type": "execute_result"
    }
   ],
   "source": [
    "nan_age_index"
   ]
  },
  {
   "cell_type": "code",
   "execution_count": 1253,
   "metadata": {
    "scrolled": true
   },
   "outputs": [
    {
     "data": {
      "text/html": [
       "<div>\n",
       "<style scoped>\n",
       "    .dataframe tbody tr th:only-of-type {\n",
       "        vertical-align: middle;\n",
       "    }\n",
       "\n",
       "    .dataframe tbody tr th {\n",
       "        vertical-align: top;\n",
       "    }\n",
       "\n",
       "    .dataframe thead th {\n",
       "        text-align: right;\n",
       "    }\n",
       "</style>\n",
       "<table border=\"1\" class=\"dataframe\">\n",
       "  <thead>\n",
       "    <tr style=\"text-align: right;\">\n",
       "      <th></th>\n",
       "      <th>survived</th>\n",
       "      <th>pclass</th>\n",
       "      <th>sex</th>\n",
       "      <th>age</th>\n",
       "      <th>sibsp</th>\n",
       "      <th>parch</th>\n",
       "      <th>fare</th>\n",
       "      <th>embarked</th>\n",
       "      <th>class</th>\n",
       "      <th>who</th>\n",
       "      <th>adult_male</th>\n",
       "      <th>embark_town</th>\n",
       "      <th>alive</th>\n",
       "      <th>alone</th>\n",
       "    </tr>\n",
       "  </thead>\n",
       "  <tbody>\n",
       "    <tr>\n",
       "      <th>0</th>\n",
       "      <td>0</td>\n",
       "      <td>3</td>\n",
       "      <td>male</td>\n",
       "      <td>22</td>\n",
       "      <td>1</td>\n",
       "      <td>0</td>\n",
       "      <td>7.25</td>\n",
       "      <td>S</td>\n",
       "      <td>Third</td>\n",
       "      <td>man</td>\n",
       "      <td>True</td>\n",
       "      <td>Southampton</td>\n",
       "      <td>no</td>\n",
       "      <td>0</td>\n",
       "    </tr>\n",
       "    <tr>\n",
       "      <th>1</th>\n",
       "      <td>1</td>\n",
       "      <td>1</td>\n",
       "      <td>female</td>\n",
       "      <td>38</td>\n",
       "      <td>1</td>\n",
       "      <td>0</td>\n",
       "      <td>71.2833</td>\n",
       "      <td>C</td>\n",
       "      <td>First</td>\n",
       "      <td>woman</td>\n",
       "      <td>False</td>\n",
       "      <td>Cherbourg</td>\n",
       "      <td>yes</td>\n",
       "      <td>0</td>\n",
       "    </tr>\n",
       "    <tr>\n",
       "      <th>2</th>\n",
       "      <td>1</td>\n",
       "      <td>3</td>\n",
       "      <td>female</td>\n",
       "      <td>26</td>\n",
       "      <td>0</td>\n",
       "      <td>0</td>\n",
       "      <td>7.925</td>\n",
       "      <td>S</td>\n",
       "      <td>Third</td>\n",
       "      <td>woman</td>\n",
       "      <td>False</td>\n",
       "      <td>Southampton</td>\n",
       "      <td>yes</td>\n",
       "      <td>1</td>\n",
       "    </tr>\n",
       "    <tr>\n",
       "      <th>3</th>\n",
       "      <td>1</td>\n",
       "      <td>1</td>\n",
       "      <td>female</td>\n",
       "      <td>35</td>\n",
       "      <td>1</td>\n",
       "      <td>0</td>\n",
       "      <td>53.1</td>\n",
       "      <td>S</td>\n",
       "      <td>First</td>\n",
       "      <td>woman</td>\n",
       "      <td>False</td>\n",
       "      <td>Southampton</td>\n",
       "      <td>yes</td>\n",
       "      <td>0</td>\n",
       "    </tr>\n",
       "    <tr>\n",
       "      <th>4</th>\n",
       "      <td>0</td>\n",
       "      <td>3</td>\n",
       "      <td>male</td>\n",
       "      <td>35</td>\n",
       "      <td>0</td>\n",
       "      <td>0</td>\n",
       "      <td>8.05</td>\n",
       "      <td>S</td>\n",
       "      <td>Third</td>\n",
       "      <td>man</td>\n",
       "      <td>True</td>\n",
       "      <td>Southampton</td>\n",
       "      <td>no</td>\n",
       "      <td>1</td>\n",
       "    </tr>\n",
       "    <tr>\n",
       "      <th>5</th>\n",
       "      <td>0</td>\n",
       "      <td>3</td>\n",
       "      <td>male</td>\n",
       "      <td>13.64</td>\n",
       "      <td>0</td>\n",
       "      <td>0</td>\n",
       "      <td>8.4583</td>\n",
       "      <td>Q</td>\n",
       "      <td>Third</td>\n",
       "      <td>man</td>\n",
       "      <td>True</td>\n",
       "      <td>Queenstown</td>\n",
       "      <td>no</td>\n",
       "      <td>1</td>\n",
       "    </tr>\n",
       "    <tr>\n",
       "      <th>6</th>\n",
       "      <td>0</td>\n",
       "      <td>1</td>\n",
       "      <td>male</td>\n",
       "      <td>54</td>\n",
       "      <td>0</td>\n",
       "      <td>0</td>\n",
       "      <td>51.8625</td>\n",
       "      <td>S</td>\n",
       "      <td>First</td>\n",
       "      <td>man</td>\n",
       "      <td>True</td>\n",
       "      <td>Southampton</td>\n",
       "      <td>no</td>\n",
       "      <td>1</td>\n",
       "    </tr>\n",
       "    <tr>\n",
       "      <th>7</th>\n",
       "      <td>0</td>\n",
       "      <td>3</td>\n",
       "      <td>male</td>\n",
       "      <td>2</td>\n",
       "      <td>3</td>\n",
       "      <td>1</td>\n",
       "      <td>21.075</td>\n",
       "      <td>S</td>\n",
       "      <td>Third</td>\n",
       "      <td>child</td>\n",
       "      <td>False</td>\n",
       "      <td>Southampton</td>\n",
       "      <td>no</td>\n",
       "      <td>0</td>\n",
       "    </tr>\n",
       "    <tr>\n",
       "      <th>8</th>\n",
       "      <td>1</td>\n",
       "      <td>3</td>\n",
       "      <td>female</td>\n",
       "      <td>27</td>\n",
       "      <td>0</td>\n",
       "      <td>2</td>\n",
       "      <td>11.1333</td>\n",
       "      <td>S</td>\n",
       "      <td>Third</td>\n",
       "      <td>woman</td>\n",
       "      <td>False</td>\n",
       "      <td>Southampton</td>\n",
       "      <td>yes</td>\n",
       "      <td>0</td>\n",
       "    </tr>\n",
       "    <tr>\n",
       "      <th>9</th>\n",
       "      <td>1</td>\n",
       "      <td>2</td>\n",
       "      <td>female</td>\n",
       "      <td>14</td>\n",
       "      <td>1</td>\n",
       "      <td>0</td>\n",
       "      <td>30.0708</td>\n",
       "      <td>C</td>\n",
       "      <td>Second</td>\n",
       "      <td>child</td>\n",
       "      <td>False</td>\n",
       "      <td>Cherbourg</td>\n",
       "      <td>yes</td>\n",
       "      <td>0</td>\n",
       "    </tr>\n",
       "    <tr>\n",
       "      <th>10</th>\n",
       "      <td>1</td>\n",
       "      <td>3</td>\n",
       "      <td>female</td>\n",
       "      <td>4</td>\n",
       "      <td>1</td>\n",
       "      <td>1</td>\n",
       "      <td>16.7</td>\n",
       "      <td>S</td>\n",
       "      <td>Third</td>\n",
       "      <td>child</td>\n",
       "      <td>False</td>\n",
       "      <td>Southampton</td>\n",
       "      <td>yes</td>\n",
       "      <td>0</td>\n",
       "    </tr>\n",
       "    <tr>\n",
       "      <th>11</th>\n",
       "      <td>1</td>\n",
       "      <td>1</td>\n",
       "      <td>female</td>\n",
       "      <td>58</td>\n",
       "      <td>0</td>\n",
       "      <td>0</td>\n",
       "      <td>26.55</td>\n",
       "      <td>S</td>\n",
       "      <td>First</td>\n",
       "      <td>woman</td>\n",
       "      <td>False</td>\n",
       "      <td>Southampton</td>\n",
       "      <td>yes</td>\n",
       "      <td>1</td>\n",
       "    </tr>\n",
       "    <tr>\n",
       "      <th>12</th>\n",
       "      <td>0</td>\n",
       "      <td>3</td>\n",
       "      <td>male</td>\n",
       "      <td>20</td>\n",
       "      <td>0</td>\n",
       "      <td>0</td>\n",
       "      <td>8.05</td>\n",
       "      <td>S</td>\n",
       "      <td>Third</td>\n",
       "      <td>man</td>\n",
       "      <td>True</td>\n",
       "      <td>Southampton</td>\n",
       "      <td>no</td>\n",
       "      <td>1</td>\n",
       "    </tr>\n",
       "    <tr>\n",
       "      <th>13</th>\n",
       "      <td>0</td>\n",
       "      <td>3</td>\n",
       "      <td>male</td>\n",
       "      <td>39</td>\n",
       "      <td>1</td>\n",
       "      <td>5</td>\n",
       "      <td>31.275</td>\n",
       "      <td>S</td>\n",
       "      <td>Third</td>\n",
       "      <td>man</td>\n",
       "      <td>True</td>\n",
       "      <td>Southampton</td>\n",
       "      <td>no</td>\n",
       "      <td>0</td>\n",
       "    </tr>\n",
       "    <tr>\n",
       "      <th>14</th>\n",
       "      <td>0</td>\n",
       "      <td>3</td>\n",
       "      <td>female</td>\n",
       "      <td>14</td>\n",
       "      <td>0</td>\n",
       "      <td>0</td>\n",
       "      <td>7.8542</td>\n",
       "      <td>S</td>\n",
       "      <td>Third</td>\n",
       "      <td>child</td>\n",
       "      <td>False</td>\n",
       "      <td>Southampton</td>\n",
       "      <td>no</td>\n",
       "      <td>1</td>\n",
       "    </tr>\n",
       "    <tr>\n",
       "      <th>15</th>\n",
       "      <td>1</td>\n",
       "      <td>2</td>\n",
       "      <td>female</td>\n",
       "      <td>55</td>\n",
       "      <td>0</td>\n",
       "      <td>0</td>\n",
       "      <td>16</td>\n",
       "      <td>S</td>\n",
       "      <td>Second</td>\n",
       "      <td>woman</td>\n",
       "      <td>False</td>\n",
       "      <td>Southampton</td>\n",
       "      <td>yes</td>\n",
       "      <td>1</td>\n",
       "    </tr>\n",
       "    <tr>\n",
       "      <th>16</th>\n",
       "      <td>0</td>\n",
       "      <td>3</td>\n",
       "      <td>male</td>\n",
       "      <td>2</td>\n",
       "      <td>4</td>\n",
       "      <td>1</td>\n",
       "      <td>29.125</td>\n",
       "      <td>Q</td>\n",
       "      <td>Third</td>\n",
       "      <td>child</td>\n",
       "      <td>False</td>\n",
       "      <td>Queenstown</td>\n",
       "      <td>no</td>\n",
       "      <td>0</td>\n",
       "    </tr>\n",
       "    <tr>\n",
       "      <th>17</th>\n",
       "      <td>1</td>\n",
       "      <td>2</td>\n",
       "      <td>male</td>\n",
       "      <td>10.2096</td>\n",
       "      <td>0</td>\n",
       "      <td>0</td>\n",
       "      <td>13</td>\n",
       "      <td>S</td>\n",
       "      <td>Second</td>\n",
       "      <td>man</td>\n",
       "      <td>True</td>\n",
       "      <td>Southampton</td>\n",
       "      <td>yes</td>\n",
       "      <td>1</td>\n",
       "    </tr>\n",
       "    <tr>\n",
       "      <th>18</th>\n",
       "      <td>0</td>\n",
       "      <td>3</td>\n",
       "      <td>female</td>\n",
       "      <td>31</td>\n",
       "      <td>1</td>\n",
       "      <td>0</td>\n",
       "      <td>18</td>\n",
       "      <td>S</td>\n",
       "      <td>Third</td>\n",
       "      <td>woman</td>\n",
       "      <td>False</td>\n",
       "      <td>Southampton</td>\n",
       "      <td>no</td>\n",
       "      <td>0</td>\n",
       "    </tr>\n",
       "    <tr>\n",
       "      <th>19</th>\n",
       "      <td>1</td>\n",
       "      <td>3</td>\n",
       "      <td>female</td>\n",
       "      <td>12.1775</td>\n",
       "      <td>0</td>\n",
       "      <td>0</td>\n",
       "      <td>7.225</td>\n",
       "      <td>C</td>\n",
       "      <td>Third</td>\n",
       "      <td>woman</td>\n",
       "      <td>False</td>\n",
       "      <td>Cherbourg</td>\n",
       "      <td>yes</td>\n",
       "      <td>1</td>\n",
       "    </tr>\n",
       "    <tr>\n",
       "      <th>20</th>\n",
       "      <td>0</td>\n",
       "      <td>2</td>\n",
       "      <td>male</td>\n",
       "      <td>35</td>\n",
       "      <td>0</td>\n",
       "      <td>0</td>\n",
       "      <td>26</td>\n",
       "      <td>S</td>\n",
       "      <td>Second</td>\n",
       "      <td>man</td>\n",
       "      <td>True</td>\n",
       "      <td>Southampton</td>\n",
       "      <td>no</td>\n",
       "      <td>1</td>\n",
       "    </tr>\n",
       "    <tr>\n",
       "      <th>21</th>\n",
       "      <td>1</td>\n",
       "      <td>2</td>\n",
       "      <td>male</td>\n",
       "      <td>34</td>\n",
       "      <td>0</td>\n",
       "      <td>0</td>\n",
       "      <td>13</td>\n",
       "      <td>S</td>\n",
       "      <td>Second</td>\n",
       "      <td>man</td>\n",
       "      <td>True</td>\n",
       "      <td>Southampton</td>\n",
       "      <td>yes</td>\n",
       "      <td>1</td>\n",
       "    </tr>\n",
       "    <tr>\n",
       "      <th>22</th>\n",
       "      <td>1</td>\n",
       "      <td>3</td>\n",
       "      <td>female</td>\n",
       "      <td>15</td>\n",
       "      <td>0</td>\n",
       "      <td>0</td>\n",
       "      <td>8.0292</td>\n",
       "      <td>Q</td>\n",
       "      <td>Third</td>\n",
       "      <td>child</td>\n",
       "      <td>False</td>\n",
       "      <td>Queenstown</td>\n",
       "      <td>yes</td>\n",
       "      <td>1</td>\n",
       "    </tr>\n",
       "    <tr>\n",
       "      <th>23</th>\n",
       "      <td>1</td>\n",
       "      <td>1</td>\n",
       "      <td>male</td>\n",
       "      <td>28</td>\n",
       "      <td>0</td>\n",
       "      <td>0</td>\n",
       "      <td>35.5</td>\n",
       "      <td>S</td>\n",
       "      <td>First</td>\n",
       "      <td>man</td>\n",
       "      <td>True</td>\n",
       "      <td>Southampton</td>\n",
       "      <td>yes</td>\n",
       "      <td>1</td>\n",
       "    </tr>\n",
       "    <tr>\n",
       "      <th>24</th>\n",
       "      <td>0</td>\n",
       "      <td>3</td>\n",
       "      <td>female</td>\n",
       "      <td>8</td>\n",
       "      <td>3</td>\n",
       "      <td>1</td>\n",
       "      <td>21.075</td>\n",
       "      <td>S</td>\n",
       "      <td>Third</td>\n",
       "      <td>child</td>\n",
       "      <td>False</td>\n",
       "      <td>Southampton</td>\n",
       "      <td>no</td>\n",
       "      <td>0</td>\n",
       "    </tr>\n",
       "    <tr>\n",
       "      <th>25</th>\n",
       "      <td>1</td>\n",
       "      <td>3</td>\n",
       "      <td>female</td>\n",
       "      <td>38</td>\n",
       "      <td>1</td>\n",
       "      <td>5</td>\n",
       "      <td>31.3875</td>\n",
       "      <td>S</td>\n",
       "      <td>Third</td>\n",
       "      <td>woman</td>\n",
       "      <td>False</td>\n",
       "      <td>Southampton</td>\n",
       "      <td>yes</td>\n",
       "      <td>0</td>\n",
       "    </tr>\n",
       "    <tr>\n",
       "      <th>26</th>\n",
       "      <td>0</td>\n",
       "      <td>3</td>\n",
       "      <td>male</td>\n",
       "      <td>13.6708</td>\n",
       "      <td>0</td>\n",
       "      <td>0</td>\n",
       "      <td>7.225</td>\n",
       "      <td>C</td>\n",
       "      <td>Third</td>\n",
       "      <td>man</td>\n",
       "      <td>True</td>\n",
       "      <td>Cherbourg</td>\n",
       "      <td>no</td>\n",
       "      <td>1</td>\n",
       "    </tr>\n",
       "    <tr>\n",
       "      <th>27</th>\n",
       "      <td>0</td>\n",
       "      <td>1</td>\n",
       "      <td>male</td>\n",
       "      <td>19</td>\n",
       "      <td>3</td>\n",
       "      <td>2</td>\n",
       "      <td>263</td>\n",
       "      <td>S</td>\n",
       "      <td>First</td>\n",
       "      <td>man</td>\n",
       "      <td>True</td>\n",
       "      <td>Southampton</td>\n",
       "      <td>no</td>\n",
       "      <td>0</td>\n",
       "    </tr>\n",
       "    <tr>\n",
       "      <th>28</th>\n",
       "      <td>1</td>\n",
       "      <td>3</td>\n",
       "      <td>female</td>\n",
       "      <td>12.1921</td>\n",
       "      <td>0</td>\n",
       "      <td>0</td>\n",
       "      <td>7.8792</td>\n",
       "      <td>Q</td>\n",
       "      <td>Third</td>\n",
       "      <td>woman</td>\n",
       "      <td>False</td>\n",
       "      <td>Queenstown</td>\n",
       "      <td>yes</td>\n",
       "      <td>1</td>\n",
       "    </tr>\n",
       "    <tr>\n",
       "      <th>29</th>\n",
       "      <td>0</td>\n",
       "      <td>3</td>\n",
       "      <td>male</td>\n",
       "      <td>13.654</td>\n",
       "      <td>0</td>\n",
       "      <td>0</td>\n",
       "      <td>7.8958</td>\n",
       "      <td>S</td>\n",
       "      <td>Third</td>\n",
       "      <td>man</td>\n",
       "      <td>True</td>\n",
       "      <td>Southampton</td>\n",
       "      <td>no</td>\n",
       "      <td>1</td>\n",
       "    </tr>\n",
       "    <tr>\n",
       "      <th>...</th>\n",
       "      <td>...</td>\n",
       "      <td>...</td>\n",
       "      <td>...</td>\n",
       "      <td>...</td>\n",
       "      <td>...</td>\n",
       "      <td>...</td>\n",
       "      <td>...</td>\n",
       "      <td>...</td>\n",
       "      <td>...</td>\n",
       "      <td>...</td>\n",
       "      <td>...</td>\n",
       "      <td>...</td>\n",
       "      <td>...</td>\n",
       "      <td>...</td>\n",
       "    </tr>\n",
       "    <tr>\n",
       "      <th>861</th>\n",
       "      <td>0</td>\n",
       "      <td>2</td>\n",
       "      <td>male</td>\n",
       "      <td>21</td>\n",
       "      <td>1</td>\n",
       "      <td>0</td>\n",
       "      <td>11.5</td>\n",
       "      <td>S</td>\n",
       "      <td>Second</td>\n",
       "      <td>man</td>\n",
       "      <td>True</td>\n",
       "      <td>Southampton</td>\n",
       "      <td>no</td>\n",
       "      <td>0</td>\n",
       "    </tr>\n",
       "    <tr>\n",
       "      <th>862</th>\n",
       "      <td>1</td>\n",
       "      <td>1</td>\n",
       "      <td>female</td>\n",
       "      <td>48</td>\n",
       "      <td>0</td>\n",
       "      <td>0</td>\n",
       "      <td>25.9292</td>\n",
       "      <td>S</td>\n",
       "      <td>First</td>\n",
       "      <td>woman</td>\n",
       "      <td>False</td>\n",
       "      <td>Southampton</td>\n",
       "      <td>yes</td>\n",
       "      <td>1</td>\n",
       "    </tr>\n",
       "    <tr>\n",
       "      <th>863</th>\n",
       "      <td>0</td>\n",
       "      <td>3</td>\n",
       "      <td>female</td>\n",
       "      <td>13.5219</td>\n",
       "      <td>8</td>\n",
       "      <td>2</td>\n",
       "      <td>69.55</td>\n",
       "      <td>S</td>\n",
       "      <td>Third</td>\n",
       "      <td>woman</td>\n",
       "      <td>False</td>\n",
       "      <td>Southampton</td>\n",
       "      <td>no</td>\n",
       "      <td>0</td>\n",
       "    </tr>\n",
       "    <tr>\n",
       "      <th>864</th>\n",
       "      <td>0</td>\n",
       "      <td>2</td>\n",
       "      <td>male</td>\n",
       "      <td>24</td>\n",
       "      <td>0</td>\n",
       "      <td>0</td>\n",
       "      <td>13</td>\n",
       "      <td>S</td>\n",
       "      <td>Second</td>\n",
       "      <td>man</td>\n",
       "      <td>True</td>\n",
       "      <td>Southampton</td>\n",
       "      <td>no</td>\n",
       "      <td>1</td>\n",
       "    </tr>\n",
       "    <tr>\n",
       "      <th>865</th>\n",
       "      <td>1</td>\n",
       "      <td>2</td>\n",
       "      <td>female</td>\n",
       "      <td>42</td>\n",
       "      <td>0</td>\n",
       "      <td>0</td>\n",
       "      <td>13</td>\n",
       "      <td>S</td>\n",
       "      <td>Second</td>\n",
       "      <td>woman</td>\n",
       "      <td>False</td>\n",
       "      <td>Southampton</td>\n",
       "      <td>yes</td>\n",
       "      <td>1</td>\n",
       "    </tr>\n",
       "    <tr>\n",
       "      <th>866</th>\n",
       "      <td>1</td>\n",
       "      <td>2</td>\n",
       "      <td>female</td>\n",
       "      <td>27</td>\n",
       "      <td>1</td>\n",
       "      <td>0</td>\n",
       "      <td>13.8583</td>\n",
       "      <td>C</td>\n",
       "      <td>Second</td>\n",
       "      <td>woman</td>\n",
       "      <td>False</td>\n",
       "      <td>Cherbourg</td>\n",
       "      <td>yes</td>\n",
       "      <td>0</td>\n",
       "    </tr>\n",
       "    <tr>\n",
       "      <th>867</th>\n",
       "      <td>0</td>\n",
       "      <td>1</td>\n",
       "      <td>male</td>\n",
       "      <td>31</td>\n",
       "      <td>0</td>\n",
       "      <td>0</td>\n",
       "      <td>50.4958</td>\n",
       "      <td>S</td>\n",
       "      <td>First</td>\n",
       "      <td>man</td>\n",
       "      <td>True</td>\n",
       "      <td>Southampton</td>\n",
       "      <td>no</td>\n",
       "      <td>1</td>\n",
       "    </tr>\n",
       "    <tr>\n",
       "      <th>868</th>\n",
       "      <td>0</td>\n",
       "      <td>3</td>\n",
       "      <td>male</td>\n",
       "      <td>13.6141</td>\n",
       "      <td>0</td>\n",
       "      <td>0</td>\n",
       "      <td>9.5</td>\n",
       "      <td>S</td>\n",
       "      <td>Third</td>\n",
       "      <td>man</td>\n",
       "      <td>True</td>\n",
       "      <td>Southampton</td>\n",
       "      <td>no</td>\n",
       "      <td>1</td>\n",
       "    </tr>\n",
       "    <tr>\n",
       "      <th>869</th>\n",
       "      <td>1</td>\n",
       "      <td>3</td>\n",
       "      <td>male</td>\n",
       "      <td>4</td>\n",
       "      <td>1</td>\n",
       "      <td>1</td>\n",
       "      <td>11.1333</td>\n",
       "      <td>S</td>\n",
       "      <td>Third</td>\n",
       "      <td>child</td>\n",
       "      <td>False</td>\n",
       "      <td>Southampton</td>\n",
       "      <td>yes</td>\n",
       "      <td>0</td>\n",
       "    </tr>\n",
       "    <tr>\n",
       "      <th>870</th>\n",
       "      <td>0</td>\n",
       "      <td>3</td>\n",
       "      <td>male</td>\n",
       "      <td>26</td>\n",
       "      <td>0</td>\n",
       "      <td>0</td>\n",
       "      <td>7.8958</td>\n",
       "      <td>S</td>\n",
       "      <td>Third</td>\n",
       "      <td>man</td>\n",
       "      <td>True</td>\n",
       "      <td>Southampton</td>\n",
       "      <td>no</td>\n",
       "      <td>1</td>\n",
       "    </tr>\n",
       "    <tr>\n",
       "      <th>871</th>\n",
       "      <td>1</td>\n",
       "      <td>1</td>\n",
       "      <td>female</td>\n",
       "      <td>47</td>\n",
       "      <td>1</td>\n",
       "      <td>1</td>\n",
       "      <td>52.5542</td>\n",
       "      <td>S</td>\n",
       "      <td>First</td>\n",
       "      <td>woman</td>\n",
       "      <td>False</td>\n",
       "      <td>Southampton</td>\n",
       "      <td>yes</td>\n",
       "      <td>0</td>\n",
       "    </tr>\n",
       "    <tr>\n",
       "      <th>872</th>\n",
       "      <td>0</td>\n",
       "      <td>1</td>\n",
       "      <td>male</td>\n",
       "      <td>33</td>\n",
       "      <td>0</td>\n",
       "      <td>0</td>\n",
       "      <td>5</td>\n",
       "      <td>S</td>\n",
       "      <td>First</td>\n",
       "      <td>man</td>\n",
       "      <td>True</td>\n",
       "      <td>Southampton</td>\n",
       "      <td>no</td>\n",
       "      <td>1</td>\n",
       "    </tr>\n",
       "    <tr>\n",
       "      <th>873</th>\n",
       "      <td>0</td>\n",
       "      <td>3</td>\n",
       "      <td>male</td>\n",
       "      <td>47</td>\n",
       "      <td>0</td>\n",
       "      <td>0</td>\n",
       "      <td>9</td>\n",
       "      <td>S</td>\n",
       "      <td>Third</td>\n",
       "      <td>man</td>\n",
       "      <td>True</td>\n",
       "      <td>Southampton</td>\n",
       "      <td>no</td>\n",
       "      <td>1</td>\n",
       "    </tr>\n",
       "    <tr>\n",
       "      <th>874</th>\n",
       "      <td>1</td>\n",
       "      <td>2</td>\n",
       "      <td>female</td>\n",
       "      <td>28</td>\n",
       "      <td>1</td>\n",
       "      <td>0</td>\n",
       "      <td>24</td>\n",
       "      <td>C</td>\n",
       "      <td>Second</td>\n",
       "      <td>woman</td>\n",
       "      <td>False</td>\n",
       "      <td>Cherbourg</td>\n",
       "      <td>yes</td>\n",
       "      <td>0</td>\n",
       "    </tr>\n",
       "    <tr>\n",
       "      <th>875</th>\n",
       "      <td>1</td>\n",
       "      <td>3</td>\n",
       "      <td>female</td>\n",
       "      <td>15</td>\n",
       "      <td>0</td>\n",
       "      <td>0</td>\n",
       "      <td>7.225</td>\n",
       "      <td>C</td>\n",
       "      <td>Third</td>\n",
       "      <td>child</td>\n",
       "      <td>False</td>\n",
       "      <td>Cherbourg</td>\n",
       "      <td>yes</td>\n",
       "      <td>1</td>\n",
       "    </tr>\n",
       "    <tr>\n",
       "      <th>876</th>\n",
       "      <td>0</td>\n",
       "      <td>3</td>\n",
       "      <td>male</td>\n",
       "      <td>20</td>\n",
       "      <td>0</td>\n",
       "      <td>0</td>\n",
       "      <td>9.8458</td>\n",
       "      <td>S</td>\n",
       "      <td>Third</td>\n",
       "      <td>man</td>\n",
       "      <td>True</td>\n",
       "      <td>Southampton</td>\n",
       "      <td>no</td>\n",
       "      <td>1</td>\n",
       "    </tr>\n",
       "    <tr>\n",
       "      <th>877</th>\n",
       "      <td>0</td>\n",
       "      <td>3</td>\n",
       "      <td>male</td>\n",
       "      <td>19</td>\n",
       "      <td>0</td>\n",
       "      <td>0</td>\n",
       "      <td>7.8958</td>\n",
       "      <td>S</td>\n",
       "      <td>Third</td>\n",
       "      <td>man</td>\n",
       "      <td>True</td>\n",
       "      <td>Southampton</td>\n",
       "      <td>no</td>\n",
       "      <td>1</td>\n",
       "    </tr>\n",
       "    <tr>\n",
       "      <th>878</th>\n",
       "      <td>0</td>\n",
       "      <td>3</td>\n",
       "      <td>male</td>\n",
       "      <td>13.654</td>\n",
       "      <td>0</td>\n",
       "      <td>0</td>\n",
       "      <td>7.8958</td>\n",
       "      <td>S</td>\n",
       "      <td>Third</td>\n",
       "      <td>man</td>\n",
       "      <td>True</td>\n",
       "      <td>Southampton</td>\n",
       "      <td>no</td>\n",
       "      <td>1</td>\n",
       "    </tr>\n",
       "    <tr>\n",
       "      <th>879</th>\n",
       "      <td>1</td>\n",
       "      <td>1</td>\n",
       "      <td>female</td>\n",
       "      <td>56</td>\n",
       "      <td>0</td>\n",
       "      <td>1</td>\n",
       "      <td>83.1583</td>\n",
       "      <td>C</td>\n",
       "      <td>First</td>\n",
       "      <td>woman</td>\n",
       "      <td>False</td>\n",
       "      <td>Cherbourg</td>\n",
       "      <td>yes</td>\n",
       "      <td>0</td>\n",
       "    </tr>\n",
       "    <tr>\n",
       "      <th>880</th>\n",
       "      <td>1</td>\n",
       "      <td>2</td>\n",
       "      <td>female</td>\n",
       "      <td>25</td>\n",
       "      <td>0</td>\n",
       "      <td>1</td>\n",
       "      <td>26</td>\n",
       "      <td>S</td>\n",
       "      <td>Second</td>\n",
       "      <td>woman</td>\n",
       "      <td>False</td>\n",
       "      <td>Southampton</td>\n",
       "      <td>yes</td>\n",
       "      <td>0</td>\n",
       "    </tr>\n",
       "    <tr>\n",
       "      <th>881</th>\n",
       "      <td>0</td>\n",
       "      <td>3</td>\n",
       "      <td>male</td>\n",
       "      <td>33</td>\n",
       "      <td>0</td>\n",
       "      <td>0</td>\n",
       "      <td>7.8958</td>\n",
       "      <td>S</td>\n",
       "      <td>Third</td>\n",
       "      <td>man</td>\n",
       "      <td>True</td>\n",
       "      <td>Southampton</td>\n",
       "      <td>no</td>\n",
       "      <td>1</td>\n",
       "    </tr>\n",
       "    <tr>\n",
       "      <th>882</th>\n",
       "      <td>0</td>\n",
       "      <td>3</td>\n",
       "      <td>female</td>\n",
       "      <td>22</td>\n",
       "      <td>0</td>\n",
       "      <td>0</td>\n",
       "      <td>10.5167</td>\n",
       "      <td>S</td>\n",
       "      <td>Third</td>\n",
       "      <td>woman</td>\n",
       "      <td>False</td>\n",
       "      <td>Southampton</td>\n",
       "      <td>no</td>\n",
       "      <td>1</td>\n",
       "    </tr>\n",
       "    <tr>\n",
       "      <th>883</th>\n",
       "      <td>0</td>\n",
       "      <td>2</td>\n",
       "      <td>male</td>\n",
       "      <td>28</td>\n",
       "      <td>0</td>\n",
       "      <td>0</td>\n",
       "      <td>10.5</td>\n",
       "      <td>S</td>\n",
       "      <td>Second</td>\n",
       "      <td>man</td>\n",
       "      <td>True</td>\n",
       "      <td>Southampton</td>\n",
       "      <td>no</td>\n",
       "      <td>1</td>\n",
       "    </tr>\n",
       "    <tr>\n",
       "      <th>884</th>\n",
       "      <td>0</td>\n",
       "      <td>3</td>\n",
       "      <td>male</td>\n",
       "      <td>25</td>\n",
       "      <td>0</td>\n",
       "      <td>0</td>\n",
       "      <td>7.05</td>\n",
       "      <td>S</td>\n",
       "      <td>Third</td>\n",
       "      <td>man</td>\n",
       "      <td>True</td>\n",
       "      <td>Southampton</td>\n",
       "      <td>no</td>\n",
       "      <td>1</td>\n",
       "    </tr>\n",
       "    <tr>\n",
       "      <th>885</th>\n",
       "      <td>0</td>\n",
       "      <td>3</td>\n",
       "      <td>female</td>\n",
       "      <td>39</td>\n",
       "      <td>0</td>\n",
       "      <td>5</td>\n",
       "      <td>29.125</td>\n",
       "      <td>Q</td>\n",
       "      <td>Third</td>\n",
       "      <td>woman</td>\n",
       "      <td>False</td>\n",
       "      <td>Queenstown</td>\n",
       "      <td>no</td>\n",
       "      <td>0</td>\n",
       "    </tr>\n",
       "    <tr>\n",
       "      <th>886</th>\n",
       "      <td>0</td>\n",
       "      <td>2</td>\n",
       "      <td>male</td>\n",
       "      <td>27</td>\n",
       "      <td>0</td>\n",
       "      <td>0</td>\n",
       "      <td>13</td>\n",
       "      <td>S</td>\n",
       "      <td>Second</td>\n",
       "      <td>man</td>\n",
       "      <td>True</td>\n",
       "      <td>Southampton</td>\n",
       "      <td>no</td>\n",
       "      <td>1</td>\n",
       "    </tr>\n",
       "    <tr>\n",
       "      <th>887</th>\n",
       "      <td>1</td>\n",
       "      <td>1</td>\n",
       "      <td>female</td>\n",
       "      <td>19</td>\n",
       "      <td>0</td>\n",
       "      <td>0</td>\n",
       "      <td>30</td>\n",
       "      <td>S</td>\n",
       "      <td>First</td>\n",
       "      <td>woman</td>\n",
       "      <td>False</td>\n",
       "      <td>Southampton</td>\n",
       "      <td>yes</td>\n",
       "      <td>1</td>\n",
       "    </tr>\n",
       "    <tr>\n",
       "      <th>888</th>\n",
       "      <td>0</td>\n",
       "      <td>3</td>\n",
       "      <td>female</td>\n",
       "      <td>6.55768</td>\n",
       "      <td>1</td>\n",
       "      <td>2</td>\n",
       "      <td>23.45</td>\n",
       "      <td>S</td>\n",
       "      <td>Third</td>\n",
       "      <td>woman</td>\n",
       "      <td>False</td>\n",
       "      <td>Southampton</td>\n",
       "      <td>no</td>\n",
       "      <td>0</td>\n",
       "    </tr>\n",
       "    <tr>\n",
       "      <th>889</th>\n",
       "      <td>1</td>\n",
       "      <td>1</td>\n",
       "      <td>male</td>\n",
       "      <td>26</td>\n",
       "      <td>0</td>\n",
       "      <td>0</td>\n",
       "      <td>30</td>\n",
       "      <td>C</td>\n",
       "      <td>First</td>\n",
       "      <td>man</td>\n",
       "      <td>True</td>\n",
       "      <td>Cherbourg</td>\n",
       "      <td>yes</td>\n",
       "      <td>1</td>\n",
       "    </tr>\n",
       "    <tr>\n",
       "      <th>890</th>\n",
       "      <td>0</td>\n",
       "      <td>3</td>\n",
       "      <td>male</td>\n",
       "      <td>32</td>\n",
       "      <td>0</td>\n",
       "      <td>0</td>\n",
       "      <td>7.75</td>\n",
       "      <td>Q</td>\n",
       "      <td>Third</td>\n",
       "      <td>man</td>\n",
       "      <td>True</td>\n",
       "      <td>Queenstown</td>\n",
       "      <td>no</td>\n",
       "      <td>1</td>\n",
       "    </tr>\n",
       "  </tbody>\n",
       "</table>\n",
       "<p>891 rows × 14 columns</p>\n",
       "</div>"
      ],
      "text/plain": [
       "    survived pclass     sex      age sibsp parch     fare embarked   class  \\\n",
       "0          0      3    male       22     1     0     7.25        S   Third   \n",
       "1          1      1  female       38     1     0  71.2833        C   First   \n",
       "2          1      3  female       26     0     0    7.925        S   Third   \n",
       "3          1      1  female       35     1     0     53.1        S   First   \n",
       "4          0      3    male       35     0     0     8.05        S   Third   \n",
       "5          0      3    male    13.64     0     0   8.4583        Q   Third   \n",
       "6          0      1    male       54     0     0  51.8625        S   First   \n",
       "7          0      3    male        2     3     1   21.075        S   Third   \n",
       "8          1      3  female       27     0     2  11.1333        S   Third   \n",
       "9          1      2  female       14     1     0  30.0708        C  Second   \n",
       "10         1      3  female        4     1     1     16.7        S   Third   \n",
       "11         1      1  female       58     0     0    26.55        S   First   \n",
       "12         0      3    male       20     0     0     8.05        S   Third   \n",
       "13         0      3    male       39     1     5   31.275        S   Third   \n",
       "14         0      3  female       14     0     0   7.8542        S   Third   \n",
       "15         1      2  female       55     0     0       16        S  Second   \n",
       "16         0      3    male        2     4     1   29.125        Q   Third   \n",
       "17         1      2    male  10.2096     0     0       13        S  Second   \n",
       "18         0      3  female       31     1     0       18        S   Third   \n",
       "19         1      3  female  12.1775     0     0    7.225        C   Third   \n",
       "20         0      2    male       35     0     0       26        S  Second   \n",
       "21         1      2    male       34     0     0       13        S  Second   \n",
       "22         1      3  female       15     0     0   8.0292        Q   Third   \n",
       "23         1      1    male       28     0     0     35.5        S   First   \n",
       "24         0      3  female        8     3     1   21.075        S   Third   \n",
       "25         1      3  female       38     1     5  31.3875        S   Third   \n",
       "26         0      3    male  13.6708     0     0    7.225        C   Third   \n",
       "27         0      1    male       19     3     2      263        S   First   \n",
       "28         1      3  female  12.1921     0     0   7.8792        Q   Third   \n",
       "29         0      3    male   13.654     0     0   7.8958        S   Third   \n",
       "..       ...    ...     ...      ...   ...   ...      ...      ...     ...   \n",
       "861        0      2    male       21     1     0     11.5        S  Second   \n",
       "862        1      1  female       48     0     0  25.9292        S   First   \n",
       "863        0      3  female  13.5219     8     2    69.55        S   Third   \n",
       "864        0      2    male       24     0     0       13        S  Second   \n",
       "865        1      2  female       42     0     0       13        S  Second   \n",
       "866        1      2  female       27     1     0  13.8583        C  Second   \n",
       "867        0      1    male       31     0     0  50.4958        S   First   \n",
       "868        0      3    male  13.6141     0     0      9.5        S   Third   \n",
       "869        1      3    male        4     1     1  11.1333        S   Third   \n",
       "870        0      3    male       26     0     0   7.8958        S   Third   \n",
       "871        1      1  female       47     1     1  52.5542        S   First   \n",
       "872        0      1    male       33     0     0        5        S   First   \n",
       "873        0      3    male       47     0     0        9        S   Third   \n",
       "874        1      2  female       28     1     0       24        C  Second   \n",
       "875        1      3  female       15     0     0    7.225        C   Third   \n",
       "876        0      3    male       20     0     0   9.8458        S   Third   \n",
       "877        0      3    male       19     0     0   7.8958        S   Third   \n",
       "878        0      3    male   13.654     0     0   7.8958        S   Third   \n",
       "879        1      1  female       56     0     1  83.1583        C   First   \n",
       "880        1      2  female       25     0     1       26        S  Second   \n",
       "881        0      3    male       33     0     0   7.8958        S   Third   \n",
       "882        0      3  female       22     0     0  10.5167        S   Third   \n",
       "883        0      2    male       28     0     0     10.5        S  Second   \n",
       "884        0      3    male       25     0     0     7.05        S   Third   \n",
       "885        0      3  female       39     0     5   29.125        Q   Third   \n",
       "886        0      2    male       27     0     0       13        S  Second   \n",
       "887        1      1  female       19     0     0       30        S   First   \n",
       "888        0      3  female  6.55768     1     2    23.45        S   Third   \n",
       "889        1      1    male       26     0     0       30        C   First   \n",
       "890        0      3    male       32     0     0     7.75        Q   Third   \n",
       "\n",
       "       who adult_male  embark_town alive alone  \n",
       "0      man       True  Southampton    no     0  \n",
       "1    woman      False    Cherbourg   yes     0  \n",
       "2    woman      False  Southampton   yes     1  \n",
       "3    woman      False  Southampton   yes     0  \n",
       "4      man       True  Southampton    no     1  \n",
       "5      man       True   Queenstown    no     1  \n",
       "6      man       True  Southampton    no     1  \n",
       "7    child      False  Southampton    no     0  \n",
       "8    woman      False  Southampton   yes     0  \n",
       "9    child      False    Cherbourg   yes     0  \n",
       "10   child      False  Southampton   yes     0  \n",
       "11   woman      False  Southampton   yes     1  \n",
       "12     man       True  Southampton    no     1  \n",
       "13     man       True  Southampton    no     0  \n",
       "14   child      False  Southampton    no     1  \n",
       "15   woman      False  Southampton   yes     1  \n",
       "16   child      False   Queenstown    no     0  \n",
       "17     man       True  Southampton   yes     1  \n",
       "18   woman      False  Southampton    no     0  \n",
       "19   woman      False    Cherbourg   yes     1  \n",
       "20     man       True  Southampton    no     1  \n",
       "21     man       True  Southampton   yes     1  \n",
       "22   child      False   Queenstown   yes     1  \n",
       "23     man       True  Southampton   yes     1  \n",
       "24   child      False  Southampton    no     0  \n",
       "25   woman      False  Southampton   yes     0  \n",
       "26     man       True    Cherbourg    no     1  \n",
       "27     man       True  Southampton    no     0  \n",
       "28   woman      False   Queenstown   yes     1  \n",
       "29     man       True  Southampton    no     1  \n",
       "..     ...        ...          ...   ...   ...  \n",
       "861    man       True  Southampton    no     0  \n",
       "862  woman      False  Southampton   yes     1  \n",
       "863  woman      False  Southampton    no     0  \n",
       "864    man       True  Southampton    no     1  \n",
       "865  woman      False  Southampton   yes     1  \n",
       "866  woman      False    Cherbourg   yes     0  \n",
       "867    man       True  Southampton    no     1  \n",
       "868    man       True  Southampton    no     1  \n",
       "869  child      False  Southampton   yes     0  \n",
       "870    man       True  Southampton    no     1  \n",
       "871  woman      False  Southampton   yes     0  \n",
       "872    man       True  Southampton    no     1  \n",
       "873    man       True  Southampton    no     1  \n",
       "874  woman      False    Cherbourg   yes     0  \n",
       "875  child      False    Cherbourg   yes     1  \n",
       "876    man       True  Southampton    no     1  \n",
       "877    man       True  Southampton    no     1  \n",
       "878    man       True  Southampton    no     1  \n",
       "879  woman      False    Cherbourg   yes     0  \n",
       "880  woman      False  Southampton   yes     0  \n",
       "881    man       True  Southampton    no     1  \n",
       "882  woman      False  Southampton    no     1  \n",
       "883    man       True  Southampton    no     1  \n",
       "884    man       True  Southampton    no     1  \n",
       "885  woman      False   Queenstown    no     0  \n",
       "886    man       True  Southampton    no     1  \n",
       "887  woman      False  Southampton   yes     1  \n",
       "888  woman      False  Southampton    no     0  \n",
       "889    man       True    Cherbourg   yes     1  \n",
       "890    man       True   Queenstown    no     1  \n",
       "\n",
       "[891 rows x 14 columns]"
      ]
     },
     "execution_count": 1253,
     "metadata": {},
     "output_type": "execute_result"
    }
   ],
   "source": [
    "titanic_data.head()"
   ]
  },
  {
   "cell_type": "code",
   "execution_count": 100,
   "metadata": {
    "scrolled": false
   },
   "outputs": [
    {
     "name": "stdout",
     "output_type": "stream",
     "text": [
      "Model: \"sequential\"\n",
      "_________________________________________________________________\n",
      "Layer (type)                 Output Shape              Param #   \n",
      "=================================================================\n",
      "dense (Dense)                (None, 144)               1872      \n",
      "_________________________________________________________________\n",
      "dense_1 (Dense)              (None, 64)                9280      \n",
      "_________________________________________________________________\n",
      "dense_2 (Dense)              (None, 12)                780       \n",
      "_________________________________________________________________\n",
      "dense_3 (Dense)              (None, 1)                 13        \n",
      "=================================================================\n",
      "Total params: 11,945\n",
      "Trainable params: 11,945\n",
      "Non-trainable params: 0\n",
      "_________________________________________________________________\n"
     ]
    }
   ],
   "source": [
    "model.summary()"
   ]
  },
  {
   "cell_type": "code",
   "execution_count": null,
   "metadata": {},
   "outputs": [],
   "source": []
  },
  {
   "cell_type": "code",
   "execution_count": null,
   "metadata": {},
   "outputs": [],
   "source": []
  },
  {
   "cell_type": "code",
   "execution_count": null,
   "metadata": {},
   "outputs": [],
   "source": []
  },
  {
   "cell_type": "code",
   "execution_count": 195,
   "metadata": {},
   "outputs": [
    {
     "data": {
      "text/html": [
       "<div>\n",
       "<style scoped>\n",
       "    .dataframe tbody tr th:only-of-type {\n",
       "        vertical-align: middle;\n",
       "    }\n",
       "\n",
       "    .dataframe tbody tr th {\n",
       "        vertical-align: top;\n",
       "    }\n",
       "\n",
       "    .dataframe thead th {\n",
       "        text-align: right;\n",
       "    }\n",
       "</style>\n",
       "<table border=\"1\" class=\"dataframe\">\n",
       "  <thead>\n",
       "    <tr style=\"text-align: right;\">\n",
       "      <th></th>\n",
       "      <th>survived</th>\n",
       "      <th>pclass</th>\n",
       "      <th>sex</th>\n",
       "      <th>age</th>\n",
       "      <th>sibsp</th>\n",
       "      <th>parch</th>\n",
       "      <th>fare</th>\n",
       "      <th>embarked</th>\n",
       "      <th>class</th>\n",
       "      <th>who</th>\n",
       "      <th>adult_male</th>\n",
       "      <th>embark_town</th>\n",
       "      <th>alive</th>\n",
       "      <th>alone</th>\n",
       "    </tr>\n",
       "  </thead>\n",
       "  <tbody>\n",
       "    <tr>\n",
       "      <th>0</th>\n",
       "      <td>0</td>\n",
       "      <td>3</td>\n",
       "      <td>male</td>\n",
       "      <td>22.0</td>\n",
       "      <td>1</td>\n",
       "      <td>0</td>\n",
       "      <td>7.2500</td>\n",
       "      <td>S</td>\n",
       "      <td>Third</td>\n",
       "      <td>man</td>\n",
       "      <td>True</td>\n",
       "      <td>Southampton</td>\n",
       "      <td>no</td>\n",
       "      <td>0</td>\n",
       "    </tr>\n",
       "    <tr>\n",
       "      <th>1</th>\n",
       "      <td>1</td>\n",
       "      <td>1</td>\n",
       "      <td>female</td>\n",
       "      <td>38.0</td>\n",
       "      <td>1</td>\n",
       "      <td>0</td>\n",
       "      <td>71.2833</td>\n",
       "      <td>C</td>\n",
       "      <td>First</td>\n",
       "      <td>woman</td>\n",
       "      <td>False</td>\n",
       "      <td>Cherbourg</td>\n",
       "      <td>yes</td>\n",
       "      <td>0</td>\n",
       "    </tr>\n",
       "    <tr>\n",
       "      <th>2</th>\n",
       "      <td>1</td>\n",
       "      <td>3</td>\n",
       "      <td>female</td>\n",
       "      <td>26.0</td>\n",
       "      <td>0</td>\n",
       "      <td>0</td>\n",
       "      <td>7.9250</td>\n",
       "      <td>S</td>\n",
       "      <td>Third</td>\n",
       "      <td>woman</td>\n",
       "      <td>False</td>\n",
       "      <td>Southampton</td>\n",
       "      <td>yes</td>\n",
       "      <td>1</td>\n",
       "    </tr>\n",
       "    <tr>\n",
       "      <th>3</th>\n",
       "      <td>1</td>\n",
       "      <td>1</td>\n",
       "      <td>female</td>\n",
       "      <td>35.0</td>\n",
       "      <td>1</td>\n",
       "      <td>0</td>\n",
       "      <td>53.1000</td>\n",
       "      <td>S</td>\n",
       "      <td>First</td>\n",
       "      <td>woman</td>\n",
       "      <td>False</td>\n",
       "      <td>Southampton</td>\n",
       "      <td>yes</td>\n",
       "      <td>0</td>\n",
       "    </tr>\n",
       "    <tr>\n",
       "      <th>4</th>\n",
       "      <td>0</td>\n",
       "      <td>3</td>\n",
       "      <td>male</td>\n",
       "      <td>35.0</td>\n",
       "      <td>0</td>\n",
       "      <td>0</td>\n",
       "      <td>8.0500</td>\n",
       "      <td>S</td>\n",
       "      <td>Third</td>\n",
       "      <td>man</td>\n",
       "      <td>True</td>\n",
       "      <td>Southampton</td>\n",
       "      <td>no</td>\n",
       "      <td>1</td>\n",
       "    </tr>\n",
       "  </tbody>\n",
       "</table>\n",
       "</div>"
      ],
      "text/plain": [
       "   survived  pclass     sex   age  sibsp  parch     fare embarked  class  \\\n",
       "0         0       3    male  22.0      1      0   7.2500        S  Third   \n",
       "1         1       1  female  38.0      1      0  71.2833        C  First   \n",
       "2         1       3  female  26.0      0      0   7.9250        S  Third   \n",
       "3         1       1  female  35.0      1      0  53.1000        S  First   \n",
       "4         0       3    male  35.0      0      0   8.0500        S  Third   \n",
       "\n",
       "     who  adult_male  embark_town alive  alone  \n",
       "0    man        True  Southampton    no      0  \n",
       "1  woman       False    Cherbourg   yes      0  \n",
       "2  woman       False  Southampton   yes      1  \n",
       "3  woman       False  Southampton   yes      0  \n",
       "4    man        True  Southampton    no      1  "
      ]
     },
     "execution_count": 195,
     "metadata": {},
     "output_type": "execute_result"
    }
   ],
   "source": [
    "titanic_data.head()"
   ]
  },
  {
   "cell_type": "code",
   "execution_count": 196,
   "metadata": {},
   "outputs": [
    {
     "data": {
      "text/plain": [
       "<matplotlib.axes._subplots.AxesSubplot at 0x159a56a58>"
      ]
     },
     "execution_count": 196,
     "metadata": {},
     "output_type": "execute_result"
    },
    {
     "data": {
      "image/png": "[encoded data removed]",
      "text/plain": [
       "<Figure size 432x288 with 1 Axes>"
      ]
     },
     "metadata": {
      "needs_background": "light"
     },
     "output_type": "display_data"
    }
   ],
   "source": [
    "sns.rugplot(titanic_data['fare'])"
   ]
  },
  {
   "cell_type": "code",
   "execution_count": 197,
   "metadata": {},
   "outputs": [
    {
     "data": {
      "text/plain": [
       "<matplotlib.axes._subplots.AxesSubplot at 0x15a143208>"
      ]
     },
     "execution_count": 197,
     "metadata": {},
     "output_type": "execute_result"
    },
    {
     "data": {
      "image/png": "[encoded data removed]",
      "text/plain": [
       "<Figure size 432x288 with 1 Axes>"
      ]
     },
     "metadata": {
      "needs_background": "light"
     },
     "output_type": "display_data"
    }
   ],
   "source": [
    "sns.distplot(titanic_data['fare'])"
   ]
  },
  {
   "cell_type": "code",
   "execution_count": 198,
   "metadata": {},
   "outputs": [
    {
     "data": {
      "text/plain": [
       "<matplotlib.axes._subplots.AxesSubplot at 0x15a5a6fd0>"
      ]
     },
     "execution_count": 198,
     "metadata": {},
     "output_type": "execute_result"
    },
    {
     "data": {
      "image/png": "[encoded data removed]",
      "text/plain": [
       "<Figure size 432x288 with 1 Axes>"
      ]
     },
     "metadata": {
      "needs_background": "light"
     },
     "output_type": "display_data"
    }
   ],
   "source": [
    "sns.rugplot(titanic_data['fare'])"
   ]
  },
  {
   "cell_type": "code",
   "execution_count": 199,
   "metadata": {},
   "outputs": [
    {
     "data": {
      "text/plain": [
       "<matplotlib.axes._subplots.AxesSubplot at 0x15a17e860>"
      ]
     },
     "execution_count": 199,
     "metadata": {},
     "output_type": "execute_result"
    },
    {
     "data": {
      "image/png": "[encoded data removed]",
      "text/plain": [
       "<Figure size 432x288 with 1 Axes>"
      ]
     },
     "metadata": {
      "needs_background": "light"
     },
     "output_type": "display_data"
    }
   ],
   "source": [
    "sns.kdeplot(titanic_data['fare'])"
   ]
  },
  {
   "cell_type": "code",
   "execution_count": 200,
   "metadata": {},
   "outputs": [
    {
     "data": {
      "text/plain": [
       "(array([732., 106.,  31.,   2.,  11.,   6.,   0.,   0.,   0.,   3.]),\n",
       " array([  0.     ,  51.23292, 102.46584, 153.69876, 204.93168, 256.1646 ,\n",
       "        307.39752, 358.63044, 409.86336, 461.09628, 512.3292 ]),\n",
       " <a list of 10 Patch objects>)"
      ]
     },
     "execution_count": 200,
     "metadata": {},
     "output_type": "execute_result"
    },
    {
     "data": {
      "image/png": "[encoded data removed]",
      "text/plain": [
       "<Figure size 432x288 with 1 Axes>"
      ]
     },
     "metadata": {
      "needs_background": "light"
     },
     "output_type": "display_data"
    }
   ],
   "source": [
    "plt.hist(titanic_data['fare'])"
   ]
  },
  {
   "cell_type": "code",
   "execution_count": 201,
   "metadata": {},
   "outputs": [
    {
     "data": {
      "text/plain": [
       "<matplotlib.axes._subplots.AxesSubplot at 0x15a5bb978>"
      ]
     },
     "execution_count": 201,
     "metadata": {},
     "output_type": "execute_result"
    },
    {
     "data": {
      "image/png": "[encoded data removed]",
      "text/plain": [
       "<Figure size 432x288 with 1 Axes>"
      ]
     },
     "metadata": {
      "needs_background": "light"
     },
     "output_type": "display_data"
    }
   ],
   "source": [
    "sns.countplot(x='sex',data=titanic_data)"
   ]
  },
  {
   "cell_type": "code",
   "execution_count": 202,
   "metadata": {
    "scrolled": true
   },
   "outputs": [
    {
     "data": {
      "text/plain": [
       "<seaborn.axisgrid.JointGrid at 0x15ae4ad68>"
      ]
     },
     "execution_count": 202,
     "metadata": {},
     "output_type": "execute_result"
    },
    {
     "data": {
      "image/png": "[encoded data removed]",
      "text/plain": [
       "<Figure size 432x432 with 3 Axes>"
      ]
     },
     "metadata": {
      "needs_background": "light"
     },
     "output_type": "display_data"
    },
    {
     "data": {
      "image/png": "[encoded data removed]",
      "text/plain": [
       "<Figure size 432x432 with 3 Axes>"
      ]
     },
     "metadata": {
      "needs_background": "light"
     },
     "output_type": "display_data"
    }
   ],
   "source": [
    "\n",
    "sns.jointplot('age','fare',data=titanic_data)\n",
    "\n",
    "sns.jointplot('age','fare',data=titanic_data,kind='kde')"
   ]
  },
  {
   "cell_type": "code",
   "execution_count": 203,
   "metadata": {},
   "outputs": [],
   "source": [
    "data = pd.pivot_table(data=titanic_data,index='survived',columns='sex',aggfunc='size')\n",
    "data = titanic_data.pivot_table(index='sex',columns='survived',aggfunc='size')"
   ]
  },
  {
   "cell_type": "code",
   "execution_count": 204,
   "metadata": {},
   "outputs": [
    {
     "data": {
      "text/html": [
       "<div>\n",
       "<style scoped>\n",
       "    .dataframe tbody tr th:only-of-type {\n",
       "        vertical-align: middle;\n",
       "    }\n",
       "\n",
       "    .dataframe tbody tr th {\n",
       "        vertical-align: top;\n",
       "    }\n",
       "\n",
       "    .dataframe thead th {\n",
       "        text-align: right;\n",
       "    }\n",
       "</style>\n",
       "<table border=\"1\" class=\"dataframe\">\n",
       "  <thead>\n",
       "    <tr style=\"text-align: right;\">\n",
       "      <th>survived</th>\n",
       "      <th>0</th>\n",
       "      <th>1</th>\n",
       "    </tr>\n",
       "    <tr>\n",
       "      <th>sex</th>\n",
       "      <th></th>\n",
       "      <th></th>\n",
       "    </tr>\n",
       "  </thead>\n",
       "  <tbody>\n",
       "    <tr>\n",
       "      <th>female</th>\n",
       "      <td>81</td>\n",
       "      <td>233</td>\n",
       "    </tr>\n",
       "    <tr>\n",
       "      <th>male</th>\n",
       "      <td>468</td>\n",
       "      <td>109</td>\n",
       "    </tr>\n",
       "  </tbody>\n",
       "</table>\n",
       "</div>"
      ],
      "text/plain": [
       "survived    0    1\n",
       "sex               \n",
       "female     81  233\n",
       "male      468  109"
      ]
     },
     "execution_count": 204,
     "metadata": {},
     "output_type": "execute_result"
    }
   ],
   "source": [
    "data"
   ]
  },
  {
   "cell_type": "code",
   "execution_count": 205,
   "metadata": {
    "scrolled": true
   },
   "outputs": [
    {
     "data": {
      "text/plain": [
       "<matplotlib.axes._subplots.AxesSubplot at 0x15b124b70>"
      ]
     },
     "execution_count": 205,
     "metadata": {},
     "output_type": "execute_result"
    },
    {
     "data": {
      "image/png": "[encoded data removed]",
      "text/plain": [
       "<Figure size 432x288 with 2 Axes>"
      ]
     },
     "metadata": {
      "needs_background": "light"
     },
     "output_type": "display_data"
    }
   ],
   "source": [
    "sns.heatmap(data,cmap=sns.light_palette(\"gray\",as_cmap=True),annot=True,fmt=\"d\")"
   ]
  },
  {
   "cell_type": "code",
   "execution_count": 206,
   "metadata": {},
   "outputs": [
    {
     "data": {
      "text/plain": [
       "<seaborn.axisgrid.FacetGrid at 0x15b47f2b0>"
      ]
     },
     "execution_count": 206,
     "metadata": {},
     "output_type": "execute_result"
    },
    {
     "data": {
      "image/png": "[encoded data removed]",
      "text/plain": [
       "<Figure size 360x360 with 1 Axes>"
      ]
     },
     "metadata": {
      "needs_background": "light"
     },
     "output_type": "display_data"
    }
   ],
   "source": [
    "sns.catplot(x=\"sex\",y=\"fare\",data=titanic_data,kind=\"swarm\")"
   ]
  },
  {
   "cell_type": "code",
   "execution_count": 207,
   "metadata": {},
   "outputs": [
    {
     "data": {
      "text/plain": [
       "<matplotlib.axes._subplots.AxesSubplot at 0x15b419cf8>"
      ]
     },
     "execution_count": 207,
     "metadata": {},
     "output_type": "execute_result"
    },
    {
     "data": {
      "image/png": "[encoded data removed]",
      "text/plain": [
       "<Figure size 432x288 with 1 Axes>"
      ]
     },
     "metadata": {
      "needs_background": "light"
     },
     "output_type": "display_data"
    }
   ],
   "source": [
    "sns.violinplot(x=\"who\",y=\"fare\",data=titanic_data)"
   ]
  },
  {
   "cell_type": "code",
   "execution_count": 208,
   "metadata": {
    "scrolled": true
   },
   "outputs": [
    {
     "data": {
      "text/html": [
       "<div>\n",
       "<style scoped>\n",
       "    .dataframe tbody tr th:only-of-type {\n",
       "        vertical-align: middle;\n",
       "    }\n",
       "\n",
       "    .dataframe tbody tr th {\n",
       "        vertical-align: top;\n",
       "    }\n",
       "\n",
       "    .dataframe thead th {\n",
       "        text-align: right;\n",
       "    }\n",
       "</style>\n",
       "<table border=\"1\" class=\"dataframe\">\n",
       "  <thead>\n",
       "    <tr style=\"text-align: right;\">\n",
       "      <th></th>\n",
       "      <th>survived</th>\n",
       "      <th>pclass</th>\n",
       "      <th>sex</th>\n",
       "      <th>age</th>\n",
       "      <th>sibsp</th>\n",
       "      <th>parch</th>\n",
       "      <th>fare</th>\n",
       "      <th>embarked</th>\n",
       "      <th>class</th>\n",
       "      <th>who</th>\n",
       "      <th>adult_male</th>\n",
       "      <th>embark_town</th>\n",
       "      <th>alive</th>\n",
       "      <th>alone</th>\n",
       "    </tr>\n",
       "  </thead>\n",
       "  <tbody>\n",
       "    <tr>\n",
       "      <th>0</th>\n",
       "      <td>0</td>\n",
       "      <td>3</td>\n",
       "      <td>male</td>\n",
       "      <td>22.0</td>\n",
       "      <td>1</td>\n",
       "      <td>0</td>\n",
       "      <td>7.2500</td>\n",
       "      <td>S</td>\n",
       "      <td>Third</td>\n",
       "      <td>man</td>\n",
       "      <td>True</td>\n",
       "      <td>Southampton</td>\n",
       "      <td>no</td>\n",
       "      <td>0</td>\n",
       "    </tr>\n",
       "    <tr>\n",
       "      <th>1</th>\n",
       "      <td>1</td>\n",
       "      <td>1</td>\n",
       "      <td>female</td>\n",
       "      <td>38.0</td>\n",
       "      <td>1</td>\n",
       "      <td>0</td>\n",
       "      <td>71.2833</td>\n",
       "      <td>C</td>\n",
       "      <td>First</td>\n",
       "      <td>woman</td>\n",
       "      <td>False</td>\n",
       "      <td>Cherbourg</td>\n",
       "      <td>yes</td>\n",
       "      <td>0</td>\n",
       "    </tr>\n",
       "    <tr>\n",
       "      <th>2</th>\n",
       "      <td>1</td>\n",
       "      <td>3</td>\n",
       "      <td>female</td>\n",
       "      <td>26.0</td>\n",
       "      <td>0</td>\n",
       "      <td>0</td>\n",
       "      <td>7.9250</td>\n",
       "      <td>S</td>\n",
       "      <td>Third</td>\n",
       "      <td>woman</td>\n",
       "      <td>False</td>\n",
       "      <td>Southampton</td>\n",
       "      <td>yes</td>\n",
       "      <td>1</td>\n",
       "    </tr>\n",
       "    <tr>\n",
       "      <th>3</th>\n",
       "      <td>1</td>\n",
       "      <td>1</td>\n",
       "      <td>female</td>\n",
       "      <td>35.0</td>\n",
       "      <td>1</td>\n",
       "      <td>0</td>\n",
       "      <td>53.1000</td>\n",
       "      <td>S</td>\n",
       "      <td>First</td>\n",
       "      <td>woman</td>\n",
       "      <td>False</td>\n",
       "      <td>Southampton</td>\n",
       "      <td>yes</td>\n",
       "      <td>0</td>\n",
       "    </tr>\n",
       "    <tr>\n",
       "      <th>4</th>\n",
       "      <td>0</td>\n",
       "      <td>3</td>\n",
       "      <td>male</td>\n",
       "      <td>35.0</td>\n",
       "      <td>0</td>\n",
       "      <td>0</td>\n",
       "      <td>8.0500</td>\n",
       "      <td>S</td>\n",
       "      <td>Third</td>\n",
       "      <td>man</td>\n",
       "      <td>True</td>\n",
       "      <td>Southampton</td>\n",
       "      <td>no</td>\n",
       "      <td>1</td>\n",
       "    </tr>\n",
       "  </tbody>\n",
       "</table>\n",
       "</div>"
      ],
      "text/plain": [
       "   survived  pclass     sex   age  sibsp  parch     fare embarked  class  \\\n",
       "0         0       3    male  22.0      1      0   7.2500        S  Third   \n",
       "1         1       1  female  38.0      1      0  71.2833        C  First   \n",
       "2         1       3  female  26.0      0      0   7.9250        S  Third   \n",
       "3         1       1  female  35.0      1      0  53.1000        S  First   \n",
       "4         0       3    male  35.0      0      0   8.0500        S  Third   \n",
       "\n",
       "     who  adult_male  embark_town alive  alone  \n",
       "0    man        True  Southampton    no      0  \n",
       "1  woman       False    Cherbourg   yes      0  \n",
       "2  woman       False  Southampton   yes      1  \n",
       "3  woman       False  Southampton   yes      0  \n",
       "4    man        True  Southampton    no      1  "
      ]
     },
     "execution_count": 208,
     "metadata": {},
     "output_type": "execute_result"
    }
   ],
   "source": [
    "titanic_data.head()"
   ]
  },
  {
   "cell_type": "code",
   "execution_count": 209,
   "metadata": {},
   "outputs": [
    {
     "name": "stderr",
     "output_type": "stream",
     "text": [
      "/Users/changmin.kim/anaconda3/lib/python3.7/site-packages/statsmodels/nonparametric/kde.py:447: RuntimeWarning: invalid value encountered in greater\n",
      "  X = X[np.logical_and(X > clip[0], X < clip[1])] # won't work for two columns.\n",
      "/Users/changmin.kim/anaconda3/lib/python3.7/site-packages/statsmodels/nonparametric/kde.py:447: RuntimeWarning: invalid value encountered in less\n",
      "  X = X[np.logical_and(X > clip[0], X < clip[1])] # won't work for two columns.\n"
     ]
    },
    {
     "data": {
      "text/plain": [
       "<seaborn.axisgrid.PairGrid at 0x15a1ee588>"
      ]
     },
     "execution_count": 209,
     "metadata": {},
     "output_type": "execute_result"
    },
    {
     "data": {
      "image/png": "[encoded data removed]",
      "text/plain": [
       "<Figure size 430.5x360 with 6 Axes>"
      ]
     },
     "metadata": {
      "needs_background": "light"
     },
     "output_type": "display_data"
    }
   ],
   "source": [
    "sns.pairplot(titanic_data.loc[:,['sex','age','fare']],hue='sex')"
   ]
  },
  {
   "cell_type": "code",
   "execution_count": 210,
   "metadata": {},
   "outputs": [
    {
     "data": {
      "text/plain": [
       "<matplotlib.axes._subplots.AxesSubplot at 0x15b757c50>"
      ]
     },
     "execution_count": 210,
     "metadata": {},
     "output_type": "execute_result"
    },
    {
     "data": {
      "image/png": "[encoded data removed]",
      "text/plain": [
       "<Figure size 432x288 with 1 Axes>"
      ]
     },
     "metadata": {
      "needs_background": "light"
     },
     "output_type": "display_data"
    }
   ],
   "source": [
    "sns.violinplot(x='pclass',y='fare',data=titanic_data,hue='sex',split=True)"
   ]
  },
  {
   "cell_type": "code",
   "execution_count": null,
   "metadata": {},
   "outputs": [],
   "source": []
  }
 ],
 "metadata": {
  "kernelspec": {
   "display_name": "Python 3",
   "language": "python",
   "name": "python3"
  },
  "language_info": {
   "codemirror_mode": {
    "name": "ipython",
    "version": 3
   },
   "file_extension": ".py",
   "mimetype": "text/x-python",
   "name": "python",
   "nbconvert_exporter": "python",
   "pygments_lexer": "ipython3",
   "version": "3.7.3"
  }
 },
 "nbformat": 4,
 "nbformat_minor": 2
}

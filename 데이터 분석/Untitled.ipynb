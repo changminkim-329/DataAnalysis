{
 "cells": [
  {
   "cell_type": "code",
   "execution_count": 6,
   "metadata": {},
   "outputs": [],
   "source": [
    "tup = (1,2,3)"
   ]
  },
  {
   "cell_type": "code",
   "execution_count": 7,
   "metadata": {},
   "outputs": [
    {
     "data": {
      "text/plain": [
       "(1, 2, 3)"
      ]
     },
     "execution_count": 7,
     "metadata": {},
     "output_type": "execute_result"
    }
   ],
   "source": [
    "tup"
   ]
  },
  {
   "cell_type": "code",
   "execution_count": 8,
   "metadata": {},
   "outputs": [],
   "source": [
    "tup,gg = (1,2)"
   ]
  },
  {
   "cell_type": "code",
   "execution_count": 10,
   "metadata": {},
   "outputs": [],
   "source": [
    "tup = tuple(['foo',[1,2],True])"
   ]
  },
  {
   "cell_type": "code",
   "execution_count": 15,
   "metadata": {},
   "outputs": [],
   "source": [
    "tup[1].append(3)"
   ]
  },
  {
   "cell_type": "code",
   "execution_count": 16,
   "metadata": {},
   "outputs": [
    {
     "data": {
      "text/plain": [
       "[1, 2, 3]"
      ]
     },
     "execution_count": 16,
     "metadata": {},
     "output_type": "execute_result"
    }
   ],
   "source": [
    "tup[1]"
   ]
  },
  {
   "cell_type": "code",
   "execution_count": 17,
   "metadata": {},
   "outputs": [
    {
     "data": {
      "text/plain": [
       "(1, 2, 3, 4, 5, 6)"
      ]
     },
     "execution_count": 17,
     "metadata": {},
     "output_type": "execute_result"
    }
   ],
   "source": [
    "(1,2,3)+(4,5,6)"
   ]
  },
  {
   "cell_type": "code",
   "execution_count": 18,
   "metadata": {},
   "outputs": [
    {
     "data": {
      "text/plain": [
       "('foo', [1, 2, 3], True, 45, 6)"
      ]
     },
     "execution_count": 18,
     "metadata": {},
     "output_type": "execute_result"
    }
   ],
   "source": [
    "tup+(45,6)"
   ]
  },
  {
   "cell_type": "code",
   "execution_count": 20,
   "metadata": {},
   "outputs": [],
   "source": [
    "values = (1,2,3,4,5,6,7)"
   ]
  },
  {
   "cell_type": "code",
   "execution_count": 27,
   "metadata": {},
   "outputs": [],
   "source": [
    "a,b,*_ = values"
   ]
  },
  {
   "cell_type": "code",
   "execution_count": 28,
   "metadata": {},
   "outputs": [
    {
     "data": {
      "text/plain": [
       "1"
      ]
     },
     "execution_count": 28,
     "metadata": {},
     "output_type": "execute_result"
    }
   ],
   "source": [
    "a"
   ]
  },
  {
   "cell_type": "code",
   "execution_count": 29,
   "metadata": {},
   "outputs": [
    {
     "data": {
      "text/plain": [
       "2"
      ]
     },
     "execution_count": 29,
     "metadata": {},
     "output_type": "execute_result"
    }
   ],
   "source": [
    "b"
   ]
  },
  {
   "cell_type": "code",
   "execution_count": 31,
   "metadata": {},
   "outputs": [
    {
     "data": {
      "text/plain": [
       "list"
      ]
     },
     "execution_count": 31,
     "metadata": {},
     "output_type": "execute_result"
    }
   ],
   "source": [
    "type(_)"
   ]
  },
  {
   "cell_type": "code",
   "execution_count": 33,
   "metadata": {},
   "outputs": [
    {
     "data": {
      "text/plain": [
       "('foo', [1, 2, 3], True)"
      ]
     },
     "execution_count": 33,
     "metadata": {},
     "output_type": "execute_result"
    }
   ],
   "source": [
    "tup"
   ]
  },
  {
   "cell_type": "code",
   "execution_count": 37,
   "metadata": {},
   "outputs": [
    {
     "data": {
      "text/plain": [
       "2"
      ]
     },
     "execution_count": 37,
     "metadata": {},
     "output_type": "execute_result"
    }
   ],
   "source": [
    "tup.index(True)"
   ]
  },
  {
   "cell_type": "code",
   "execution_count": 38,
   "metadata": {},
   "outputs": [],
   "source": [
    "gen = range(10)"
   ]
  },
  {
   "cell_type": "code",
   "execution_count": 40,
   "metadata": {},
   "outputs": [
    {
     "data": {
      "text/plain": [
       "[0, 1, 2, 3, 4, 5, 6, 7, 8, 9]"
      ]
     },
     "execution_count": 40,
     "metadata": {},
     "output_type": "execute_result"
    }
   ],
   "source": [
    "list(gen)"
   ]
  },
  {
   "cell_type": "code",
   "execution_count": 41,
   "metadata": {},
   "outputs": [],
   "source": [
    "seq = [7,2,3,7,5,6,0,1]"
   ]
  },
  {
   "cell_type": "code",
   "execution_count": 46,
   "metadata": {},
   "outputs": [
    {
     "data": {
      "text/plain": [
       "[7, 2, 3, 7, 5, 6, 0, 1]"
      ]
     },
     "execution_count": 46,
     "metadata": {},
     "output_type": "execute_result"
    }
   ],
   "source": [
    "seq[::1]"
   ]
  },
  {
   "cell_type": "code",
   "execution_count": 49,
   "metadata": {},
   "outputs": [
    {
     "name": "stderr",
     "output_type": "stream",
     "text": [
      "WARNING: Logging before flag parsing goes to stderr.\n",
      "W0218 17:30:10.364307 4462976448 deprecation.py:323] From <ipython-input-49-86eb14bafa59>:61: BasicRNNCell.__init__ (from tensorflow.python.ops.rnn_cell_impl) is deprecated and will be removed in a future version.\n",
      "Instructions for updating:\n",
      "This class is equivalent as tf.keras.layers.SimpleRNNCell, and will be replaced by that in Tensorflow 2.0.\n",
      "W0218 17:30:10.367969 4462976448 deprecation.py:323] From <ipython-input-49-86eb14bafa59>:65: dynamic_rnn (from tensorflow.python.ops.rnn) is deprecated and will be removed in a future version.\n",
      "Instructions for updating:\n",
      "Please use `keras.layers.RNN(cell)`, which is equivalent to this API\n",
      "W0218 17:30:10.410520 4462976448 deprecation.py:506] From /Users/changmin.kim/anaconda3/lib/python3.7/site-packages/tensorflow/python/ops/init_ops.py:1251: calling VarianceScaling.__init__ (from tensorflow.python.ops.init_ops) with dtype is deprecated and will be removed in a future version.\n",
      "Instructions for updating:\n",
      "Call initializer instance with the dtype argument instead of passing it to the constructor\n",
      "W0218 17:30:10.418580 4462976448 deprecation.py:506] From /Users/changmin.kim/anaconda3/lib/python3.7/site-packages/tensorflow/python/ops/rnn_cell_impl.py:459: calling Zeros.__init__ (from tensorflow.python.ops.init_ops) with dtype is deprecated and will be removed in a future version.\n",
      "Instructions for updating:\n",
      "Call initializer instance with the dtype argument instead of passing it to the constructor\n",
      "W0218 17:30:10.590056 4462976448 deprecation.py:323] From <ipython-input-49-86eb14bafa59>:74: dense (from tensorflow.python.layers.core) is deprecated and will be removed in a future version.\n",
      "Instructions for updating:\n",
      "Use keras.layers.dense instead.\n"
     ]
    },
    {
     "name": "stdout",
     "output_type": "stream",
     "text": [
      "Epoch: 0001 cost = 3.886953\n",
      "Epoch: 0002 cost = 2.969281\n",
      "Epoch: 0003 cost = 1.834307\n",
      "Epoch: 0004 cost = 1.271506\n",
      "Epoch: 0005 cost = 0.769942\n",
      "Epoch: 0006 cost = 0.539287\n",
      "Epoch: 0007 cost = 0.271139\n",
      "Epoch: 0008 cost = 0.245526\n",
      "Epoch: 0009 cost = 0.333133\n",
      "Epoch: 0010 cost = 0.134978\n",
      "Epoch: 0011 cost = 0.186434\n",
      "Epoch: 0012 cost = 0.176870\n",
      "Epoch: 0013 cost = 0.119916\n",
      "Epoch: 0014 cost = 0.084149\n",
      "Epoch: 0015 cost = 0.124140\n",
      "Epoch: 0016 cost = 0.039742\n",
      "Epoch: 0017 cost = 0.100071\n",
      "Epoch: 0018 cost = 0.061076\n",
      "Epoch: 0019 cost = 0.017249\n",
      "Epoch: 0020 cost = 0.034355\n",
      "Epoch: 0021 cost = 0.042720\n",
      "Epoch: 0022 cost = 0.010353\n",
      "Epoch: 0023 cost = 0.009863\n",
      "Epoch: 0024 cost = 0.024176\n",
      "Epoch: 0025 cost = 0.005461\n",
      "Epoch: 0026 cost = 0.005739\n",
      "Epoch: 0027 cost = 0.026823\n",
      "Epoch: 0028 cost = 0.016339\n",
      "Epoch: 0029 cost = 0.001788\n",
      "Epoch: 0030 cost = 0.007539\n",
      "Epoch: 0031 cost = 0.001917\n",
      "Epoch: 0032 cost = 0.006542\n",
      "Epoch: 0033 cost = 0.003014\n",
      "Epoch: 0034 cost = 0.005727\n",
      "Epoch: 0035 cost = 0.011712\n",
      "Epoch: 0036 cost = 0.001295\n",
      "Epoch: 0037 cost = 0.001959\n",
      "Epoch: 0038 cost = 0.002126\n",
      "Epoch: 0039 cost = 0.001467\n",
      "Epoch: 0040 cost = 0.001283\n",
      "Epoch: 0041 cost = 0.001587\n",
      "Epoch: 0042 cost = 0.002333\n",
      "Epoch: 0043 cost = 0.002862\n",
      "Epoch: 0044 cost = 0.002089\n",
      "Epoch: 0045 cost = 0.002564\n",
      "Epoch: 0046 cost = 0.002427\n",
      "Epoch: 0047 cost = 0.000831\n",
      "Epoch: 0048 cost = 0.001464\n",
      "Epoch: 0049 cost = 0.001982\n",
      "Epoch: 0050 cost = 0.000407\n",
      "Epoch: 0051 cost = 0.001811\n",
      "Epoch: 0052 cost = 0.001320\n",
      "Epoch: 0053 cost = 0.001323\n",
      "Epoch: 0054 cost = 0.001046\n",
      "Epoch: 0055 cost = 0.002158\n",
      "Epoch: 0056 cost = 0.002015\n",
      "Epoch: 0057 cost = 0.000898\n",
      "Epoch: 0058 cost = 0.000393\n",
      "Epoch: 0059 cost = 0.001775\n",
      "Epoch: 0060 cost = 0.002747\n",
      "Epoch: 0061 cost = 0.000395\n",
      "Epoch: 0062 cost = 0.000668\n",
      "Epoch: 0063 cost = 0.000759\n",
      "Epoch: 0064 cost = 0.000609\n",
      "Epoch: 0065 cost = 0.001761\n",
      "Epoch: 0066 cost = 0.000965\n",
      "Epoch: 0067 cost = 0.000219\n",
      "Epoch: 0068 cost = 0.000840\n",
      "Epoch: 0069 cost = 0.000313\n",
      "Epoch: 0070 cost = 0.000584\n",
      "Epoch: 0071 cost = 0.000576\n",
      "Epoch: 0072 cost = 0.000456\n",
      "Epoch: 0073 cost = 0.000843\n",
      "Epoch: 0074 cost = 0.000387\n",
      "Epoch: 0075 cost = 0.000670\n",
      "Epoch: 0076 cost = 0.000117\n",
      "Epoch: 0077 cost = 0.000286\n",
      "Epoch: 0078 cost = 0.001214\n",
      "Epoch: 0079 cost = 0.001550\n",
      "Epoch: 0080 cost = 0.000816\n",
      "Epoch: 0081 cost = 0.000392\n",
      "Epoch: 0082 cost = 0.000441\n",
      "Epoch: 0083 cost = 0.001638\n",
      "Epoch: 0084 cost = 0.001019\n",
      "Epoch: 0085 cost = 0.000745\n",
      "Epoch: 0086 cost = 0.000520\n",
      "Epoch: 0087 cost = 0.000355\n",
      "Epoch: 0088 cost = 0.000632\n",
      "Epoch: 0089 cost = 0.002901\n",
      "Epoch: 0090 cost = 0.000169\n",
      "Epoch: 0091 cost = 0.001258\n",
      "Epoch: 0092 cost = 0.000723\n",
      "Epoch: 0093 cost = 0.008377\n",
      "Epoch: 0094 cost = 0.000231\n",
      "Epoch: 0095 cost = 0.000442\n",
      "Epoch: 0096 cost = 0.000195\n",
      "Epoch: 0097 cost = 0.000971\n",
      "Epoch: 0098 cost = 0.000678\n",
      "Epoch: 0099 cost = 0.000424\n",
      "Epoch: 0100 cost = 0.001506\n",
      "완료!\n",
      "\n",
      "=== 테스트 ===\n",
      "word -> 단어\n",
      "wodr -> 나무\n",
      "love -> 사랑\n",
      "loev -> 사랑\n",
      "abcd -> 사이\n"
     ]
    }
   ],
   "source": [
    "import sys\n",
    "import tensorflow as tf\n",
    "import numpy as np\n",
    " \n",
    "char_arr = [c for c in 'SEPabcdefghijklmnopqrstuvwxyz단어나무놀이소녀키스사랑']\n",
    " \n",
    "num_dic = {n: i for i, n in enumerate(char_arr)}\n",
    "dic_len = len(num_dic)\n",
    " \n",
    "seq_data = [['word', '단어'], ['wood', '나무'], ['game', '놀이'],\n",
    "            ['girl', '소녀'], ['kiss', '키스'], ['love', '사랑']]\n",
    " \n",
    "def make_batch(seq_data):\n",
    "    input_batch = []\n",
    "    output_batch = []\n",
    "    target_batch = []\n",
    " \n",
    "    for seq in seq_data:\n",
    "        input = [num_dic[n] for n in seq[0]]\n",
    "        output = [num_dic[n] for n in ('S' + seq[1])]\n",
    "        target = [num_dic[n] for n in (seq[1] + 'E')]\n",
    " \n",
    "        input_batch.append(np.eye(dic_len)[input])\n",
    "        output_batch.append(np.eye(dic_len)[output])\n",
    "        target_batch.append(target)\n",
    " \n",
    "    return input_batch, output_batch, target_batch\n",
    " \n",
    "def translate(sess, model, word):\n",
    "    seq_data = [word, 'P' * len(word)]\n",
    " \n",
    "    input_batch, output_batch, target_batch = make_batch([seq_data])\n",
    " \n",
    "    prediction = tf.argmax(model, 2)\n",
    " \n",
    "    result = sess.run(prediction, feed_dict={enc_input: input_batch,\n",
    "        dec_input: output_batch,\n",
    "        targets: target_batch})\n",
    " \n",
    "    decoded = [char_arr[i] for i in result[0]]\n",
    " \n",
    "    try:\n",
    "        end = decoded.index('E')\n",
    "        translated = ''.join(decoded[:end])\n",
    " \n",
    "        return translated\n",
    "    except:\n",
    "        return ''.join(decoded)\n",
    " \n",
    "learning_rate = 0.01\n",
    "n_hidden = 128\n",
    "total_epoch = 100\n",
    " \n",
    "n_input = n_class = dic_len\n",
    " \n",
    "enc_input = tf.placeholder(tf.float32, [None, None, n_input])\n",
    "dec_input = tf.placeholder(tf.float32, [None, None, n_input])\n",
    "targets = tf.placeholder(tf.int64, [None, None])\n",
    " \n",
    "with tf.variable_scope('encode'):\n",
    "    enc_cell = tf.nn.rnn_cell.BasicRNNCell(n_hidden)\n",
    "    enc_cell = tf.nn.rnn_cell.DropoutWrapper(enc_cell, output_keep_prob=0.5)\n",
    " \n",
    "    outputs, enc_states = tf.nn.dynamic_rnn(enc_cell, enc_input,\n",
    "        dtype=tf.float32)\n",
    " \n",
    "with tf.variable_scope('decode'):\n",
    "    dec_cell = tf.nn.rnn_cell.BasicRNNCell(n_hidden)\n",
    "    dec_cell = tf.nn.rnn_cell.DropoutWrapper(dec_cell, output_keep_prob=0.5)\n",
    " \n",
    "    outputs, dec_states = tf.nn.dynamic_rnn(dec_cell, dec_input,\n",
    "        initial_state=enc_states, dtype=tf.float32)\n",
    " \n",
    "model = tf.layers.dense(outputs, n_class, activation=None)\n",
    " \n",
    "cost = tf.reduce_mean(tf.nn.sparse_softmax_cross_entropy_with_logits(\n",
    "    logits=model, labels=targets\n",
    "))\n",
    " \n",
    "optimizer = tf.train.AdamOptimizer(learning_rate).minimize(cost)\n",
    " \n",
    "with tf.Session() as sess:\n",
    "    sess.run(tf.global_variables_initializer())\n",
    "    \n",
    "    writer = tf.summary.FileWriter('./logs', sess.graph)\n",
    " \n",
    "    input_batch, output_batch, target_batch = make_batch(seq_data)\n",
    " \n",
    "    for epoch in range(total_epoch):\n",
    "        _, loss = sess.run([optimizer, cost],\n",
    "            feed_dict={enc_input: input_batch,\n",
    "                dec_input: output_batch,\n",
    "                targets: target_batch})\n",
    " \n",
    "        print('Epoch:', '%04d' % (epoch + 1),\n",
    "            'cost =', '{:.6f}'.format(loss))\n",
    "        sys.stdout.flush()\n",
    " \n",
    "    print('완료!')\n",
    " \n",
    "    print('\\n=== 테스트 ===')\n",
    "    print('word ->', translate(sess, model, 'word'))\n",
    "    print('wodr ->', translate(sess, model, 'wodr'))\n",
    "    print('love ->', translate(sess, model, 'love'))\n",
    "    print('loev ->', translate(sess, model, 'loev'))\n",
    "    print('abcd ->', translate(sess, model, 'abcd'))\n",
    " \n"
   ]
  },
  {
   "cell_type": "code",
   "execution_count": 50,
   "metadata": {},
   "outputs": [],
   "source": [
    "from tensorflow.keras.datasets.cifar100 import load_data"
   ]
  },
  {
   "cell_type": "code",
   "execution_count": 58,
   "metadata": {},
   "outputs": [],
   "source": [
    "(xTrain,yTrain),(xTest,yTest) = load_data()"
   ]
  },
  {
   "cell_type": "code",
   "execution_count": 60,
   "metadata": {},
   "outputs": [
    {
     "data": {
      "text/plain": [
       "(50000, 32, 32, 3)"
      ]
     },
     "execution_count": 60,
     "metadata": {},
     "output_type": "execute_result"
    }
   ],
   "source": [
    "xTrain.shape"
   ]
  },
  {
   "cell_type": "code",
   "execution_count": 61,
   "metadata": {},
   "outputs": [
    {
     "data": {
      "text/plain": [
       "(50000, 1)"
      ]
     },
     "execution_count": 61,
     "metadata": {},
     "output_type": "execute_result"
    }
   ],
   "source": [
    "yTrain.shape"
   ]
  },
  {
   "cell_type": "code",
   "execution_count": 63,
   "metadata": {},
   "outputs": [],
   "source": [
    "import matplotlib.pyplot as plt"
   ]
  },
  {
   "cell_type": "code",
   "execution_count": 69,
   "metadata": {},
   "outputs": [
    {
     "data": {
      "text/plain": [
       "<matplotlib.image.AxesImage at 0x1544a42a58>"
      ]
     },
     "execution_count": 69,
     "metadata": {},
     "output_type": "execute_result"
    },
    {
     "data": {
      "image/png": "[encoded data removed]",
      "text/plain": [
       "<Figure size 432x288 with 1 Axes>"
      ]
     },
     "metadata": {
      "needs_background": "light"
     },
     "output_type": "display_data"
    }
   ],
   "source": [
    "plt.imshow(xTrain[5])"
   ]
  },
  {
   "cell_type": "code",
   "execution_count": 73,
   "metadata": {},
   "outputs": [
    {
     "data": {
      "text/plain": [
       "1000000000000000.0"
      ]
     },
     "execution_count": 73,
     "metadata": {},
     "output_type": "execute_result"
    }
   ],
   "source": [
    "1.000e+15"
   ]
  },
  {
   "cell_type": "code",
   "execution_count": 74,
   "metadata": {},
   "outputs": [
    {
     "data": {
      "text/plain": [
       "nan"
      ]
     },
     "execution_count": 74,
     "metadata": {},
     "output_type": "execute_result"
    }
   ],
   "source": [
    "np.NAN"
   ]
  },
  {
   "cell_type": "code",
   "execution_count": null,
   "metadata": {},
   "outputs": [],
   "source": []
  }
 ],
 "metadata": {
  "kernelspec": {
   "display_name": "Python 3",
   "language": "python",
   "name": "python3"
  },
  "language_info": {
   "codemirror_mode": {
    "name": "ipython",
    "version": 3
   },
   "file_extension": ".py",
   "mimetype": "text/x-python",
   "name": "python",
   "nbconvert_exporter": "python",
   "pygments_lexer": "ipython3",
   "version": "3.7.3"
  }
 },
 "nbformat": 4,
 "nbformat_minor": 2
}
